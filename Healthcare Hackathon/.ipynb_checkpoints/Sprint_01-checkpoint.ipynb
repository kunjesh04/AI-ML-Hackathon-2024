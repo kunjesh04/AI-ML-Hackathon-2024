{
 "cells": [
  {
   "cell_type": "markdown",
   "id": "2bae6521-0a4d-4c31-ac3e-3530c4d3f494",
   "metadata": {},
   "source": [
    "# Classroom Attendance using Live Video Analytics"
   ]
  },
  {
   "cell_type": "markdown",
   "id": "61c99f66-0de2-408f-a9fb-c16248aa2dd8",
   "metadata": {
    "jp-MarkdownHeadingCollapsed": true
   },
   "source": [
    "### Imports"
   ]
  },
  {
   "cell_type": "code",
   "execution_count": 1,
   "id": "df524b3c-7504-488a-a2db-29647b141f82",
   "metadata": {},
   "outputs": [],
   "source": [
    "import os\n",
    "import tensorflow as tf\n",
    "from tensorflow import keras\n",
    "import numpy as np\n",
    "import time\n",
    "import cv2\n",
    "from sklearn.model_selection import train_test_split\n",
    "import mtcnn\n",
    "from PIL import Image"
   ]
  },
  {
   "cell_type": "markdown",
   "id": "7dc6db4e-6546-4c1c-853f-d1c5882c9820",
   "metadata": {
    "jp-MarkdownHeadingCollapsed": true
   },
   "source": [
    "## Data Collection"
   ]
  },
  {
   "cell_type": "code",
   "execution_count": 2,
   "id": "30737307-48bf-4a43-bb30-b0d374f36459",
   "metadata": {},
   "outputs": [],
   "source": [
    "def collect_student_images_with_FD(new_folder, save_folder_path):\n",
    "    \"\"\"\n",
    "    Collects 100 images of a student's face and saves them in a specified folder.\n",
    "\n",
    "    Args:\n",
    "    - new_folder: Name of the new folder to save images.\n",
    "    - save_folder_path: Path where the new folder will be created.\n",
    "    \"\"\"\n",
    "    # Create the new folder inside the save folder path\n",
    "    new_folder_path = os.path.join(save_folder_path, new_folder)\n",
    "    os.makedirs(new_folder_path, exist_ok=True)\n",
    "    \n",
    "    # Load MTCNN's pre-trained face detector\n",
    "    detector = mtcnn.MTCNN()\n",
    "    print(\"Detector Loaded Successfully...\")\n",
    "\n",
    "    print(\"Initializing Camera soon...\")\n",
    "\n",
    "    # Initialize the camera\n",
    "    cap = cv2.VideoCapture(0)\n",
    "    \n",
    "    count = 0\n",
    "    while count < 100:\n",
    "        ret, frame = cap.read()\n",
    "        if not ret:\n",
    "            break\n",
    "        \n",
    "        # Detect faces in the frame\n",
    "        faces = detector.detect_faces(frame)\n",
    "        \n",
    "        # If faces are found, focus on the largest face\n",
    "        if len(faces) > 0:\n",
    "            largest_face = max(faces, key=lambda face: face['box'][2] * face['box'][3])\n",
    "            (x, y, w, h) = largest_face['box']\n",
    "            \n",
    "            # Expand the bounding box upwards to include the hairline\n",
    "            y_expanded = max(y - int(h * 0.15), 0)  # Moving up face height by 15%\n",
    "            h_expanded = h + int(h * 0.15)          # Increasing height by 15%\n",
    "            \n",
    "            # Extract the face region\n",
    "            face_region = frame[y_expanded:y_expanded+h_expanded, x:x+w]\n",
    "            \n",
    "            # Resize the face region to a standard size if needed\n",
    "            face_resized = cv2.resize(face_region, (224, 224))\n",
    "            \n",
    "            # Save the face image to the new folder\n",
    "            img_name = os.path.join(new_folder_path, f\"{new_folder}_{count}.png\")\n",
    "            cv2.imwrite(img_name, face_resized)\n",
    "            \n",
    "            count += 1\n",
    "        \n",
    "        # Display the frame with the detected face\n",
    "        for face in faces:\n",
    "            (x, y, w, h) = face['box']\n",
    "            cv2.rectangle(frame, (x, y), (x+w, y+h), (255, 0, 0), 2)\n",
    "        cv2.imshow('Face Capture', frame)\n",
    "        \n",
    "        if cv2.waitKey(1) & 0xFF == ord('q'):\n",
    "            break\n",
    "    print(f\" {count} Photos Captured!\")\n",
    "    cap.release()\n",
    "    cv2.destroyAllWindows()"
   ]
  },
  {
   "cell_type": "code",
   "execution_count": 3,
   "id": "59d9c2a5-f7d3-45d4-86e7-a7770978c63b",
   "metadata": {},
   "outputs": [],
   "source": [
    "def collect_student_images(new_folder, save_folder_path):\n",
    "    \"\"\"\n",
    "    Collects 100 images and saves them in a specified folder.\n",
    "\n",
    "    Args:\n",
    "    - new_folder: Name of the new folder to save images.\n",
    "    - save_folder_path: Path where the new folder will be created.\n",
    "    \"\"\"\n",
    "    # Create the new folder inside the save folder path\n",
    "    new_folder_path = os.path.join(save_folder_path, new_folder)\n",
    "    os.makedirs(new_folder_path, exist_ok=True)\n",
    "\n",
    "    print(\"Initializing Camera soon...\")\n",
    "\n",
    "    # Initialize the camera\n",
    "    cap = cv2.VideoCapture(0)\n",
    "\n",
    "    count = 0\n",
    "    while count < 100:\n",
    "        ret, frame = cap.read()\n",
    "        if not ret:\n",
    "            break\n",
    "\n",
    "        # Resize the frame to a standard size if needed\n",
    "        frame_resized = cv2.resize(frame, (224, 224))\n",
    "\n",
    "        # Save the frame to the new folder\n",
    "        img_name = os.path.join(new_folder_path, f\"{new_folder}_{count}.png\")\n",
    "        cv2.imwrite(img_name, frame_resized)\n",
    "\n",
    "        count += 1\n",
    "\n",
    "        # Display the frame\n",
    "        cv2.imshow('Image Capture', frame)\n",
    "\n",
    "        if cv2.waitKey(1) & 0xFF == ord('q'):\n",
    "            break\n",
    "    print(f\" {count} Images Captured!\")\n",
    "    cap.release()\n",
    "    cv2.destroyAllWindows()\n"
   ]
  },
  {
   "cell_type": "code",
   "execution_count": 4,
   "id": "6bca4332-6157-432a-9635-7a805d0f9438",
   "metadata": {},
   "outputs": [],
   "source": [
    "DATASETS_PATH = \"Datasets/Data_v2/\""
   ]
  },
  {
   "cell_type": "code",
   "execution_count": 5,
   "id": "8f528499-191e-4079-a290-8db81e03a113",
   "metadata": {},
   "outputs": [],
   "source": [
    "student_enr = \"210303108114\""
   ]
  },
  {
   "cell_type": "code",
   "execution_count": 6,
   "id": "a65e8d37-e2a1-4040-bef5-5036ad765395",
   "metadata": {
    "scrolled": true
   },
   "outputs": [
    {
     "name": "stdout",
     "output_type": "stream",
     "text": [
      "Initializing Camera soon...\n",
      " 100 Images Captured!\n"
     ]
    }
   ],
   "source": [
    "collect_student_images(new_folder=student_enr, save_folder_path=DATASETS_PATH)"
   ]
  },
  {
   "cell_type": "markdown",
   "id": "0aeb8a41-3e40-4c50-8d3c-6888377e38c5",
   "metadata": {
    "jp-MarkdownHeadingCollapsed": true
   },
   "source": [
    "## Arranging Filenames and Labels"
   ]
  },
  {
   "cell_type": "code",
   "execution_count": 7,
   "id": "f97f8d6f-a436-42a4-9dce-7d2b5fe3ca18",
   "metadata": {},
   "outputs": [],
   "source": [
    "def get_filenames(base_dir):\n",
    "    image_paths = []\n",
    "    labels = []\n",
    "    \n",
    "    for folder_name in os.listdir(base_dir):\n",
    "        folder_path = os.path.join(base_dir, folder_name)\n",
    "        if os.path.isdir(folder_path):\n",
    "            for filename in os.listdir(folder_path):\n",
    "                if filename.endswith('.jpg') or filename.endswith('.png') or filename.endswith('.jpeg'):\n",
    "                    image_path = os.path.join(folder_path, filename)\n",
    "                    try:\n",
    "                        img = Image.open(image_path).convert('L')  # Open image to validate it can be read\n",
    "                        image_paths.append(image_path)\n",
    "                        labels.append(folder_name)  # Assign label based on subfolder name\n",
    "                    except Exception as e:\n",
    "                        print(f\"Error reading {image_path}: {e}\")\n",
    "\n",
    "    return image_paths, labels"
   ]
  },
  {
   "cell_type": "code",
   "execution_count": 8,
   "id": "f95ead81-d369-4fcb-8b6c-6b1a36cd95fd",
   "metadata": {},
   "outputs": [],
   "source": [
    "filenames, labels = get_filenames(DATASETS_PATH)"
   ]
  },
  {
   "cell_type": "code",
   "execution_count": 9,
   "id": "9283dc2c-a7b9-4e84-8202-c731849a76f6",
   "metadata": {},
   "outputs": [
    {
     "data": {
      "text/plain": [
       "(990, 990)"
      ]
     },
     "execution_count": 9,
     "metadata": {},
     "output_type": "execute_result"
    }
   ],
   "source": [
    "len(filenames), len(labels)"
   ]
  },
  {
   "cell_type": "code",
   "execution_count": 10,
   "id": "80933dd9-3ef6-4715-b489-ef4725a665cc",
   "metadata": {},
   "outputs": [
    {
     "data": {
      "text/plain": [
       "['210303108114',\n",
       " '210303108114',\n",
       " '210303108114',\n",
       " '210303108114',\n",
       " '210303108114']"
      ]
     },
     "execution_count": 10,
     "metadata": {},
     "output_type": "execute_result"
    }
   ],
   "source": [
    "labels[:5]"
   ]
  },
  {
   "cell_type": "code",
   "execution_count": 11,
   "id": "d75a49e6-8faa-4262-b78f-3a726c64dcd8",
   "metadata": {},
   "outputs": [],
   "source": [
    "unique_students = np.unique(labels)"
   ]
  },
  {
   "cell_type": "code",
   "execution_count": 189,
   "id": "6907dbf1-3df0-4e4c-b00d-21fb69994423",
   "metadata": {},
   "outputs": [
    {
     "data": {
      "text/plain": [
       "array(['210303108114', '210303108221', '210303108324', '210303108332',\n",
       "       '2203031080049', '2203031080092', '2203031080127', '2203031080174',\n",
       "       '31', '42', '46'], dtype='<U13')"
      ]
     },
     "execution_count": 189,
     "metadata": {},
     "output_type": "execute_result"
    }
   ],
   "source": [
    "unique_students"
   ]
  },
  {
   "cell_type": "code",
   "execution_count": 12,
   "id": "8a56450c-4fb2-483e-af02-d8443ff6f7bf",
   "metadata": {},
   "outputs": [
    {
     "data": {
      "text/plain": [
       "11"
      ]
     },
     "execution_count": 12,
     "metadata": {},
     "output_type": "execute_result"
    }
   ],
   "source": [
    "len(unique_students)"
   ]
  },
  {
   "cell_type": "code",
   "execution_count": 13,
   "id": "0be9b2bb-f3d7-47df-9943-4e1bd04ae187",
   "metadata": {},
   "outputs": [
    {
     "data": {
      "text/plain": [
       "990"
      ]
     },
     "execution_count": 13,
     "metadata": {},
     "output_type": "execute_result"
    }
   ],
   "source": [
    "boolean_labels = [label == unique_students for label in labels]\n",
    "len(boolean_labels)"
   ]
  },
  {
   "cell_type": "markdown",
   "id": "e0bebad2-5d14-4bd0-8a2f-41f4b381f4d7",
   "metadata": {
    "jp-MarkdownHeadingCollapsed": true
   },
   "source": [
    "## Pre-processing Images"
   ]
  },
  {
   "cell_type": "code",
   "execution_count": 14,
   "id": "b496d67e-563f-491b-893a-4e9c2212e2f8",
   "metadata": {},
   "outputs": [],
   "source": [
    "IMG_SIZE = 224\n",
    "\n",
    "def process_image(image_path, img_size = IMG_SIZE):\n",
    "    \"\"\"\n",
    "    Takes an image file path and turns the image into a Tensor\n",
    "    \"\"\"\n",
    "    image = tf.io.read_file(image_path)\n",
    "    image = tf.image.decode_jpeg(image, channels=3)\n",
    "    image = tf.image.convert_image_dtype(image, tf.float32)\n",
    "    image = tf.image.resize(image, size=tf.constant([224, 224]))\n",
    "    return image"
   ]
  },
  {
   "cell_type": "code",
   "execution_count": 15,
   "id": "45055db6-f15c-4f32-afc0-efb5f5f0c1e7",
   "metadata": {},
   "outputs": [],
   "source": [
    "def get_image_label(image_path, label):\n",
    "    \"\"\"\n",
    "    Takes the image path name and the associated label, preprocesses the image\n",
    "    and returns a tuple of (image, label)\n",
    "    \"\"\"\n",
    "    image = process_image(image_path)\n",
    "    return (image, label)"
   ]
  },
  {
   "cell_type": "code",
   "execution_count": 16,
   "id": "5a32e718-9593-4003-92dd-c77edefa1c2b",
   "metadata": {},
   "outputs": [],
   "source": [
    "BATCH_SIZE = 32\n",
    "\n",
    "def create_data_batches(X, y=None, batch_size=BATCH_SIZE, valid_data=False, test_data=False):\n",
    "    \"\"\"\n",
    "    Creates batches of data out of image (X) and label (y) pairs.\n",
    "    Shuffles the data if it's training data but doesn't shuffle if it's validation data.\n",
    "    Also shuffles test data as input (no labels)\n",
    "    \"\"\"\n",
    "    if test_data:\n",
    "        print('Creating test data batches...')\n",
    "        data = tf.data.Dataset.from_tensor_slices((tf.constant(X)))\n",
    "        data_batch = data.map(process_image).batch(BATCH_SIZE)\n",
    "        return data_batch\n",
    "\n",
    "    elif valid_data:\n",
    "        print('Creating validation data batches...')\n",
    "        data = tf.data.Dataset.from_tensor_slices((tf.constant(X), tf.constant(y)))\n",
    "        data_batch = data.map(get_image_label).batch(BATCH_SIZE)\n",
    "        return data_batch\n",
    "\n",
    "    else :\n",
    "        print('Creating training data batches...')\n",
    "        data = tf.data.Dataset.from_tensor_slices((tf.constant(X), tf.constant(y)))\n",
    "        data = data.shuffle(buffer_size=len(X))\n",
    "        data = data.map(get_image_label)\n",
    "        data_batch = data.batch(BATCH_SIZE)\n",
    "    return data_batch"
   ]
  },
  {
   "cell_type": "code",
   "execution_count": 17,
   "id": "27920e1c-7063-414c-bdd0-b537d5e6c9dc",
   "metadata": {},
   "outputs": [],
   "source": [
    "X = filenames\n",
    "y = boolean_labels"
   ]
  },
  {
   "cell_type": "code",
   "execution_count": 18,
   "id": "71486283-733f-4dd3-b388-88798462ea6e",
   "metadata": {},
   "outputs": [
    {
     "data": {
      "text/plain": [
       "(891, 891, 99, 99)"
      ]
     },
     "execution_count": 18,
     "metadata": {},
     "output_type": "execute_result"
    }
   ],
   "source": [
    "from sklearn.model_selection import train_test_split\n",
    "\n",
    "# Split them into training and validation of total size NUM_IMAGES\n",
    "X_train, X_val, y_train, y_val = train_test_split(\n",
    "    X,\n",
    "    y,\n",
    "    test_size=0.1,\n",
    "    random_state=42\n",
    ")\n",
    "\n",
    "len(X_train), len(y_train), len(X_val), len(y_val)"
   ]
  },
  {
   "cell_type": "code",
   "execution_count": 19,
   "id": "2449f3f2-7d4f-4519-8862-472669bfd02d",
   "metadata": {},
   "outputs": [
    {
     "name": "stdout",
     "output_type": "stream",
     "text": [
      "Creating training data batches...\n",
      "Creating validation data batches...\n"
     ]
    }
   ],
   "source": [
    "train_data = create_data_batches(X_train, y_train)\n",
    "val_data = create_data_batches(X_val, y_val, valid_data=True)"
   ]
  },
  {
   "cell_type": "code",
   "execution_count": 20,
   "id": "82d9b1ac-9977-47ce-8e9a-c9d1e64ebcb8",
   "metadata": {},
   "outputs": [
    {
     "data": {
      "text/plain": [
       "(TensorSpec(shape=(None, 224, 224, 3), dtype=tf.float32, name=None),\n",
       " TensorSpec(shape=(None, 11), dtype=tf.bool, name=None))"
      ]
     },
     "execution_count": 20,
     "metadata": {},
     "output_type": "execute_result"
    }
   ],
   "source": [
    "train_data.element_spec"
   ]
  },
  {
   "cell_type": "code",
   "execution_count": 21,
   "id": "cbeb278a-1962-4966-8f39-65cc0f33a50c",
   "metadata": {},
   "outputs": [
    {
     "data": {
      "text/plain": [
       "(TensorSpec(shape=(None, 224, 224, 3), dtype=tf.float32, name=None),\n",
       " TensorSpec(shape=(None, 11), dtype=tf.bool, name=None))"
      ]
     },
     "execution_count": 21,
     "metadata": {},
     "output_type": "execute_result"
    }
   ],
   "source": [
    "val_data.element_spec"
   ]
  },
  {
   "cell_type": "markdown",
   "id": "6ebcf564-fb09-4cec-9613-2e52372636ee",
   "metadata": {
    "jp-MarkdownHeadingCollapsed": true
   },
   "source": [
    "## Model and Plots Handling"
   ]
  },
  {
   "cell_type": "code",
   "execution_count": 22,
   "id": "5cb501e8-c035-4be2-8763-cf496df2a9d5",
   "metadata": {},
   "outputs": [],
   "source": [
    "import datetime\n",
    "\n",
    "def save_this_model(model, suffix, extra_dir=None):\n",
    "    if not os.path.exists('Models'):\n",
    "        os.makedirs('Models')\n",
    "\n",
    "    now = datetime.datetime.now().strftime(\"%Y%m%d_%H%M%S\")\n",
    "\n",
    "    if extra_dir is None:\n",
    "        model_name = f'Models/{suffix}_{now}.h5'\n",
    "    else:\n",
    "        model_name = f'Models/{extra_dir}/{suffix}_{now}.h5'\n",
    "    \n",
    "    model.save(model_name)\n",
    "    print(f'Model saved as {model_name}')"
   ]
  },
  {
   "cell_type": "code",
   "execution_count": 23,
   "id": "ea6c3c72-9497-4550-93c5-cbf664cbd3b1",
   "metadata": {},
   "outputs": [],
   "source": [
    "def load_model_func(model_path):\n",
    "  \"\"\"Loads a saved TensorFlow/Keras model.\n",
    "\n",
    "  Args:\n",
    "    model_path: Path to the saved model file.\n",
    "\n",
    "  Returns:\n",
    "    The loaded model.\n",
    "  \"\"\"\n",
    "\n",
    "  try:\n",
    "    model = tf.keras.models.load_model(model_path)\n",
    "    print(\"Model loaded successfully.\")\n",
    "    return model\n",
    "  except Exception as e:\n",
    "    print(f\"Error loading model: {e}\")\n",
    "    return None"
   ]
  },
  {
   "cell_type": "code",
   "execution_count": 24,
   "id": "ec2cec26-e393-4119-9505-fcc8526cfc5e",
   "metadata": {},
   "outputs": [],
   "source": [
    "import matplotlib.pyplot as plt\n",
    "\n",
    "def plot_training_history(history):\n",
    "    # Plot training & validation accuracy values\n",
    "    plt.figure(figsize=(14, 5))\n",
    "\n",
    "    # Accuracy\n",
    "    plt.subplot(1, 2, 1)\n",
    "    plt.plot(history.history['accuracy'])\n",
    "    plt.plot(history.history['val_accuracy'])\n",
    "    plt.title('Model accuracy')\n",
    "    plt.ylabel('Accuracy')\n",
    "    plt.xlabel('Epoch')\n",
    "    plt.legend(['Train', 'Validation'], loc='upper left')\n",
    "\n",
    "    # Loss\n",
    "    plt.subplot(1, 2, 2)\n",
    "    plt.plot(history.history['loss'])\n",
    "    plt.plot(history.history['val_loss'])\n",
    "    plt.title('Model loss')\n",
    "    plt.ylabel('Loss')\n",
    "    plt.xlabel('Epoch')\n",
    "    plt.legend(['Train', 'Validation'], loc='upper left')\n",
    "\n",
    "    plt.show()"
   ]
  },
  {
   "cell_type": "code",
   "execution_count": 25,
   "id": "0210cfbd-7b79-4b85-9435-921b6d22b796",
   "metadata": {},
   "outputs": [],
   "source": [
    "def save_history_plot(history, name, path, extra_dir=None):\n",
    "    \"\"\"\n",
    "    Saves the loss and accuracy plots of a model in a single figure given its history object, a name, and a path.\n",
    "\n",
    "    Args:\n",
    "        history (keras.callbacks.History): The Keras model history object.\n",
    "        name (str): The name to use for the saved plot image.\n",
    "        path (str): The path to save the plot image.\n",
    "    \"\"\"\n",
    "    # Create the path if it doesn't exist\n",
    "    if not os.path.exists(path):\n",
    "        os.makedirs(path)\n",
    "\n",
    "    # Create a figure with two subplots\n",
    "    plt.figure(figsize=(14, 5))\n",
    "\n",
    "    # Accuracy\n",
    "    plt.subplot(1, 2, 1)\n",
    "    plt.plot(history.history['accuracy'])\n",
    "    plt.plot(history.history['val_accuracy'])\n",
    "    plt.title('Model accuracy')\n",
    "    plt.ylabel('Accuracy')\n",
    "    plt.xlabel('Epoch')\n",
    "    plt.legend(['Train', 'Validation'], loc='upper left')\n",
    "\n",
    "    # Loss\n",
    "    plt.subplot(1, 2, 2)\n",
    "    plt.plot(history.history['loss'])\n",
    "    plt.plot(history.history['val_loss'])\n",
    "    plt.title('Model loss')\n",
    "    plt.ylabel('Loss')\n",
    "    plt.xlabel('Epoch')\n",
    "    plt.legend(['Train', 'Validation'], loc='upper left')\n",
    "\n",
    "    if extra_dir is None:\n",
    "        plt.savefig(os.path.join(path, f\"{name}.png\"))\n",
    "    else:\n",
    "        plt.savefig(os.path.join(path, f\"{extra_dir}/{name}.png\"))\n",
    "    print(\"Plot saved successfully...\")\n",
    "    plt.close()"
   ]
  },
  {
   "cell_type": "markdown",
   "id": "6cf18319-7c79-4dfb-890e-ec3d4965068d",
   "metadata": {},
   "source": [
    "## Models"
   ]
  },
  {
   "cell_type": "code",
   "execution_count": 26,
   "id": "50f73521-cba9-4362-8ef5-321793b35b16",
   "metadata": {},
   "outputs": [],
   "source": [
    "import tensorflow as tf\n",
    "from keras.models import Sequential\n",
    "from keras.layers import Conv2D, MaxPool2D, Flatten, Dense, BatchNormalization, Activation, MaxPooling2D, Dropout, GlobalAveragePooling2D"
   ]
  },
  {
   "cell_type": "markdown",
   "id": "f241dc58-10c0-4b3d-a3eb-9113d7a2f445",
   "metadata": {
    "jp-MarkdownHeadingCollapsed": true
   },
   "source": [
    "### 1. CNN with Adam"
   ]
  },
  {
   "cell_type": "code",
   "execution_count": 27,
   "id": "6074ed7e-2946-46b8-809f-cb42708e864d",
   "metadata": {},
   "outputs": [],
   "source": [
    "def create_cnn_model(input_shape=(224, 224, 3), num_classes=len(unique_students)):\n",
    "    model = tf.keras.Sequential([\n",
    "    Conv2D(16, kernel_size=(5, 5), strides=(1, 1), input_shape=input_shape),\n",
    "    Activation('relu'),  \n",
    "    MaxPool2D(pool_size=(2, 2)),\n",
    "\n",
    "    Conv2D(32, kernel_size=(3, 3), strides=(1, 1)),\n",
    "    Activation('relu'),\n",
    "    MaxPool2D(pool_size=(2, 2)),\n",
    "\n",
    "    GlobalAveragePooling2D(),\n",
    "\n",
    "    Dense(64),\n",
    "    BatchNormalization(),  \n",
    "    Activation('relu'),\n",
    "\n",
    "    Dense(num_classes, activation='softmax')\n",
    "    ])\n",
    "\n",
    "    model.compile(\n",
    "        optimizer=tf.keras.optimizers.Adam(learning_rate=0.0001),\n",
    "        loss=tf.keras.losses.CategoricalCrossentropy(),\n",
    "        metrics=['accuracy', tf.metrics.Precision(), tf.metrics.Recall()]\n",
    "    )\n",
    "\n",
    "    return model"
   ]
  },
  {
   "cell_type": "code",
   "execution_count": 28,
   "id": "b6f5fa82-d6da-462f-9185-23da7ab9d2e8",
   "metadata": {},
   "outputs": [
    {
     "name": "stderr",
     "output_type": "stream",
     "text": [
      "C:\\Users\\Kunjesh\\miniconda3\\Lib\\site-packages\\keras\\src\\layers\\convolutional\\base_conv.py:107: UserWarning: Do not pass an `input_shape`/`input_dim` argument to a layer. When using Sequential models, prefer using an `Input(shape)` object as the first layer in the model instead.\n",
      "  super().__init__(activity_regularizer=activity_regularizer, **kwargs)\n"
     ]
    },
    {
     "data": {
      "text/html": [
       "<pre style=\"white-space:pre;overflow-x:auto;line-height:normal;font-family:Menlo,'DejaVu Sans Mono',consolas,'Courier New',monospace\"><span style=\"font-weight: bold\">Model: \"sequential\"</span>\n",
       "</pre>\n"
      ],
      "text/plain": [
       "\u001b[1mModel: \"sequential\"\u001b[0m\n"
      ]
     },
     "metadata": {},
     "output_type": "display_data"
    },
    {
     "data": {
      "text/html": [
       "<pre style=\"white-space:pre;overflow-x:auto;line-height:normal;font-family:Menlo,'DejaVu Sans Mono',consolas,'Courier New',monospace\">┏━━━━━━━━━━━━━━━━━━━━━━━━━━━━━━━━━━━━━━┳━━━━━━━━━━━━━━━━━━━━━━━━━━━━━┳━━━━━━━━━━━━━━━━━┓\n",
       "┃<span style=\"font-weight: bold\"> Layer (type)                         </span>┃<span style=\"font-weight: bold\"> Output Shape                </span>┃<span style=\"font-weight: bold\">         Param # </span>┃\n",
       "┡━━━━━━━━━━━━━━━━━━━━━━━━━━━━━━━━━━━━━━╇━━━━━━━━━━━━━━━━━━━━━━━━━━━━━╇━━━━━━━━━━━━━━━━━┩\n",
       "│ conv2d (<span style=\"color: #0087ff; text-decoration-color: #0087ff\">Conv2D</span>)                      │ (<span style=\"color: #00d7ff; text-decoration-color: #00d7ff\">None</span>, <span style=\"color: #00af00; text-decoration-color: #00af00\">220</span>, <span style=\"color: #00af00; text-decoration-color: #00af00\">220</span>, <span style=\"color: #00af00; text-decoration-color: #00af00\">16</span>)        │           <span style=\"color: #00af00; text-decoration-color: #00af00\">1,216</span> │\n",
       "├──────────────────────────────────────┼─────────────────────────────┼─────────────────┤\n",
       "│ activation (<span style=\"color: #0087ff; text-decoration-color: #0087ff\">Activation</span>)              │ (<span style=\"color: #00d7ff; text-decoration-color: #00d7ff\">None</span>, <span style=\"color: #00af00; text-decoration-color: #00af00\">220</span>, <span style=\"color: #00af00; text-decoration-color: #00af00\">220</span>, <span style=\"color: #00af00; text-decoration-color: #00af00\">16</span>)        │               <span style=\"color: #00af00; text-decoration-color: #00af00\">0</span> │\n",
       "├──────────────────────────────────────┼─────────────────────────────┼─────────────────┤\n",
       "│ max_pooling2d (<span style=\"color: #0087ff; text-decoration-color: #0087ff\">MaxPooling2D</span>)         │ (<span style=\"color: #00d7ff; text-decoration-color: #00d7ff\">None</span>, <span style=\"color: #00af00; text-decoration-color: #00af00\">110</span>, <span style=\"color: #00af00; text-decoration-color: #00af00\">110</span>, <span style=\"color: #00af00; text-decoration-color: #00af00\">16</span>)        │               <span style=\"color: #00af00; text-decoration-color: #00af00\">0</span> │\n",
       "├──────────────────────────────────────┼─────────────────────────────┼─────────────────┤\n",
       "│ conv2d_1 (<span style=\"color: #0087ff; text-decoration-color: #0087ff\">Conv2D</span>)                    │ (<span style=\"color: #00d7ff; text-decoration-color: #00d7ff\">None</span>, <span style=\"color: #00af00; text-decoration-color: #00af00\">108</span>, <span style=\"color: #00af00; text-decoration-color: #00af00\">108</span>, <span style=\"color: #00af00; text-decoration-color: #00af00\">32</span>)        │           <span style=\"color: #00af00; text-decoration-color: #00af00\">4,640</span> │\n",
       "├──────────────────────────────────────┼─────────────────────────────┼─────────────────┤\n",
       "│ activation_1 (<span style=\"color: #0087ff; text-decoration-color: #0087ff\">Activation</span>)            │ (<span style=\"color: #00d7ff; text-decoration-color: #00d7ff\">None</span>, <span style=\"color: #00af00; text-decoration-color: #00af00\">108</span>, <span style=\"color: #00af00; text-decoration-color: #00af00\">108</span>, <span style=\"color: #00af00; text-decoration-color: #00af00\">32</span>)        │               <span style=\"color: #00af00; text-decoration-color: #00af00\">0</span> │\n",
       "├──────────────────────────────────────┼─────────────────────────────┼─────────────────┤\n",
       "│ max_pooling2d_1 (<span style=\"color: #0087ff; text-decoration-color: #0087ff\">MaxPooling2D</span>)       │ (<span style=\"color: #00d7ff; text-decoration-color: #00d7ff\">None</span>, <span style=\"color: #00af00; text-decoration-color: #00af00\">54</span>, <span style=\"color: #00af00; text-decoration-color: #00af00\">54</span>, <span style=\"color: #00af00; text-decoration-color: #00af00\">32</span>)          │               <span style=\"color: #00af00; text-decoration-color: #00af00\">0</span> │\n",
       "├──────────────────────────────────────┼─────────────────────────────┼─────────────────┤\n",
       "│ global_average_pooling2d             │ (<span style=\"color: #00d7ff; text-decoration-color: #00d7ff\">None</span>, <span style=\"color: #00af00; text-decoration-color: #00af00\">32</span>)                  │               <span style=\"color: #00af00; text-decoration-color: #00af00\">0</span> │\n",
       "│ (<span style=\"color: #0087ff; text-decoration-color: #0087ff\">GlobalAveragePooling2D</span>)             │                             │                 │\n",
       "├──────────────────────────────────────┼─────────────────────────────┼─────────────────┤\n",
       "│ dense (<span style=\"color: #0087ff; text-decoration-color: #0087ff\">Dense</span>)                        │ (<span style=\"color: #00d7ff; text-decoration-color: #00d7ff\">None</span>, <span style=\"color: #00af00; text-decoration-color: #00af00\">64</span>)                  │           <span style=\"color: #00af00; text-decoration-color: #00af00\">2,112</span> │\n",
       "├──────────────────────────────────────┼─────────────────────────────┼─────────────────┤\n",
       "│ batch_normalization                  │ (<span style=\"color: #00d7ff; text-decoration-color: #00d7ff\">None</span>, <span style=\"color: #00af00; text-decoration-color: #00af00\">64</span>)                  │             <span style=\"color: #00af00; text-decoration-color: #00af00\">256</span> │\n",
       "│ (<span style=\"color: #0087ff; text-decoration-color: #0087ff\">BatchNormalization</span>)                 │                             │                 │\n",
       "├──────────────────────────────────────┼─────────────────────────────┼─────────────────┤\n",
       "│ activation_2 (<span style=\"color: #0087ff; text-decoration-color: #0087ff\">Activation</span>)            │ (<span style=\"color: #00d7ff; text-decoration-color: #00d7ff\">None</span>, <span style=\"color: #00af00; text-decoration-color: #00af00\">64</span>)                  │               <span style=\"color: #00af00; text-decoration-color: #00af00\">0</span> │\n",
       "├──────────────────────────────────────┼─────────────────────────────┼─────────────────┤\n",
       "│ dense_1 (<span style=\"color: #0087ff; text-decoration-color: #0087ff\">Dense</span>)                      │ (<span style=\"color: #00d7ff; text-decoration-color: #00d7ff\">None</span>, <span style=\"color: #00af00; text-decoration-color: #00af00\">11</span>)                  │             <span style=\"color: #00af00; text-decoration-color: #00af00\">715</span> │\n",
       "└──────────────────────────────────────┴─────────────────────────────┴─────────────────┘\n",
       "</pre>\n"
      ],
      "text/plain": [
       "┏━━━━━━━━━━━━━━━━━━━━━━━━━━━━━━━━━━━━━━┳━━━━━━━━━━━━━━━━━━━━━━━━━━━━━┳━━━━━━━━━━━━━━━━━┓\n",
       "┃\u001b[1m \u001b[0m\u001b[1mLayer (type)                        \u001b[0m\u001b[1m \u001b[0m┃\u001b[1m \u001b[0m\u001b[1mOutput Shape               \u001b[0m\u001b[1m \u001b[0m┃\u001b[1m \u001b[0m\u001b[1m        Param #\u001b[0m\u001b[1m \u001b[0m┃\n",
       "┡━━━━━━━━━━━━━━━━━━━━━━━━━━━━━━━━━━━━━━╇━━━━━━━━━━━━━━━━━━━━━━━━━━━━━╇━━━━━━━━━━━━━━━━━┩\n",
       "│ conv2d (\u001b[38;5;33mConv2D\u001b[0m)                      │ (\u001b[38;5;45mNone\u001b[0m, \u001b[38;5;34m220\u001b[0m, \u001b[38;5;34m220\u001b[0m, \u001b[38;5;34m16\u001b[0m)        │           \u001b[38;5;34m1,216\u001b[0m │\n",
       "├──────────────────────────────────────┼─────────────────────────────┼─────────────────┤\n",
       "│ activation (\u001b[38;5;33mActivation\u001b[0m)              │ (\u001b[38;5;45mNone\u001b[0m, \u001b[38;5;34m220\u001b[0m, \u001b[38;5;34m220\u001b[0m, \u001b[38;5;34m16\u001b[0m)        │               \u001b[38;5;34m0\u001b[0m │\n",
       "├──────────────────────────────────────┼─────────────────────────────┼─────────────────┤\n",
       "│ max_pooling2d (\u001b[38;5;33mMaxPooling2D\u001b[0m)         │ (\u001b[38;5;45mNone\u001b[0m, \u001b[38;5;34m110\u001b[0m, \u001b[38;5;34m110\u001b[0m, \u001b[38;5;34m16\u001b[0m)        │               \u001b[38;5;34m0\u001b[0m │\n",
       "├──────────────────────────────────────┼─────────────────────────────┼─────────────────┤\n",
       "│ conv2d_1 (\u001b[38;5;33mConv2D\u001b[0m)                    │ (\u001b[38;5;45mNone\u001b[0m, \u001b[38;5;34m108\u001b[0m, \u001b[38;5;34m108\u001b[0m, \u001b[38;5;34m32\u001b[0m)        │           \u001b[38;5;34m4,640\u001b[0m │\n",
       "├──────────────────────────────────────┼─────────────────────────────┼─────────────────┤\n",
       "│ activation_1 (\u001b[38;5;33mActivation\u001b[0m)            │ (\u001b[38;5;45mNone\u001b[0m, \u001b[38;5;34m108\u001b[0m, \u001b[38;5;34m108\u001b[0m, \u001b[38;5;34m32\u001b[0m)        │               \u001b[38;5;34m0\u001b[0m │\n",
       "├──────────────────────────────────────┼─────────────────────────────┼─────────────────┤\n",
       "│ max_pooling2d_1 (\u001b[38;5;33mMaxPooling2D\u001b[0m)       │ (\u001b[38;5;45mNone\u001b[0m, \u001b[38;5;34m54\u001b[0m, \u001b[38;5;34m54\u001b[0m, \u001b[38;5;34m32\u001b[0m)          │               \u001b[38;5;34m0\u001b[0m │\n",
       "├──────────────────────────────────────┼─────────────────────────────┼─────────────────┤\n",
       "│ global_average_pooling2d             │ (\u001b[38;5;45mNone\u001b[0m, \u001b[38;5;34m32\u001b[0m)                  │               \u001b[38;5;34m0\u001b[0m │\n",
       "│ (\u001b[38;5;33mGlobalAveragePooling2D\u001b[0m)             │                             │                 │\n",
       "├──────────────────────────────────────┼─────────────────────────────┼─────────────────┤\n",
       "│ dense (\u001b[38;5;33mDense\u001b[0m)                        │ (\u001b[38;5;45mNone\u001b[0m, \u001b[38;5;34m64\u001b[0m)                  │           \u001b[38;5;34m2,112\u001b[0m │\n",
       "├──────────────────────────────────────┼─────────────────────────────┼─────────────────┤\n",
       "│ batch_normalization                  │ (\u001b[38;5;45mNone\u001b[0m, \u001b[38;5;34m64\u001b[0m)                  │             \u001b[38;5;34m256\u001b[0m │\n",
       "│ (\u001b[38;5;33mBatchNormalization\u001b[0m)                 │                             │                 │\n",
       "├──────────────────────────────────────┼─────────────────────────────┼─────────────────┤\n",
       "│ activation_2 (\u001b[38;5;33mActivation\u001b[0m)            │ (\u001b[38;5;45mNone\u001b[0m, \u001b[38;5;34m64\u001b[0m)                  │               \u001b[38;5;34m0\u001b[0m │\n",
       "├──────────────────────────────────────┼─────────────────────────────┼─────────────────┤\n",
       "│ dense_1 (\u001b[38;5;33mDense\u001b[0m)                      │ (\u001b[38;5;45mNone\u001b[0m, \u001b[38;5;34m11\u001b[0m)                  │             \u001b[38;5;34m715\u001b[0m │\n",
       "└──────────────────────────────────────┴─────────────────────────────┴─────────────────┘\n"
      ]
     },
     "metadata": {},
     "output_type": "display_data"
    },
    {
     "data": {
      "text/html": [
       "<pre style=\"white-space:pre;overflow-x:auto;line-height:normal;font-family:Menlo,'DejaVu Sans Mono',consolas,'Courier New',monospace\"><span style=\"font-weight: bold\"> Total params: </span><span style=\"color: #00af00; text-decoration-color: #00af00\">8,939</span> (34.92 KB)\n",
       "</pre>\n"
      ],
      "text/plain": [
       "\u001b[1m Total params: \u001b[0m\u001b[38;5;34m8,939\u001b[0m (34.92 KB)\n"
      ]
     },
     "metadata": {},
     "output_type": "display_data"
    },
    {
     "data": {
      "text/html": [
       "<pre style=\"white-space:pre;overflow-x:auto;line-height:normal;font-family:Menlo,'DejaVu Sans Mono',consolas,'Courier New',monospace\"><span style=\"font-weight: bold\"> Trainable params: </span><span style=\"color: #00af00; text-decoration-color: #00af00\">8,811</span> (34.42 KB)\n",
       "</pre>\n"
      ],
      "text/plain": [
       "\u001b[1m Trainable params: \u001b[0m\u001b[38;5;34m8,811\u001b[0m (34.42 KB)\n"
      ]
     },
     "metadata": {},
     "output_type": "display_data"
    },
    {
     "data": {
      "text/html": [
       "<pre style=\"white-space:pre;overflow-x:auto;line-height:normal;font-family:Menlo,'DejaVu Sans Mono',consolas,'Courier New',monospace\"><span style=\"font-weight: bold\"> Non-trainable params: </span><span style=\"color: #00af00; text-decoration-color: #00af00\">128</span> (512.00 B)\n",
       "</pre>\n"
      ],
      "text/plain": [
       "\u001b[1m Non-trainable params: \u001b[0m\u001b[38;5;34m128\u001b[0m (512.00 B)\n"
      ]
     },
     "metadata": {},
     "output_type": "display_data"
    }
   ],
   "source": [
    "input_shape = (224, 224, 3)\n",
    "model_1 = create_cnn_model(input_shape, num_classes=len(unique_students))\n",
    "model_1.summary()"
   ]
  },
  {
   "cell_type": "code",
   "execution_count": 29,
   "id": "bb024d54-6c53-4189-bdaa-b7a06045a251",
   "metadata": {},
   "outputs": [],
   "source": [
    "early_stopping = tf.keras.callbacks.EarlyStopping(monitor='accuracy', patience=3)"
   ]
  },
  {
   "cell_type": "code",
   "execution_count": 30,
   "id": "2a6fa70c-6198-4b12-8a10-13f913005429",
   "metadata": {},
   "outputs": [],
   "source": [
    "def train_model(model, train_data, val_data, callbacks= None, epochs=100):\n",
    "    \n",
    "    if callbacks is None:\n",
    "        callbacks = []\n",
    "        \n",
    "    history = model.fit(\n",
    "        x = train_data,\n",
    "        epochs = epochs,\n",
    "        validation_data = val_data,\n",
    "        callbacks=callbacks\n",
    "        )\n",
    "        \n",
    "    return model, history"
   ]
  },
  {
   "cell_type": "code",
   "execution_count": 31,
   "id": "0164de28-fd7d-4310-a6b9-7df46f9f3d89",
   "metadata": {
    "scrolled": true
   },
   "outputs": [
    {
     "name": "stdout",
     "output_type": "stream",
     "text": [
      "Epoch 1/50\n",
      "\u001b[1m28/28\u001b[0m \u001b[32m━━━━━━━━━━━━━━━━━━━━\u001b[0m\u001b[37m\u001b[0m \u001b[1m13s\u001b[0m 216ms/step - accuracy: 0.1823 - loss: 2.3855 - precision: 0.0000e+00 - recall: 0.0000e+00 - val_accuracy: 0.1010 - val_loss: 2.4020 - val_precision: 0.0000e+00 - val_recall: 0.0000e+00\n",
      "Epoch 2/50\n",
      "\u001b[1m28/28\u001b[0m \u001b[32m━━━━━━━━━━━━━━━━━━━━\u001b[0m\u001b[37m\u001b[0m \u001b[1m5s\u001b[0m 174ms/step - accuracy: 0.3018 - loss: 2.2476 - precision: 0.0000e+00 - recall: 0.0000e+00 - val_accuracy: 0.0909 - val_loss: 2.4067 - val_precision: 0.0000e+00 - val_recall: 0.0000e+00\n",
      "Epoch 3/50\n",
      "\u001b[1m28/28\u001b[0m \u001b[32m━━━━━━━━━━━━━━━━━━━━\u001b[0m\u001b[37m\u001b[0m \u001b[1m5s\u001b[0m 173ms/step - accuracy: 0.3081 - loss: 2.1599 - precision: 0.4138 - recall: 0.0015 - val_accuracy: 0.0909 - val_loss: 2.4184 - val_precision: 0.0000e+00 - val_recall: 0.0000e+00\n",
      "Epoch 4/50\n",
      "\u001b[1m28/28\u001b[0m \u001b[32m━━━━━━━━━━━━━━━━━━━━\u001b[0m\u001b[37m\u001b[0m \u001b[1m5s\u001b[0m 173ms/step - accuracy: 0.3171 - loss: 2.0764 - precision: 0.9655 - recall: 0.0432 - val_accuracy: 0.0909 - val_loss: 2.4442 - val_precision: 0.0000e+00 - val_recall: 0.0000e+00\n",
      "Epoch 5/50\n",
      "\u001b[1m28/28\u001b[0m \u001b[32m━━━━━━━━━━━━━━━━━━━━\u001b[0m\u001b[37m\u001b[0m \u001b[1m5s\u001b[0m 183ms/step - accuracy: 0.3610 - loss: 1.9840 - precision: 1.0000 - recall: 0.0769 - val_accuracy: 0.0505 - val_loss: 2.4887 - val_precision: 0.0000e+00 - val_recall: 0.0000e+00\n",
      "Epoch 6/50\n",
      "\u001b[1m28/28\u001b[0m \u001b[32m━━━━━━━━━━━━━━━━━━━━\u001b[0m\u001b[37m\u001b[0m \u001b[1m5s\u001b[0m 178ms/step - accuracy: 0.3598 - loss: 1.9208 - precision: 1.0000 - recall: 0.0817 - val_accuracy: 0.0505 - val_loss: 2.5395 - val_precision: 0.0000e+00 - val_recall: 0.0000e+00\n",
      "Epoch 7/50\n",
      "\u001b[1m28/28\u001b[0m \u001b[32m━━━━━━━━━━━━━━━━━━━━\u001b[0m\u001b[37m\u001b[0m \u001b[1m5s\u001b[0m 174ms/step - accuracy: 0.3699 - loss: 1.8350 - precision: 1.0000 - recall: 0.0898 - val_accuracy: 0.0505 - val_loss: 2.6095 - val_precision: 0.0000e+00 - val_recall: 0.0000e+00\n",
      "Epoch 8/50\n",
      "\u001b[1m28/28\u001b[0m \u001b[32m━━━━━━━━━━━━━━━━━━━━\u001b[0m\u001b[37m\u001b[0m \u001b[1m5s\u001b[0m 172ms/step - accuracy: 0.4540 - loss: 1.8029 - precision: 0.9920 - recall: 0.0925 - val_accuracy: 0.0505 - val_loss: 2.6513 - val_precision: 0.0000e+00 - val_recall: 0.0000e+00\n",
      "Epoch 9/50\n",
      "\u001b[1m28/28\u001b[0m \u001b[32m━━━━━━━━━━━━━━━━━━━━\u001b[0m\u001b[37m\u001b[0m \u001b[1m5s\u001b[0m 174ms/step - accuracy: 0.4637 - loss: 1.7326 - precision: 1.0000 - recall: 0.1013 - val_accuracy: 0.1212 - val_loss: 2.7231 - val_precision: 0.0000e+00 - val_recall: 0.0000e+00\n",
      "Epoch 10/50\n",
      "\u001b[1m28/28\u001b[0m \u001b[32m━━━━━━━━━━━━━━━━━━━━\u001b[0m\u001b[37m\u001b[0m \u001b[1m5s\u001b[0m 174ms/step - accuracy: 0.4948 - loss: 1.6959 - precision: 1.0000 - recall: 0.0729 - val_accuracy: 0.1414 - val_loss: 2.6728 - val_precision: 0.0000e+00 - val_recall: 0.0000e+00\n",
      "Epoch 11/50\n",
      "\u001b[1m28/28\u001b[0m \u001b[32m━━━━━━━━━━━━━━━━━━━━\u001b[0m\u001b[37m\u001b[0m \u001b[1m5s\u001b[0m 174ms/step - accuracy: 0.5178 - loss: 1.6464 - precision: 0.9219 - recall: 0.0796 - val_accuracy: 0.0909 - val_loss: 2.6516 - val_precision: 0.0000e+00 - val_recall: 0.0000e+00\n",
      "Epoch 12/50\n",
      "\u001b[1m28/28\u001b[0m \u001b[32m━━━━━━━━━━━━━━━━━━━━\u001b[0m\u001b[37m\u001b[0m \u001b[1m5s\u001b[0m 173ms/step - accuracy: 0.5939 - loss: 1.5983 - precision: 1.0000 - recall: 0.0815 - val_accuracy: 0.0909 - val_loss: 2.5663 - val_precision: 0.0000e+00 - val_recall: 0.0000e+00\n",
      "Epoch 13/50\n",
      "\u001b[1m28/28\u001b[0m \u001b[32m━━━━━━━━━━━━━━━━━━━━\u001b[0m\u001b[37m\u001b[0m \u001b[1m5s\u001b[0m 175ms/step - accuracy: 0.6022 - loss: 1.5221 - precision: 0.9828 - recall: 0.0837 - val_accuracy: 0.0909 - val_loss: 2.4807 - val_precision: 0.0000e+00 - val_recall: 0.0000e+00\n",
      "Epoch 14/50\n",
      "\u001b[1m28/28\u001b[0m \u001b[32m━━━━━━━━━━━━━━━━━━━━\u001b[0m\u001b[37m\u001b[0m \u001b[1m5s\u001b[0m 174ms/step - accuracy: 0.6397 - loss: 1.4715 - precision: 0.9893 - recall: 0.0825 - val_accuracy: 0.0909 - val_loss: 2.3596 - val_precision: 0.0000e+00 - val_recall: 0.0000e+00\n",
      "Epoch 15/50\n",
      "\u001b[1m28/28\u001b[0m \u001b[32m━━━━━━━━━━━━━━━━━━━━\u001b[0m\u001b[37m\u001b[0m \u001b[1m5s\u001b[0m 174ms/step - accuracy: 0.6540 - loss: 1.4354 - precision: 0.9599 - recall: 0.0882 - val_accuracy: 0.1313 - val_loss: 2.2976 - val_precision: 0.5714 - val_recall: 0.0404\n",
      "Epoch 16/50\n",
      "\u001b[1m28/28\u001b[0m \u001b[32m━━━━━━━━━━━━━━━━━━━━\u001b[0m\u001b[37m\u001b[0m \u001b[1m5s\u001b[0m 174ms/step - accuracy: 0.6578 - loss: 1.3487 - precision: 1.0000 - recall: 0.1373 - val_accuracy: 0.1717 - val_loss: 2.1992 - val_precision: 0.1875 - val_recall: 0.0303\n",
      "Epoch 17/50\n",
      "\u001b[1m28/28\u001b[0m \u001b[32m━━━━━━━━━━━━━━━━━━━━\u001b[0m\u001b[37m\u001b[0m \u001b[1m5s\u001b[0m 175ms/step - accuracy: 0.6667 - loss: 1.2658 - precision: 1.0000 - recall: 0.1924 - val_accuracy: 0.1717 - val_loss: 2.6138 - val_precision: 0.3953 - val_recall: 0.1717\n",
      "Epoch 18/50\n",
      "\u001b[1m28/28\u001b[0m \u001b[32m━━━━━━━━━━━━━━━━━━━━\u001b[0m\u001b[37m\u001b[0m \u001b[1m5s\u001b[0m 174ms/step - accuracy: 0.6906 - loss: 1.2312 - precision: 0.9928 - recall: 0.2707 - val_accuracy: 0.1717 - val_loss: 2.5782 - val_precision: 0.4054 - val_recall: 0.1515\n",
      "Epoch 19/50\n",
      "\u001b[1m28/28\u001b[0m \u001b[32m━━━━━━━━━━━━━━━━━━━━\u001b[0m\u001b[37m\u001b[0m \u001b[1m5s\u001b[0m 175ms/step - accuracy: 0.7114 - loss: 1.1189 - precision: 0.9835 - recall: 0.3179 - val_accuracy: 0.1313 - val_loss: 3.5833 - val_precision: 0.1383 - val_recall: 0.1313\n",
      "Epoch 20/50\n",
      "\u001b[1m28/28\u001b[0m \u001b[32m━━━━━━━━━━━━━━━━━━━━\u001b[0m\u001b[37m\u001b[0m \u001b[1m5s\u001b[0m 174ms/step - accuracy: 0.7636 - loss: 1.1013 - precision: 1.0000 - recall: 0.3499 - val_accuracy: 0.1515 - val_loss: 2.6620 - val_precision: 0.1781 - val_recall: 0.1313\n",
      "Epoch 21/50\n",
      "\u001b[1m28/28\u001b[0m \u001b[32m━━━━━━━━━━━━━━━━━━━━\u001b[0m\u001b[37m\u001b[0m \u001b[1m5s\u001b[0m 173ms/step - accuracy: 0.7571 - loss: 1.0359 - precision: 0.9978 - recall: 0.3789 - val_accuracy: 0.1313 - val_loss: 3.8370 - val_precision: 0.1379 - val_recall: 0.1212\n",
      "Epoch 22/50\n",
      "\u001b[1m28/28\u001b[0m \u001b[32m━━━━━━━━━━━━━━━━━━━━\u001b[0m\u001b[37m\u001b[0m \u001b[1m5s\u001b[0m 177ms/step - accuracy: 0.7562 - loss: 0.9728 - precision: 0.9863 - recall: 0.4450 - val_accuracy: 0.0909 - val_loss: 5.5173 - val_precision: 0.0909 - val_recall: 0.0909\n",
      "Epoch 23/50\n",
      "\u001b[1m28/28\u001b[0m \u001b[32m━━━━━━━━━━━━━━━━━━━━\u001b[0m\u001b[37m\u001b[0m \u001b[1m5s\u001b[0m 176ms/step - accuracy: 0.7865 - loss: 0.9607 - precision: 0.9948 - recall: 0.4792 - val_accuracy: 0.1717 - val_loss: 4.2127 - val_precision: 0.1649 - val_recall: 0.1616\n",
      "Epoch 24/50\n",
      "\u001b[1m28/28\u001b[0m \u001b[32m━━━━━━━━━━━━━━━━━━━━\u001b[0m\u001b[37m\u001b[0m \u001b[1m5s\u001b[0m 174ms/step - accuracy: 0.8065 - loss: 0.8700 - precision: 0.9956 - recall: 0.5174 - val_accuracy: 0.1515 - val_loss: 4.9239 - val_precision: 0.1515 - val_recall: 0.1515\n",
      "Epoch 25/50\n",
      "\u001b[1m28/28\u001b[0m \u001b[32m━━━━━━━━━━━━━━━━━━━━\u001b[0m\u001b[37m\u001b[0m \u001b[1m5s\u001b[0m 173ms/step - accuracy: 0.8219 - loss: 0.8788 - precision: 0.9954 - recall: 0.5141 - val_accuracy: 0.1313 - val_loss: 4.1278 - val_precision: 0.1413 - val_recall: 0.1313\n",
      "Epoch 26/50\n",
      "\u001b[1m28/28\u001b[0m \u001b[32m━━━━━━━━━━━━━━━━━━━━\u001b[0m\u001b[37m\u001b[0m \u001b[1m5s\u001b[0m 173ms/step - accuracy: 0.8274 - loss: 0.8303 - precision: 0.9993 - recall: 0.5388 - val_accuracy: 0.1717 - val_loss: 5.1127 - val_precision: 0.1717 - val_recall: 0.1717\n",
      "Epoch 27/50\n",
      "\u001b[1m28/28\u001b[0m \u001b[32m━━━━━━━━━━━━━━━━━━━━\u001b[0m\u001b[37m\u001b[0m \u001b[1m5s\u001b[0m 174ms/step - accuracy: 0.8439 - loss: 0.7963 - precision: 0.9915 - recall: 0.5562 - val_accuracy: 0.1717 - val_loss: 5.9986 - val_precision: 0.1753 - val_recall: 0.1717\n",
      "Epoch 28/50\n",
      "\u001b[1m28/28\u001b[0m \u001b[32m━━━━━━━━━━━━━━━━━━━━\u001b[0m\u001b[37m\u001b[0m \u001b[1m5s\u001b[0m 173ms/step - accuracy: 0.9029 - loss: 0.7440 - precision: 0.9985 - recall: 0.5689 - val_accuracy: 0.1717 - val_loss: 5.0924 - val_precision: 0.1735 - val_recall: 0.1717\n",
      "Epoch 29/50\n",
      "\u001b[1m28/28\u001b[0m \u001b[32m━━━━━━━━━━━━━━━━━━━━\u001b[0m\u001b[37m\u001b[0m \u001b[1m5s\u001b[0m 171ms/step - accuracy: 0.9355 - loss: 0.6850 - precision: 0.9947 - recall: 0.5993 - val_accuracy: 0.2626 - val_loss: 2.5785 - val_precision: 0.3778 - val_recall: 0.1717\n",
      "Epoch 30/50\n",
      "\u001b[1m28/28\u001b[0m \u001b[32m━━━━━━━━━━━━━━━━━━━━\u001b[0m\u001b[37m\u001b[0m \u001b[1m5s\u001b[0m 175ms/step - accuracy: 0.9265 - loss: 0.7063 - precision: 0.9974 - recall: 0.5570 - val_accuracy: 0.1717 - val_loss: 3.2688 - val_precision: 0.2982 - val_recall: 0.1717\n",
      "Epoch 31/50\n",
      "\u001b[1m28/28\u001b[0m \u001b[32m━━━━━━━━━━━━━━━━━━━━\u001b[0m\u001b[37m\u001b[0m \u001b[1m5s\u001b[0m 173ms/step - accuracy: 0.9570 - loss: 0.6694 - precision: 0.9939 - recall: 0.5727 - val_accuracy: 0.6566 - val_loss: 1.2696 - val_precision: 0.7925 - val_recall: 0.4242\n",
      "Epoch 32/50\n",
      "\u001b[1m28/28\u001b[0m \u001b[32m━━━━━━━━━━━━━━━━━━━━\u001b[0m\u001b[37m\u001b[0m \u001b[1m5s\u001b[0m 172ms/step - accuracy: 0.9598 - loss: 0.6125 - precision: 0.9974 - recall: 0.6162 - val_accuracy: 0.1818 - val_loss: 4.5632 - val_precision: 0.1978 - val_recall: 0.1818\n",
      "Epoch 33/50\n",
      "\u001b[1m28/28\u001b[0m \u001b[32m━━━━━━━━━━━━━━━━━━━━\u001b[0m\u001b[37m\u001b[0m \u001b[1m5s\u001b[0m 171ms/step - accuracy: 0.9541 - loss: 0.6085 - precision: 0.9925 - recall: 0.6102 - val_accuracy: 0.1717 - val_loss: 5.2733 - val_precision: 0.1910 - val_recall: 0.1717\n",
      "Epoch 34/50\n",
      "\u001b[1m28/28\u001b[0m \u001b[32m━━━━━━━━━━━━━━━━━━━━\u001b[0m\u001b[37m\u001b[0m \u001b[1m5s\u001b[0m 172ms/step - accuracy: 0.9593 - loss: 0.6043 - precision: 0.9930 - recall: 0.6222 - val_accuracy: 0.2626 - val_loss: 3.4727 - val_precision: 0.3562 - val_recall: 0.2626\n",
      "Epoch 35/50\n",
      "\u001b[1m28/28\u001b[0m \u001b[32m━━━━━━━━━━━━━━━━━━━━\u001b[0m\u001b[37m\u001b[0m \u001b[1m5s\u001b[0m 174ms/step - accuracy: 0.9694 - loss: 0.5523 - precision: 0.9902 - recall: 0.6558 - val_accuracy: 0.2020 - val_loss: 3.9296 - val_precision: 0.2439 - val_recall: 0.2020\n",
      "Epoch 36/50\n",
      "\u001b[1m28/28\u001b[0m \u001b[32m━━━━━━━━━━━━━━━━━━━━\u001b[0m\u001b[37m\u001b[0m \u001b[1m5s\u001b[0m 174ms/step - accuracy: 0.9666 - loss: 0.5603 - precision: 0.9886 - recall: 0.6585 - val_accuracy: 0.3131 - val_loss: 2.6316 - val_precision: 0.4348 - val_recall: 0.3030\n",
      "Epoch 37/50\n",
      "\u001b[1m28/28\u001b[0m \u001b[32m━━━━━━━━━━━━━━━━━━━━\u001b[0m\u001b[37m\u001b[0m \u001b[1m5s\u001b[0m 174ms/step - accuracy: 0.9856 - loss: 0.4769 - precision: 0.9972 - recall: 0.7175 - val_accuracy: 0.1818 - val_loss: 3.9105 - val_precision: 0.2329 - val_recall: 0.1717\n",
      "Epoch 38/50\n",
      "\u001b[1m28/28\u001b[0m \u001b[32m━━━━━━━━━━━━━━━━━━━━\u001b[0m\u001b[37m\u001b[0m \u001b[1m5s\u001b[0m 173ms/step - accuracy: 0.9754 - loss: 0.5051 - precision: 0.9964 - recall: 0.6941 - val_accuracy: 0.2727 - val_loss: 4.4380 - val_precision: 0.2935 - val_recall: 0.2727\n",
      "Epoch 39/50\n",
      "\u001b[1m28/28\u001b[0m \u001b[32m━━━━━━━━━━━━━━━━━━━━\u001b[0m\u001b[37m\u001b[0m \u001b[1m5s\u001b[0m 173ms/step - accuracy: 0.9795 - loss: 0.4506 - precision: 0.9988 - recall: 0.7836 - val_accuracy: 0.2727 - val_loss: 3.1092 - val_precision: 0.3103 - val_recall: 0.2727\n",
      "Epoch 40/50\n",
      "\u001b[1m28/28\u001b[0m \u001b[32m━━━━━━━━━━━━━━━━━━━━\u001b[0m\u001b[37m\u001b[0m \u001b[1m5s\u001b[0m 172ms/step - accuracy: 0.9836 - loss: 0.4316 - precision: 0.9994 - recall: 0.7726 - val_accuracy: 0.4444 - val_loss: 1.9320 - val_precision: 0.6842 - val_recall: 0.3939\n"
     ]
    }
   ],
   "source": [
    "my_callbacks = [early_stopping]\n",
    "model_1, history_1 = train_model(model_1, train_data, val_data, epochs=50, callbacks=my_callbacks)"
   ]
  },
  {
   "cell_type": "code",
   "execution_count": 32,
   "id": "3227fb95-ed00-4050-84a9-2f8a4658c889",
   "metadata": {},
   "outputs": [
    {
     "data": {
      "image/png": "[encoded data removed]",
      "text/plain": [
       "<Figure size 1400x500 with 2 Axes>"
      ]
     },
     "metadata": {},
     "output_type": "display_data"
    }
   ],
   "source": [
    "plot_training_history(history_1)"
   ]
  },
  {
   "cell_type": "code",
   "execution_count": 33,
   "id": "82f66363-494c-4da0-aafe-e22e03c5578c",
   "metadata": {},
   "outputs": [
    {
     "name": "stderr",
     "output_type": "stream",
     "text": [
      "WARNING:absl:You are saving your model as an HDF5 file via `model.save()` or `keras.saving.save_model(model)`. This file format is considered legacy. We recommend using instead the native Keras format, e.g. `model.save('my_model.keras')` or `keras.saving.save_model(model, 'my_model.keras')`. \n"
     ]
    },
    {
     "name": "stdout",
     "output_type": "stream",
     "text": [
      "Model saved as Models/D_v2/CNN-Adam_20240719_231809.h5\n"
     ]
    }
   ],
   "source": [
    "save_this_model(model_1, suffix=\"CNN-Adam\", extra_dir=\"D_v2\")"
   ]
  },
  {
   "cell_type": "code",
   "execution_count": 34,
   "id": "c73353a7-51d5-49b7-86c8-94f0e798892d",
   "metadata": {},
   "outputs": [
    {
     "name": "stdout",
     "output_type": "stream",
     "text": [
      "Plot saved successfully...\n"
     ]
    }
   ],
   "source": [
    "save_history_plot(history_1, \"CNN-Adam-990\", \"Plots\")"
   ]
  },
  {
   "cell_type": "code",
   "execution_count": 35,
   "id": "b884a5ad-d31e-4504-902c-baa073907858",
   "metadata": {},
   "outputs": [
    {
     "name": "stdout",
     "output_type": "stream",
     "text": [
      "Evaluation on training data...\n",
      "\u001b[1m28/28\u001b[0m \u001b[32m━━━━━━━━━━━━━━━━━━━━\u001b[0m\u001b[37m\u001b[0m \u001b[1m2s\u001b[0m 72ms/step - accuracy: 0.4110 - loss: 1.8720 - precision: 0.6152 - recall: 0.3369\n"
     ]
    },
    {
     "data": {
      "text/plain": [
       "[1.8297227621078491,\n",
       " 0.44107744097709656,\n",
       " 0.6445783376693726,\n",
       " 0.36026936769485474]"
      ]
     },
     "execution_count": 35,
     "metadata": {},
     "output_type": "execute_result"
    }
   ],
   "source": [
    "print(\"Evaluation on training data...\")\n",
    "model_1.evaluate(train_data)"
   ]
  },
  {
   "cell_type": "markdown",
   "id": "03ce991a-6e0a-44ec-b030-3a4817a6962a",
   "metadata": {
    "jp-MarkdownHeadingCollapsed": true
   },
   "source": [
    "### 2. CNN with RMS"
   ]
  },
  {
   "cell_type": "code",
   "execution_count": 36,
   "id": "3e4c6ddc-80ac-43f5-b125-f8e156ed829c",
   "metadata": {},
   "outputs": [],
   "source": [
    "def create_cnn_model_rms(input_shape=(224, 224, 3), num_classes=10):\n",
    "    model = tf.keras.Sequential([\n",
    "    Conv2D(16, kernel_size=(5, 5), strides=(1, 1), input_shape=input_shape),\n",
    "    Activation('relu'),\n",
    "    MaxPool2D(pool_size=(2, 2)),\n",
    "\n",
    "    Conv2D(32, kernel_size=(3, 3), strides=(1, 1)),\n",
    "    Activation('relu'),\n",
    "    MaxPool2D(pool_size=(2, 2)),\n",
    "\n",
    "    GlobalAveragePooling2D(),\n",
    "\n",
    "    Dense(64),\n",
    "    BatchNormalization(), \n",
    "    Activation('relu'),\n",
    "\n",
    "    Dense(num_classes, activation='softmax')\n",
    "    ])\n",
    "\n",
    "    model.compile(\n",
    "        optimizer=tf.keras.optimizers.RMSprop(),\n",
    "        loss=tf.keras.losses.CategoricalCrossentropy(),\n",
    "        metrics=['accuracy', tf.metrics.Precision(), tf.metrics.Recall()]\n",
    "    )\n",
    "\n",
    "    return model"
   ]
  },
  {
   "cell_type": "code",
   "execution_count": 37,
   "id": "a93cce2c-25fc-40ce-8bea-7b41e570228b",
   "metadata": {},
   "outputs": [],
   "source": [
    "def train_model_rms(model, train_data, val_data, callbacks= None, epochs=100):\n",
    "    \"\"\"\n",
    "    Trains a given model and returns the trained version\n",
    "    \"\"\"\n",
    "    if callbacks is None:\n",
    "        callbacks = []\n",
    "    \n",
    "    history = model.fit(x=train_data, \n",
    "                        epochs=epochs, \n",
    "                        validation_data=val_data,\n",
    "                        callbacks=callbacks)\n",
    "\n",
    "    # Return the fitted model\n",
    "    return model, history"
   ]
  },
  {
   "cell_type": "code",
   "execution_count": 38,
   "id": "bc953246-3b49-4f60-b300-5f1afba1c20a",
   "metadata": {},
   "outputs": [
    {
     "data": {
      "text/html": [
       "<pre style=\"white-space:pre;overflow-x:auto;line-height:normal;font-family:Menlo,'DejaVu Sans Mono',consolas,'Courier New',monospace\"><span style=\"font-weight: bold\">Model: \"sequential_1\"</span>\n",
       "</pre>\n"
      ],
      "text/plain": [
       "\u001b[1mModel: \"sequential_1\"\u001b[0m\n"
      ]
     },
     "metadata": {},
     "output_type": "display_data"
    },
    {
     "data": {
      "text/html": [
       "<pre style=\"white-space:pre;overflow-x:auto;line-height:normal;font-family:Menlo,'DejaVu Sans Mono',consolas,'Courier New',monospace\">┏━━━━━━━━━━━━━━━━━━━━━━━━━━━━━━━━━━━━━━┳━━━━━━━━━━━━━━━━━━━━━━━━━━━━━┳━━━━━━━━━━━━━━━━━┓\n",
       "┃<span style=\"font-weight: bold\"> Layer (type)                         </span>┃<span style=\"font-weight: bold\"> Output Shape                </span>┃<span style=\"font-weight: bold\">         Param # </span>┃\n",
       "┡━━━━━━━━━━━━━━━━━━━━━━━━━━━━━━━━━━━━━━╇━━━━━━━━━━━━━━━━━━━━━━━━━━━━━╇━━━━━━━━━━━━━━━━━┩\n",
       "│ conv2d_2 (<span style=\"color: #0087ff; text-decoration-color: #0087ff\">Conv2D</span>)                    │ (<span style=\"color: #00d7ff; text-decoration-color: #00d7ff\">None</span>, <span style=\"color: #00af00; text-decoration-color: #00af00\">220</span>, <span style=\"color: #00af00; text-decoration-color: #00af00\">220</span>, <span style=\"color: #00af00; text-decoration-color: #00af00\">16</span>)        │           <span style=\"color: #00af00; text-decoration-color: #00af00\">1,216</span> │\n",
       "├──────────────────────────────────────┼─────────────────────────────┼─────────────────┤\n",
       "│ activation_3 (<span style=\"color: #0087ff; text-decoration-color: #0087ff\">Activation</span>)            │ (<span style=\"color: #00d7ff; text-decoration-color: #00d7ff\">None</span>, <span style=\"color: #00af00; text-decoration-color: #00af00\">220</span>, <span style=\"color: #00af00; text-decoration-color: #00af00\">220</span>, <span style=\"color: #00af00; text-decoration-color: #00af00\">16</span>)        │               <span style=\"color: #00af00; text-decoration-color: #00af00\">0</span> │\n",
       "├──────────────────────────────────────┼─────────────────────────────┼─────────────────┤\n",
       "│ max_pooling2d_2 (<span style=\"color: #0087ff; text-decoration-color: #0087ff\">MaxPooling2D</span>)       │ (<span style=\"color: #00d7ff; text-decoration-color: #00d7ff\">None</span>, <span style=\"color: #00af00; text-decoration-color: #00af00\">110</span>, <span style=\"color: #00af00; text-decoration-color: #00af00\">110</span>, <span style=\"color: #00af00; text-decoration-color: #00af00\">16</span>)        │               <span style=\"color: #00af00; text-decoration-color: #00af00\">0</span> │\n",
       "├──────────────────────────────────────┼─────────────────────────────┼─────────────────┤\n",
       "│ conv2d_3 (<span style=\"color: #0087ff; text-decoration-color: #0087ff\">Conv2D</span>)                    │ (<span style=\"color: #00d7ff; text-decoration-color: #00d7ff\">None</span>, <span style=\"color: #00af00; text-decoration-color: #00af00\">108</span>, <span style=\"color: #00af00; text-decoration-color: #00af00\">108</span>, <span style=\"color: #00af00; text-decoration-color: #00af00\">32</span>)        │           <span style=\"color: #00af00; text-decoration-color: #00af00\">4,640</span> │\n",
       "├──────────────────────────────────────┼─────────────────────────────┼─────────────────┤\n",
       "│ activation_4 (<span style=\"color: #0087ff; text-decoration-color: #0087ff\">Activation</span>)            │ (<span style=\"color: #00d7ff; text-decoration-color: #00d7ff\">None</span>, <span style=\"color: #00af00; text-decoration-color: #00af00\">108</span>, <span style=\"color: #00af00; text-decoration-color: #00af00\">108</span>, <span style=\"color: #00af00; text-decoration-color: #00af00\">32</span>)        │               <span style=\"color: #00af00; text-decoration-color: #00af00\">0</span> │\n",
       "├──────────────────────────────────────┼─────────────────────────────┼─────────────────┤\n",
       "│ max_pooling2d_3 (<span style=\"color: #0087ff; text-decoration-color: #0087ff\">MaxPooling2D</span>)       │ (<span style=\"color: #00d7ff; text-decoration-color: #00d7ff\">None</span>, <span style=\"color: #00af00; text-decoration-color: #00af00\">54</span>, <span style=\"color: #00af00; text-decoration-color: #00af00\">54</span>, <span style=\"color: #00af00; text-decoration-color: #00af00\">32</span>)          │               <span style=\"color: #00af00; text-decoration-color: #00af00\">0</span> │\n",
       "├──────────────────────────────────────┼─────────────────────────────┼─────────────────┤\n",
       "│ global_average_pooling2d_1           │ (<span style=\"color: #00d7ff; text-decoration-color: #00d7ff\">None</span>, <span style=\"color: #00af00; text-decoration-color: #00af00\">32</span>)                  │               <span style=\"color: #00af00; text-decoration-color: #00af00\">0</span> │\n",
       "│ (<span style=\"color: #0087ff; text-decoration-color: #0087ff\">GlobalAveragePooling2D</span>)             │                             │                 │\n",
       "├──────────────────────────────────────┼─────────────────────────────┼─────────────────┤\n",
       "│ dense_2 (<span style=\"color: #0087ff; text-decoration-color: #0087ff\">Dense</span>)                      │ (<span style=\"color: #00d7ff; text-decoration-color: #00d7ff\">None</span>, <span style=\"color: #00af00; text-decoration-color: #00af00\">64</span>)                  │           <span style=\"color: #00af00; text-decoration-color: #00af00\">2,112</span> │\n",
       "├──────────────────────────────────────┼─────────────────────────────┼─────────────────┤\n",
       "│ batch_normalization_1                │ (<span style=\"color: #00d7ff; text-decoration-color: #00d7ff\">None</span>, <span style=\"color: #00af00; text-decoration-color: #00af00\">64</span>)                  │             <span style=\"color: #00af00; text-decoration-color: #00af00\">256</span> │\n",
       "│ (<span style=\"color: #0087ff; text-decoration-color: #0087ff\">BatchNormalization</span>)                 │                             │                 │\n",
       "├──────────────────────────────────────┼─────────────────────────────┼─────────────────┤\n",
       "│ activation_5 (<span style=\"color: #0087ff; text-decoration-color: #0087ff\">Activation</span>)            │ (<span style=\"color: #00d7ff; text-decoration-color: #00d7ff\">None</span>, <span style=\"color: #00af00; text-decoration-color: #00af00\">64</span>)                  │               <span style=\"color: #00af00; text-decoration-color: #00af00\">0</span> │\n",
       "├──────────────────────────────────────┼─────────────────────────────┼─────────────────┤\n",
       "│ dense_3 (<span style=\"color: #0087ff; text-decoration-color: #0087ff\">Dense</span>)                      │ (<span style=\"color: #00d7ff; text-decoration-color: #00d7ff\">None</span>, <span style=\"color: #00af00; text-decoration-color: #00af00\">11</span>)                  │             <span style=\"color: #00af00; text-decoration-color: #00af00\">715</span> │\n",
       "└──────────────────────────────────────┴─────────────────────────────┴─────────────────┘\n",
       "</pre>\n"
      ],
      "text/plain": [
       "┏━━━━━━━━━━━━━━━━━━━━━━━━━━━━━━━━━━━━━━┳━━━━━━━━━━━━━━━━━━━━━━━━━━━━━┳━━━━━━━━━━━━━━━━━┓\n",
       "┃\u001b[1m \u001b[0m\u001b[1mLayer (type)                        \u001b[0m\u001b[1m \u001b[0m┃\u001b[1m \u001b[0m\u001b[1mOutput Shape               \u001b[0m\u001b[1m \u001b[0m┃\u001b[1m \u001b[0m\u001b[1m        Param #\u001b[0m\u001b[1m \u001b[0m┃\n",
       "┡━━━━━━━━━━━━━━━━━━━━━━━━━━━━━━━━━━━━━━╇━━━━━━━━━━━━━━━━━━━━━━━━━━━━━╇━━━━━━━━━━━━━━━━━┩\n",
       "│ conv2d_2 (\u001b[38;5;33mConv2D\u001b[0m)                    │ (\u001b[38;5;45mNone\u001b[0m, \u001b[38;5;34m220\u001b[0m, \u001b[38;5;34m220\u001b[0m, \u001b[38;5;34m16\u001b[0m)        │           \u001b[38;5;34m1,216\u001b[0m │\n",
       "├──────────────────────────────────────┼─────────────────────────────┼─────────────────┤\n",
       "│ activation_3 (\u001b[38;5;33mActivation\u001b[0m)            │ (\u001b[38;5;45mNone\u001b[0m, \u001b[38;5;34m220\u001b[0m, \u001b[38;5;34m220\u001b[0m, \u001b[38;5;34m16\u001b[0m)        │               \u001b[38;5;34m0\u001b[0m │\n",
       "├──────────────────────────────────────┼─────────────────────────────┼─────────────────┤\n",
       "│ max_pooling2d_2 (\u001b[38;5;33mMaxPooling2D\u001b[0m)       │ (\u001b[38;5;45mNone\u001b[0m, \u001b[38;5;34m110\u001b[0m, \u001b[38;5;34m110\u001b[0m, \u001b[38;5;34m16\u001b[0m)        │               \u001b[38;5;34m0\u001b[0m │\n",
       "├──────────────────────────────────────┼─────────────────────────────┼─────────────────┤\n",
       "│ conv2d_3 (\u001b[38;5;33mConv2D\u001b[0m)                    │ (\u001b[38;5;45mNone\u001b[0m, \u001b[38;5;34m108\u001b[0m, \u001b[38;5;34m108\u001b[0m, \u001b[38;5;34m32\u001b[0m)        │           \u001b[38;5;34m4,640\u001b[0m │\n",
       "├──────────────────────────────────────┼─────────────────────────────┼─────────────────┤\n",
       "│ activation_4 (\u001b[38;5;33mActivation\u001b[0m)            │ (\u001b[38;5;45mNone\u001b[0m, \u001b[38;5;34m108\u001b[0m, \u001b[38;5;34m108\u001b[0m, \u001b[38;5;34m32\u001b[0m)        │               \u001b[38;5;34m0\u001b[0m │\n",
       "├──────────────────────────────────────┼─────────────────────────────┼─────────────────┤\n",
       "│ max_pooling2d_3 (\u001b[38;5;33mMaxPooling2D\u001b[0m)       │ (\u001b[38;5;45mNone\u001b[0m, \u001b[38;5;34m54\u001b[0m, \u001b[38;5;34m54\u001b[0m, \u001b[38;5;34m32\u001b[0m)          │               \u001b[38;5;34m0\u001b[0m │\n",
       "├──────────────────────────────────────┼─────────────────────────────┼─────────────────┤\n",
       "│ global_average_pooling2d_1           │ (\u001b[38;5;45mNone\u001b[0m, \u001b[38;5;34m32\u001b[0m)                  │               \u001b[38;5;34m0\u001b[0m │\n",
       "│ (\u001b[38;5;33mGlobalAveragePooling2D\u001b[0m)             │                             │                 │\n",
       "├──────────────────────────────────────┼─────────────────────────────┼─────────────────┤\n",
       "│ dense_2 (\u001b[38;5;33mDense\u001b[0m)                      │ (\u001b[38;5;45mNone\u001b[0m, \u001b[38;5;34m64\u001b[0m)                  │           \u001b[38;5;34m2,112\u001b[0m │\n",
       "├──────────────────────────────────────┼─────────────────────────────┼─────────────────┤\n",
       "│ batch_normalization_1                │ (\u001b[38;5;45mNone\u001b[0m, \u001b[38;5;34m64\u001b[0m)                  │             \u001b[38;5;34m256\u001b[0m │\n",
       "│ (\u001b[38;5;33mBatchNormalization\u001b[0m)                 │                             │                 │\n",
       "├──────────────────────────────────────┼─────────────────────────────┼─────────────────┤\n",
       "│ activation_5 (\u001b[38;5;33mActivation\u001b[0m)            │ (\u001b[38;5;45mNone\u001b[0m, \u001b[38;5;34m64\u001b[0m)                  │               \u001b[38;5;34m0\u001b[0m │\n",
       "├──────────────────────────────────────┼─────────────────────────────┼─────────────────┤\n",
       "│ dense_3 (\u001b[38;5;33mDense\u001b[0m)                      │ (\u001b[38;5;45mNone\u001b[0m, \u001b[38;5;34m11\u001b[0m)                  │             \u001b[38;5;34m715\u001b[0m │\n",
       "└──────────────────────────────────────┴─────────────────────────────┴─────────────────┘\n"
      ]
     },
     "metadata": {},
     "output_type": "display_data"
    },
    {
     "data": {
      "text/html": [
       "<pre style=\"white-space:pre;overflow-x:auto;line-height:normal;font-family:Menlo,'DejaVu Sans Mono',consolas,'Courier New',monospace\"><span style=\"font-weight: bold\"> Total params: </span><span style=\"color: #00af00; text-decoration-color: #00af00\">8,939</span> (34.92 KB)\n",
       "</pre>\n"
      ],
      "text/plain": [
       "\u001b[1m Total params: \u001b[0m\u001b[38;5;34m8,939\u001b[0m (34.92 KB)\n"
      ]
     },
     "metadata": {},
     "output_type": "display_data"
    },
    {
     "data": {
      "text/html": [
       "<pre style=\"white-space:pre;overflow-x:auto;line-height:normal;font-family:Menlo,'DejaVu Sans Mono',consolas,'Courier New',monospace\"><span style=\"font-weight: bold\"> Trainable params: </span><span style=\"color: #00af00; text-decoration-color: #00af00\">8,811</span> (34.42 KB)\n",
       "</pre>\n"
      ],
      "text/plain": [
       "\u001b[1m Trainable params: \u001b[0m\u001b[38;5;34m8,811\u001b[0m (34.42 KB)\n"
      ]
     },
     "metadata": {},
     "output_type": "display_data"
    },
    {
     "data": {
      "text/html": [
       "<pre style=\"white-space:pre;overflow-x:auto;line-height:normal;font-family:Menlo,'DejaVu Sans Mono',consolas,'Courier New',monospace\"><span style=\"font-weight: bold\"> Non-trainable params: </span><span style=\"color: #00af00; text-decoration-color: #00af00\">128</span> (512.00 B)\n",
       "</pre>\n"
      ],
      "text/plain": [
       "\u001b[1m Non-trainable params: \u001b[0m\u001b[38;5;34m128\u001b[0m (512.00 B)\n"
      ]
     },
     "metadata": {},
     "output_type": "display_data"
    }
   ],
   "source": [
    "input_shape_2 = (224, 224, 3)\n",
    "model_2 = create_cnn_model_rms(input_shape_2, num_classes=len(unique_students))\n",
    "model_2.summary()"
   ]
  },
  {
   "cell_type": "code",
   "execution_count": 39,
   "id": "c8b6b03b-5eef-4884-a0f3-0d01cf526856",
   "metadata": {},
   "outputs": [],
   "source": [
    "from keras.optimizers import RMSprop\n",
    "from keras.callbacks import ReduceLROnPlateau\n",
    "\n",
    "lr_scheduler_loss = ReduceLROnPlateau(monitor='val_loss', factor=0.5, patience=3, min_lr=1e-6, verbose=1)\n",
    "lr_scheduler_acc = ReduceLROnPlateau(monitor='val_accuracy', factor=0.5, patience=3, min_lr=1e-6, verbose=1)\n",
    "\n",
    "loss_es = tf.keras.callbacks.EarlyStopping(monitor='val_loss', patience=3)\n",
    "acc_es = tf.keras.callbacks.EarlyStopping(monitor='accuracy', patience=3)\n",
    "val_acc_es = tf.keras.callbacks.EarlyStopping(monitor='val_accuracy', patience=3)\n",
    "\n",
    "my_callbacks = [lr_scheduler_acc, lr_scheduler_loss, acc_es]"
   ]
  },
  {
   "cell_type": "code",
   "execution_count": 40,
   "id": "730a3aa3-b5ce-4cc3-ac76-7e4e626c4ae8",
   "metadata": {
    "scrolled": true
   },
   "outputs": [
    {
     "name": "stdout",
     "output_type": "stream",
     "text": [
      "Epoch 1/50\n",
      "\u001b[1m28/28\u001b[0m \u001b[32m━━━━━━━━━━━━━━━━━━━━\u001b[0m\u001b[37m\u001b[0m \u001b[1m10s\u001b[0m 211ms/step - accuracy: 0.2306 - loss: 2.1198 - precision_1: 0.7586 - recall_1: 0.0299 - val_accuracy: 0.0505 - val_loss: 2.8068 - val_precision_1: 0.0000e+00 - val_recall_1: 0.0000e+00 - learning_rate: 0.0010\n",
      "Epoch 2/50\n",
      "\u001b[1m28/28\u001b[0m \u001b[32m━━━━━━━━━━━━━━━━━━━━\u001b[0m\u001b[37m\u001b[0m \u001b[1m5s\u001b[0m 171ms/step - accuracy: 0.4030 - loss: 1.7183 - precision_1: 0.9935 - recall_1: 0.0998 - val_accuracy: 0.1010 - val_loss: 3.0492 - val_precision_1: 0.0000e+00 - val_recall_1: 0.0000e+00 - learning_rate: 0.0010\n",
      "Epoch 3/50\n",
      "\u001b[1m28/28\u001b[0m \u001b[32m━━━━━━━━━━━━━━━━━━━━\u001b[0m\u001b[37m\u001b[0m \u001b[1m5s\u001b[0m 172ms/step - accuracy: 0.6142 - loss: 1.3223 - precision_1: 0.9746 - recall_1: 0.2336 - val_accuracy: 0.0909 - val_loss: 2.9251 - val_precision_1: 0.0000e+00 - val_recall_1: 0.0000e+00 - learning_rate: 0.0010\n",
      "Epoch 4/50\n",
      "\u001b[1m28/28\u001b[0m \u001b[32m━━━━━━━━━━━━━━━━━━━━\u001b[0m\u001b[37m\u001b[0m \u001b[1m0s\u001b[0m 160ms/step - accuracy: 0.7859 - loss: 1.0093 - precision_1: 0.9876 - recall_1: 0.3982\n",
      "Epoch 4: ReduceLROnPlateau reducing learning rate to 0.0005000000237487257.\n",
      "\u001b[1m28/28\u001b[0m \u001b[32m━━━━━━━━━━━━━━━━━━━━\u001b[0m\u001b[37m\u001b[0m \u001b[1m5s\u001b[0m 171ms/step - accuracy: 0.7855 - loss: 1.0079 - precision_1: 0.9878 - recall_1: 0.3988 - val_accuracy: 0.0505 - val_loss: 3.1285 - val_precision_1: 0.0000e+00 - val_recall_1: 0.0000e+00 - learning_rate: 0.0010\n",
      "Epoch 5/50\n",
      "\u001b[1m28/28\u001b[0m \u001b[32m━━━━━━━━━━━━━━━━━━━━\u001b[0m\u001b[37m\u001b[0m \u001b[1m0s\u001b[0m 160ms/step - accuracy: 0.8231 - loss: 0.7978 - precision_1: 0.9966 - recall_1: 0.4874\n",
      "Epoch 5: ReduceLROnPlateau reducing learning rate to 0.0002500000118743628.\n",
      "\u001b[1m28/28\u001b[0m \u001b[32m━━━━━━━━━━━━━━━━━━━━\u001b[0m\u001b[37m\u001b[0m \u001b[1m5s\u001b[0m 171ms/step - accuracy: 0.8233 - loss: 0.7964 - precision_1: 0.9965 - recall_1: 0.4892 - val_accuracy: 0.0909 - val_loss: 2.8510 - val_precision_1: 0.0000e+00 - val_recall_1: 0.0000e+00 - learning_rate: 2.5000e-04\n",
      "Epoch 6/50\n",
      "\u001b[1m28/28\u001b[0m \u001b[32m━━━━━━━━━━━━━━━━━━━━\u001b[0m\u001b[37m\u001b[0m \u001b[1m5s\u001b[0m 173ms/step - accuracy: 0.8811 - loss: 0.6420 - precision_1: 0.9982 - recall_1: 0.6570 - val_accuracy: 0.0909 - val_loss: 2.9315 - val_precision_1: 0.6667 - val_recall_1: 0.0808 - learning_rate: 2.5000e-04\n",
      "Epoch 7/50\n",
      "\u001b[1m28/28\u001b[0m \u001b[32m━━━━━━━━━━━━━━━━━━━━\u001b[0m\u001b[37m\u001b[0m \u001b[1m5s\u001b[0m 174ms/step - accuracy: 0.9044 - loss: 0.6047 - precision_1: 0.9975 - recall_1: 0.7144 - val_accuracy: 0.1818 - val_loss: 2.7287 - val_precision_1: 0.0000e+00 - val_recall_1: 0.0000e+00 - learning_rate: 2.5000e-04\n",
      "Epoch 8/50\n",
      "\u001b[1m28/28\u001b[0m \u001b[32m━━━━━━━━━━━━━━━━━━━━\u001b[0m\u001b[37m\u001b[0m \u001b[1m5s\u001b[0m 172ms/step - accuracy: 0.9502 - loss: 0.5706 - precision_1: 0.9997 - recall_1: 0.7205 - val_accuracy: 0.1818 - val_loss: 2.5115 - val_precision_1: 0.0000e+00 - val_recall_1: 0.0000e+00 - learning_rate: 2.5000e-04\n",
      "Epoch 9/50\n",
      "\u001b[1m28/28\u001b[0m \u001b[32m━━━━━━━━━━━━━━━━━━━━\u001b[0m\u001b[37m\u001b[0m \u001b[1m5s\u001b[0m 175ms/step - accuracy: 0.9693 - loss: 0.4562 - precision_1: 0.9970 - recall_1: 0.8040 - val_accuracy: 0.1313 - val_loss: 2.8574 - val_precision_1: 0.4091 - val_recall_1: 0.0909 - learning_rate: 2.5000e-04\n",
      "Epoch 10/50\n",
      "\u001b[1m28/28\u001b[0m \u001b[32m━━━━━━━━━━━━━━━━━━━━\u001b[0m\u001b[37m\u001b[0m \u001b[1m0s\u001b[0m 162ms/step - accuracy: 0.9909 - loss: 0.3992 - precision_1: 1.0000 - recall_1: 0.8172\n",
      "Epoch 10: ReduceLROnPlateau reducing learning rate to 0.0001250000059371814.\n",
      "\u001b[1m28/28\u001b[0m \u001b[32m━━━━━━━━━━━━━━━━━━━━\u001b[0m\u001b[37m\u001b[0m \u001b[1m5s\u001b[0m 174ms/step - accuracy: 0.9908 - loss: 0.3995 - precision_1: 1.0000 - recall_1: 0.8168 - val_accuracy: 0.1717 - val_loss: 3.2088 - val_precision_1: 0.3148 - val_recall_1: 0.1717 - learning_rate: 1.2500e-04\n",
      "Epoch 11/50\n",
      "\u001b[1m28/28\u001b[0m \u001b[32m━━━━━━━━━━━━━━━━━━━━\u001b[0m\u001b[37m\u001b[0m \u001b[1m5s\u001b[0m 175ms/step - accuracy: 0.9888 - loss: 0.3636 - precision_1: 0.9988 - recall_1: 0.8303 - val_accuracy: 0.1717 - val_loss: 2.4091 - val_precision_1: 0.5333 - val_recall_1: 0.0808 - learning_rate: 1.2500e-04\n",
      "Epoch 12/50\n",
      "\u001b[1m28/28\u001b[0m \u001b[32m━━━━━━━━━━━━━━━━━━━━\u001b[0m\u001b[37m\u001b[0m \u001b[1m5s\u001b[0m 172ms/step - accuracy: 0.9969 - loss: 0.3201 - precision_1: 1.0000 - recall_1: 0.8723 - val_accuracy: 0.3939 - val_loss: 2.0451 - val_precision_1: 1.0000 - val_recall_1: 0.0808 - learning_rate: 1.2500e-04\n",
      "Epoch 13/50\n",
      "\u001b[1m28/28\u001b[0m \u001b[32m━━━━━━━━━━━━━━━━━━━━\u001b[0m\u001b[37m\u001b[0m \u001b[1m5s\u001b[0m 174ms/step - accuracy: 0.9952 - loss: 0.3382 - precision_1: 1.0000 - recall_1: 0.8560 - val_accuracy: 0.3030 - val_loss: 1.9571 - val_precision_1: 0.7857 - val_recall_1: 0.1111 - learning_rate: 1.2500e-04\n",
      "Epoch 14/50\n",
      "\u001b[1m28/28\u001b[0m \u001b[32m━━━━━━━━━━━━━━━━━━━━\u001b[0m\u001b[37m\u001b[0m \u001b[1m5s\u001b[0m 171ms/step - accuracy: 0.9977 - loss: 0.2852 - precision_1: 1.0000 - recall_1: 0.8977 - val_accuracy: 0.4242 - val_loss: 1.8948 - val_precision_1: 1.0000 - val_recall_1: 0.2020 - learning_rate: 1.2500e-04\n",
      "Epoch 15/50\n",
      "\u001b[1m28/28\u001b[0m \u001b[32m━━━━━━━━━━━━━━━━━━━━\u001b[0m\u001b[37m\u001b[0m \u001b[1m5s\u001b[0m 173ms/step - accuracy: 0.9845 - loss: 0.2876 - precision_1: 1.0000 - recall_1: 0.9089 - val_accuracy: 0.3838 - val_loss: 2.1230 - val_precision_1: 0.3393 - val_recall_1: 0.1919 - learning_rate: 1.2500e-04\n",
      "Epoch 16/50\n",
      "\u001b[1m28/28\u001b[0m \u001b[32m━━━━━━━━━━━━━━━━━━━━\u001b[0m\u001b[37m\u001b[0m \u001b[1m5s\u001b[0m 173ms/step - accuracy: 0.9988 - loss: 0.2469 - precision_1: 1.0000 - recall_1: 0.9420 - val_accuracy: 0.0808 - val_loss: 3.1056 - val_precision_1: 0.0920 - val_recall_1: 0.0808 - learning_rate: 1.2500e-04\n",
      "Epoch 17/50\n",
      "\u001b[1m28/28\u001b[0m \u001b[32m━━━━━━━━━━━━━━━━━━━━\u001b[0m\u001b[37m\u001b[0m \u001b[1m0s\u001b[0m 163ms/step - accuracy: 0.9995 - loss: 0.2382 - precision_1: 1.0000 - recall_1: 0.9715\n",
      "Epoch 17: ReduceLROnPlateau reducing learning rate to 6.25000029685907e-05.\n",
      "\n",
      "Epoch 17: ReduceLROnPlateau reducing learning rate to 3.125000148429535e-05.\n",
      "\u001b[1m28/28\u001b[0m \u001b[32m━━━━━━━━━━━━━━━━━━━━\u001b[0m\u001b[37m\u001b[0m \u001b[1m5s\u001b[0m 175ms/step - accuracy: 0.9994 - loss: 0.2378 - precision_1: 1.0000 - recall_1: 0.9716 - val_accuracy: 0.2626 - val_loss: 2.6287 - val_precision_1: 0.3239 - val_recall_1: 0.2323 - learning_rate: 6.2500e-05\n",
      "Epoch 18/50\n",
      "\u001b[1m28/28\u001b[0m \u001b[32m━━━━━━━━━━━━━━━━━━━━\u001b[0m\u001b[37m\u001b[0m \u001b[1m5s\u001b[0m 172ms/step - accuracy: 0.9988 - loss: 0.2359 - precision_1: 1.0000 - recall_1: 0.9525 - val_accuracy: 0.3939 - val_loss: 1.5805 - val_precision_1: 0.4677 - val_recall_1: 0.2929 - learning_rate: 3.1250e-05\n",
      "Epoch 19/50\n",
      "\u001b[1m28/28\u001b[0m \u001b[32m━━━━━━━━━━━━━━━━━━━━\u001b[0m\u001b[37m\u001b[0m \u001b[1m5s\u001b[0m 174ms/step - accuracy: 0.9999 - loss: 0.2148 - precision_1: 1.0000 - recall_1: 0.9894 - val_accuracy: 0.5859 - val_loss: 1.0097 - val_precision_1: 0.9200 - val_recall_1: 0.4646 - learning_rate: 3.1250e-05\n"
     ]
    }
   ],
   "source": [
    "model_2, history_2 = train_model(model_2, train_data, val_data, epochs=50, callbacks=my_callbacks)"
   ]
  },
  {
   "cell_type": "code",
   "execution_count": 41,
   "id": "3f646584-1594-436e-89a2-1e5951fbe2b5",
   "metadata": {},
   "outputs": [
    {
     "data": {
      "image/png": "[encoded data removed]",
      "text/plain": [
       "<Figure size 1400x500 with 2 Axes>"
      ]
     },
     "metadata": {},
     "output_type": "display_data"
    }
   ],
   "source": [
    "plot_training_history(history_2)"
   ]
  },
  {
   "cell_type": "code",
   "execution_count": 42,
   "id": "4e4f2ddf-4b3a-4427-8e1d-f55259f976ef",
   "metadata": {},
   "outputs": [
    {
     "name": "stderr",
     "output_type": "stream",
     "text": [
      "WARNING:absl:You are saving your model as an HDF5 file via `model.save()` or `keras.saving.save_model(model)`. This file format is considered legacy. We recommend using instead the native Keras format, e.g. `model.save('my_model.keras')` or `keras.saving.save_model(model, 'my_model.keras')`. \n"
     ]
    },
    {
     "name": "stdout",
     "output_type": "stream",
     "text": [
      "Model saved as Models/D_v2/CNN-RMS-50E_20240719_231952.h5\n"
     ]
    }
   ],
   "source": [
    "save_this_model(model_2, suffix=\"CNN-RMS-50E\", extra_dir=\"D_v2\")"
   ]
  },
  {
   "cell_type": "code",
   "execution_count": 43,
   "id": "1a337b61-f0f6-4afe-a3fd-8d4815d35116",
   "metadata": {},
   "outputs": [
    {
     "name": "stdout",
     "output_type": "stream",
     "text": [
      "Plot saved successfully...\n"
     ]
    }
   ],
   "source": [
    "save_history_plot(history_2, \"CNN-RMS-50E-990\", \"Plots\")"
   ]
  },
  {
   "cell_type": "code",
   "execution_count": 44,
   "id": "725d1a8d-5c38-496c-ba93-058ae62e9bf2",
   "metadata": {},
   "outputs": [
    {
     "name": "stdout",
     "output_type": "stream",
     "text": [
      "Evaluating on Training Data\n",
      "\u001b[1m28/28\u001b[0m \u001b[32m━━━━━━━━━━━━━━━━━━━━\u001b[0m\u001b[37m\u001b[0m \u001b[1m2s\u001b[0m 71ms/step - accuracy: 0.5868 - loss: 1.0012 - precision_1: 0.9044 - recall_1: 0.4702\n"
     ]
    },
    {
     "data": {
      "text/plain": [
       "[1.019606351852417, 0.5667788982391357, 0.899328887462616, 0.4511784613132477]"
      ]
     },
     "execution_count": 44,
     "metadata": {},
     "output_type": "execute_result"
    }
   ],
   "source": [
    "print(\"Evaluating on Training Data\")\n",
    "model_2.evaluate(train_data)"
   ]
  },
  {
   "cell_type": "markdown",
   "id": "022f684c-bead-40f2-8af8-08bff631de69",
   "metadata": {
    "jp-MarkdownHeadingCollapsed": true
   },
   "source": [
    "### 3. Simple CNN Model"
   ]
  },
  {
   "cell_type": "code",
   "execution_count": 45,
   "id": "10938942-6025-4bce-8ace-f679fac282e2",
   "metadata": {},
   "outputs": [],
   "source": [
    "def create_simple_cnn(input_shape, num_classes):\n",
    "    model = Sequential([\n",
    "        Conv2D(32, kernel_size=(3, 3), activation='relu', input_shape=input_shape),\n",
    "        MaxPooling2D(pool_size=(2, 2)),\n",
    "        Conv2D(64, kernel_size=(3, 3), activation='relu'),\n",
    "        MaxPool2D(pool_size=(2, 2)),\n",
    "        Conv2D(128, kernel_size=(3, 3), activation='relu'),\n",
    "        MaxPooling2D(pool_size=(2, 2)),\n",
    "        GlobalAveragePooling2D(),\n",
    "        Dense(128, activation='relu'),\n",
    "        Dropout(0.5),\n",
    "        Dense(num_classes, activation='softmax')\n",
    "    ])\n",
    "    \n",
    "    model.compile(\n",
    "        optimizer=tf.keras.optimizers.Adam(),\n",
    "        loss=tf.keras.losses.CategoricalCrossentropy(),\n",
    "        metrics=['accuracy', tf.metrics.Precision(), tf.metrics.Recall()]\n",
    "    )\n",
    "    \n",
    "    return model"
   ]
  },
  {
   "cell_type": "code",
   "execution_count": 46,
   "id": "4fa13956-c789-4d76-8fb9-6a137b0f2a81",
   "metadata": {},
   "outputs": [
    {
     "data": {
      "text/html": [
       "<pre style=\"white-space:pre;overflow-x:auto;line-height:normal;font-family:Menlo,'DejaVu Sans Mono',consolas,'Courier New',monospace\"><span style=\"font-weight: bold\">Model: \"sequential_2\"</span>\n",
       "</pre>\n"
      ],
      "text/plain": [
       "\u001b[1mModel: \"sequential_2\"\u001b[0m\n"
      ]
     },
     "metadata": {},
     "output_type": "display_data"
    },
    {
     "data": {
      "text/html": [
       "<pre style=\"white-space:pre;overflow-x:auto;line-height:normal;font-family:Menlo,'DejaVu Sans Mono',consolas,'Courier New',monospace\">┏━━━━━━━━━━━━━━━━━━━━━━━━━━━━━━━━━━━━━━┳━━━━━━━━━━━━━━━━━━━━━━━━━━━━━┳━━━━━━━━━━━━━━━━━┓\n",
       "┃<span style=\"font-weight: bold\"> Layer (type)                         </span>┃<span style=\"font-weight: bold\"> Output Shape                </span>┃<span style=\"font-weight: bold\">         Param # </span>┃\n",
       "┡━━━━━━━━━━━━━━━━━━━━━━━━━━━━━━━━━━━━━━╇━━━━━━━━━━━━━━━━━━━━━━━━━━━━━╇━━━━━━━━━━━━━━━━━┩\n",
       "│ conv2d_4 (<span style=\"color: #0087ff; text-decoration-color: #0087ff\">Conv2D</span>)                    │ (<span style=\"color: #00d7ff; text-decoration-color: #00d7ff\">None</span>, <span style=\"color: #00af00; text-decoration-color: #00af00\">222</span>, <span style=\"color: #00af00; text-decoration-color: #00af00\">222</span>, <span style=\"color: #00af00; text-decoration-color: #00af00\">32</span>)        │             <span style=\"color: #00af00; text-decoration-color: #00af00\">896</span> │\n",
       "├──────────────────────────────────────┼─────────────────────────────┼─────────────────┤\n",
       "│ max_pooling2d_4 (<span style=\"color: #0087ff; text-decoration-color: #0087ff\">MaxPooling2D</span>)       │ (<span style=\"color: #00d7ff; text-decoration-color: #00d7ff\">None</span>, <span style=\"color: #00af00; text-decoration-color: #00af00\">111</span>, <span style=\"color: #00af00; text-decoration-color: #00af00\">111</span>, <span style=\"color: #00af00; text-decoration-color: #00af00\">32</span>)        │               <span style=\"color: #00af00; text-decoration-color: #00af00\">0</span> │\n",
       "├──────────────────────────────────────┼─────────────────────────────┼─────────────────┤\n",
       "│ conv2d_5 (<span style=\"color: #0087ff; text-decoration-color: #0087ff\">Conv2D</span>)                    │ (<span style=\"color: #00d7ff; text-decoration-color: #00d7ff\">None</span>, <span style=\"color: #00af00; text-decoration-color: #00af00\">109</span>, <span style=\"color: #00af00; text-decoration-color: #00af00\">109</span>, <span style=\"color: #00af00; text-decoration-color: #00af00\">64</span>)        │          <span style=\"color: #00af00; text-decoration-color: #00af00\">18,496</span> │\n",
       "├──────────────────────────────────────┼─────────────────────────────┼─────────────────┤\n",
       "│ max_pooling2d_5 (<span style=\"color: #0087ff; text-decoration-color: #0087ff\">MaxPooling2D</span>)       │ (<span style=\"color: #00d7ff; text-decoration-color: #00d7ff\">None</span>, <span style=\"color: #00af00; text-decoration-color: #00af00\">54</span>, <span style=\"color: #00af00; text-decoration-color: #00af00\">54</span>, <span style=\"color: #00af00; text-decoration-color: #00af00\">64</span>)          │               <span style=\"color: #00af00; text-decoration-color: #00af00\">0</span> │\n",
       "├──────────────────────────────────────┼─────────────────────────────┼─────────────────┤\n",
       "│ conv2d_6 (<span style=\"color: #0087ff; text-decoration-color: #0087ff\">Conv2D</span>)                    │ (<span style=\"color: #00d7ff; text-decoration-color: #00d7ff\">None</span>, <span style=\"color: #00af00; text-decoration-color: #00af00\">52</span>, <span style=\"color: #00af00; text-decoration-color: #00af00\">52</span>, <span style=\"color: #00af00; text-decoration-color: #00af00\">128</span>)         │          <span style=\"color: #00af00; text-decoration-color: #00af00\">73,856</span> │\n",
       "├──────────────────────────────────────┼─────────────────────────────┼─────────────────┤\n",
       "│ max_pooling2d_6 (<span style=\"color: #0087ff; text-decoration-color: #0087ff\">MaxPooling2D</span>)       │ (<span style=\"color: #00d7ff; text-decoration-color: #00d7ff\">None</span>, <span style=\"color: #00af00; text-decoration-color: #00af00\">26</span>, <span style=\"color: #00af00; text-decoration-color: #00af00\">26</span>, <span style=\"color: #00af00; text-decoration-color: #00af00\">128</span>)         │               <span style=\"color: #00af00; text-decoration-color: #00af00\">0</span> │\n",
       "├──────────────────────────────────────┼─────────────────────────────┼─────────────────┤\n",
       "│ global_average_pooling2d_2           │ (<span style=\"color: #00d7ff; text-decoration-color: #00d7ff\">None</span>, <span style=\"color: #00af00; text-decoration-color: #00af00\">128</span>)                 │               <span style=\"color: #00af00; text-decoration-color: #00af00\">0</span> │\n",
       "│ (<span style=\"color: #0087ff; text-decoration-color: #0087ff\">GlobalAveragePooling2D</span>)             │                             │                 │\n",
       "├──────────────────────────────────────┼─────────────────────────────┼─────────────────┤\n",
       "│ dense_4 (<span style=\"color: #0087ff; text-decoration-color: #0087ff\">Dense</span>)                      │ (<span style=\"color: #00d7ff; text-decoration-color: #00d7ff\">None</span>, <span style=\"color: #00af00; text-decoration-color: #00af00\">128</span>)                 │          <span style=\"color: #00af00; text-decoration-color: #00af00\">16,512</span> │\n",
       "├──────────────────────────────────────┼─────────────────────────────┼─────────────────┤\n",
       "│ dropout (<span style=\"color: #0087ff; text-decoration-color: #0087ff\">Dropout</span>)                    │ (<span style=\"color: #00d7ff; text-decoration-color: #00d7ff\">None</span>, <span style=\"color: #00af00; text-decoration-color: #00af00\">128</span>)                 │               <span style=\"color: #00af00; text-decoration-color: #00af00\">0</span> │\n",
       "├──────────────────────────────────────┼─────────────────────────────┼─────────────────┤\n",
       "│ dense_5 (<span style=\"color: #0087ff; text-decoration-color: #0087ff\">Dense</span>)                      │ (<span style=\"color: #00d7ff; text-decoration-color: #00d7ff\">None</span>, <span style=\"color: #00af00; text-decoration-color: #00af00\">11</span>)                  │           <span style=\"color: #00af00; text-decoration-color: #00af00\">1,419</span> │\n",
       "└──────────────────────────────────────┴─────────────────────────────┴─────────────────┘\n",
       "</pre>\n"
      ],
      "text/plain": [
       "┏━━━━━━━━━━━━━━━━━━━━━━━━━━━━━━━━━━━━━━┳━━━━━━━━━━━━━━━━━━━━━━━━━━━━━┳━━━━━━━━━━━━━━━━━┓\n",
       "┃\u001b[1m \u001b[0m\u001b[1mLayer (type)                        \u001b[0m\u001b[1m \u001b[0m┃\u001b[1m \u001b[0m\u001b[1mOutput Shape               \u001b[0m\u001b[1m \u001b[0m┃\u001b[1m \u001b[0m\u001b[1m        Param #\u001b[0m\u001b[1m \u001b[0m┃\n",
       "┡━━━━━━━━━━━━━━━━━━━━━━━━━━━━━━━━━━━━━━╇━━━━━━━━━━━━━━━━━━━━━━━━━━━━━╇━━━━━━━━━━━━━━━━━┩\n",
       "│ conv2d_4 (\u001b[38;5;33mConv2D\u001b[0m)                    │ (\u001b[38;5;45mNone\u001b[0m, \u001b[38;5;34m222\u001b[0m, \u001b[38;5;34m222\u001b[0m, \u001b[38;5;34m32\u001b[0m)        │             \u001b[38;5;34m896\u001b[0m │\n",
       "├──────────────────────────────────────┼─────────────────────────────┼─────────────────┤\n",
       "│ max_pooling2d_4 (\u001b[38;5;33mMaxPooling2D\u001b[0m)       │ (\u001b[38;5;45mNone\u001b[0m, \u001b[38;5;34m111\u001b[0m, \u001b[38;5;34m111\u001b[0m, \u001b[38;5;34m32\u001b[0m)        │               \u001b[38;5;34m0\u001b[0m │\n",
       "├──────────────────────────────────────┼─────────────────────────────┼─────────────────┤\n",
       "│ conv2d_5 (\u001b[38;5;33mConv2D\u001b[0m)                    │ (\u001b[38;5;45mNone\u001b[0m, \u001b[38;5;34m109\u001b[0m, \u001b[38;5;34m109\u001b[0m, \u001b[38;5;34m64\u001b[0m)        │          \u001b[38;5;34m18,496\u001b[0m │\n",
       "├──────────────────────────────────────┼─────────────────────────────┼─────────────────┤\n",
       "│ max_pooling2d_5 (\u001b[38;5;33mMaxPooling2D\u001b[0m)       │ (\u001b[38;5;45mNone\u001b[0m, \u001b[38;5;34m54\u001b[0m, \u001b[38;5;34m54\u001b[0m, \u001b[38;5;34m64\u001b[0m)          │               \u001b[38;5;34m0\u001b[0m │\n",
       "├──────────────────────────────────────┼─────────────────────────────┼─────────────────┤\n",
       "│ conv2d_6 (\u001b[38;5;33mConv2D\u001b[0m)                    │ (\u001b[38;5;45mNone\u001b[0m, \u001b[38;5;34m52\u001b[0m, \u001b[38;5;34m52\u001b[0m, \u001b[38;5;34m128\u001b[0m)         │          \u001b[38;5;34m73,856\u001b[0m │\n",
       "├──────────────────────────────────────┼─────────────────────────────┼─────────────────┤\n",
       "│ max_pooling2d_6 (\u001b[38;5;33mMaxPooling2D\u001b[0m)       │ (\u001b[38;5;45mNone\u001b[0m, \u001b[38;5;34m26\u001b[0m, \u001b[38;5;34m26\u001b[0m, \u001b[38;5;34m128\u001b[0m)         │               \u001b[38;5;34m0\u001b[0m │\n",
       "├──────────────────────────────────────┼─────────────────────────────┼─────────────────┤\n",
       "│ global_average_pooling2d_2           │ (\u001b[38;5;45mNone\u001b[0m, \u001b[38;5;34m128\u001b[0m)                 │               \u001b[38;5;34m0\u001b[0m │\n",
       "│ (\u001b[38;5;33mGlobalAveragePooling2D\u001b[0m)             │                             │                 │\n",
       "├──────────────────────────────────────┼─────────────────────────────┼─────────────────┤\n",
       "│ dense_4 (\u001b[38;5;33mDense\u001b[0m)                      │ (\u001b[38;5;45mNone\u001b[0m, \u001b[38;5;34m128\u001b[0m)                 │          \u001b[38;5;34m16,512\u001b[0m │\n",
       "├──────────────────────────────────────┼─────────────────────────────┼─────────────────┤\n",
       "│ dropout (\u001b[38;5;33mDropout\u001b[0m)                    │ (\u001b[38;5;45mNone\u001b[0m, \u001b[38;5;34m128\u001b[0m)                 │               \u001b[38;5;34m0\u001b[0m │\n",
       "├──────────────────────────────────────┼─────────────────────────────┼─────────────────┤\n",
       "│ dense_5 (\u001b[38;5;33mDense\u001b[0m)                      │ (\u001b[38;5;45mNone\u001b[0m, \u001b[38;5;34m11\u001b[0m)                  │           \u001b[38;5;34m1,419\u001b[0m │\n",
       "└──────────────────────────────────────┴─────────────────────────────┴─────────────────┘\n"
      ]
     },
     "metadata": {},
     "output_type": "display_data"
    },
    {
     "data": {
      "text/html": [
       "<pre style=\"white-space:pre;overflow-x:auto;line-height:normal;font-family:Menlo,'DejaVu Sans Mono',consolas,'Courier New',monospace\"><span style=\"font-weight: bold\"> Total params: </span><span style=\"color: #00af00; text-decoration-color: #00af00\">111,179</span> (434.29 KB)\n",
       "</pre>\n"
      ],
      "text/plain": [
       "\u001b[1m Total params: \u001b[0m\u001b[38;5;34m111,179\u001b[0m (434.29 KB)\n"
      ]
     },
     "metadata": {},
     "output_type": "display_data"
    },
    {
     "data": {
      "text/html": [
       "<pre style=\"white-space:pre;overflow-x:auto;line-height:normal;font-family:Menlo,'DejaVu Sans Mono',consolas,'Courier New',monospace\"><span style=\"font-weight: bold\"> Trainable params: </span><span style=\"color: #00af00; text-decoration-color: #00af00\">111,179</span> (434.29 KB)\n",
       "</pre>\n"
      ],
      "text/plain": [
       "\u001b[1m Trainable params: \u001b[0m\u001b[38;5;34m111,179\u001b[0m (434.29 KB)\n"
      ]
     },
     "metadata": {},
     "output_type": "display_data"
    },
    {
     "data": {
      "text/html": [
       "<pre style=\"white-space:pre;overflow-x:auto;line-height:normal;font-family:Menlo,'DejaVu Sans Mono',consolas,'Courier New',monospace\"><span style=\"font-weight: bold\"> Non-trainable params: </span><span style=\"color: #00af00; text-decoration-color: #00af00\">0</span> (0.00 B)\n",
       "</pre>\n"
      ],
      "text/plain": [
       "\u001b[1m Non-trainable params: \u001b[0m\u001b[38;5;34m0\u001b[0m (0.00 B)\n"
      ]
     },
     "metadata": {},
     "output_type": "display_data"
    }
   ],
   "source": [
    "simple_cnn_model = create_simple_cnn(input_shape, num_classes=len(unique_students))\n",
    "simple_cnn_model.summary()"
   ]
  },
  {
   "cell_type": "code",
   "execution_count": 47,
   "id": "f9cd46ec-7faa-4af1-a237-5c52b825de1b",
   "metadata": {},
   "outputs": [],
   "source": [
    "lr_scheduler_loss = ReduceLROnPlateau(monitor='val_loss', factor=0.5, patience=3, min_lr=1e-6, verbose=1)\n",
    "lr_scheduler_acc = ReduceLROnPlateau(monitor='val_accuracy', factor=0.5, patience=3, min_lr=1e-6, verbose=1)"
   ]
  },
  {
   "cell_type": "code",
   "execution_count": 48,
   "id": "6aad9c42-9a4d-4754-a5ca-7c3165aca302",
   "metadata": {
    "scrolled": true
   },
   "outputs": [
    {
     "name": "stdout",
     "output_type": "stream",
     "text": [
      "Epoch 1/100\n",
      "\u001b[1m28/28\u001b[0m \u001b[32m━━━━━━━━━━━━━━━━━━━━\u001b[0m\u001b[37m\u001b[0m \u001b[1m22s\u001b[0m 610ms/step - accuracy: 0.0891 - loss: 2.4069 - precision_2: 0.0000e+00 - recall_2: 0.0000e+00 - val_accuracy: 0.0707 - val_loss: 2.4004 - val_precision_2: 0.0000e+00 - val_recall_2: 0.0000e+00 - learning_rate: 0.0010\n",
      "Epoch 2/100\n",
      "\u001b[1m28/28\u001b[0m \u001b[32m━━━━━━━━━━━━━━━━━━━━\u001b[0m\u001b[37m\u001b[0m \u001b[1m16s\u001b[0m 559ms/step - accuracy: 0.1114 - loss: 2.3968 - precision_2: 0.0000e+00 - recall_2: 0.0000e+00 - val_accuracy: 0.0909 - val_loss: 2.3886 - val_precision_2: 0.0000e+00 - val_recall_2: 0.0000e+00 - learning_rate: 0.0010\n",
      "Epoch 3/100\n",
      "\u001b[1m28/28\u001b[0m \u001b[32m━━━━━━━━━━━━━━━━━━━━\u001b[0m\u001b[37m\u001b[0m \u001b[1m16s\u001b[0m 557ms/step - accuracy: 0.0993 - loss: 2.3837 - precision_2: 0.0000e+00 - recall_2: 0.0000e+00 - val_accuracy: 0.2323 - val_loss: 2.3084 - val_precision_2: 0.0000e+00 - val_recall_2: 0.0000e+00 - learning_rate: 0.0010\n",
      "Epoch 4/100\n",
      "\u001b[1m28/28\u001b[0m \u001b[32m━━━━━━━━━━━━━━━━━━━━\u001b[0m\u001b[37m\u001b[0m \u001b[1m16s\u001b[0m 564ms/step - accuracy: 0.1555 - loss: 2.2642 - precision_2: 0.3943 - recall_2: 0.0025 - val_accuracy: 0.3232 - val_loss: 1.8960 - val_precision_2: 1.0000 - val_recall_2: 0.0707 - learning_rate: 0.0010\n",
      "Epoch 5/100\n",
      "\u001b[1m28/28\u001b[0m \u001b[32m━━━━━━━━━━━━━━━━━━━━\u001b[0m\u001b[37m\u001b[0m \u001b[1m16s\u001b[0m 562ms/step - accuracy: 0.2298 - loss: 2.0206 - precision_2: 0.9007 - recall_2: 0.0641 - val_accuracy: 0.5051 - val_loss: 1.5984 - val_precision_2: 1.0000 - val_recall_2: 0.1313 - learning_rate: 0.0010\n",
      "Epoch 6/100\n",
      "\u001b[1m28/28\u001b[0m \u001b[32m━━━━━━━━━━━━━━━━━━━━\u001b[0m\u001b[37m\u001b[0m \u001b[1m16s\u001b[0m 564ms/step - accuracy: 0.2668 - loss: 1.7922 - precision_2: 0.9570 - recall_2: 0.0742 - val_accuracy: 0.4545 - val_loss: 1.4326 - val_precision_2: 1.0000 - val_recall_2: 0.1313 - learning_rate: 0.0010\n",
      "Epoch 7/100\n",
      "\u001b[1m28/28\u001b[0m \u001b[32m━━━━━━━━━━━━━━━━━━━━\u001b[0m\u001b[37m\u001b[0m \u001b[1m16s\u001b[0m 562ms/step - accuracy: 0.3293 - loss: 1.6416 - precision_2: 0.7451 - recall_2: 0.0796 - val_accuracy: 0.4949 - val_loss: 1.3334 - val_precision_2: 1.0000 - val_recall_2: 0.1313 - learning_rate: 0.0010\n",
      "Epoch 8/100\n",
      "\u001b[1m28/28\u001b[0m \u001b[32m━━━━━━━━━━━━━━━━━━━━\u001b[0m\u001b[37m\u001b[0m \u001b[1m0s\u001b[0m 533ms/step - accuracy: 0.3622 - loss: 1.5638 - precision_2: 0.6447 - recall_2: 0.0876\n",
      "Epoch 8: ReduceLROnPlateau reducing learning rate to 0.0005000000237487257.\n",
      "\u001b[1m28/28\u001b[0m \u001b[32m━━━━━━━━━━━━━━━━━━━━\u001b[0m\u001b[37m\u001b[0m \u001b[1m16s\u001b[0m 559ms/step - accuracy: 0.3613 - loss: 1.5644 - precision_2: 0.6447 - recall_2: 0.0877 - val_accuracy: 0.4747 - val_loss: 1.3305 - val_precision_2: 1.0000 - val_recall_2: 0.1313 - learning_rate: 5.0000e-04\n",
      "Epoch 9/100\n",
      "\u001b[1m28/28\u001b[0m \u001b[32m━━━━━━━━━━━━━━━━━━━━\u001b[0m\u001b[37m\u001b[0m \u001b[1m16s\u001b[0m 558ms/step - accuracy: 0.3715 - loss: 1.5278 - precision_2: 0.7853 - recall_2: 0.0945 - val_accuracy: 0.5556 - val_loss: 1.2602 - val_precision_2: 1.0000 - val_recall_2: 0.1313 - learning_rate: 5.0000e-04\n",
      "Epoch 10/100\n",
      "\u001b[1m28/28\u001b[0m \u001b[32m━━━━━━━━━━━━━━━━━━━━\u001b[0m\u001b[37m\u001b[0m \u001b[1m16s\u001b[0m 561ms/step - accuracy: 0.3666 - loss: 1.4406 - precision_2: 0.7408 - recall_2: 0.1180 - val_accuracy: 0.6263 - val_loss: 1.1798 - val_precision_2: 1.0000 - val_recall_2: 0.1313 - learning_rate: 5.0000e-04\n",
      "Epoch 11/100\n",
      "\u001b[1m28/28\u001b[0m \u001b[32m━━━━━━━━━━━━━━━━━━━━\u001b[0m\u001b[37m\u001b[0m \u001b[1m16s\u001b[0m 565ms/step - accuracy: 0.4256 - loss: 1.3585 - precision_2: 0.6559 - recall_2: 0.1158 - val_accuracy: 0.6970 - val_loss: 1.1452 - val_precision_2: 1.0000 - val_recall_2: 0.1313 - learning_rate: 5.0000e-04\n",
      "Epoch 12/100\n",
      "\u001b[1m28/28\u001b[0m \u001b[32m━━━━━━━━━━━━━━━━━━━━\u001b[0m\u001b[37m\u001b[0m \u001b[1m16s\u001b[0m 560ms/step - accuracy: 0.4416 - loss: 1.3227 - precision_2: 0.6920 - recall_2: 0.1407 - val_accuracy: 0.6667 - val_loss: 1.0837 - val_precision_2: 1.0000 - val_recall_2: 0.1313 - learning_rate: 5.0000e-04\n",
      "Epoch 13/100\n",
      "\u001b[1m28/28\u001b[0m \u001b[32m━━━━━━━━━━━━━━━━━━━━\u001b[0m\u001b[37m\u001b[0m \u001b[1m16s\u001b[0m 563ms/step - accuracy: 0.4446 - loss: 1.3005 - precision_2: 0.6621 - recall_2: 0.1749 - val_accuracy: 0.8182 - val_loss: 1.0433 - val_precision_2: 1.0000 - val_recall_2: 0.1313 - learning_rate: 5.0000e-04\n",
      "Epoch 14/100\n",
      "\u001b[1m28/28\u001b[0m \u001b[32m━━━━━━━━━━━━━━━━━━━━\u001b[0m\u001b[37m\u001b[0m \u001b[1m16s\u001b[0m 567ms/step - accuracy: 0.4255 - loss: 1.3002 - precision_2: 0.6443 - recall_2: 0.1604 - val_accuracy: 0.6566 - val_loss: 1.0448 - val_precision_2: 1.0000 - val_recall_2: 0.1313 - learning_rate: 5.0000e-04\n",
      "Epoch 15/100\n",
      "\u001b[1m28/28\u001b[0m \u001b[32m━━━━━━━━━━━━━━━━━━━━\u001b[0m\u001b[37m\u001b[0m \u001b[1m16s\u001b[0m 558ms/step - accuracy: 0.4495 - loss: 1.2573 - precision_2: 0.6748 - recall_2: 0.1584 - val_accuracy: 0.5758 - val_loss: 1.0595 - val_precision_2: 1.0000 - val_recall_2: 0.1313 - learning_rate: 5.0000e-04\n",
      "Epoch 16/100\n",
      "\u001b[1m28/28\u001b[0m \u001b[32m━━━━━━━━━━━━━━━━━━━━\u001b[0m\u001b[37m\u001b[0m \u001b[1m0s\u001b[0m 543ms/step - accuracy: 0.4269 - loss: 1.2530 - precision_2: 0.6270 - recall_2: 0.1905\n",
      "Epoch 16: ReduceLROnPlateau reducing learning rate to 0.0002500000118743628.\n",
      "\u001b[1m28/28\u001b[0m \u001b[32m━━━━━━━━━━━━━━━━━━━━\u001b[0m\u001b[37m\u001b[0m \u001b[1m16s\u001b[0m 569ms/step - accuracy: 0.4281 - loss: 1.2517 - precision_2: 0.6282 - recall_2: 0.1909 - val_accuracy: 0.6263 - val_loss: 0.9886 - val_precision_2: 0.8421 - val_recall_2: 0.1616 - learning_rate: 2.5000e-04\n",
      "Epoch 17/100\n",
      "\u001b[1m28/28\u001b[0m \u001b[32m━━━━━━━━━━━━━━━━━━━━\u001b[0m\u001b[37m\u001b[0m \u001b[1m16s\u001b[0m 564ms/step - accuracy: 0.5009 - loss: 1.1591 - precision_2: 0.7054 - recall_2: 0.2166 - val_accuracy: 0.7879 - val_loss: 0.9072 - val_precision_2: 1.0000 - val_recall_2: 0.1616 - learning_rate: 2.5000e-04\n",
      "Epoch 18/100\n",
      "\u001b[1m28/28\u001b[0m \u001b[32m━━━━━━━━━━━━━━━━━━━━\u001b[0m\u001b[37m\u001b[0m \u001b[1m16s\u001b[0m 562ms/step - accuracy: 0.5113 - loss: 1.1370 - precision_2: 0.6806 - recall_2: 0.2581 - val_accuracy: 0.8081 - val_loss: 0.8824 - val_precision_2: 1.0000 - val_recall_2: 0.2121 - learning_rate: 2.5000e-04\n",
      "Epoch 19/100\n",
      "\u001b[1m28/28\u001b[0m \u001b[32m━━━━━━━━━━━━━━━━━━━━\u001b[0m\u001b[37m\u001b[0m \u001b[1m0s\u001b[0m 535ms/step - accuracy: 0.5511 - loss: 1.1137 - precision_2: 0.6855 - recall_2: 0.2590\n",
      "Epoch 19: ReduceLROnPlateau reducing learning rate to 0.0001250000059371814.\n",
      "\u001b[1m28/28\u001b[0m \u001b[32m━━━━━━━━━━━━━━━━━━━━\u001b[0m\u001b[37m\u001b[0m \u001b[1m16s\u001b[0m 561ms/step - accuracy: 0.5509 - loss: 1.1134 - precision_2: 0.6857 - recall_2: 0.2592 - val_accuracy: 0.6970 - val_loss: 0.8963 - val_precision_2: 1.0000 - val_recall_2: 0.2424 - learning_rate: 1.2500e-04\n",
      "Epoch 20/100\n",
      "\u001b[1m28/28\u001b[0m \u001b[32m━━━━━━━━━━━━━━━━━━━━\u001b[0m\u001b[37m\u001b[0m \u001b[1m16s\u001b[0m 563ms/step - accuracy: 0.5176 - loss: 1.0929 - precision_2: 0.6867 - recall_2: 0.2675 - val_accuracy: 0.7980 - val_loss: 0.8502 - val_precision_2: 0.9167 - val_recall_2: 0.2222 - learning_rate: 1.2500e-04\n",
      "Epoch 21/100\n",
      "\u001b[1m28/28\u001b[0m \u001b[32m━━━━━━━━━━━━━━━━━━━━\u001b[0m\u001b[37m\u001b[0m \u001b[1m16s\u001b[0m 565ms/step - accuracy: 0.5169 - loss: 1.0698 - precision_2: 0.7325 - recall_2: 0.2890 - val_accuracy: 0.8182 - val_loss: 0.8361 - val_precision_2: 1.0000 - val_recall_2: 0.2525 - learning_rate: 1.2500e-04\n",
      "Epoch 22/100\n",
      "\u001b[1m28/28\u001b[0m \u001b[32m━━━━━━━━━━━━━━━━━━━━\u001b[0m\u001b[37m\u001b[0m \u001b[1m0s\u001b[0m 542ms/step - accuracy: 0.5649 - loss: 1.0435 - precision_2: 0.7576 - recall_2: 0.2952\n",
      "Epoch 22: ReduceLROnPlateau reducing learning rate to 6.25000029685907e-05.\n",
      "\u001b[1m28/28\u001b[0m \u001b[32m━━━━━━━━━━━━━━━━━━━━\u001b[0m\u001b[37m\u001b[0m \u001b[1m16s\u001b[0m 569ms/step - accuracy: 0.5644 - loss: 1.0439 - precision_2: 0.7565 - recall_2: 0.2949 - val_accuracy: 0.8081 - val_loss: 0.8337 - val_precision_2: 1.0000 - val_recall_2: 0.2929 - learning_rate: 6.2500e-05\n",
      "Epoch 23/100\n",
      "\u001b[1m28/28\u001b[0m \u001b[32m━━━━━━━━━━━━━━━━━━━━\u001b[0m\u001b[37m\u001b[0m \u001b[1m16s\u001b[0m 565ms/step - accuracy: 0.5289 - loss: 1.0984 - precision_2: 0.6618 - recall_2: 0.2608 - val_accuracy: 0.8081 - val_loss: 0.8101 - val_precision_2: 0.9500 - val_recall_2: 0.3838 - learning_rate: 6.2500e-05\n",
      "Epoch 24/100\n",
      "\u001b[1m28/28\u001b[0m \u001b[32m━━━━━━━━━━━━━━━━━━━━\u001b[0m\u001b[37m\u001b[0m \u001b[1m16s\u001b[0m 578ms/step - accuracy: 0.5651 - loss: 1.0409 - precision_2: 0.6666 - recall_2: 0.2887 - val_accuracy: 0.8081 - val_loss: 0.8136 - val_precision_2: 0.9375 - val_recall_2: 0.3030 - learning_rate: 6.2500e-05\n",
      "Epoch 25/100\n",
      "\u001b[1m28/28\u001b[0m \u001b[32m━━━━━━━━━━━━━━━━━━━━\u001b[0m\u001b[37m\u001b[0m \u001b[1m0s\u001b[0m 533ms/step - accuracy: 0.5333 - loss: 1.0754 - precision_2: 0.6793 - recall_2: 0.2790\n",
      "Epoch 25: ReduceLROnPlateau reducing learning rate to 3.125000148429535e-05.\n",
      "\u001b[1m28/28\u001b[0m \u001b[32m━━━━━━━━━━━━━━━━━━━━\u001b[0m\u001b[37m\u001b[0m \u001b[1m16s\u001b[0m 561ms/step - accuracy: 0.5338 - loss: 1.0745 - precision_2: 0.6802 - recall_2: 0.2797 - val_accuracy: 0.7980 - val_loss: 0.8141 - val_precision_2: 1.0000 - val_recall_2: 0.2929 - learning_rate: 3.1250e-05\n",
      "Epoch 26/100\n",
      "\u001b[1m28/28\u001b[0m \u001b[32m━━━━━━━━━━━━━━━━━━━━\u001b[0m\u001b[37m\u001b[0m \u001b[1m16s\u001b[0m 559ms/step - accuracy: 0.5554 - loss: 1.0442 - precision_2: 0.6882 - recall_2: 0.2886 - val_accuracy: 0.8283 - val_loss: 0.8006 - val_precision_2: 0.9459 - val_recall_2: 0.3535 - learning_rate: 3.1250e-05\n",
      "Epoch 27/100\n",
      "\u001b[1m28/28\u001b[0m \u001b[32m━━━━━━━━━━━━━━━━━━━━\u001b[0m\u001b[37m\u001b[0m \u001b[1m16s\u001b[0m 565ms/step - accuracy: 0.5993 - loss: 1.0083 - precision_2: 0.7509 - recall_2: 0.3408 - val_accuracy: 0.8283 - val_loss: 0.7937 - val_precision_2: 0.9459 - val_recall_2: 0.3535 - learning_rate: 3.1250e-05\n",
      "Epoch 28/100\n",
      "\u001b[1m28/28\u001b[0m \u001b[32m━━━━━━━━━━━━━━━━━━━━\u001b[0m\u001b[37m\u001b[0m \u001b[1m16s\u001b[0m 571ms/step - accuracy: 0.5747 - loss: 1.0231 - precision_2: 0.7229 - recall_2: 0.3086 - val_accuracy: 0.8384 - val_loss: 0.7901 - val_precision_2: 0.9487 - val_recall_2: 0.3737 - learning_rate: 3.1250e-05\n",
      "Epoch 29/100\n",
      "\u001b[1m28/28\u001b[0m \u001b[32m━━━━━━━━━━━━━━━━━━━━\u001b[0m\u001b[37m\u001b[0m \u001b[1m16s\u001b[0m 559ms/step - accuracy: 0.5959 - loss: 0.9918 - precision_2: 0.7320 - recall_2: 0.3374 - val_accuracy: 0.8384 - val_loss: 0.7902 - val_precision_2: 0.9474 - val_recall_2: 0.3636 - learning_rate: 3.1250e-05\n",
      "Epoch 30/100\n",
      "\u001b[1m28/28\u001b[0m \u001b[32m━━━━━━━━━━━━━━━━━━━━\u001b[0m\u001b[37m\u001b[0m \u001b[1m16s\u001b[0m 565ms/step - accuracy: 0.6092 - loss: 1.0047 - precision_2: 0.7477 - recall_2: 0.3354 - val_accuracy: 0.8081 - val_loss: 0.7897 - val_precision_2: 1.0000 - val_recall_2: 0.3030 - learning_rate: 3.1250e-05\n",
      "Epoch 31/100\n",
      "\u001b[1m28/28\u001b[0m \u001b[32m━━━━━━━━━━━━━━━━━━━━\u001b[0m\u001b[37m\u001b[0m \u001b[1m0s\u001b[0m 542ms/step - accuracy: 0.5821 - loss: 0.9939 - precision_2: 0.7442 - recall_2: 0.3148\n",
      "Epoch 31: ReduceLROnPlateau reducing learning rate to 1.5625000742147677e-05.\n",
      "\u001b[1m28/28\u001b[0m \u001b[32m━━━━━━━━━━━━━━━━━━━━\u001b[0m\u001b[37m\u001b[0m \u001b[1m16s\u001b[0m 567ms/step - accuracy: 0.5820 - loss: 0.9942 - precision_2: 0.7433 - recall_2: 0.3148 - val_accuracy: 0.8384 - val_loss: 0.7809 - val_precision_2: 0.9722 - val_recall_2: 0.3535 - learning_rate: 1.5625e-05\n",
      "Epoch 32/100\n",
      "\u001b[1m28/28\u001b[0m \u001b[32m━━━━━━━━━━━━━━━━━━━━\u001b[0m\u001b[37m\u001b[0m \u001b[1m16s\u001b[0m 569ms/step - accuracy: 0.5512 - loss: 1.0515 - precision_2: 0.7093 - recall_2: 0.3150 - val_accuracy: 0.8384 - val_loss: 0.7810 - val_precision_2: 0.9512 - val_recall_2: 0.3939 - learning_rate: 1.5625e-05\n",
      "Epoch 33/100\n",
      "\u001b[1m28/28\u001b[0m \u001b[32m━━━━━━━━━━━━━━━━━━━━\u001b[0m\u001b[37m\u001b[0m \u001b[1m16s\u001b[0m 566ms/step - accuracy: 0.5986 - loss: 1.0241 - precision_2: 0.7153 - recall_2: 0.3275 - val_accuracy: 0.8384 - val_loss: 0.7790 - val_precision_2: 0.9474 - val_recall_2: 0.3636 - learning_rate: 1.5625e-05\n",
      "Epoch 34/100\n",
      "\u001b[1m28/28\u001b[0m \u001b[32m━━━━━━━━━━━━━━━━━━━━\u001b[0m\u001b[37m\u001b[0m \u001b[1m0s\u001b[0m 538ms/step - accuracy: 0.5874 - loss: 1.0040 - precision_2: 0.7220 - recall_2: 0.3291\n",
      "Epoch 34: ReduceLROnPlateau reducing learning rate to 7.812500371073838e-06.\n",
      "\u001b[1m28/28\u001b[0m \u001b[32m━━━━━━━━━━━━━━━━━━━━\u001b[0m\u001b[37m\u001b[0m \u001b[1m16s\u001b[0m 562ms/step - accuracy: 0.5866 - loss: 1.0049 - precision_2: 0.7212 - recall_2: 0.3284 - val_accuracy: 0.8384 - val_loss: 0.7788 - val_precision_2: 0.9500 - val_recall_2: 0.3838 - learning_rate: 7.8125e-06\n",
      "Epoch 35/100\n",
      "\u001b[1m28/28\u001b[0m \u001b[32m━━━━━━━━━━━━━━━━━━━━\u001b[0m\u001b[37m\u001b[0m \u001b[1m16s\u001b[0m 557ms/step - accuracy: 0.5840 - loss: 0.9722 - precision_2: 0.7732 - recall_2: 0.3629 - val_accuracy: 0.8384 - val_loss: 0.7770 - val_precision_2: 0.9474 - val_recall_2: 0.3636 - learning_rate: 7.8125e-06\n",
      "Epoch 36/100\n",
      "\u001b[1m28/28\u001b[0m \u001b[32m━━━━━━━━━━━━━━━━━━━━\u001b[0m\u001b[37m\u001b[0m \u001b[1m16s\u001b[0m 554ms/step - accuracy: 0.6236 - loss: 0.9754 - precision_2: 0.7282 - recall_2: 0.3200 - val_accuracy: 0.8384 - val_loss: 0.7759 - val_precision_2: 0.9474 - val_recall_2: 0.3636 - learning_rate: 7.8125e-06\n",
      "Epoch 37/100\n",
      "\u001b[1m28/28\u001b[0m \u001b[32m━━━━━━━━━━━━━━━━━━━━\u001b[0m\u001b[37m\u001b[0m \u001b[1m0s\u001b[0m 542ms/step - accuracy: 0.5626 - loss: 1.0328 - precision_2: 0.6919 - recall_2: 0.2864\n",
      "Epoch 37: ReduceLROnPlateau reducing learning rate to 3.906250185536919e-06.\n",
      "\u001b[1m28/28\u001b[0m \u001b[32m━━━━━━━━━━━━━━━━━━━━\u001b[0m\u001b[37m\u001b[0m \u001b[1m16s\u001b[0m 567ms/step - accuracy: 0.5629 - loss: 1.0323 - precision_2: 0.6930 - recall_2: 0.2870 - val_accuracy: 0.8384 - val_loss: 0.7753 - val_precision_2: 0.9500 - val_recall_2: 0.3838 - learning_rate: 3.9063e-06\n",
      "Epoch 38/100\n",
      "\u001b[1m28/28\u001b[0m \u001b[32m━━━━━━━━━━━━━━━━━━━━\u001b[0m\u001b[37m\u001b[0m \u001b[1m16s\u001b[0m 560ms/step - accuracy: 0.6108 - loss: 0.9683 - precision_2: 0.7830 - recall_2: 0.3572 - val_accuracy: 0.8384 - val_loss: 0.7750 - val_precision_2: 0.9500 - val_recall_2: 0.3838 - learning_rate: 3.9063e-06\n",
      "Epoch 39/100\n",
      "\u001b[1m28/28\u001b[0m \u001b[32m━━━━━━━━━━━━━━━━━━━━\u001b[0m\u001b[37m\u001b[0m \u001b[1m16s\u001b[0m 561ms/step - accuracy: 0.5871 - loss: 0.9654 - precision_2: 0.7690 - recall_2: 0.3632 - val_accuracy: 0.8384 - val_loss: 0.7742 - val_precision_2: 0.9487 - val_recall_2: 0.3737 - learning_rate: 3.9063e-06\n",
      "Epoch 40/100\n",
      "\u001b[1m28/28\u001b[0m \u001b[32m━━━━━━━━━━━━━━━━━━━━\u001b[0m\u001b[37m\u001b[0m \u001b[1m0s\u001b[0m 539ms/step - accuracy: 0.5703 - loss: 1.0282 - precision_2: 0.7534 - recall_2: 0.3146\n",
      "Epoch 40: ReduceLROnPlateau reducing learning rate to 1.9531250927684596e-06.\n",
      "\u001b[1m28/28\u001b[0m \u001b[32m━━━━━━━━━━━━━━━━━━━━\u001b[0m\u001b[37m\u001b[0m \u001b[1m16s\u001b[0m 564ms/step - accuracy: 0.5700 - loss: 1.0286 - precision_2: 0.7513 - recall_2: 0.3140 - val_accuracy: 0.8384 - val_loss: 0.7740 - val_precision_2: 0.9487 - val_recall_2: 0.3737 - learning_rate: 1.9531e-06\n",
      "Epoch 41/100\n",
      "\u001b[1m28/28\u001b[0m \u001b[32m━━━━━━━━━━━━━━━━━━━━\u001b[0m\u001b[37m\u001b[0m \u001b[1m16s\u001b[0m 554ms/step - accuracy: 0.5996 - loss: 0.9941 - precision_2: 0.7235 - recall_2: 0.3344 - val_accuracy: 0.8384 - val_loss: 0.7740 - val_precision_2: 0.9487 - val_recall_2: 0.3737 - learning_rate: 1.9531e-06\n",
      "Epoch 42/100\n",
      "\u001b[1m28/28\u001b[0m \u001b[32m━━━━━━━━━━━━━━━━━━━━\u001b[0m\u001b[37m\u001b[0m \u001b[1m16s\u001b[0m 560ms/step - accuracy: 0.5982 - loss: 0.9970 - precision_2: 0.7668 - recall_2: 0.3220 - val_accuracy: 0.8384 - val_loss: 0.7735 - val_precision_2: 0.9500 - val_recall_2: 0.3838 - learning_rate: 1.9531e-06\n",
      "Epoch 43/100\n",
      "\u001b[1m28/28\u001b[0m \u001b[32m━━━━━━━━━━━━━━━━━━━━\u001b[0m\u001b[37m\u001b[0m \u001b[1m0s\u001b[0m 530ms/step - accuracy: 0.5906 - loss: 0.9786 - precision_2: 0.7308 - recall_2: 0.3329\n",
      "Epoch 43: ReduceLROnPlateau reducing learning rate to 1e-06.\n",
      "\u001b[1m28/28\u001b[0m \u001b[32m━━━━━━━━━━━━━━━━━━━━\u001b[0m\u001b[37m\u001b[0m \u001b[1m16s\u001b[0m 555ms/step - accuracy: 0.5901 - loss: 0.9793 - precision_2: 0.7305 - recall_2: 0.3326 - val_accuracy: 0.8384 - val_loss: 0.7740 - val_precision_2: 0.9500 - val_recall_2: 0.3838 - learning_rate: 1.0000e-06\n",
      "Epoch 44/100\n",
      "\u001b[1m28/28\u001b[0m \u001b[32m━━━━━━━━━━━━━━━━━━━━\u001b[0m\u001b[37m\u001b[0m \u001b[1m16s\u001b[0m 550ms/step - accuracy: 0.5881 - loss: 0.9780 - precision_2: 0.7731 - recall_2: 0.3462 - val_accuracy: 0.8384 - val_loss: 0.7736 - val_precision_2: 0.9500 - val_recall_2: 0.3838 - learning_rate: 1.0000e-06\n",
      "Epoch 45/100\n",
      "\u001b[1m28/28\u001b[0m \u001b[32m━━━━━━━━━━━━━━━━━━━━\u001b[0m\u001b[37m\u001b[0m \u001b[1m16s\u001b[0m 557ms/step - accuracy: 0.5981 - loss: 0.9864 - precision_2: 0.7259 - recall_2: 0.3224 - val_accuracy: 0.8384 - val_loss: 0.7734 - val_precision_2: 0.9512 - val_recall_2: 0.3939 - learning_rate: 1.0000e-06\n",
      "Epoch 46/100\n",
      "\u001b[1m28/28\u001b[0m \u001b[32m━━━━━━━━━━━━━━━━━━━━\u001b[0m\u001b[37m\u001b[0m \u001b[1m16s\u001b[0m 563ms/step - accuracy: 0.5572 - loss: 1.0494 - precision_2: 0.6767 - recall_2: 0.2873 - val_accuracy: 0.8384 - val_loss: 0.7733 - val_precision_2: 0.9512 - val_recall_2: 0.3939 - learning_rate: 1.0000e-06\n",
      "Epoch 47/100\n",
      "\u001b[1m28/28\u001b[0m \u001b[32m━━━━━━━━━━━━━━━━━━━━\u001b[0m\u001b[37m\u001b[0m \u001b[1m16s\u001b[0m 563ms/step - accuracy: 0.5377 - loss: 1.0476 - precision_2: 0.6398 - recall_2: 0.2731 - val_accuracy: 0.8384 - val_loss: 0.7731 - val_precision_2: 0.9512 - val_recall_2: 0.3939 - learning_rate: 1.0000e-06\n",
      "Epoch 48/100\n",
      "\u001b[1m28/28\u001b[0m \u001b[32m━━━━━━━━━━━━━━━━━━━━\u001b[0m\u001b[37m\u001b[0m \u001b[1m16s\u001b[0m 564ms/step - accuracy: 0.6074 - loss: 0.9681 - precision_2: 0.7413 - recall_2: 0.3448 - val_accuracy: 0.8384 - val_loss: 0.7730 - val_precision_2: 0.9500 - val_recall_2: 0.3838 - learning_rate: 1.0000e-06\n",
      "Epoch 49/100\n",
      "\u001b[1m28/28\u001b[0m \u001b[32m━━━━━━━━━━━━━━━━━━━━\u001b[0m\u001b[37m\u001b[0m \u001b[1m16s\u001b[0m 560ms/step - accuracy: 0.5924 - loss: 1.0136 - precision_2: 0.7054 - recall_2: 0.3379 - val_accuracy: 0.8384 - val_loss: 0.7730 - val_precision_2: 0.9500 - val_recall_2: 0.3838 - learning_rate: 1.0000e-06\n",
      "Epoch 50/100\n",
      "\u001b[1m28/28\u001b[0m \u001b[32m━━━━━━━━━━━━━━━━━━━━\u001b[0m\u001b[37m\u001b[0m \u001b[1m16s\u001b[0m 563ms/step - accuracy: 0.5318 - loss: 1.0400 - precision_2: 0.6739 - recall_2: 0.3267 - val_accuracy: 0.8384 - val_loss: 0.7730 - val_precision_2: 0.9512 - val_recall_2: 0.3939 - learning_rate: 1.0000e-06\n",
      "Epoch 51/100\n",
      "\u001b[1m28/28\u001b[0m \u001b[32m━━━━━━━━━━━━━━━━━━━━\u001b[0m\u001b[37m\u001b[0m \u001b[1m16s\u001b[0m 561ms/step - accuracy: 0.5771 - loss: 1.0446 - precision_2: 0.7245 - recall_2: 0.3056 - val_accuracy: 0.8384 - val_loss: 0.7728 - val_precision_2: 0.9512 - val_recall_2: 0.3939 - learning_rate: 1.0000e-06\n",
      "Epoch 52/100\n",
      "\u001b[1m28/28\u001b[0m \u001b[32m━━━━━━━━━━━━━━━━━━━━\u001b[0m\u001b[37m\u001b[0m \u001b[1m16s\u001b[0m 562ms/step - accuracy: 0.5855 - loss: 0.9969 - precision_2: 0.7097 - recall_2: 0.3012 - val_accuracy: 0.8384 - val_loss: 0.7726 - val_precision_2: 0.9512 - val_recall_2: 0.3939 - learning_rate: 1.0000e-06\n",
      "Epoch 53/100\n",
      "\u001b[1m28/28\u001b[0m \u001b[32m━━━━━━━━━━━━━━━━━━━━\u001b[0m\u001b[37m\u001b[0m \u001b[1m16s\u001b[0m 564ms/step - accuracy: 0.6289 - loss: 0.9441 - precision_2: 0.7341 - recall_2: 0.3554 - val_accuracy: 0.8384 - val_loss: 0.7726 - val_precision_2: 0.9512 - val_recall_2: 0.3939 - learning_rate: 1.0000e-06\n",
      "Epoch 54/100\n",
      "\u001b[1m28/28\u001b[0m \u001b[32m━━━━━━━━━━━━━━━━━━━━\u001b[0m\u001b[37m\u001b[0m \u001b[1m16s\u001b[0m 577ms/step - accuracy: 0.5585 - loss: 1.0080 - precision_2: 0.7273 - recall_2: 0.3343 - val_accuracy: 0.8384 - val_loss: 0.7726 - val_precision_2: 0.9512 - val_recall_2: 0.3939 - learning_rate: 1.0000e-06\n",
      "Epoch 55/100\n",
      "\u001b[1m28/28\u001b[0m \u001b[32m━━━━━━━━━━━━━━━━━━━━\u001b[0m\u001b[37m\u001b[0m \u001b[1m16s\u001b[0m 566ms/step - accuracy: 0.5750 - loss: 0.9995 - precision_2: 0.7195 - recall_2: 0.3455 - val_accuracy: 0.8384 - val_loss: 0.7722 - val_precision_2: 0.9512 - val_recall_2: 0.3939 - learning_rate: 1.0000e-06\n",
      "Epoch 56/100\n",
      "\u001b[1m28/28\u001b[0m \u001b[32m━━━━━━━━━━━━━━━━━━━━\u001b[0m\u001b[37m\u001b[0m \u001b[1m16s\u001b[0m 560ms/step - accuracy: 0.6134 - loss: 0.9535 - precision_2: 0.7707 - recall_2: 0.3309 - val_accuracy: 0.8384 - val_loss: 0.7721 - val_precision_2: 0.9512 - val_recall_2: 0.3939 - learning_rate: 1.0000e-06\n",
      "Epoch 57/100\n",
      "\u001b[1m28/28\u001b[0m \u001b[32m━━━━━━━━━━━━━━━━━━━━\u001b[0m\u001b[37m\u001b[0m \u001b[1m16s\u001b[0m 561ms/step - accuracy: 0.6052 - loss: 1.0089 - precision_2: 0.7016 - recall_2: 0.2921 - val_accuracy: 0.8384 - val_loss: 0.7721 - val_precision_2: 0.9512 - val_recall_2: 0.3939 - learning_rate: 1.0000e-06\n",
      "Epoch 58/100\n",
      "\u001b[1m28/28\u001b[0m \u001b[32m━━━━━━━━━━━━━━━━━━━━\u001b[0m\u001b[37m\u001b[0m \u001b[1m16s\u001b[0m 562ms/step - accuracy: 0.5708 - loss: 1.0269 - precision_2: 0.7118 - recall_2: 0.3081 - val_accuracy: 0.8384 - val_loss: 0.7719 - val_precision_2: 0.9512 - val_recall_2: 0.3939 - learning_rate: 1.0000e-06\n",
      "Epoch 59/100\n",
      "\u001b[1m28/28\u001b[0m \u001b[32m━━━━━━━━━━━━━━━━━━━━\u001b[0m\u001b[37m\u001b[0m \u001b[1m16s\u001b[0m 565ms/step - accuracy: 0.5970 - loss: 0.9791 - precision_2: 0.7256 - recall_2: 0.3239 - val_accuracy: 0.8384 - val_loss: 0.7719 - val_precision_2: 0.9512 - val_recall_2: 0.3939 - learning_rate: 1.0000e-06\n",
      "Epoch 60/100\n",
      "\u001b[1m28/28\u001b[0m \u001b[32m━━━━━━━━━━━━━━━━━━━━\u001b[0m\u001b[37m\u001b[0m \u001b[1m16s\u001b[0m 559ms/step - accuracy: 0.5922 - loss: 1.0067 - precision_2: 0.7213 - recall_2: 0.3152 - val_accuracy: 0.8384 - val_loss: 0.7719 - val_precision_2: 0.9512 - val_recall_2: 0.3939 - learning_rate: 1.0000e-06\n",
      "Epoch 61/100\n",
      "\u001b[1m28/28\u001b[0m \u001b[32m━━━━━━━━━━━━━━━━━━━━\u001b[0m\u001b[37m\u001b[0m \u001b[1m16s\u001b[0m 563ms/step - accuracy: 0.5789 - loss: 1.0027 - precision_2: 0.7060 - recall_2: 0.3436 - val_accuracy: 0.8384 - val_loss: 0.7717 - val_precision_2: 0.9512 - val_recall_2: 0.3939 - learning_rate: 1.0000e-06\n",
      "Epoch 62/100\n",
      "\u001b[1m28/28\u001b[0m \u001b[32m━━━━━━━━━━━━━━━━━━━━\u001b[0m\u001b[37m\u001b[0m \u001b[1m16s\u001b[0m 558ms/step - accuracy: 0.6071 - loss: 0.9982 - precision_2: 0.7339 - recall_2: 0.3439 - val_accuracy: 0.8384 - val_loss: 0.7717 - val_precision_2: 0.9512 - val_recall_2: 0.3939 - learning_rate: 1.0000e-06\n",
      "Epoch 63/100\n",
      "\u001b[1m28/28\u001b[0m \u001b[32m━━━━━━━━━━━━━━━━━━━━\u001b[0m\u001b[37m\u001b[0m \u001b[1m16s\u001b[0m 556ms/step - accuracy: 0.5674 - loss: 0.9985 - precision_2: 0.7234 - recall_2: 0.3106 - val_accuracy: 0.8384 - val_loss: 0.7716 - val_precision_2: 0.9512 - val_recall_2: 0.3939 - learning_rate: 1.0000e-06\n",
      "Epoch 64/100\n",
      "\u001b[1m28/28\u001b[0m \u001b[32m━━━━━━━━━━━━━━━━━━━━\u001b[0m\u001b[37m\u001b[0m \u001b[1m16s\u001b[0m 561ms/step - accuracy: 0.5882 - loss: 1.0098 - precision_2: 0.7321 - recall_2: 0.3121 - val_accuracy: 0.8384 - val_loss: 0.7716 - val_precision_2: 0.9512 - val_recall_2: 0.3939 - learning_rate: 1.0000e-06\n",
      "Epoch 65/100\n",
      "\u001b[1m28/28\u001b[0m \u001b[32m━━━━━━━━━━━━━━━━━━━━\u001b[0m\u001b[37m\u001b[0m \u001b[1m16s\u001b[0m 554ms/step - accuracy: 0.5757 - loss: 0.9806 - precision_2: 0.7282 - recall_2: 0.3601 - val_accuracy: 0.8384 - val_loss: 0.7714 - val_precision_2: 0.9524 - val_recall_2: 0.4040 - learning_rate: 1.0000e-06\n",
      "Epoch 66/100\n",
      "\u001b[1m28/28\u001b[0m \u001b[32m━━━━━━━━━━━━━━━━━━━━\u001b[0m\u001b[37m\u001b[0m \u001b[1m16s\u001b[0m 560ms/step - accuracy: 0.6031 - loss: 0.9966 - precision_2: 0.7348 - recall_2: 0.3339 - val_accuracy: 0.8384 - val_loss: 0.7712 - val_precision_2: 0.9512 - val_recall_2: 0.3939 - learning_rate: 1.0000e-06\n",
      "Epoch 67/100\n",
      "\u001b[1m28/28\u001b[0m \u001b[32m━━━━━━━━━━━━━━━━━━━━\u001b[0m\u001b[37m\u001b[0m \u001b[1m16s\u001b[0m 569ms/step - accuracy: 0.5829 - loss: 0.9950 - precision_2: 0.7075 - recall_2: 0.3132 - val_accuracy: 0.8384 - val_loss: 0.7712 - val_precision_2: 0.9512 - val_recall_2: 0.3939 - learning_rate: 1.0000e-06\n",
      "Epoch 68/100\n",
      "\u001b[1m28/28\u001b[0m \u001b[32m━━━━━━━━━━━━━━━━━━━━\u001b[0m\u001b[37m\u001b[0m \u001b[1m16s\u001b[0m 571ms/step - accuracy: 0.5928 - loss: 0.9864 - precision_2: 0.7257 - recall_2: 0.3317 - val_accuracy: 0.8384 - val_loss: 0.7710 - val_precision_2: 0.9512 - val_recall_2: 0.3939 - learning_rate: 1.0000e-06\n",
      "Epoch 69/100\n",
      "\u001b[1m28/28\u001b[0m \u001b[32m━━━━━━━━━━━━━━━━━━━━\u001b[0m\u001b[37m\u001b[0m \u001b[1m16s\u001b[0m 564ms/step - accuracy: 0.5701 - loss: 1.0146 - precision_2: 0.7007 - recall_2: 0.2967 - val_accuracy: 0.8384 - val_loss: 0.7709 - val_precision_2: 0.9512 - val_recall_2: 0.3939 - learning_rate: 1.0000e-06\n",
      "Epoch 70/100\n",
      "\u001b[1m28/28\u001b[0m \u001b[32m━━━━━━━━━━━━━━━━━━━━\u001b[0m\u001b[37m\u001b[0m \u001b[1m16s\u001b[0m 557ms/step - accuracy: 0.5699 - loss: 1.0004 - precision_2: 0.7284 - recall_2: 0.3415 - val_accuracy: 0.8384 - val_loss: 0.7709 - val_precision_2: 0.9512 - val_recall_2: 0.3939 - learning_rate: 1.0000e-06\n",
      "Epoch 71/100\n",
      "\u001b[1m28/28\u001b[0m \u001b[32m━━━━━━━━━━━━━━━━━━━━\u001b[0m\u001b[37m\u001b[0m \u001b[1m16s\u001b[0m 566ms/step - accuracy: 0.6014 - loss: 0.9462 - precision_2: 0.7213 - recall_2: 0.3552 - val_accuracy: 0.8384 - val_loss: 0.7708 - val_precision_2: 0.9512 - val_recall_2: 0.3939 - learning_rate: 1.0000e-06\n",
      "Epoch 72/100\n",
      "\u001b[1m28/28\u001b[0m \u001b[32m━━━━━━━━━━━━━━━━━━━━\u001b[0m\u001b[37m\u001b[0m \u001b[1m21s\u001b[0m 566ms/step - accuracy: 0.5503 - loss: 1.0139 - precision_2: 0.7350 - recall_2: 0.3076 - val_accuracy: 0.8384 - val_loss: 0.7707 - val_precision_2: 0.9512 - val_recall_2: 0.3939 - learning_rate: 1.0000e-06\n",
      "Epoch 73/100\n",
      "\u001b[1m28/28\u001b[0m \u001b[32m━━━━━━━━━━━━━━━━━━━━\u001b[0m\u001b[37m\u001b[0m \u001b[1m16s\u001b[0m 560ms/step - accuracy: 0.5951 - loss: 0.9789 - precision_2: 0.7321 - recall_2: 0.3175 - val_accuracy: 0.8384 - val_loss: 0.7705 - val_precision_2: 0.9512 - val_recall_2: 0.3939 - learning_rate: 1.0000e-06\n",
      "Epoch 74/100\n",
      "\u001b[1m28/28\u001b[0m \u001b[32m━━━━━━━━━━━━━━━━━━━━\u001b[0m\u001b[37m\u001b[0m \u001b[1m16s\u001b[0m 560ms/step - accuracy: 0.6017 - loss: 0.9613 - precision_2: 0.7106 - recall_2: 0.3390 - val_accuracy: 0.8384 - val_loss: 0.7705 - val_precision_2: 0.9524 - val_recall_2: 0.4040 - learning_rate: 1.0000e-06\n",
      "Epoch 75/100\n",
      "\u001b[1m28/28\u001b[0m \u001b[32m━━━━━━━━━━━━━━━━━━━━\u001b[0m\u001b[37m\u001b[0m \u001b[1m16s\u001b[0m 555ms/step - accuracy: 0.5620 - loss: 0.9872 - precision_2: 0.7554 - recall_2: 0.3551 - val_accuracy: 0.8384 - val_loss: 0.7705 - val_precision_2: 0.9512 - val_recall_2: 0.3939 - learning_rate: 1.0000e-06\n",
      "Epoch 76/100\n",
      "\u001b[1m28/28\u001b[0m \u001b[32m━━━━━━━━━━━━━━━━━━━━\u001b[0m\u001b[37m\u001b[0m \u001b[1m16s\u001b[0m 560ms/step - accuracy: 0.5917 - loss: 1.0144 - precision_2: 0.7169 - recall_2: 0.3194 - val_accuracy: 0.8384 - val_loss: 0.7705 - val_precision_2: 0.9512 - val_recall_2: 0.3939 - learning_rate: 1.0000e-06\n",
      "Epoch 77/100\n",
      "\u001b[1m28/28\u001b[0m \u001b[32m━━━━━━━━━━━━━━━━━━━━\u001b[0m\u001b[37m\u001b[0m \u001b[1m16s\u001b[0m 555ms/step - accuracy: 0.5896 - loss: 0.9784 - precision_2: 0.7588 - recall_2: 0.3299 - val_accuracy: 0.8384 - val_loss: 0.7703 - val_precision_2: 0.9512 - val_recall_2: 0.3939 - learning_rate: 1.0000e-06\n",
      "Epoch 78/100\n",
      "\u001b[1m28/28\u001b[0m \u001b[32m━━━━━━━━━━━━━━━━━━━━\u001b[0m\u001b[37m\u001b[0m \u001b[1m16s\u001b[0m 557ms/step - accuracy: 0.5832 - loss: 1.0045 - precision_2: 0.7088 - recall_2: 0.3107 - val_accuracy: 0.8384 - val_loss: 0.7701 - val_precision_2: 0.9512 - val_recall_2: 0.3939 - learning_rate: 1.0000e-06\n",
      "Epoch 79/100\n",
      "\u001b[1m28/28\u001b[0m \u001b[32m━━━━━━━━━━━━━━━━━━━━\u001b[0m\u001b[37m\u001b[0m \u001b[1m16s\u001b[0m 563ms/step - accuracy: 0.5904 - loss: 0.9836 - precision_2: 0.7423 - recall_2: 0.3466 - val_accuracy: 0.8384 - val_loss: 0.7701 - val_precision_2: 0.9512 - val_recall_2: 0.3939 - learning_rate: 1.0000e-06\n",
      "Epoch 80/100\n",
      "\u001b[1m28/28\u001b[0m \u001b[32m━━━━━━━━━━━━━━━━━━━━\u001b[0m\u001b[37m\u001b[0m \u001b[1m16s\u001b[0m 562ms/step - accuracy: 0.5853 - loss: 1.0247 - precision_2: 0.7202 - recall_2: 0.3322 - val_accuracy: 0.8384 - val_loss: 0.7701 - val_precision_2: 0.9512 - val_recall_2: 0.3939 - learning_rate: 1.0000e-06\n",
      "Epoch 81/100\n",
      "\u001b[1m28/28\u001b[0m \u001b[32m━━━━━━━━━━━━━━━━━━━━\u001b[0m\u001b[37m\u001b[0m \u001b[1m16s\u001b[0m 559ms/step - accuracy: 0.6056 - loss: 0.9656 - precision_2: 0.7591 - recall_2: 0.3635 - val_accuracy: 0.8384 - val_loss: 0.7699 - val_precision_2: 0.9512 - val_recall_2: 0.3939 - learning_rate: 1.0000e-06\n",
      "Epoch 82/100\n",
      "\u001b[1m28/28\u001b[0m \u001b[32m━━━━━━━━━━━━━━━━━━━━\u001b[0m\u001b[37m\u001b[0m \u001b[1m16s\u001b[0m 555ms/step - accuracy: 0.6041 - loss: 0.9557 - precision_2: 0.7358 - recall_2: 0.3321 - val_accuracy: 0.8384 - val_loss: 0.7697 - val_precision_2: 0.9524 - val_recall_2: 0.4040 - learning_rate: 1.0000e-06\n",
      "Epoch 83/100\n",
      "\u001b[1m28/28\u001b[0m \u001b[32m━━━━━━━━━━━━━━━━━━━━\u001b[0m\u001b[37m\u001b[0m \u001b[1m16s\u001b[0m 562ms/step - accuracy: 0.5518 - loss: 1.0197 - precision_2: 0.6904 - recall_2: 0.3215 - val_accuracy: 0.8384 - val_loss: 0.7698 - val_precision_2: 0.9524 - val_recall_2: 0.4040 - learning_rate: 1.0000e-06\n",
      "Epoch 84/100\n",
      "\u001b[1m28/28\u001b[0m \u001b[32m━━━━━━━━━━━━━━━━━━━━\u001b[0m\u001b[37m\u001b[0m \u001b[1m16s\u001b[0m 556ms/step - accuracy: 0.5730 - loss: 0.9920 - precision_2: 0.7496 - recall_2: 0.3032 - val_accuracy: 0.8384 - val_loss: 0.7696 - val_precision_2: 0.9512 - val_recall_2: 0.3939 - learning_rate: 1.0000e-06\n",
      "Epoch 85/100\n",
      "\u001b[1m28/28\u001b[0m \u001b[32m━━━━━━━━━━━━━━━━━━━━\u001b[0m\u001b[37m\u001b[0m \u001b[1m16s\u001b[0m 562ms/step - accuracy: 0.6058 - loss: 0.9450 - precision_2: 0.7038 - recall_2: 0.3540 - val_accuracy: 0.8384 - val_loss: 0.7697 - val_precision_2: 0.9512 - val_recall_2: 0.3939 - learning_rate: 1.0000e-06\n",
      "Epoch 86/100\n",
      "\u001b[1m28/28\u001b[0m \u001b[32m━━━━━━━━━━━━━━━━━━━━\u001b[0m\u001b[37m\u001b[0m \u001b[1m16s\u001b[0m 560ms/step - accuracy: 0.6081 - loss: 0.9785 - precision_2: 0.7498 - recall_2: 0.3442 - val_accuracy: 0.8384 - val_loss: 0.7697 - val_precision_2: 0.9512 - val_recall_2: 0.3939 - learning_rate: 1.0000e-06\n",
      "Epoch 87/100\n",
      "\u001b[1m28/28\u001b[0m \u001b[32m━━━━━━━━━━━━━━━━━━━━\u001b[0m\u001b[37m\u001b[0m \u001b[1m16s\u001b[0m 562ms/step - accuracy: 0.5612 - loss: 1.0255 - precision_2: 0.6746 - recall_2: 0.3328 - val_accuracy: 0.8384 - val_loss: 0.7697 - val_precision_2: 0.9512 - val_recall_2: 0.3939 - learning_rate: 1.0000e-06\n",
      "Epoch 88/100\n",
      "\u001b[1m28/28\u001b[0m \u001b[32m━━━━━━━━━━━━━━━━━━━━\u001b[0m\u001b[37m\u001b[0m \u001b[1m16s\u001b[0m 554ms/step - accuracy: 0.5841 - loss: 1.0091 - precision_2: 0.7096 - recall_2: 0.3215 - val_accuracy: 0.8384 - val_loss: 0.7696 - val_precision_2: 0.9512 - val_recall_2: 0.3939 - learning_rate: 1.0000e-06\n",
      "Epoch 89/100\n",
      "\u001b[1m28/28\u001b[0m \u001b[32m━━━━━━━━━━━━━━━━━━━━\u001b[0m\u001b[37m\u001b[0m \u001b[1m16s\u001b[0m 561ms/step - accuracy: 0.5615 - loss: 1.0273 - precision_2: 0.7306 - recall_2: 0.3010 - val_accuracy: 0.8384 - val_loss: 0.7694 - val_precision_2: 0.9524 - val_recall_2: 0.4040 - learning_rate: 1.0000e-06\n",
      "Epoch 90/100\n",
      "\u001b[1m28/28\u001b[0m \u001b[32m━━━━━━━━━━━━━━━━━━━━\u001b[0m\u001b[37m\u001b[0m \u001b[1m16s\u001b[0m 570ms/step - accuracy: 0.5792 - loss: 1.0131 - precision_2: 0.7222 - recall_2: 0.3329 - val_accuracy: 0.8384 - val_loss: 0.7693 - val_precision_2: 0.9512 - val_recall_2: 0.3939 - learning_rate: 1.0000e-06\n",
      "Epoch 91/100\n",
      "\u001b[1m28/28\u001b[0m \u001b[32m━━━━━━━━━━━━━━━━━━━━\u001b[0m\u001b[37m\u001b[0m \u001b[1m16s\u001b[0m 565ms/step - accuracy: 0.5791 - loss: 1.0046 - precision_2: 0.6711 - recall_2: 0.3184 - val_accuracy: 0.8384 - val_loss: 0.7691 - val_precision_2: 0.9524 - val_recall_2: 0.4040 - learning_rate: 1.0000e-06\n",
      "Epoch 92/100\n",
      "\u001b[1m28/28\u001b[0m \u001b[32m━━━━━━━━━━━━━━━━━━━━\u001b[0m\u001b[37m\u001b[0m \u001b[1m15s\u001b[0m 551ms/step - accuracy: 0.6104 - loss: 0.9710 - precision_2: 0.7560 - recall_2: 0.3684 - val_accuracy: 0.8384 - val_loss: 0.7690 - val_precision_2: 0.9512 - val_recall_2: 0.3939 - learning_rate: 1.0000e-06\n",
      "Epoch 93/100\n",
      "\u001b[1m28/28\u001b[0m \u001b[32m━━━━━━━━━━━━━━━━━━━━\u001b[0m\u001b[37m\u001b[0m \u001b[1m16s\u001b[0m 584ms/step - accuracy: 0.5999 - loss: 1.0037 - precision_2: 0.6987 - recall_2: 0.3299 - val_accuracy: 0.8384 - val_loss: 0.7689 - val_precision_2: 0.9512 - val_recall_2: 0.3939 - learning_rate: 1.0000e-06\n",
      "Epoch 94/100\n",
      "\u001b[1m28/28\u001b[0m \u001b[32m━━━━━━━━━━━━━━━━━━━━\u001b[0m\u001b[37m\u001b[0m \u001b[1m16s\u001b[0m 578ms/step - accuracy: 0.6051 - loss: 0.9840 - precision_2: 0.7507 - recall_2: 0.3477 - val_accuracy: 0.8384 - val_loss: 0.7689 - val_precision_2: 0.9512 - val_recall_2: 0.3939 - learning_rate: 1.0000e-06\n",
      "Epoch 95/100\n",
      "\u001b[1m28/28\u001b[0m \u001b[32m━━━━━━━━━━━━━━━━━━━━\u001b[0m\u001b[37m\u001b[0m \u001b[1m16s\u001b[0m 567ms/step - accuracy: 0.5572 - loss: 1.0055 - precision_2: 0.7487 - recall_2: 0.3434 - val_accuracy: 0.8384 - val_loss: 0.7689 - val_precision_2: 0.9512 - val_recall_2: 0.3939 - learning_rate: 1.0000e-06\n",
      "Epoch 96/100\n",
      "\u001b[1m28/28\u001b[0m \u001b[32m━━━━━━━━━━━━━━━━━━━━\u001b[0m\u001b[37m\u001b[0m \u001b[1m16s\u001b[0m 564ms/step - accuracy: 0.5866 - loss: 0.9976 - precision_2: 0.7423 - recall_2: 0.3277 - val_accuracy: 0.8384 - val_loss: 0.7686 - val_precision_2: 0.9512 - val_recall_2: 0.3939 - learning_rate: 1.0000e-06\n",
      "Epoch 97/100\n",
      "\u001b[1m28/28\u001b[0m \u001b[32m━━━━━━━━━━━━━━━━━━━━\u001b[0m\u001b[37m\u001b[0m \u001b[1m16s\u001b[0m 562ms/step - accuracy: 0.6163 - loss: 0.9536 - precision_2: 0.7573 - recall_2: 0.3473 - val_accuracy: 0.8384 - val_loss: 0.7686 - val_precision_2: 0.9512 - val_recall_2: 0.3939 - learning_rate: 1.0000e-06\n",
      "Epoch 98/100\n",
      "\u001b[1m28/28\u001b[0m \u001b[32m━━━━━━━━━━━━━━━━━━━━\u001b[0m\u001b[37m\u001b[0m \u001b[1m16s\u001b[0m 564ms/step - accuracy: 0.5876 - loss: 1.0041 - precision_2: 0.7114 - recall_2: 0.3305 - val_accuracy: 0.8384 - val_loss: 0.7686 - val_precision_2: 0.9512 - val_recall_2: 0.3939 - learning_rate: 1.0000e-06\n",
      "Epoch 99/100\n",
      "\u001b[1m28/28\u001b[0m \u001b[32m━━━━━━━━━━━━━━━━━━━━\u001b[0m\u001b[37m\u001b[0m \u001b[1m16s\u001b[0m 557ms/step - accuracy: 0.5947 - loss: 0.9707 - precision_2: 0.6913 - recall_2: 0.3256 - val_accuracy: 0.8384 - val_loss: 0.7683 - val_precision_2: 0.9512 - val_recall_2: 0.3939 - learning_rate: 1.0000e-06\n",
      "Epoch 100/100\n",
      "\u001b[1m28/28\u001b[0m \u001b[32m━━━━━━━━━━━━━━━━━━━━\u001b[0m\u001b[37m\u001b[0m \u001b[1m16s\u001b[0m 559ms/step - accuracy: 0.5686 - loss: 0.9841 - precision_2: 0.7212 - recall_2: 0.3392 - val_accuracy: 0.8384 - val_loss: 0.7682 - val_precision_2: 0.9512 - val_recall_2: 0.3939 - learning_rate: 1.0000e-06\n"
     ]
    }
   ],
   "source": [
    "model_3, history_3 = train_model(simple_cnn_model, train_data, val_data, epochs=100, \n",
    "                                 callbacks=[\n",
    "                                     lr_scheduler_acc,\n",
    "                                     lr_scheduler_loss\n",
    "                                 ])"
   ]
  },
  {
   "cell_type": "code",
   "execution_count": 49,
   "id": "24516d63-7163-40f1-af97-3efd6a83657f",
   "metadata": {},
   "outputs": [
    {
     "data": {
      "image/png": "[encoded data removed]",
      "text/plain": [
       "<Figure size 1400x500 with 2 Axes>"
      ]
     },
     "metadata": {},
     "output_type": "display_data"
    }
   ],
   "source": [
    "plot_training_history(history_3)"
   ]
  },
  {
   "cell_type": "code",
   "execution_count": 50,
   "id": "f4406069-e329-40e2-8f4a-0fe63d85b976",
   "metadata": {},
   "outputs": [
    {
     "name": "stderr",
     "output_type": "stream",
     "text": [
      "WARNING:absl:You are saving your model as an HDF5 file via `model.save()` or `keras.saving.save_model(model)`. This file format is considered legacy. We recommend using instead the native Keras format, e.g. `model.save('my_model.keras')` or `keras.saving.save_model(model, 'my_model.keras')`. \n"
     ]
    },
    {
     "name": "stdout",
     "output_type": "stream",
     "text": [
      "Model saved as Models/D_v2/Simple-CNN-100E_20240719_234629.h5\n"
     ]
    }
   ],
   "source": [
    "save_this_model(model_3, suffix=\"Simple-CNN-100E\", extra_dir=\"D_v2\")"
   ]
  },
  {
   "cell_type": "code",
   "execution_count": 51,
   "id": "d90bbd20-de6e-4c27-afd1-ddcfbd768c61",
   "metadata": {},
   "outputs": [
    {
     "name": "stdout",
     "output_type": "stream",
     "text": [
      "Plot saved successfully...\n"
     ]
    }
   ],
   "source": [
    "save_history_plot(history_3, \"Simple-CNN-100E-990\", \"Plots\")"
   ]
  },
  {
   "cell_type": "code",
   "execution_count": 52,
   "id": "c19931e5-be55-482b-a9a0-73c242b2fab0",
   "metadata": {},
   "outputs": [
    {
     "name": "stdout",
     "output_type": "stream",
     "text": [
      "Evaluating on Training Data\n",
      "\u001b[1m28/28\u001b[0m \u001b[32m━━━━━━━━━━━━━━━━━━━━\u001b[0m\u001b[37m\u001b[0m \u001b[1m6s\u001b[0m 195ms/step - accuracy: 0.8096 - loss: 0.8202 - precision_2: 0.9741 - recall_2: 0.3246\n"
     ]
    },
    {
     "data": {
      "text/plain": [
       "[0.813705563545227, 0.808080792427063, 0.9683544039726257, 0.34343433380126953]"
      ]
     },
     "execution_count": 52,
     "metadata": {},
     "output_type": "execute_result"
    }
   ],
   "source": [
    "print(\"Evaluating on Training Data\")\n",
    "model_3.evaluate(train_data)"
   ]
  },
  {
   "cell_type": "markdown",
   "id": "3d12b0d2-e3b2-47c6-be3d-6da78a004f8e",
   "metadata": {
    "jp-MarkdownHeadingCollapsed": true
   },
   "source": [
    "### 4. CNN GAP-RMS-100 Epochs"
   ]
  },
  {
   "cell_type": "code",
   "execution_count": 53,
   "id": "f4493ef4-50e7-4345-9d64-2a82a9e2a978",
   "metadata": {},
   "outputs": [
    {
     "data": {
      "text/html": [
       "<pre style=\"white-space:pre;overflow-x:auto;line-height:normal;font-family:Menlo,'DejaVu Sans Mono',consolas,'Courier New',monospace\"><span style=\"font-weight: bold\">Model: \"sequential_3\"</span>\n",
       "</pre>\n"
      ],
      "text/plain": [
       "\u001b[1mModel: \"sequential_3\"\u001b[0m\n"
      ]
     },
     "metadata": {},
     "output_type": "display_data"
    },
    {
     "data": {
      "text/html": [
       "<pre style=\"white-space:pre;overflow-x:auto;line-height:normal;font-family:Menlo,'DejaVu Sans Mono',consolas,'Courier New',monospace\">┏━━━━━━━━━━━━━━━━━━━━━━━━━━━━━━━━━━━━━━┳━━━━━━━━━━━━━━━━━━━━━━━━━━━━━┳━━━━━━━━━━━━━━━━━┓\n",
       "┃<span style=\"font-weight: bold\"> Layer (type)                         </span>┃<span style=\"font-weight: bold\"> Output Shape                </span>┃<span style=\"font-weight: bold\">         Param # </span>┃\n",
       "┡━━━━━━━━━━━━━━━━━━━━━━━━━━━━━━━━━━━━━━╇━━━━━━━━━━━━━━━━━━━━━━━━━━━━━╇━━━━━━━━━━━━━━━━━┩\n",
       "│ conv2d_7 (<span style=\"color: #0087ff; text-decoration-color: #0087ff\">Conv2D</span>)                    │ (<span style=\"color: #00d7ff; text-decoration-color: #00d7ff\">None</span>, <span style=\"color: #00af00; text-decoration-color: #00af00\">220</span>, <span style=\"color: #00af00; text-decoration-color: #00af00\">220</span>, <span style=\"color: #00af00; text-decoration-color: #00af00\">16</span>)        │           <span style=\"color: #00af00; text-decoration-color: #00af00\">1,216</span> │\n",
       "├──────────────────────────────────────┼─────────────────────────────┼─────────────────┤\n",
       "│ activation_6 (<span style=\"color: #0087ff; text-decoration-color: #0087ff\">Activation</span>)            │ (<span style=\"color: #00d7ff; text-decoration-color: #00d7ff\">None</span>, <span style=\"color: #00af00; text-decoration-color: #00af00\">220</span>, <span style=\"color: #00af00; text-decoration-color: #00af00\">220</span>, <span style=\"color: #00af00; text-decoration-color: #00af00\">16</span>)        │               <span style=\"color: #00af00; text-decoration-color: #00af00\">0</span> │\n",
       "├──────────────────────────────────────┼─────────────────────────────┼─────────────────┤\n",
       "│ max_pooling2d_7 (<span style=\"color: #0087ff; text-decoration-color: #0087ff\">MaxPooling2D</span>)       │ (<span style=\"color: #00d7ff; text-decoration-color: #00d7ff\">None</span>, <span style=\"color: #00af00; text-decoration-color: #00af00\">110</span>, <span style=\"color: #00af00; text-decoration-color: #00af00\">110</span>, <span style=\"color: #00af00; text-decoration-color: #00af00\">16</span>)        │               <span style=\"color: #00af00; text-decoration-color: #00af00\">0</span> │\n",
       "├──────────────────────────────────────┼─────────────────────────────┼─────────────────┤\n",
       "│ conv2d_8 (<span style=\"color: #0087ff; text-decoration-color: #0087ff\">Conv2D</span>)                    │ (<span style=\"color: #00d7ff; text-decoration-color: #00d7ff\">None</span>, <span style=\"color: #00af00; text-decoration-color: #00af00\">108</span>, <span style=\"color: #00af00; text-decoration-color: #00af00\">108</span>, <span style=\"color: #00af00; text-decoration-color: #00af00\">32</span>)        │           <span style=\"color: #00af00; text-decoration-color: #00af00\">4,640</span> │\n",
       "├──────────────────────────────────────┼─────────────────────────────┼─────────────────┤\n",
       "│ activation_7 (<span style=\"color: #0087ff; text-decoration-color: #0087ff\">Activation</span>)            │ (<span style=\"color: #00d7ff; text-decoration-color: #00d7ff\">None</span>, <span style=\"color: #00af00; text-decoration-color: #00af00\">108</span>, <span style=\"color: #00af00; text-decoration-color: #00af00\">108</span>, <span style=\"color: #00af00; text-decoration-color: #00af00\">32</span>)        │               <span style=\"color: #00af00; text-decoration-color: #00af00\">0</span> │\n",
       "├──────────────────────────────────────┼─────────────────────────────┼─────────────────┤\n",
       "│ max_pooling2d_8 (<span style=\"color: #0087ff; text-decoration-color: #0087ff\">MaxPooling2D</span>)       │ (<span style=\"color: #00d7ff; text-decoration-color: #00d7ff\">None</span>, <span style=\"color: #00af00; text-decoration-color: #00af00\">54</span>, <span style=\"color: #00af00; text-decoration-color: #00af00\">54</span>, <span style=\"color: #00af00; text-decoration-color: #00af00\">32</span>)          │               <span style=\"color: #00af00; text-decoration-color: #00af00\">0</span> │\n",
       "├──────────────────────────────────────┼─────────────────────────────┼─────────────────┤\n",
       "│ global_average_pooling2d_3           │ (<span style=\"color: #00d7ff; text-decoration-color: #00d7ff\">None</span>, <span style=\"color: #00af00; text-decoration-color: #00af00\">32</span>)                  │               <span style=\"color: #00af00; text-decoration-color: #00af00\">0</span> │\n",
       "│ (<span style=\"color: #0087ff; text-decoration-color: #0087ff\">GlobalAveragePooling2D</span>)             │                             │                 │\n",
       "├──────────────────────────────────────┼─────────────────────────────┼─────────────────┤\n",
       "│ dense_6 (<span style=\"color: #0087ff; text-decoration-color: #0087ff\">Dense</span>)                      │ (<span style=\"color: #00d7ff; text-decoration-color: #00d7ff\">None</span>, <span style=\"color: #00af00; text-decoration-color: #00af00\">64</span>)                  │           <span style=\"color: #00af00; text-decoration-color: #00af00\">2,112</span> │\n",
       "├──────────────────────────────────────┼─────────────────────────────┼─────────────────┤\n",
       "│ batch_normalization_2                │ (<span style=\"color: #00d7ff; text-decoration-color: #00d7ff\">None</span>, <span style=\"color: #00af00; text-decoration-color: #00af00\">64</span>)                  │             <span style=\"color: #00af00; text-decoration-color: #00af00\">256</span> │\n",
       "│ (<span style=\"color: #0087ff; text-decoration-color: #0087ff\">BatchNormalization</span>)                 │                             │                 │\n",
       "├──────────────────────────────────────┼─────────────────────────────┼─────────────────┤\n",
       "│ activation_8 (<span style=\"color: #0087ff; text-decoration-color: #0087ff\">Activation</span>)            │ (<span style=\"color: #00d7ff; text-decoration-color: #00d7ff\">None</span>, <span style=\"color: #00af00; text-decoration-color: #00af00\">64</span>)                  │               <span style=\"color: #00af00; text-decoration-color: #00af00\">0</span> │\n",
       "├──────────────────────────────────────┼─────────────────────────────┼─────────────────┤\n",
       "│ dense_7 (<span style=\"color: #0087ff; text-decoration-color: #0087ff\">Dense</span>)                      │ (<span style=\"color: #00d7ff; text-decoration-color: #00d7ff\">None</span>, <span style=\"color: #00af00; text-decoration-color: #00af00\">11</span>)                  │             <span style=\"color: #00af00; text-decoration-color: #00af00\">715</span> │\n",
       "└──────────────────────────────────────┴─────────────────────────────┴─────────────────┘\n",
       "</pre>\n"
      ],
      "text/plain": [
       "┏━━━━━━━━━━━━━━━━━━━━━━━━━━━━━━━━━━━━━━┳━━━━━━━━━━━━━━━━━━━━━━━━━━━━━┳━━━━━━━━━━━━━━━━━┓\n",
       "┃\u001b[1m \u001b[0m\u001b[1mLayer (type)                        \u001b[0m\u001b[1m \u001b[0m┃\u001b[1m \u001b[0m\u001b[1mOutput Shape               \u001b[0m\u001b[1m \u001b[0m┃\u001b[1m \u001b[0m\u001b[1m        Param #\u001b[0m\u001b[1m \u001b[0m┃\n",
       "┡━━━━━━━━━━━━━━━━━━━━━━━━━━━━━━━━━━━━━━╇━━━━━━━━━━━━━━━━━━━━━━━━━━━━━╇━━━━━━━━━━━━━━━━━┩\n",
       "│ conv2d_7 (\u001b[38;5;33mConv2D\u001b[0m)                    │ (\u001b[38;5;45mNone\u001b[0m, \u001b[38;5;34m220\u001b[0m, \u001b[38;5;34m220\u001b[0m, \u001b[38;5;34m16\u001b[0m)        │           \u001b[38;5;34m1,216\u001b[0m │\n",
       "├──────────────────────────────────────┼─────────────────────────────┼─────────────────┤\n",
       "│ activation_6 (\u001b[38;5;33mActivation\u001b[0m)            │ (\u001b[38;5;45mNone\u001b[0m, \u001b[38;5;34m220\u001b[0m, \u001b[38;5;34m220\u001b[0m, \u001b[38;5;34m16\u001b[0m)        │               \u001b[38;5;34m0\u001b[0m │\n",
       "├──────────────────────────────────────┼─────────────────────────────┼─────────────────┤\n",
       "│ max_pooling2d_7 (\u001b[38;5;33mMaxPooling2D\u001b[0m)       │ (\u001b[38;5;45mNone\u001b[0m, \u001b[38;5;34m110\u001b[0m, \u001b[38;5;34m110\u001b[0m, \u001b[38;5;34m16\u001b[0m)        │               \u001b[38;5;34m0\u001b[0m │\n",
       "├──────────────────────────────────────┼─────────────────────────────┼─────────────────┤\n",
       "│ conv2d_8 (\u001b[38;5;33mConv2D\u001b[0m)                    │ (\u001b[38;5;45mNone\u001b[0m, \u001b[38;5;34m108\u001b[0m, \u001b[38;5;34m108\u001b[0m, \u001b[38;5;34m32\u001b[0m)        │           \u001b[38;5;34m4,640\u001b[0m │\n",
       "├──────────────────────────────────────┼─────────────────────────────┼─────────────────┤\n",
       "│ activation_7 (\u001b[38;5;33mActivation\u001b[0m)            │ (\u001b[38;5;45mNone\u001b[0m, \u001b[38;5;34m108\u001b[0m, \u001b[38;5;34m108\u001b[0m, \u001b[38;5;34m32\u001b[0m)        │               \u001b[38;5;34m0\u001b[0m │\n",
       "├──────────────────────────────────────┼─────────────────────────────┼─────────────────┤\n",
       "│ max_pooling2d_8 (\u001b[38;5;33mMaxPooling2D\u001b[0m)       │ (\u001b[38;5;45mNone\u001b[0m, \u001b[38;5;34m54\u001b[0m, \u001b[38;5;34m54\u001b[0m, \u001b[38;5;34m32\u001b[0m)          │               \u001b[38;5;34m0\u001b[0m │\n",
       "├──────────────────────────────────────┼─────────────────────────────┼─────────────────┤\n",
       "│ global_average_pooling2d_3           │ (\u001b[38;5;45mNone\u001b[0m, \u001b[38;5;34m32\u001b[0m)                  │               \u001b[38;5;34m0\u001b[0m │\n",
       "│ (\u001b[38;5;33mGlobalAveragePooling2D\u001b[0m)             │                             │                 │\n",
       "├──────────────────────────────────────┼─────────────────────────────┼─────────────────┤\n",
       "│ dense_6 (\u001b[38;5;33mDense\u001b[0m)                      │ (\u001b[38;5;45mNone\u001b[0m, \u001b[38;5;34m64\u001b[0m)                  │           \u001b[38;5;34m2,112\u001b[0m │\n",
       "├──────────────────────────────────────┼─────────────────────────────┼─────────────────┤\n",
       "│ batch_normalization_2                │ (\u001b[38;5;45mNone\u001b[0m, \u001b[38;5;34m64\u001b[0m)                  │             \u001b[38;5;34m256\u001b[0m │\n",
       "│ (\u001b[38;5;33mBatchNormalization\u001b[0m)                 │                             │                 │\n",
       "├──────────────────────────────────────┼─────────────────────────────┼─────────────────┤\n",
       "│ activation_8 (\u001b[38;5;33mActivation\u001b[0m)            │ (\u001b[38;5;45mNone\u001b[0m, \u001b[38;5;34m64\u001b[0m)                  │               \u001b[38;5;34m0\u001b[0m │\n",
       "├──────────────────────────────────────┼─────────────────────────────┼─────────────────┤\n",
       "│ dense_7 (\u001b[38;5;33mDense\u001b[0m)                      │ (\u001b[38;5;45mNone\u001b[0m, \u001b[38;5;34m11\u001b[0m)                  │             \u001b[38;5;34m715\u001b[0m │\n",
       "└──────────────────────────────────────┴─────────────────────────────┴─────────────────┘\n"
      ]
     },
     "metadata": {},
     "output_type": "display_data"
    },
    {
     "data": {
      "text/html": [
       "<pre style=\"white-space:pre;overflow-x:auto;line-height:normal;font-family:Menlo,'DejaVu Sans Mono',consolas,'Courier New',monospace\"><span style=\"font-weight: bold\"> Total params: </span><span style=\"color: #00af00; text-decoration-color: #00af00\">8,939</span> (34.92 KB)\n",
       "</pre>\n"
      ],
      "text/plain": [
       "\u001b[1m Total params: \u001b[0m\u001b[38;5;34m8,939\u001b[0m (34.92 KB)\n"
      ]
     },
     "metadata": {},
     "output_type": "display_data"
    },
    {
     "data": {
      "text/html": [
       "<pre style=\"white-space:pre;overflow-x:auto;line-height:normal;font-family:Menlo,'DejaVu Sans Mono',consolas,'Courier New',monospace\"><span style=\"font-weight: bold\"> Trainable params: </span><span style=\"color: #00af00; text-decoration-color: #00af00\">8,811</span> (34.42 KB)\n",
       "</pre>\n"
      ],
      "text/plain": [
       "\u001b[1m Trainable params: \u001b[0m\u001b[38;5;34m8,811\u001b[0m (34.42 KB)\n"
      ]
     },
     "metadata": {},
     "output_type": "display_data"
    },
    {
     "data": {
      "text/html": [
       "<pre style=\"white-space:pre;overflow-x:auto;line-height:normal;font-family:Menlo,'DejaVu Sans Mono',consolas,'Courier New',monospace\"><span style=\"font-weight: bold\"> Non-trainable params: </span><span style=\"color: #00af00; text-decoration-color: #00af00\">128</span> (512.00 B)\n",
       "</pre>\n"
      ],
      "text/plain": [
       "\u001b[1m Non-trainable params: \u001b[0m\u001b[38;5;34m128\u001b[0m (512.00 B)\n"
      ]
     },
     "metadata": {},
     "output_type": "display_data"
    }
   ],
   "source": [
    "cnn_gap_2 = create_cnn_model_rms(input_shape, num_classes=len(unique_students))\n",
    "cnn_gap_2.summary()"
   ]
  },
  {
   "cell_type": "code",
   "execution_count": 54,
   "id": "9a6973cc-a637-4ae6-8333-852ed516b8ac",
   "metadata": {},
   "outputs": [],
   "source": [
    "estop_vl=tf.keras.callbacks.EarlyStopping(monitor=\"val_loss\",patience=5,verbose=1,   \n",
    "                                      restore_best_weights=True)\n",
    "estop_va=tf.keras.callbacks.EarlyStopping(monitor=\"val_accuracy\",patience=5,verbose=1,   \n",
    "                                      restore_best_weights=True)\n",
    "\n",
    "estop_acc=tf.keras.callbacks.EarlyStopping(monitor=\"accuracy\",patience=5,verbose=1,   \n",
    "                                      restore_best_weights=True)\n",
    "\n",
    "rlronp_vl=tf.keras.callbacks.ReduceLROnPlateau(monitor=\"val_loss\", factor=0.5,\n",
    "                                       patience=2, verbose=1)\n",
    "rlronp_va=tf.keras.callbacks.ReduceLROnPlateau(monitor=\"val_accuracy\", factor=0.5,\n",
    "                                       patience=2, verbose=1)\n",
    "callbacks=[rlronp_vl, rlronp_va]"
   ]
  },
  {
   "cell_type": "code",
   "execution_count": 55,
   "id": "dc3dea2c-2e3c-45e9-935d-5f522e949981",
   "metadata": {
    "scrolled": true
   },
   "outputs": [
    {
     "name": "stdout",
     "output_type": "stream",
     "text": [
      "Epoch 1/100\n",
      "\u001b[1m28/28\u001b[0m \u001b[32m━━━━━━━━━━━━━━━━━━━━\u001b[0m\u001b[37m\u001b[0m \u001b[1m10s\u001b[0m 206ms/step - accuracy: 0.2515 - loss: 2.0225 - precision_3: 0.8009 - recall_3: 0.0402 - val_accuracy: 0.1212 - val_loss: 3.0900 - val_precision_3: 0.0000e+00 - val_recall_3: 0.0000e+00 - learning_rate: 0.0010\n",
      "Epoch 2/100\n",
      "\u001b[1m28/28\u001b[0m \u001b[32m━━━━━━━━━━━━━━━━━━━━\u001b[0m\u001b[37m\u001b[0m \u001b[1m5s\u001b[0m 171ms/step - accuracy: 0.4920 - loss: 1.5713 - precision_3: 0.9217 - recall_3: 0.0893 - val_accuracy: 0.0909 - val_loss: 3.1587 - val_precision_3: 0.0000e+00 - val_recall_3: 0.0000e+00 - learning_rate: 0.0010\n",
      "Epoch 3/100\n",
      "\u001b[1m28/28\u001b[0m \u001b[32m━━━━━━━━━━━━━━━━━━━━\u001b[0m\u001b[37m\u001b[0m \u001b[1m0s\u001b[0m 164ms/step - accuracy: 0.7324 - loss: 1.2275 - precision_3: 0.9867 - recall_3: 0.2231\n",
      "Epoch 3: ReduceLROnPlateau reducing learning rate to 0.0005000000237487257.\n",
      "\n",
      "Epoch 3: ReduceLROnPlateau reducing learning rate to 0.0002500000118743628.\n",
      "\u001b[1m28/28\u001b[0m \u001b[32m━━━━━━━━━━━━━━━━━━━━\u001b[0m\u001b[37m\u001b[0m \u001b[1m5s\u001b[0m 175ms/step - accuracy: 0.7328 - loss: 1.2261 - precision_3: 0.9861 - recall_3: 0.2244 - val_accuracy: 0.0909 - val_loss: 3.1162 - val_precision_3: 0.0000e+00 - val_recall_3: 0.0000e+00 - learning_rate: 5.0000e-04\n",
      "Epoch 4/100\n",
      "\u001b[1m28/28\u001b[0m \u001b[32m━━━━━━━━━━━━━━━━━━━━\u001b[0m\u001b[37m\u001b[0m \u001b[1m5s\u001b[0m 174ms/step - accuracy: 0.8127 - loss: 0.9761 - precision_3: 0.9763 - recall_3: 0.4111 - val_accuracy: 0.0909 - val_loss: 2.9053 - val_precision_3: 0.0000e+00 - val_recall_3: 0.0000e+00 - learning_rate: 2.5000e-04\n",
      "Epoch 5/100\n",
      "\u001b[1m28/28\u001b[0m \u001b[32m━━━━━━━━━━━━━━━━━━━━\u001b[0m\u001b[37m\u001b[0m \u001b[1m0s\u001b[0m 163ms/step - accuracy: 0.8376 - loss: 0.8968 - precision_3: 0.9835 - recall_3: 0.4354\n",
      "Epoch 5: ReduceLROnPlateau reducing learning rate to 0.0001250000059371814.\n",
      "\u001b[1m28/28\u001b[0m \u001b[32m━━━━━━━━━━━━━━━━━━━━\u001b[0m\u001b[37m\u001b[0m \u001b[1m5s\u001b[0m 174ms/step - accuracy: 0.8373 - loss: 0.8965 - precision_3: 0.9833 - recall_3: 0.4358 - val_accuracy: 0.1010 - val_loss: 2.8078 - val_precision_3: 0.0000e+00 - val_recall_3: 0.0000e+00 - learning_rate: 2.5000e-04\n",
      "Epoch 6/100\n",
      "\u001b[1m28/28\u001b[0m \u001b[32m━━━━━━━━━━━━━━━━━━━━\u001b[0m\u001b[37m\u001b[0m \u001b[1m5s\u001b[0m 174ms/step - accuracy: 0.8045 - loss: 0.8399 - precision_3: 0.9610 - recall_3: 0.4745 - val_accuracy: 0.0909 - val_loss: 2.7322 - val_precision_3: 0.0000e+00 - val_recall_3: 0.0000e+00 - learning_rate: 1.2500e-04\n",
      "Epoch 7/100\n",
      "\u001b[1m28/28\u001b[0m \u001b[32m━━━━━━━━━━━━━━━━━━━━\u001b[0m\u001b[37m\u001b[0m \u001b[1m0s\u001b[0m 160ms/step - accuracy: 0.8351 - loss: 0.8406 - precision_3: 0.9790 - recall_3: 0.4865\n",
      "Epoch 7: ReduceLROnPlateau reducing learning rate to 6.25000029685907e-05.\n",
      "\u001b[1m28/28\u001b[0m \u001b[32m━━━━━━━━━━━━━━━━━━━━\u001b[0m\u001b[37m\u001b[0m \u001b[1m5s\u001b[0m 171ms/step - accuracy: 0.8355 - loss: 0.8395 - precision_3: 0.9787 - recall_3: 0.4871 - val_accuracy: 0.0909 - val_loss: 2.6654 - val_precision_3: 0.0000e+00 - val_recall_3: 0.0000e+00 - learning_rate: 1.2500e-04\n",
      "Epoch 8/100\n",
      "\u001b[1m28/28\u001b[0m \u001b[32m━━━━━━━━━━━━━━━━━━━━\u001b[0m\u001b[37m\u001b[0m \u001b[1m5s\u001b[0m 174ms/step - accuracy: 0.8532 - loss: 0.7572 - precision_3: 0.9656 - recall_3: 0.5314 - val_accuracy: 0.0909 - val_loss: 2.3968 - val_precision_3: 0.0000e+00 - val_recall_3: 0.0000e+00 - learning_rate: 6.2500e-05\n",
      "Epoch 9/100\n",
      "\u001b[1m28/28\u001b[0m \u001b[32m━━━━━━━━━━━━━━━━━━━━\u001b[0m\u001b[37m\u001b[0m \u001b[1m0s\u001b[0m 171ms/step - accuracy: 0.8358 - loss: 0.7623 - precision_3: 0.9549 - recall_3: 0.5608\n",
      "Epoch 9: ReduceLROnPlateau reducing learning rate to 3.125000148429535e-05.\n",
      "\u001b[1m28/28\u001b[0m \u001b[32m━━━━━━━━━━━━━━━━━━━━\u001b[0m\u001b[37m\u001b[0m \u001b[1m5s\u001b[0m 182ms/step - accuracy: 0.8356 - loss: 0.7620 - precision_3: 0.9552 - recall_3: 0.5607 - val_accuracy: 0.0909 - val_loss: 2.2502 - val_precision_3: 0.0000e+00 - val_recall_3: 0.0000e+00 - learning_rate: 6.2500e-05\n",
      "Epoch 10/100\n",
      "\u001b[1m28/28\u001b[0m \u001b[32m━━━━━━━━━━━━━━━━━━━━\u001b[0m\u001b[37m\u001b[0m \u001b[1m5s\u001b[0m 177ms/step - accuracy: 0.8390 - loss: 0.7460 - precision_3: 0.9839 - recall_3: 0.5421 - val_accuracy: 0.1717 - val_loss: 2.1278 - val_precision_3: 0.0000e+00 - val_recall_3: 0.0000e+00 - learning_rate: 3.1250e-05\n",
      "Epoch 11/100\n",
      "\u001b[1m28/28\u001b[0m \u001b[32m━━━━━━━━━━━━━━━━━━━━\u001b[0m\u001b[37m\u001b[0m \u001b[1m5s\u001b[0m 169ms/step - accuracy: 0.8563 - loss: 0.7388 - precision_3: 0.9776 - recall_3: 0.5782 - val_accuracy: 0.1919 - val_loss: 1.9805 - val_precision_3: 0.0000e+00 - val_recall_3: 0.0000e+00 - learning_rate: 3.1250e-05\n",
      "Epoch 12/100\n",
      "\u001b[1m28/28\u001b[0m \u001b[32m━━━━━━━━━━━━━━━━━━━━\u001b[0m\u001b[37m\u001b[0m \u001b[1m5s\u001b[0m 171ms/step - accuracy: 0.8412 - loss: 0.7203 - precision_3: 0.9821 - recall_3: 0.5605 - val_accuracy: 0.1818 - val_loss: 1.8549 - val_precision_3: 0.0000e+00 - val_recall_3: 0.0000e+00 - learning_rate: 3.1250e-05\n",
      "Epoch 13/100\n",
      "\u001b[1m28/28\u001b[0m \u001b[32m━━━━━━━━━━━━━━━━━━━━\u001b[0m\u001b[37m\u001b[0m \u001b[1m5s\u001b[0m 171ms/step - accuracy: 0.8507 - loss: 0.7294 - precision_3: 0.9667 - recall_3: 0.5458 - val_accuracy: 0.4040 - val_loss: 1.7017 - val_precision_3: 0.0000e+00 - val_recall_3: 0.0000e+00 - learning_rate: 3.1250e-05\n",
      "Epoch 14/100\n",
      "\u001b[1m28/28\u001b[0m \u001b[32m━━━━━━━━━━━━━━━━━━━━\u001b[0m\u001b[37m\u001b[0m \u001b[1m5s\u001b[0m 171ms/step - accuracy: 0.8478 - loss: 0.7113 - precision_3: 0.9751 - recall_3: 0.5903 - val_accuracy: 0.5253 - val_loss: 1.5597 - val_precision_3: 0.0000e+00 - val_recall_3: 0.0000e+00 - learning_rate: 3.1250e-05\n",
      "Epoch 15/100\n",
      "\u001b[1m28/28\u001b[0m \u001b[32m━━━━━━━━━━━━━━━━━━━━\u001b[0m\u001b[37m\u001b[0m \u001b[1m5s\u001b[0m 170ms/step - accuracy: 0.8578 - loss: 0.7064 - precision_3: 0.9778 - recall_3: 0.5666 - val_accuracy: 0.5960 - val_loss: 1.4365 - val_precision_3: 1.0000 - val_recall_3: 0.0303 - learning_rate: 3.1250e-05\n",
      "Epoch 16/100\n",
      "\u001b[1m28/28\u001b[0m \u001b[32m━━━━━━━━━━━━━━━━━━━━\u001b[0m\u001b[37m\u001b[0m \u001b[1m5s\u001b[0m 171ms/step - accuracy: 0.8485 - loss: 0.7142 - precision_3: 0.9818 - recall_3: 0.5843 - val_accuracy: 0.5758 - val_loss: 1.4098 - val_precision_3: 1.0000 - val_recall_3: 0.0404 - learning_rate: 3.1250e-05\n",
      "Epoch 17/100\n",
      "\u001b[1m28/28\u001b[0m \u001b[32m━━━━━━━━━━━━━━━━━━━━\u001b[0m\u001b[37m\u001b[0m \u001b[1m0s\u001b[0m 166ms/step - accuracy: 0.8486 - loss: 0.7098 - precision_3: 0.9820 - recall_3: 0.5776\n",
      "Epoch 17: ReduceLROnPlateau reducing learning rate to 1.5625000742147677e-05.\n",
      "\u001b[1m28/28\u001b[0m \u001b[32m━━━━━━━━━━━━━━━━━━━━\u001b[0m\u001b[37m\u001b[0m \u001b[1m5s\u001b[0m 176ms/step - accuracy: 0.8489 - loss: 0.7092 - precision_3: 0.9817 - recall_3: 0.5776 - val_accuracy: 0.5152 - val_loss: 1.3286 - val_precision_3: 0.9286 - val_recall_3: 0.2626 - learning_rate: 3.1250e-05\n",
      "Epoch 18/100\n",
      "\u001b[1m28/28\u001b[0m \u001b[32m━━━━━━━━━━━━━━━━━━━━\u001b[0m\u001b[37m\u001b[0m \u001b[1m5s\u001b[0m 174ms/step - accuracy: 0.8711 - loss: 0.6585 - precision_3: 0.9753 - recall_3: 0.5966 - val_accuracy: 0.6970 - val_loss: 1.1256 - val_precision_3: 1.0000 - val_recall_3: 0.3030 - learning_rate: 1.5625e-05\n",
      "Epoch 19/100\n",
      "\u001b[1m28/28\u001b[0m \u001b[32m━━━━━━━━━━━━━━━━━━━━\u001b[0m\u001b[37m\u001b[0m \u001b[1m5s\u001b[0m 178ms/step - accuracy: 0.8527 - loss: 0.6693 - precision_3: 0.9766 - recall_3: 0.6021 - val_accuracy: 0.8182 - val_loss: 0.9928 - val_precision_3: 1.0000 - val_recall_3: 0.3131 - learning_rate: 1.5625e-05\n",
      "Epoch 20/100\n",
      "\u001b[1m28/28\u001b[0m \u001b[32m━━━━━━━━━━━━━━━━━━━━\u001b[0m\u001b[37m\u001b[0m \u001b[1m5s\u001b[0m 173ms/step - accuracy: 0.8641 - loss: 0.6930 - precision_3: 0.9741 - recall_3: 0.6061 - val_accuracy: 0.8384 - val_loss: 0.9716 - val_precision_3: 1.0000 - val_recall_3: 0.4343 - learning_rate: 1.5625e-05\n",
      "Epoch 21/100\n",
      "\u001b[1m28/28\u001b[0m \u001b[32m━━━━━━━━━━━━━━━━━━━━\u001b[0m\u001b[37m\u001b[0m \u001b[1m5s\u001b[0m 172ms/step - accuracy: 0.8652 - loss: 0.6775 - precision_3: 0.9722 - recall_3: 0.5930 - val_accuracy: 0.8990 - val_loss: 0.8719 - val_precision_3: 1.0000 - val_recall_3: 0.4141 - learning_rate: 1.5625e-05\n",
      "Epoch 22/100\n",
      "\u001b[1m28/28\u001b[0m \u001b[32m━━━━━━━━━━━━━━━━━━━━\u001b[0m\u001b[37m\u001b[0m \u001b[1m5s\u001b[0m 172ms/step - accuracy: 0.8831 - loss: 0.6443 - precision_3: 0.9859 - recall_3: 0.6429 - val_accuracy: 0.8485 - val_loss: 0.8695 - val_precision_3: 1.0000 - val_recall_3: 0.4949 - learning_rate: 1.5625e-05\n",
      "Epoch 23/100\n",
      "\u001b[1m28/28\u001b[0m \u001b[32m━━━━━━━━━━━━━━━━━━━━\u001b[0m\u001b[37m\u001b[0m \u001b[1m0s\u001b[0m 164ms/step - accuracy: 0.8552 - loss: 0.6776 - precision_3: 0.9774 - recall_3: 0.5997\n",
      "Epoch 23: ReduceLROnPlateau reducing learning rate to 7.812500371073838e-06.\n",
      "\u001b[1m28/28\u001b[0m \u001b[32m━━━━━━━━━━━━━━━━━━━━\u001b[0m\u001b[37m\u001b[0m \u001b[1m5s\u001b[0m 175ms/step - accuracy: 0.8558 - loss: 0.6771 - precision_3: 0.9772 - recall_3: 0.6000 - val_accuracy: 0.8990 - val_loss: 0.8269 - val_precision_3: 1.0000 - val_recall_3: 0.5051 - learning_rate: 1.5625e-05\n",
      "Epoch 24/100\n",
      "\u001b[1m28/28\u001b[0m \u001b[32m━━━━━━━━━━━━━━━━━━━━\u001b[0m\u001b[37m\u001b[0m \u001b[1m5s\u001b[0m 172ms/step - accuracy: 0.8747 - loss: 0.6492 - precision_3: 0.9711 - recall_3: 0.6027 - val_accuracy: 0.9697 - val_loss: 0.7580 - val_precision_3: 1.0000 - val_recall_3: 0.5657 - learning_rate: 7.8125e-06\n",
      "Epoch 25/100\n",
      "\u001b[1m28/28\u001b[0m \u001b[32m━━━━━━━━━━━━━━━━━━━━\u001b[0m\u001b[37m\u001b[0m \u001b[1m5s\u001b[0m 173ms/step - accuracy: 0.8929 - loss: 0.6249 - precision_3: 0.9874 - recall_3: 0.6320 - val_accuracy: 0.9697 - val_loss: 0.7238 - val_precision_3: 1.0000 - val_recall_3: 0.5960 - learning_rate: 7.8125e-06\n",
      "Epoch 26/100\n",
      "\u001b[1m28/28\u001b[0m \u001b[32m━━━━━━━━━━━━━━━━━━━━\u001b[0m\u001b[37m\u001b[0m \u001b[1m0s\u001b[0m 162ms/step - accuracy: 0.8608 - loss: 0.6743 - precision_3: 0.9765 - recall_3: 0.5912\n",
      "Epoch 26: ReduceLROnPlateau reducing learning rate to 3.906250185536919e-06.\n",
      "\u001b[1m28/28\u001b[0m \u001b[32m━━━━━━━━━━━━━━━━━━━━\u001b[0m\u001b[37m\u001b[0m \u001b[1m5s\u001b[0m 173ms/step - accuracy: 0.8611 - loss: 0.6739 - precision_3: 0.9764 - recall_3: 0.5913 - val_accuracy: 0.9596 - val_loss: 0.6904 - val_precision_3: 1.0000 - val_recall_3: 0.6263 - learning_rate: 7.8125e-06\n",
      "Epoch 27/100\n",
      "\u001b[1m28/28\u001b[0m \u001b[32m━━━━━━━━━━━━━━━━━━━━\u001b[0m\u001b[37m\u001b[0m \u001b[1m5s\u001b[0m 175ms/step - accuracy: 0.8931 - loss: 0.6465 - precision_3: 0.9762 - recall_3: 0.6209 - val_accuracy: 0.9495 - val_loss: 0.6510 - val_precision_3: 0.9848 - val_recall_3: 0.6566 - learning_rate: 3.9063e-06\n",
      "Epoch 28/100\n",
      "\u001b[1m28/28\u001b[0m \u001b[32m━━━━━━━━━━━━━━━━━━━━\u001b[0m\u001b[37m\u001b[0m \u001b[1m0s\u001b[0m 163ms/step - accuracy: 0.8735 - loss: 0.6394 - precision_3: 0.9677 - recall_3: 0.6322\n",
      "Epoch 28: ReduceLROnPlateau reducing learning rate to 1.9531250927684596e-06.\n",
      "\u001b[1m28/28\u001b[0m \u001b[32m━━━━━━━━━━━━━━━━━━━━\u001b[0m\u001b[37m\u001b[0m \u001b[1m5s\u001b[0m 175ms/step - accuracy: 0.8734 - loss: 0.6397 - precision_3: 0.9679 - recall_3: 0.6319 - val_accuracy: 0.9596 - val_loss: 0.6405 - val_precision_3: 1.0000 - val_recall_3: 0.6566 - learning_rate: 3.9063e-06\n",
      "Epoch 29/100\n",
      "\u001b[1m28/28\u001b[0m \u001b[32m━━━━━━━━━━━━━━━━━━━━\u001b[0m\u001b[37m\u001b[0m \u001b[1m5s\u001b[0m 173ms/step - accuracy: 0.8763 - loss: 0.6183 - precision_3: 0.9806 - recall_3: 0.6435 - val_accuracy: 0.9495 - val_loss: 0.6257 - val_precision_3: 1.0000 - val_recall_3: 0.6667 - learning_rate: 1.9531e-06\n",
      "Epoch 30/100\n",
      "\u001b[1m28/28\u001b[0m \u001b[32m━━━━━━━━━━━━━━━━━━━━\u001b[0m\u001b[37m\u001b[0m \u001b[1m0s\u001b[0m 160ms/step - accuracy: 0.8821 - loss: 0.6321 - precision_3: 0.9716 - recall_3: 0.6151\n",
      "Epoch 30: ReduceLROnPlateau reducing learning rate to 9.765625463842298e-07.\n",
      "\u001b[1m28/28\u001b[0m \u001b[32m━━━━━━━━━━━━━━━━━━━━\u001b[0m\u001b[37m\u001b[0m \u001b[1m5s\u001b[0m 171ms/step - accuracy: 0.8818 - loss: 0.6330 - precision_3: 0.9714 - recall_3: 0.6148 - val_accuracy: 0.9495 - val_loss: 0.6145 - val_precision_3: 0.9853 - val_recall_3: 0.6768 - learning_rate: 1.9531e-06\n",
      "Epoch 31/100\n",
      "\u001b[1m28/28\u001b[0m \u001b[32m━━━━━━━━━━━━━━━━━━━━\u001b[0m\u001b[37m\u001b[0m \u001b[1m5s\u001b[0m 169ms/step - accuracy: 0.8745 - loss: 0.6950 - precision_3: 0.9698 - recall_3: 0.5788 - val_accuracy: 0.9394 - val_loss: 0.6079 - val_precision_3: 0.9853 - val_recall_3: 0.6768 - learning_rate: 9.7656e-07\n",
      "Epoch 32/100\n",
      "\u001b[1m28/28\u001b[0m \u001b[32m━━━━━━━━━━━━━━━━━━━━\u001b[0m\u001b[37m\u001b[0m \u001b[1m0s\u001b[0m 161ms/step - accuracy: 0.8871 - loss: 0.6450 - precision_3: 0.9713 - recall_3: 0.6460\n",
      "Epoch 32: ReduceLROnPlateau reducing learning rate to 4.882812731921149e-07.\n",
      "\u001b[1m28/28\u001b[0m \u001b[32m━━━━━━━━━━━━━━━━━━━━\u001b[0m\u001b[37m\u001b[0m \u001b[1m5s\u001b[0m 172ms/step - accuracy: 0.8868 - loss: 0.6453 - precision_3: 0.9711 - recall_3: 0.6456 - val_accuracy: 0.9192 - val_loss: 0.6023 - val_precision_3: 0.9855 - val_recall_3: 0.6869 - learning_rate: 9.7656e-07\n",
      "Epoch 33/100\n",
      "\u001b[1m28/28\u001b[0m \u001b[32m━━━━━━━━━━━━━━━━━━━━\u001b[0m\u001b[37m\u001b[0m \u001b[1m5s\u001b[0m 178ms/step - accuracy: 0.8715 - loss: 0.6433 - precision_3: 0.9802 - recall_3: 0.6171 - val_accuracy: 0.9192 - val_loss: 0.5994 - val_precision_3: 0.9855 - val_recall_3: 0.6869 - learning_rate: 4.8828e-07\n",
      "Epoch 34/100\n",
      "\u001b[1m28/28\u001b[0m \u001b[32m━━━━━━━━━━━━━━━━━━━━\u001b[0m\u001b[37m\u001b[0m \u001b[1m0s\u001b[0m 161ms/step - accuracy: 0.8737 - loss: 0.6619 - precision_3: 0.9843 - recall_3: 0.6225\n",
      "Epoch 34: ReduceLROnPlateau reducing learning rate to 2.4414063659605745e-07.\n",
      "\u001b[1m28/28\u001b[0m \u001b[32m━━━━━━━━━━━━━━━━━━━━\u001b[0m\u001b[37m\u001b[0m \u001b[1m5s\u001b[0m 171ms/step - accuracy: 0.8736 - loss: 0.6615 - precision_3: 0.9843 - recall_3: 0.6226 - val_accuracy: 0.9192 - val_loss: 0.5973 - val_precision_3: 0.9855 - val_recall_3: 0.6869 - learning_rate: 4.8828e-07\n",
      "Epoch 35/100\n",
      "\u001b[1m28/28\u001b[0m \u001b[32m━━━━━━━━━━━━━━━━━━━━\u001b[0m\u001b[37m\u001b[0m \u001b[1m5s\u001b[0m 170ms/step - accuracy: 0.8790 - loss: 0.6580 - precision_3: 0.9776 - recall_3: 0.6015 - val_accuracy: 0.9192 - val_loss: 0.5958 - val_precision_3: 0.9855 - val_recall_3: 0.6869 - learning_rate: 2.4414e-07\n",
      "Epoch 36/100\n",
      "\u001b[1m28/28\u001b[0m \u001b[32m━━━━━━━━━━━━━━━━━━━━\u001b[0m\u001b[37m\u001b[0m \u001b[1m0s\u001b[0m 163ms/step - accuracy: 0.8829 - loss: 0.6326 - precision_3: 0.9908 - recall_3: 0.6231\n",
      "Epoch 36: ReduceLROnPlateau reducing learning rate to 1.2207031829802872e-07.\n",
      "\u001b[1m28/28\u001b[0m \u001b[32m━━━━━━━━━━━━━━━━━━━━\u001b[0m\u001b[37m\u001b[0m \u001b[1m5s\u001b[0m 175ms/step - accuracy: 0.8831 - loss: 0.6326 - precision_3: 0.9906 - recall_3: 0.6232 - val_accuracy: 0.9192 - val_loss: 0.5945 - val_precision_3: 0.9855 - val_recall_3: 0.6869 - learning_rate: 2.4414e-07\n",
      "Epoch 37/100\n",
      "\u001b[1m28/28\u001b[0m \u001b[32m━━━━━━━━━━━━━━━━━━━━\u001b[0m\u001b[37m\u001b[0m \u001b[1m5s\u001b[0m 173ms/step - accuracy: 0.8676 - loss: 0.6585 - precision_3: 0.9811 - recall_3: 0.6133 - val_accuracy: 0.9192 - val_loss: 0.5934 - val_precision_3: 0.9855 - val_recall_3: 0.6869 - learning_rate: 1.2207e-07\n",
      "Epoch 38/100\n",
      "\u001b[1m28/28\u001b[0m \u001b[32m━━━━━━━━━━━━━━━━━━━━\u001b[0m\u001b[37m\u001b[0m \u001b[1m0s\u001b[0m 163ms/step - accuracy: 0.8669 - loss: 0.6451 - precision_3: 0.9804 - recall_3: 0.6318\n",
      "Epoch 38: ReduceLROnPlateau reducing learning rate to 6.103515914901436e-08.\n",
      "\u001b[1m28/28\u001b[0m \u001b[32m━━━━━━━━━━━━━━━━━━━━\u001b[0m\u001b[37m\u001b[0m \u001b[1m5s\u001b[0m 174ms/step - accuracy: 0.8671 - loss: 0.6449 - precision_3: 0.9803 - recall_3: 0.6317 - val_accuracy: 0.9192 - val_loss: 0.5928 - val_precision_3: 0.9855 - val_recall_3: 0.6869 - learning_rate: 1.2207e-07\n",
      "Epoch 39/100\n",
      "\u001b[1m28/28\u001b[0m \u001b[32m━━━━━━━━━━━━━━━━━━━━\u001b[0m\u001b[37m\u001b[0m \u001b[1m5s\u001b[0m 184ms/step - accuracy: 0.8695 - loss: 0.6402 - precision_3: 0.9770 - recall_3: 0.6256 - val_accuracy: 0.9192 - val_loss: 0.5924 - val_precision_3: 0.9855 - val_recall_3: 0.6869 - learning_rate: 6.1035e-08\n",
      "Epoch 40/100\n",
      "\u001b[1m28/28\u001b[0m \u001b[32m━━━━━━━━━━━━━━━━━━━━\u001b[0m\u001b[37m\u001b[0m \u001b[1m0s\u001b[0m 165ms/step - accuracy: 0.8852 - loss: 0.6628 - precision_3: 0.9756 - recall_3: 0.6255\n",
      "Epoch 40: ReduceLROnPlateau reducing learning rate to 3.051757957450718e-08.\n",
      "\u001b[1m28/28\u001b[0m \u001b[32m━━━━━━━━━━━━━━━━━━━━\u001b[0m\u001b[37m\u001b[0m \u001b[1m5s\u001b[0m 176ms/step - accuracy: 0.8851 - loss: 0.6624 - precision_3: 0.9756 - recall_3: 0.6258 - val_accuracy: 0.9091 - val_loss: 0.5919 - val_precision_3: 0.9855 - val_recall_3: 0.6869 - learning_rate: 6.1035e-08\n",
      "Epoch 41/100\n",
      "\u001b[1m28/28\u001b[0m \u001b[32m━━━━━━━━━━━━━━━━━━━━\u001b[0m\u001b[37m\u001b[0m \u001b[1m5s\u001b[0m 175ms/step - accuracy: 0.8655 - loss: 0.6652 - precision_3: 0.9834 - recall_3: 0.6067 - val_accuracy: 0.9091 - val_loss: 0.5915 - val_precision_3: 0.9855 - val_recall_3: 0.6869 - learning_rate: 3.0518e-08\n",
      "Epoch 42/100\n",
      "\u001b[1m28/28\u001b[0m \u001b[32m━━━━━━━━━━━━━━━━━━━━\u001b[0m\u001b[37m\u001b[0m \u001b[1m0s\u001b[0m 163ms/step - accuracy: 0.8853 - loss: 0.6313 - precision_3: 0.9793 - recall_3: 0.6193\n",
      "Epoch 42: ReduceLROnPlateau reducing learning rate to 1.525878978725359e-08.\n",
      "\u001b[1m28/28\u001b[0m \u001b[32m━━━━━━━━━━━━━━━━━━━━\u001b[0m\u001b[37m\u001b[0m \u001b[1m5s\u001b[0m 174ms/step - accuracy: 0.8850 - loss: 0.6319 - precision_3: 0.9791 - recall_3: 0.6192 - val_accuracy: 0.9091 - val_loss: 0.5913 - val_precision_3: 0.9855 - val_recall_3: 0.6869 - learning_rate: 3.0518e-08\n",
      "Epoch 43/100\n",
      "\u001b[1m28/28\u001b[0m \u001b[32m━━━━━━━━━━━━━━━━━━━━\u001b[0m\u001b[37m\u001b[0m \u001b[1m5s\u001b[0m 172ms/step - accuracy: 0.9001 - loss: 0.6160 - precision_3: 0.9814 - recall_3: 0.6331 - val_accuracy: 0.9091 - val_loss: 0.5915 - val_precision_3: 0.9855 - val_recall_3: 0.6869 - learning_rate: 1.5259e-08\n",
      "Epoch 44/100\n",
      "\u001b[1m28/28\u001b[0m \u001b[32m━━━━━━━━━━━━━━━━━━━━\u001b[0m\u001b[37m\u001b[0m \u001b[1m0s\u001b[0m 160ms/step - accuracy: 0.8774 - loss: 0.6547 - precision_3: 0.9794 - recall_3: 0.5903\n",
      "Epoch 44: ReduceLROnPlateau reducing learning rate to 7.629394893626795e-09.\n",
      "\n",
      "Epoch 44: ReduceLROnPlateau reducing learning rate to 3.814697446813398e-09.\n",
      "\u001b[1m28/28\u001b[0m \u001b[32m━━━━━━━━━━━━━━━━━━━━\u001b[0m\u001b[37m\u001b[0m \u001b[1m5s\u001b[0m 171ms/step - accuracy: 0.8771 - loss: 0.6549 - precision_3: 0.9793 - recall_3: 0.5908 - val_accuracy: 0.9091 - val_loss: 0.5914 - val_precision_3: 0.9855 - val_recall_3: 0.6869 - learning_rate: 7.6294e-09\n",
      "Epoch 45/100\n",
      "\u001b[1m28/28\u001b[0m \u001b[32m━━━━━━━━━━━━━━━━━━━━\u001b[0m\u001b[37m\u001b[0m \u001b[1m5s\u001b[0m 171ms/step - accuracy: 0.8863 - loss: 0.6168 - precision_3: 0.9826 - recall_3: 0.6457 - val_accuracy: 0.9091 - val_loss: 0.5916 - val_precision_3: 0.9857 - val_recall_3: 0.6970 - learning_rate: 3.8147e-09\n",
      "Epoch 46/100\n",
      "\u001b[1m28/28\u001b[0m \u001b[32m━━━━━━━━━━━━━━━━━━━━\u001b[0m\u001b[37m\u001b[0m \u001b[1m0s\u001b[0m 162ms/step - accuracy: 0.8593 - loss: 0.6499 - precision_3: 0.9785 - recall_3: 0.6234\n",
      "Epoch 46: ReduceLROnPlateau reducing learning rate to 1.907348723406699e-09.\n",
      "\n",
      "Epoch 46: ReduceLROnPlateau reducing learning rate to 9.536743617033494e-10.\n",
      "\u001b[1m28/28\u001b[0m \u001b[32m━━━━━━━━━━━━━━━━━━━━\u001b[0m\u001b[37m\u001b[0m \u001b[1m5s\u001b[0m 173ms/step - accuracy: 0.8598 - loss: 0.6495 - precision_3: 0.9785 - recall_3: 0.6235 - val_accuracy: 0.9091 - val_loss: 0.5917 - val_precision_3: 0.9857 - val_recall_3: 0.6970 - learning_rate: 1.9073e-09\n",
      "Epoch 47/100\n",
      "\u001b[1m28/28\u001b[0m \u001b[32m━━━━━━━━━━━━━━━━━━━━\u001b[0m\u001b[37m\u001b[0m \u001b[1m5s\u001b[0m 175ms/step - accuracy: 0.8680 - loss: 0.6312 - precision_3: 0.9778 - recall_3: 0.6378 - val_accuracy: 0.9091 - val_loss: 0.5913 - val_precision_3: 0.9857 - val_recall_3: 0.6970 - learning_rate: 9.5367e-10\n",
      "Epoch 48/100\n",
      "\u001b[1m28/28\u001b[0m \u001b[32m━━━━━━━━━━━━━━━━━━━━\u001b[0m\u001b[37m\u001b[0m \u001b[1m0s\u001b[0m 169ms/step - accuracy: 0.9029 - loss: 0.6428 - precision_3: 0.9804 - recall_3: 0.6207\n",
      "Epoch 48: ReduceLROnPlateau reducing learning rate to 4.768371808516747e-10.\n",
      "\u001b[1m28/28\u001b[0m \u001b[32m━━━━━━━━━━━━━━━━━━━━\u001b[0m\u001b[37m\u001b[0m \u001b[1m5s\u001b[0m 182ms/step - accuracy: 0.9024 - loss: 0.6430 - precision_3: 0.9804 - recall_3: 0.6208 - val_accuracy: 0.9091 - val_loss: 0.5908 - val_precision_3: 0.9857 - val_recall_3: 0.6970 - learning_rate: 9.5367e-10\n",
      "Epoch 49/100\n",
      "\u001b[1m28/28\u001b[0m \u001b[32m━━━━━━━━━━━━━━━━━━━━\u001b[0m\u001b[37m\u001b[0m \u001b[1m5s\u001b[0m 180ms/step - accuracy: 0.8826 - loss: 0.6283 - precision_3: 0.9815 - recall_3: 0.6481 - val_accuracy: 0.9091 - val_loss: 0.5907 - val_precision_3: 0.9857 - val_recall_3: 0.6970 - learning_rate: 4.7684e-10\n",
      "Epoch 50/100\n",
      "\u001b[1m28/28\u001b[0m \u001b[32m━━━━━━━━━━━━━━━━━━━━\u001b[0m\u001b[37m\u001b[0m \u001b[1m0s\u001b[0m 161ms/step - accuracy: 0.9055 - loss: 0.6321 - precision_3: 0.9792 - recall_3: 0.6361\n",
      "Epoch 50: ReduceLROnPlateau reducing learning rate to 2.3841859042583735e-10.\n",
      "\n",
      "Epoch 50: ReduceLROnPlateau reducing learning rate to 1.1920929521291868e-10.\n",
      "\u001b[1m28/28\u001b[0m \u001b[32m━━━━━━━━━━━━━━━━━━━━\u001b[0m\u001b[37m\u001b[0m \u001b[1m5s\u001b[0m 172ms/step - accuracy: 0.9051 - loss: 0.6324 - precision_3: 0.9792 - recall_3: 0.6360 - val_accuracy: 0.9091 - val_loss: 0.5911 - val_precision_3: 0.9857 - val_recall_3: 0.6970 - learning_rate: 2.3842e-10\n",
      "Epoch 51/100\n",
      "\u001b[1m28/28\u001b[0m \u001b[32m━━━━━━━━━━━━━━━━━━━━\u001b[0m\u001b[37m\u001b[0m \u001b[1m5s\u001b[0m 172ms/step - accuracy: 0.8932 - loss: 0.6415 - precision_3: 0.9798 - recall_3: 0.6276 - val_accuracy: 0.9091 - val_loss: 0.5908 - val_precision_3: 0.9857 - val_recall_3: 0.6970 - learning_rate: 1.1921e-10\n",
      "Epoch 52/100\n",
      "\u001b[1m28/28\u001b[0m \u001b[32m━━━━━━━━━━━━━━━━━━━━\u001b[0m\u001b[37m\u001b[0m \u001b[1m0s\u001b[0m 161ms/step - accuracy: 0.8718 - loss: 0.6462 - precision_3: 0.9654 - recall_3: 0.6429\n",
      "Epoch 52: ReduceLROnPlateau reducing learning rate to 5.960464760645934e-11.\n",
      "\n",
      "Epoch 52: ReduceLROnPlateau reducing learning rate to 2.980232380322967e-11.\n",
      "\u001b[1m28/28\u001b[0m \u001b[32m━━━━━━━━━━━━━━━━━━━━\u001b[0m\u001b[37m\u001b[0m \u001b[1m5s\u001b[0m 172ms/step - accuracy: 0.8719 - loss: 0.6458 - precision_3: 0.9655 - recall_3: 0.6428 - val_accuracy: 0.9091 - val_loss: 0.5912 - val_precision_3: 0.9857 - val_recall_3: 0.6970 - learning_rate: 5.9605e-11\n",
      "Epoch 53/100\n",
      "\u001b[1m28/28\u001b[0m \u001b[32m━━━━━━━━━━━━━━━━━━━━\u001b[0m\u001b[37m\u001b[0m \u001b[1m5s\u001b[0m 171ms/step - accuracy: 0.8679 - loss: 0.6715 - precision_3: 0.9849 - recall_3: 0.6274 - val_accuracy: 0.9091 - val_loss: 0.5912 - val_precision_3: 0.9857 - val_recall_3: 0.6970 - learning_rate: 2.9802e-11\n",
      "Epoch 54/100\n",
      "\u001b[1m28/28\u001b[0m \u001b[32m━━━━━━━━━━━━━━━━━━━━\u001b[0m\u001b[37m\u001b[0m \u001b[1m0s\u001b[0m 161ms/step - accuracy: 0.8831 - loss: 0.6203 - precision_3: 0.9871 - recall_3: 0.6408\n",
      "Epoch 54: ReduceLROnPlateau reducing learning rate to 1.4901161901614834e-11.\n",
      "\n",
      "Epoch 54: ReduceLROnPlateau reducing learning rate to 7.450580950807417e-12.\n",
      "\u001b[1m28/28\u001b[0m \u001b[32m━━━━━━━━━━━━━━━━━━━━\u001b[0m\u001b[37m\u001b[0m \u001b[1m5s\u001b[0m 172ms/step - accuracy: 0.8829 - loss: 0.6210 - precision_3: 0.9869 - recall_3: 0.6404 - val_accuracy: 0.9091 - val_loss: 0.5914 - val_precision_3: 0.9857 - val_recall_3: 0.6970 - learning_rate: 1.4901e-11\n",
      "Epoch 55/100\n",
      "\u001b[1m28/28\u001b[0m \u001b[32m━━━━━━━━━━━━━━━━━━━━\u001b[0m\u001b[37m\u001b[0m \u001b[1m5s\u001b[0m 171ms/step - accuracy: 0.8975 - loss: 0.6223 - precision_3: 0.9779 - recall_3: 0.6436 - val_accuracy: 0.9091 - val_loss: 0.5910 - val_precision_3: 0.9857 - val_recall_3: 0.6970 - learning_rate: 7.4506e-12\n",
      "Epoch 56/100\n",
      "\u001b[1m28/28\u001b[0m \u001b[32m━━━━━━━━━━━━━━━━━━━━\u001b[0m\u001b[37m\u001b[0m \u001b[1m0s\u001b[0m 162ms/step - accuracy: 0.8675 - loss: 0.6344 - precision_3: 0.9695 - recall_3: 0.6396\n",
      "Epoch 56: ReduceLROnPlateau reducing learning rate to 3.725290475403709e-12.\n",
      "\n",
      "Epoch 56: ReduceLROnPlateau reducing learning rate to 1.8626452377018543e-12.\n",
      "\u001b[1m28/28\u001b[0m \u001b[32m━━━━━━━━━━━━━━━━━━━━\u001b[0m\u001b[37m\u001b[0m \u001b[1m5s\u001b[0m 173ms/step - accuracy: 0.8677 - loss: 0.6346 - precision_3: 0.9696 - recall_3: 0.6394 - val_accuracy: 0.9091 - val_loss: 0.5911 - val_precision_3: 0.9857 - val_recall_3: 0.6970 - learning_rate: 3.7253e-12\n",
      "Epoch 57/100\n",
      "\u001b[1m28/28\u001b[0m \u001b[32m━━━━━━━━━━━━━━━━━━━━\u001b[0m\u001b[37m\u001b[0m \u001b[1m5s\u001b[0m 173ms/step - accuracy: 0.8684 - loss: 0.6295 - precision_3: 0.9862 - recall_3: 0.6455 - val_accuracy: 0.9091 - val_loss: 0.5912 - val_precision_3: 0.9857 - val_recall_3: 0.6970 - learning_rate: 1.8626e-12\n",
      "Epoch 58/100\n",
      "\u001b[1m28/28\u001b[0m \u001b[32m━━━━━━━━━━━━━━━━━━━━\u001b[0m\u001b[37m\u001b[0m \u001b[1m0s\u001b[0m 162ms/step - accuracy: 0.8718 - loss: 0.6571 - precision_3: 0.9654 - recall_3: 0.6253\n",
      "Epoch 58: ReduceLROnPlateau reducing learning rate to 9.313226188509272e-13.\n",
      "\n",
      "Epoch 58: ReduceLROnPlateau reducing learning rate to 4.656613094254636e-13.\n",
      "\u001b[1m28/28\u001b[0m \u001b[32m━━━━━━━━━━━━━━━━━━━━\u001b[0m\u001b[37m\u001b[0m \u001b[1m5s\u001b[0m 173ms/step - accuracy: 0.8720 - loss: 0.6571 - precision_3: 0.9657 - recall_3: 0.6254 - val_accuracy: 0.9091 - val_loss: 0.5909 - val_precision_3: 0.9857 - val_recall_3: 0.6970 - learning_rate: 9.3132e-13\n",
      "Epoch 59/100\n",
      "\u001b[1m28/28\u001b[0m \u001b[32m━━━━━━━━━━━━━━━━━━━━\u001b[0m\u001b[37m\u001b[0m \u001b[1m5s\u001b[0m 179ms/step - accuracy: 0.8718 - loss: 0.6340 - precision_3: 0.9790 - recall_3: 0.6518 - val_accuracy: 0.9091 - val_loss: 0.5917 - val_precision_3: 0.9857 - val_recall_3: 0.6970 - learning_rate: 4.6566e-13\n",
      "Epoch 60/100\n",
      "\u001b[1m28/28\u001b[0m \u001b[32m━━━━━━━━━━━━━━━━━━━━\u001b[0m\u001b[37m\u001b[0m \u001b[1m0s\u001b[0m 161ms/step - accuracy: 0.8491 - loss: 0.6901 - precision_3: 0.9624 - recall_3: 0.5935\n",
      "Epoch 60: ReduceLROnPlateau reducing learning rate to 2.328306547127318e-13.\n",
      "\n",
      "Epoch 60: ReduceLROnPlateau reducing learning rate to 1.164153273563659e-13.\n",
      "\u001b[1m28/28\u001b[0m \u001b[32m━━━━━━━━━━━━━━━━━━━━\u001b[0m\u001b[37m\u001b[0m \u001b[1m5s\u001b[0m 173ms/step - accuracy: 0.8495 - loss: 0.6888 - precision_3: 0.9629 - recall_3: 0.5947 - val_accuracy: 0.9091 - val_loss: 0.5918 - val_precision_3: 0.9857 - val_recall_3: 0.6970 - learning_rate: 2.3283e-13\n",
      "Epoch 61/100\n",
      "\u001b[1m28/28\u001b[0m \u001b[32m━━━━━━━━━━━━━━━━━━━━\u001b[0m\u001b[37m\u001b[0m \u001b[1m5s\u001b[0m 174ms/step - accuracy: 0.8651 - loss: 0.6500 - precision_3: 0.9841 - recall_3: 0.6027 - val_accuracy: 0.9091 - val_loss: 0.5919 - val_precision_3: 0.9857 - val_recall_3: 0.6970 - learning_rate: 1.1642e-13\n",
      "Epoch 62/100\n",
      "\u001b[1m28/28\u001b[0m \u001b[32m━━━━━━━━━━━━━━━━━━━━\u001b[0m\u001b[37m\u001b[0m \u001b[1m0s\u001b[0m 163ms/step - accuracy: 0.8819 - loss: 0.6613 - precision_3: 0.9832 - recall_3: 0.6148\n",
      "Epoch 62: ReduceLROnPlateau reducing learning rate to 5.820766367818295e-14.\n",
      "\n",
      "Epoch 62: ReduceLROnPlateau reducing learning rate to 2.9103831839091474e-14.\n",
      "\u001b[1m28/28\u001b[0m \u001b[32m━━━━━━━━━━━━━━━━━━━━\u001b[0m\u001b[37m\u001b[0m \u001b[1m5s\u001b[0m 174ms/step - accuracy: 0.8815 - loss: 0.6612 - precision_3: 0.9829 - recall_3: 0.6151 - val_accuracy: 0.9091 - val_loss: 0.5917 - val_precision_3: 0.9857 - val_recall_3: 0.6970 - learning_rate: 5.8208e-14\n",
      "Epoch 63/100\n",
      "\u001b[1m28/28\u001b[0m \u001b[32m━━━━━━━━━━━━━━━━━━━━\u001b[0m\u001b[37m\u001b[0m \u001b[1m5s\u001b[0m 171ms/step - accuracy: 0.8645 - loss: 0.6417 - precision_3: 0.9774 - recall_3: 0.6303 - val_accuracy: 0.9091 - val_loss: 0.5918 - val_precision_3: 0.9857 - val_recall_3: 0.6970 - learning_rate: 2.9104e-14\n",
      "Epoch 64/100\n",
      "\u001b[1m28/28\u001b[0m \u001b[32m━━━━━━━━━━━━━━━━━━━━\u001b[0m\u001b[37m\u001b[0m \u001b[1m0s\u001b[0m 162ms/step - accuracy: 0.9148 - loss: 0.6158 - precision_3: 0.9755 - recall_3: 0.6487\n",
      "Epoch 64: ReduceLROnPlateau reducing learning rate to 1.4551915919545737e-14.\n",
      "\n",
      "Epoch 64: ReduceLROnPlateau reducing learning rate to 7.275957959772868e-15.\n",
      "\u001b[1m28/28\u001b[0m \u001b[32m━━━━━━━━━━━━━━━━━━━━\u001b[0m\u001b[37m\u001b[0m \u001b[1m5s\u001b[0m 172ms/step - accuracy: 0.9141 - loss: 0.6168 - precision_3: 0.9754 - recall_3: 0.6479 - val_accuracy: 0.9091 - val_loss: 0.5919 - val_precision_3: 0.9857 - val_recall_3: 0.6970 - learning_rate: 1.4552e-14\n",
      "Epoch 65/100\n",
      "\u001b[1m28/28\u001b[0m \u001b[32m━━━━━━━━━━━━━━━━━━━━\u001b[0m\u001b[37m\u001b[0m \u001b[1m5s\u001b[0m 172ms/step - accuracy: 0.8950 - loss: 0.6393 - precision_3: 0.9652 - recall_3: 0.6239 - val_accuracy: 0.9091 - val_loss: 0.5918 - val_precision_3: 0.9857 - val_recall_3: 0.6970 - learning_rate: 7.2760e-15\n",
      "Epoch 66/100\n",
      "\u001b[1m28/28\u001b[0m \u001b[32m━━━━━━━━━━━━━━━━━━━━\u001b[0m\u001b[37m\u001b[0m \u001b[1m0s\u001b[0m 164ms/step - accuracy: 0.8598 - loss: 0.6590 - precision_3: 0.9895 - recall_3: 0.6128\n",
      "Epoch 66: ReduceLROnPlateau reducing learning rate to 3.637978979886434e-15.\n",
      "\n",
      "Epoch 66: ReduceLROnPlateau reducing learning rate to 1.818989489943217e-15.\n",
      "\u001b[1m28/28\u001b[0m \u001b[32m━━━━━━━━━━━━━━━━━━━━\u001b[0m\u001b[37m\u001b[0m \u001b[1m5s\u001b[0m 175ms/step - accuracy: 0.8604 - loss: 0.6584 - precision_3: 0.9893 - recall_3: 0.6133 - val_accuracy: 0.9091 - val_loss: 0.5917 - val_precision_3: 0.9857 - val_recall_3: 0.6970 - learning_rate: 3.6380e-15\n",
      "Epoch 67/100\n",
      "\u001b[1m28/28\u001b[0m \u001b[32m━━━━━━━━━━━━━━━━━━━━\u001b[0m\u001b[37m\u001b[0m \u001b[1m5s\u001b[0m 171ms/step - accuracy: 0.8824 - loss: 0.6257 - precision_3: 0.9814 - recall_3: 0.6421 - val_accuracy: 0.9091 - val_loss: 0.5919 - val_precision_3: 0.9857 - val_recall_3: 0.6970 - learning_rate: 1.8190e-15\n",
      "Epoch 68/100\n",
      "\u001b[1m28/28\u001b[0m \u001b[32m━━━━━━━━━━━━━━━━━━━━\u001b[0m\u001b[37m\u001b[0m \u001b[1m0s\u001b[0m 162ms/step - accuracy: 0.8833 - loss: 0.6398 - precision_3: 0.9780 - recall_3: 0.6300\n",
      "Epoch 68: ReduceLROnPlateau reducing learning rate to 9.094947449716085e-16.\n",
      "\n",
      "Epoch 68: ReduceLROnPlateau reducing learning rate to 4.547473724858043e-16.\n",
      "\u001b[1m28/28\u001b[0m \u001b[32m━━━━━━━━━━━━━━━━━━━━\u001b[0m\u001b[37m\u001b[0m \u001b[1m5s\u001b[0m 173ms/step - accuracy: 0.8833 - loss: 0.6398 - precision_3: 0.9778 - recall_3: 0.6300 - val_accuracy: 0.9091 - val_loss: 0.5917 - val_precision_3: 0.9857 - val_recall_3: 0.6970 - learning_rate: 9.0949e-16\n",
      "Epoch 69/100\n",
      "\u001b[1m28/28\u001b[0m \u001b[32m━━━━━━━━━━━━━━━━━━━━\u001b[0m\u001b[37m\u001b[0m \u001b[1m5s\u001b[0m 172ms/step - accuracy: 0.8666 - loss: 0.6492 - precision_3: 0.9751 - recall_3: 0.6141 - val_accuracy: 0.9091 - val_loss: 0.5911 - val_precision_3: 0.9857 - val_recall_3: 0.6970 - learning_rate: 4.5475e-16\n",
      "Epoch 70/100\n",
      "\u001b[1m28/28\u001b[0m \u001b[32m━━━━━━━━━━━━━━━━━━━━\u001b[0m\u001b[37m\u001b[0m \u001b[1m0s\u001b[0m 161ms/step - accuracy: 0.8640 - loss: 0.6398 - precision_3: 0.9694 - recall_3: 0.6369\n",
      "Epoch 70: ReduceLROnPlateau reducing learning rate to 2.2737368624290214e-16.\n",
      "\n",
      "Epoch 70: ReduceLROnPlateau reducing learning rate to 1.1368684312145107e-16.\n",
      "\u001b[1m28/28\u001b[0m \u001b[32m━━━━━━━━━━━━━━━━━━━━\u001b[0m\u001b[37m\u001b[0m \u001b[1m5s\u001b[0m 172ms/step - accuracy: 0.8643 - loss: 0.6400 - precision_3: 0.9696 - recall_3: 0.6367 - val_accuracy: 0.9091 - val_loss: 0.5909 - val_precision_3: 0.9857 - val_recall_3: 0.6970 - learning_rate: 2.2737e-16\n",
      "Epoch 71/100\n",
      "\u001b[1m28/28\u001b[0m \u001b[32m━━━━━━━━━━━━━━━━━━━━\u001b[0m\u001b[37m\u001b[0m \u001b[1m5s\u001b[0m 173ms/step - accuracy: 0.8651 - loss: 0.6555 - precision_3: 0.9820 - recall_3: 0.6140 - val_accuracy: 0.9091 - val_loss: 0.5905 - val_precision_3: 0.9857 - val_recall_3: 0.6970 - learning_rate: 1.1369e-16\n",
      "Epoch 72/100\n",
      "\u001b[1m28/28\u001b[0m \u001b[32m━━━━━━━━━━━━━━━━━━━━\u001b[0m\u001b[37m\u001b[0m \u001b[1m0s\u001b[0m 160ms/step - accuracy: 0.8873 - loss: 0.6224 - precision_3: 0.9730 - recall_3: 0.6600\n",
      "Epoch 72: ReduceLROnPlateau reducing learning rate to 5.684342156072553e-17.\n",
      "\u001b[1m28/28\u001b[0m \u001b[32m━━━━━━━━━━━━━━━━━━━━\u001b[0m\u001b[37m\u001b[0m \u001b[1m5s\u001b[0m 171ms/step - accuracy: 0.8870 - loss: 0.6234 - precision_3: 0.9729 - recall_3: 0.6588 - val_accuracy: 0.9091 - val_loss: 0.5907 - val_precision_3: 0.9857 - val_recall_3: 0.6970 - learning_rate: 1.1369e-16\n",
      "Epoch 73/100\n",
      "\u001b[1m28/28\u001b[0m \u001b[32m━━━━━━━━━━━━━━━━━━━━\u001b[0m\u001b[37m\u001b[0m \u001b[1m0s\u001b[0m 160ms/step - accuracy: 0.9040 - loss: 0.6465 - precision_3: 0.9730 - recall_3: 0.6257\n",
      "Epoch 73: ReduceLROnPlateau reducing learning rate to 2.842171078036277e-17.\n",
      "\u001b[1m28/28\u001b[0m \u001b[32m━━━━━━━━━━━━━━━━━━━━\u001b[0m\u001b[37m\u001b[0m \u001b[1m5s\u001b[0m 171ms/step - accuracy: 0.9034 - loss: 0.6464 - precision_3: 0.9732 - recall_3: 0.6261 - val_accuracy: 0.9091 - val_loss: 0.5910 - val_precision_3: 0.9857 - val_recall_3: 0.6970 - learning_rate: 2.8422e-17\n",
      "Epoch 74/100\n",
      "\u001b[1m28/28\u001b[0m \u001b[32m━━━━━━━━━━━━━━━━━━━━\u001b[0m\u001b[37m\u001b[0m \u001b[1m0s\u001b[0m 164ms/step - accuracy: 0.8744 - loss: 0.6597 - precision_3: 0.9875 - recall_3: 0.6084\n",
      "Epoch 74: ReduceLROnPlateau reducing learning rate to 1.4210855390181384e-17.\n",
      "\u001b[1m28/28\u001b[0m \u001b[32m━━━━━━━━━━━━━━━━━━━━\u001b[0m\u001b[37m\u001b[0m \u001b[1m5s\u001b[0m 175ms/step - accuracy: 0.8746 - loss: 0.6594 - precision_3: 0.9874 - recall_3: 0.6088 - val_accuracy: 0.9091 - val_loss: 0.5911 - val_precision_3: 0.9857 - val_recall_3: 0.6970 - learning_rate: 2.8422e-17\n",
      "Epoch 75/100\n",
      "\u001b[1m28/28\u001b[0m \u001b[32m━━━━━━━━━━━━━━━━━━━━\u001b[0m\u001b[37m\u001b[0m \u001b[1m0s\u001b[0m 165ms/step - accuracy: 0.8705 - loss: 0.6348 - precision_3: 0.9884 - recall_3: 0.6175\n",
      "Epoch 75: ReduceLROnPlateau reducing learning rate to 7.105427695090692e-18.\n",
      "\u001b[1m28/28\u001b[0m \u001b[32m━━━━━━━━━━━━━━━━━━━━\u001b[0m\u001b[37m\u001b[0m \u001b[1m5s\u001b[0m 176ms/step - accuracy: 0.8705 - loss: 0.6352 - precision_3: 0.9884 - recall_3: 0.6177 - val_accuracy: 0.9091 - val_loss: 0.5911 - val_precision_3: 0.9857 - val_recall_3: 0.6970 - learning_rate: 7.1054e-18\n",
      "Epoch 76/100\n",
      "\u001b[1m28/28\u001b[0m \u001b[32m━━━━━━━━━━━━━━━━━━━━\u001b[0m\u001b[37m\u001b[0m \u001b[1m0s\u001b[0m 164ms/step - accuracy: 0.8633 - loss: 0.6328 - precision_3: 0.9667 - recall_3: 0.6195\n",
      "Epoch 76: ReduceLROnPlateau reducing learning rate to 3.552713847545346e-18.\n",
      "\u001b[1m28/28\u001b[0m \u001b[32m━━━━━━━━━━━━━━━━━━━━\u001b[0m\u001b[37m\u001b[0m \u001b[1m5s\u001b[0m 174ms/step - accuracy: 0.8636 - loss: 0.6329 - precision_3: 0.9671 - recall_3: 0.6198 - val_accuracy: 0.9091 - val_loss: 0.5914 - val_precision_3: 0.9857 - val_recall_3: 0.6970 - learning_rate: 7.1054e-18\n",
      "Epoch 77/100\n",
      "\u001b[1m28/28\u001b[0m \u001b[32m━━━━━━━━━━━━━━━━━━━━\u001b[0m\u001b[37m\u001b[0m \u001b[1m0s\u001b[0m 161ms/step - accuracy: 0.8797 - loss: 0.6376 - precision_3: 0.9743 - recall_3: 0.6373\n",
      "Epoch 77: ReduceLROnPlateau reducing learning rate to 1.776356923772673e-18.\n",
      "\u001b[1m28/28\u001b[0m \u001b[32m━━━━━━━━━━━━━━━━━━━━\u001b[0m\u001b[37m\u001b[0m \u001b[1m5s\u001b[0m 173ms/step - accuracy: 0.8798 - loss: 0.6378 - precision_3: 0.9743 - recall_3: 0.6366 - val_accuracy: 0.9091 - val_loss: 0.5912 - val_precision_3: 0.9857 - val_recall_3: 0.6970 - learning_rate: 1.7764e-18\n",
      "Epoch 78/100\n",
      "\u001b[1m28/28\u001b[0m \u001b[32m━━━━━━━━━━━━━━━━━━━━\u001b[0m\u001b[37m\u001b[0m \u001b[1m0s\u001b[0m 161ms/step - accuracy: 0.8831 - loss: 0.6320 - precision_3: 0.9843 - recall_3: 0.6229\n",
      "Epoch 78: ReduceLROnPlateau reducing learning rate to 8.881784618863365e-19.\n",
      "\u001b[1m28/28\u001b[0m \u001b[32m━━━━━━━━━━━━━━━━━━━━\u001b[0m\u001b[37m\u001b[0m \u001b[1m5s\u001b[0m 171ms/step - accuracy: 0.8830 - loss: 0.6323 - precision_3: 0.9844 - recall_3: 0.6228 - val_accuracy: 0.9091 - val_loss: 0.5910 - val_precision_3: 0.9857 - val_recall_3: 0.6970 - learning_rate: 1.7764e-18\n",
      "Epoch 79/100\n",
      "\u001b[1m28/28\u001b[0m \u001b[32m━━━━━━━━━━━━━━━━━━━━\u001b[0m\u001b[37m\u001b[0m \u001b[1m0s\u001b[0m 160ms/step - accuracy: 0.8520 - loss: 0.6505 - precision_3: 0.9719 - recall_3: 0.6436\n",
      "Epoch 79: ReduceLROnPlateau reducing learning rate to 4.440892309431682e-19.\n",
      "\u001b[1m28/28\u001b[0m \u001b[32m━━━━━━━━━━━━━━━━━━━━\u001b[0m\u001b[37m\u001b[0m \u001b[1m5s\u001b[0m 171ms/step - accuracy: 0.8527 - loss: 0.6500 - precision_3: 0.9722 - recall_3: 0.6436 - val_accuracy: 0.9091 - val_loss: 0.5913 - val_precision_3: 0.9857 - val_recall_3: 0.6970 - learning_rate: 4.4409e-19\n",
      "Epoch 80/100\n",
      "\u001b[1m28/28\u001b[0m \u001b[32m━━━━━━━━━━━━━━━━━━━━\u001b[0m\u001b[37m\u001b[0m \u001b[1m0s\u001b[0m 159ms/step - accuracy: 0.8903 - loss: 0.6396 - precision_3: 0.9837 - recall_3: 0.6215\n",
      "Epoch 80: ReduceLROnPlateau reducing learning rate to 2.220446154715841e-19.\n",
      "\u001b[1m28/28\u001b[0m \u001b[32m━━━━━━━━━━━━━━━━━━━━\u001b[0m\u001b[37m\u001b[0m \u001b[1m5s\u001b[0m 170ms/step - accuracy: 0.8899 - loss: 0.6406 - precision_3: 0.9831 - recall_3: 0.6205 - val_accuracy: 0.9091 - val_loss: 0.5904 - val_precision_3: 0.9857 - val_recall_3: 0.6970 - learning_rate: 4.4409e-19\n",
      "Epoch 81/100\n",
      "\u001b[1m28/28\u001b[0m \u001b[32m━━━━━━━━━━━━━━━━━━━━\u001b[0m\u001b[37m\u001b[0m \u001b[1m5s\u001b[0m 173ms/step - accuracy: 0.8617 - loss: 0.6726 - precision_3: 0.9473 - recall_3: 0.5944 - val_accuracy: 0.9091 - val_loss: 0.5902 - val_precision_3: 0.9857 - val_recall_3: 0.6970 - learning_rate: 2.2204e-19\n",
      "Epoch 82/100\n",
      "\u001b[1m28/28\u001b[0m \u001b[32m━━━━━━━━━━━━━━━━━━━━\u001b[0m\u001b[37m\u001b[0m \u001b[1m0s\u001b[0m 162ms/step - accuracy: 0.8711 - loss: 0.6558 - precision_3: 0.9678 - recall_3: 0.6226\n",
      "Epoch 82: ReduceLROnPlateau reducing learning rate to 1.1102230773579206e-19.\n",
      "\u001b[1m28/28\u001b[0m \u001b[32m━━━━━━━━━━━━━━━━━━━━\u001b[0m\u001b[37m\u001b[0m \u001b[1m5s\u001b[0m 172ms/step - accuracy: 0.8710 - loss: 0.6555 - precision_3: 0.9680 - recall_3: 0.6229 - val_accuracy: 0.9091 - val_loss: 0.5904 - val_precision_3: 0.9857 - val_recall_3: 0.6970 - learning_rate: 2.2204e-19\n",
      "Epoch 83/100\n",
      "\u001b[1m28/28\u001b[0m \u001b[32m━━━━━━━━━━━━━━━━━━━━\u001b[0m\u001b[37m\u001b[0m \u001b[1m0s\u001b[0m 165ms/step - accuracy: 0.8875 - loss: 0.6369 - precision_3: 0.9654 - recall_3: 0.6322\n",
      "Epoch 83: ReduceLROnPlateau reducing learning rate to 5.551115386789603e-20.\n",
      "\u001b[1m28/28\u001b[0m \u001b[32m━━━━━━━━━━━━━━━━━━━━\u001b[0m\u001b[37m\u001b[0m \u001b[1m5s\u001b[0m 177ms/step - accuracy: 0.8873 - loss: 0.6366 - precision_3: 0.9658 - recall_3: 0.6324 - val_accuracy: 0.9091 - val_loss: 0.5907 - val_precision_3: 0.9857 - val_recall_3: 0.6970 - learning_rate: 5.5511e-20\n",
      "Epoch 84/100\n",
      "\u001b[1m28/28\u001b[0m \u001b[32m━━━━━━━━━━━━━━━━━━━━\u001b[0m\u001b[37m\u001b[0m \u001b[1m0s\u001b[0m 162ms/step - accuracy: 0.8864 - loss: 0.6555 - precision_3: 0.9823 - recall_3: 0.6205\n",
      "Epoch 84: ReduceLROnPlateau reducing learning rate to 2.7755576933948015e-20.\n",
      "\u001b[1m28/28\u001b[0m \u001b[32m━━━━━━━━━━━━━━━━━━━━\u001b[0m\u001b[37m\u001b[0m \u001b[1m5s\u001b[0m 173ms/step - accuracy: 0.8861 - loss: 0.6551 - precision_3: 0.9823 - recall_3: 0.6207 - val_accuracy: 0.9091 - val_loss: 0.5907 - val_precision_3: 0.9857 - val_recall_3: 0.6970 - learning_rate: 5.5511e-20\n",
      "Epoch 85/100\n",
      "\u001b[1m28/28\u001b[0m \u001b[32m━━━━━━━━━━━━━━━━━━━━\u001b[0m\u001b[37m\u001b[0m \u001b[1m0s\u001b[0m 164ms/step - accuracy: 0.8912 - loss: 0.6538 - precision_3: 0.9615 - recall_3: 0.6018\n",
      "Epoch 85: ReduceLROnPlateau reducing learning rate to 1.3877788466974007e-20.\n",
      "\u001b[1m28/28\u001b[0m \u001b[32m━━━━━━━━━━━━━━━━━━━━\u001b[0m\u001b[37m\u001b[0m \u001b[1m5s\u001b[0m 176ms/step - accuracy: 0.8906 - loss: 0.6538 - precision_3: 0.9617 - recall_3: 0.6022 - val_accuracy: 0.9091 - val_loss: 0.5908 - val_precision_3: 0.9857 - val_recall_3: 0.6970 - learning_rate: 1.3878e-20\n",
      "Epoch 86/100\n",
      "\u001b[1m28/28\u001b[0m \u001b[32m━━━━━━━━━━━━━━━━━━━━\u001b[0m\u001b[37m\u001b[0m \u001b[1m0s\u001b[0m 161ms/step - accuracy: 0.8821 - loss: 0.6370 - precision_3: 0.9711 - recall_3: 0.6450\n",
      "Epoch 86: ReduceLROnPlateau reducing learning rate to 6.938894233487004e-21.\n",
      "\u001b[1m28/28\u001b[0m \u001b[32m━━━━━━━━━━━━━━━━━━━━\u001b[0m\u001b[37m\u001b[0m \u001b[1m5s\u001b[0m 172ms/step - accuracy: 0.8816 - loss: 0.6375 - precision_3: 0.9711 - recall_3: 0.6442 - val_accuracy: 0.9091 - val_loss: 0.5908 - val_precision_3: 0.9857 - val_recall_3: 0.6970 - learning_rate: 1.3878e-20\n",
      "Epoch 87/100\n",
      "\u001b[1m28/28\u001b[0m \u001b[32m━━━━━━━━━━━━━━━━━━━━\u001b[0m\u001b[37m\u001b[0m \u001b[1m0s\u001b[0m 162ms/step - accuracy: 0.8709 - loss: 0.6640 - precision_3: 0.9721 - recall_3: 0.5929\n",
      "Epoch 87: ReduceLROnPlateau reducing learning rate to 3.469447116743502e-21.\n",
      "\u001b[1m28/28\u001b[0m \u001b[32m━━━━━━━━━━━━━━━━━━━━\u001b[0m\u001b[37m\u001b[0m \u001b[1m5s\u001b[0m 173ms/step - accuracy: 0.8711 - loss: 0.6636 - precision_3: 0.9721 - recall_3: 0.5936 - val_accuracy: 0.9091 - val_loss: 0.5906 - val_precision_3: 0.9857 - val_recall_3: 0.6970 - learning_rate: 3.4694e-21\n",
      "Epoch 88/100\n",
      "\u001b[1m28/28\u001b[0m \u001b[32m━━━━━━━━━━━━━━━━━━━━\u001b[0m\u001b[37m\u001b[0m \u001b[1m0s\u001b[0m 162ms/step - accuracy: 0.8862 - loss: 0.6456 - precision_3: 0.9782 - recall_3: 0.6385\n",
      "Epoch 88: ReduceLROnPlateau reducing learning rate to 1.734723558371751e-21.\n",
      "\u001b[1m28/28\u001b[0m \u001b[32m━━━━━━━━━━━━━━━━━━━━\u001b[0m\u001b[37m\u001b[0m \u001b[1m5s\u001b[0m 174ms/step - accuracy: 0.8859 - loss: 0.6459 - precision_3: 0.9782 - recall_3: 0.6382 - val_accuracy: 0.9091 - val_loss: 0.5903 - val_precision_3: 0.9857 - val_recall_3: 0.6970 - learning_rate: 3.4694e-21\n",
      "Epoch 89/100\n",
      "\u001b[1m28/28\u001b[0m \u001b[32m━━━━━━━━━━━━━━━━━━━━\u001b[0m\u001b[37m\u001b[0m \u001b[1m0s\u001b[0m 169ms/step - accuracy: 0.8823 - loss: 0.6399 - precision_3: 0.9790 - recall_3: 0.6306\n",
      "Epoch 89: ReduceLROnPlateau reducing learning rate to 8.673617791858755e-22.\n",
      "\u001b[1m28/28\u001b[0m \u001b[32m━━━━━━━━━━━━━━━━━━━━\u001b[0m\u001b[37m\u001b[0m \u001b[1m5s\u001b[0m 180ms/step - accuracy: 0.8820 - loss: 0.6401 - precision_3: 0.9790 - recall_3: 0.6305 - val_accuracy: 0.9091 - val_loss: 0.5906 - val_precision_3: 0.9857 - val_recall_3: 0.6970 - learning_rate: 8.6736e-22\n",
      "Epoch 90/100\n",
      "\u001b[1m28/28\u001b[0m \u001b[32m━━━━━━━━━━━━━━━━━━━━\u001b[0m\u001b[37m\u001b[0m \u001b[1m0s\u001b[0m 168ms/step - accuracy: 0.8942 - loss: 0.6366 - precision_3: 0.9682 - recall_3: 0.6487\n",
      "Epoch 90: ReduceLROnPlateau reducing learning rate to 4.336808895929377e-22.\n",
      "\u001b[1m28/28\u001b[0m \u001b[32m━━━━━━━━━━━━━━━━━━━━\u001b[0m\u001b[37m\u001b[0m \u001b[1m5s\u001b[0m 179ms/step - accuracy: 0.8939 - loss: 0.6369 - precision_3: 0.9684 - recall_3: 0.6482 - val_accuracy: 0.9091 - val_loss: 0.5908 - val_precision_3: 0.9857 - val_recall_3: 0.6970 - learning_rate: 8.6736e-22\n",
      "Epoch 91/100\n",
      "\u001b[1m28/28\u001b[0m \u001b[32m━━━━━━━━━━━━━━━━━━━━\u001b[0m\u001b[37m\u001b[0m \u001b[1m0s\u001b[0m 164ms/step - accuracy: 0.8689 - loss: 0.6656 - precision_3: 0.9680 - recall_3: 0.6351\n",
      "Epoch 91: ReduceLROnPlateau reducing learning rate to 2.1684044479646887e-22.\n",
      "\u001b[1m28/28\u001b[0m \u001b[32m━━━━━━━━━━━━━━━━━━━━\u001b[0m\u001b[37m\u001b[0m \u001b[1m5s\u001b[0m 175ms/step - accuracy: 0.8688 - loss: 0.6653 - precision_3: 0.9678 - recall_3: 0.6351 - val_accuracy: 0.9091 - val_loss: 0.5907 - val_precision_3: 0.9857 - val_recall_3: 0.6970 - learning_rate: 2.1684e-22\n",
      "Epoch 92/100\n",
      "\u001b[1m28/28\u001b[0m \u001b[32m━━━━━━━━━━━━━━━━━━━━\u001b[0m\u001b[37m\u001b[0m \u001b[1m0s\u001b[0m 161ms/step - accuracy: 0.8778 - loss: 0.6436 - precision_3: 0.9827 - recall_3: 0.6327\n",
      "Epoch 92: ReduceLROnPlateau reducing learning rate to 1.0842022239823443e-22.\n",
      "\u001b[1m28/28\u001b[0m \u001b[32m━━━━━━━━━━━━━━━━━━━━\u001b[0m\u001b[37m\u001b[0m \u001b[1m5s\u001b[0m 172ms/step - accuracy: 0.8779 - loss: 0.6439 - precision_3: 0.9824 - recall_3: 0.6321 - val_accuracy: 0.9091 - val_loss: 0.5904 - val_precision_3: 0.9857 - val_recall_3: 0.6970 - learning_rate: 2.1684e-22\n",
      "Epoch 93/100\n",
      "\u001b[1m28/28\u001b[0m \u001b[32m━━━━━━━━━━━━━━━━━━━━\u001b[0m\u001b[37m\u001b[0m \u001b[1m0s\u001b[0m 160ms/step - accuracy: 0.8598 - loss: 0.6670 - precision_3: 0.9591 - recall_3: 0.6003\n",
      "Epoch 93: ReduceLROnPlateau reducing learning rate to 5.421011119911722e-23.\n",
      "\u001b[1m28/28\u001b[0m \u001b[32m━━━━━━━━━━━━━━━━━━━━\u001b[0m\u001b[37m\u001b[0m \u001b[1m5s\u001b[0m 171ms/step - accuracy: 0.8603 - loss: 0.6661 - precision_3: 0.9593 - recall_3: 0.6014 - val_accuracy: 0.9091 - val_loss: 0.5908 - val_precision_3: 0.9857 - val_recall_3: 0.6970 - learning_rate: 5.4210e-23\n",
      "Epoch 94/100\n",
      "\u001b[1m28/28\u001b[0m \u001b[32m━━━━━━━━━━━━━━━━━━━━\u001b[0m\u001b[37m\u001b[0m \u001b[1m0s\u001b[0m 162ms/step - accuracy: 0.8947 - loss: 0.6213 - precision_3: 0.9814 - recall_3: 0.6469\n",
      "Epoch 94: ReduceLROnPlateau reducing learning rate to 2.710505559955861e-23.\n",
      "\u001b[1m28/28\u001b[0m \u001b[32m━━━━━━━━━━━━━━━━━━━━\u001b[0m\u001b[37m\u001b[0m \u001b[1m5s\u001b[0m 172ms/step - accuracy: 0.8943 - loss: 0.6219 - precision_3: 0.9812 - recall_3: 0.6465 - val_accuracy: 0.9091 - val_loss: 0.5908 - val_precision_3: 0.9857 - val_recall_3: 0.6970 - learning_rate: 5.4210e-23\n",
      "Epoch 95/100\n",
      "\u001b[1m28/28\u001b[0m \u001b[32m━━━━━━━━━━━━━━━━━━━━\u001b[0m\u001b[37m\u001b[0m \u001b[1m0s\u001b[0m 161ms/step - accuracy: 0.9021 - loss: 0.6276 - precision_3: 0.9758 - recall_3: 0.6354\n",
      "Epoch 95: ReduceLROnPlateau reducing learning rate to 1.3552527799779304e-23.\n",
      "\u001b[1m28/28\u001b[0m \u001b[32m━━━━━━━━━━━━━━━━━━━━\u001b[0m\u001b[37m\u001b[0m \u001b[1m5s\u001b[0m 172ms/step - accuracy: 0.9017 - loss: 0.6283 - precision_3: 0.9756 - recall_3: 0.6348 - val_accuracy: 0.9091 - val_loss: 0.5907 - val_precision_3: 0.9857 - val_recall_3: 0.6970 - learning_rate: 1.3553e-23\n",
      "Epoch 96/100\n",
      "\u001b[1m28/28\u001b[0m \u001b[32m━━━━━━━━━━━━━━━━━━━━\u001b[0m\u001b[37m\u001b[0m \u001b[1m0s\u001b[0m 160ms/step - accuracy: 0.8572 - loss: 0.6423 - precision_3: 0.9878 - recall_3: 0.6219\n",
      "Epoch 96: ReduceLROnPlateau reducing learning rate to 6.776263899889652e-24.\n",
      "\u001b[1m28/28\u001b[0m \u001b[32m━━━━━━━━━━━━━━━━━━━━\u001b[0m\u001b[37m\u001b[0m \u001b[1m5s\u001b[0m 170ms/step - accuracy: 0.8576 - loss: 0.6424 - precision_3: 0.9874 - recall_3: 0.6221 - val_accuracy: 0.9091 - val_loss: 0.5906 - val_precision_3: 0.9857 - val_recall_3: 0.6970 - learning_rate: 1.3553e-23\n",
      "Epoch 97/100\n",
      "\u001b[1m28/28\u001b[0m \u001b[32m━━━━━━━━━━━━━━━━━━━━\u001b[0m\u001b[37m\u001b[0m \u001b[1m0s\u001b[0m 160ms/step - accuracy: 0.8772 - loss: 0.6437 - precision_3: 0.9750 - recall_3: 0.6179\n",
      "Epoch 97: ReduceLROnPlateau reducing learning rate to 3.388131949944826e-24.\n",
      "\u001b[1m28/28\u001b[0m \u001b[32m━━━━━━━━━━━━━━━━━━━━\u001b[0m\u001b[37m\u001b[0m \u001b[1m5s\u001b[0m 171ms/step - accuracy: 0.8772 - loss: 0.6439 - precision_3: 0.9750 - recall_3: 0.6179 - val_accuracy: 0.9091 - val_loss: 0.5906 - val_precision_3: 0.9857 - val_recall_3: 0.6970 - learning_rate: 3.3881e-24\n",
      "Epoch 98/100\n",
      "\u001b[1m28/28\u001b[0m \u001b[32m━━━━━━━━━━━━━━━━━━━━\u001b[0m\u001b[37m\u001b[0m \u001b[1m0s\u001b[0m 162ms/step - accuracy: 0.8758 - loss: 0.6431 - precision_3: 0.9824 - recall_3: 0.6139\n",
      "Epoch 98: ReduceLROnPlateau reducing learning rate to 1.694065974972413e-24.\n",
      "\u001b[1m28/28\u001b[0m \u001b[32m━━━━━━━━━━━━━━━━━━━━\u001b[0m\u001b[37m\u001b[0m \u001b[1m5s\u001b[0m 174ms/step - accuracy: 0.8761 - loss: 0.6434 - precision_3: 0.9823 - recall_3: 0.6137 - val_accuracy: 0.9091 - val_loss: 0.5906 - val_precision_3: 0.9857 - val_recall_3: 0.6970 - learning_rate: 3.3881e-24\n",
      "Epoch 99/100\n",
      "\u001b[1m28/28\u001b[0m \u001b[32m━━━━━━━━━━━━━━━━━━━━\u001b[0m\u001b[37m\u001b[0m \u001b[1m0s\u001b[0m 162ms/step - accuracy: 0.8982 - loss: 0.6480 - precision_3: 0.9611 - recall_3: 0.5938\n",
      "Epoch 99: ReduceLROnPlateau reducing learning rate to 8.470329874862065e-25.\n",
      "\u001b[1m28/28\u001b[0m \u001b[32m━━━━━━━━━━━━━━━━━━━━\u001b[0m\u001b[37m\u001b[0m \u001b[1m5s\u001b[0m 172ms/step - accuracy: 0.8979 - loss: 0.6481 - precision_3: 0.9613 - recall_3: 0.5945 - val_accuracy: 0.9091 - val_loss: 0.5903 - val_precision_3: 0.9857 - val_recall_3: 0.6970 - learning_rate: 8.4703e-25\n",
      "Epoch 100/100\n",
      "\u001b[1m28/28\u001b[0m \u001b[32m━━━━━━━━━━━━━━━━━━━━\u001b[0m\u001b[37m\u001b[0m \u001b[1m0s\u001b[0m 160ms/step - accuracy: 0.8621 - loss: 0.6799 - precision_3: 0.9736 - recall_3: 0.5952\n",
      "Epoch 100: ReduceLROnPlateau reducing learning rate to 4.2351649374310325e-25.\n",
      "\u001b[1m28/28\u001b[0m \u001b[32m━━━━━━━━━━━━━━━━━━━━\u001b[0m\u001b[37m\u001b[0m \u001b[1m5s\u001b[0m 171ms/step - accuracy: 0.8624 - loss: 0.6792 - precision_3: 0.9736 - recall_3: 0.5959 - val_accuracy: 0.9091 - val_loss: 0.5903 - val_precision_3: 0.9857 - val_recall_3: 0.6970 - learning_rate: 8.4703e-25\n"
     ]
    }
   ],
   "source": [
    "model_4, history_4 = train_model(cnn_gap_2, train_data, val_data, epochs=100, callbacks=callbacks)"
   ]
  },
  {
   "cell_type": "code",
   "execution_count": 56,
   "id": "20770fbd-b3c8-4202-9884-dd9f1834bf8a",
   "metadata": {},
   "outputs": [
    {
     "data": {
      "image/png": "[encoded data removed]",
      "text/plain": [
       "<Figure size 1400x500 with 2 Axes>"
      ]
     },
     "metadata": {},
     "output_type": "display_data"
    }
   ],
   "source": [
    "plot_training_history(history_4)"
   ]
  },
  {
   "cell_type": "code",
   "execution_count": 57,
   "id": "a9ef18c0-ce87-4674-aa2e-c7171a7e94a8",
   "metadata": {},
   "outputs": [
    {
     "name": "stderr",
     "output_type": "stream",
     "text": [
      "WARNING:absl:You are saving your model as an HDF5 file via `model.save()` or `keras.saving.save_model(model)`. This file format is considered legacy. We recommend using instead the native Keras format, e.g. `model.save('my_model.keras')` or `keras.saving.save_model(model, 'my_model.keras')`. \n"
     ]
    },
    {
     "name": "stdout",
     "output_type": "stream",
     "text": [
      "Model saved as Models/D_v2/CNN-GAP-RMS-100E_20240719_235457.h5\n"
     ]
    }
   ],
   "source": [
    "save_this_model(model_4, suffix=\"CNN-GAP-RMS-100E\", extra_dir=\"D_v2\")"
   ]
  },
  {
   "cell_type": "code",
   "execution_count": 58,
   "id": "cdd14b9e-4810-4fb7-a0a7-2c201e7760c9",
   "metadata": {},
   "outputs": [
    {
     "name": "stdout",
     "output_type": "stream",
     "text": [
      "Plot saved successfully...\n"
     ]
    }
   ],
   "source": [
    "save_history_plot(history_4, \"CNN-GAP-RMS-100E-900\", \"Plots\")"
   ]
  },
  {
   "cell_type": "code",
   "execution_count": 59,
   "id": "eedf024e-8420-49d4-8e9b-f55bedd98a02",
   "metadata": {},
   "outputs": [
    {
     "name": "stdout",
     "output_type": "stream",
     "text": [
      "\u001b[1m28/28\u001b[0m \u001b[32m━━━━━━━━━━━━━━━━━━━━\u001b[0m\u001b[37m\u001b[0m \u001b[1m2s\u001b[0m 74ms/step - accuracy: 0.8899 - loss: 0.6102 - precision_3: 0.9833 - recall_3: 0.6653\n"
     ]
    },
    {
     "data": {
      "text/plain": [
       "[0.5864473581314087,\n",
       " 0.8877665400505066,\n",
       " 0.9794628620147705,\n",
       " 0.6958473920822144]"
      ]
     },
     "execution_count": 59,
     "metadata": {},
     "output_type": "execute_result"
    }
   ],
   "source": [
    "model_4.evaluate(train_data)"
   ]
  },
  {
   "cell_type": "markdown",
   "id": "d03307d5-7359-4e94-a382-451b99243978",
   "metadata": {
    "jp-MarkdownHeadingCollapsed": true
   },
   "source": [
    "### 5. CNN with GAP-Adam"
   ]
  },
  {
   "cell_type": "code",
   "execution_count": 60,
   "id": "4a6a41be-32b2-418a-b5c2-5847ef6277ac",
   "metadata": {},
   "outputs": [],
   "source": [
    "def create_cnn_gap_adam(input_shape=(224, 224, 1), num_classes=10):\n",
    "    model = tf.keras.Sequential([\n",
    "    Conv2D(16, kernel_size=(5, 5), strides=(1, 1), input_shape=input_shape),\n",
    "    Activation('relu'), \n",
    "    MaxPool2D(pool_size=(2, 2)),\n",
    "\n",
    "    Conv2D(32, kernel_size=(3, 3), strides=(1, 1)),\n",
    "    Activation('relu'),  \n",
    "    MaxPool2D(pool_size=(2, 2)),\n",
    "\n",
    "    GlobalAveragePooling2D(),\n",
    "\n",
    "    Dense(64),\n",
    "    BatchNormalization(),\n",
    "    Activation('relu'),  \n",
    "\n",
    "    Dense(num_classes, activation='softmax')\n",
    "    ])\n",
    "\n",
    "    model.compile(\n",
    "        optimizer=tf.keras.optimizers.Adam(learning_rate=0.001),\n",
    "        loss=tf.keras.losses.CategoricalCrossentropy(),\n",
    "        metrics=['accuracy', tf.metrics.Precision(), tf.metrics.Recall()]\n",
    "    )\n",
    "\n",
    "    return model"
   ]
  },
  {
   "cell_type": "code",
   "execution_count": 61,
   "id": "0398f795-463e-49e6-9090-dcabe604941b",
   "metadata": {},
   "outputs": [
    {
     "data": {
      "text/html": [
       "<pre style=\"white-space:pre;overflow-x:auto;line-height:normal;font-family:Menlo,'DejaVu Sans Mono',consolas,'Courier New',monospace\"><span style=\"font-weight: bold\">Model: \"sequential_4\"</span>\n",
       "</pre>\n"
      ],
      "text/plain": [
       "\u001b[1mModel: \"sequential_4\"\u001b[0m\n"
      ]
     },
     "metadata": {},
     "output_type": "display_data"
    },
    {
     "data": {
      "text/html": [
       "<pre style=\"white-space:pre;overflow-x:auto;line-height:normal;font-family:Menlo,'DejaVu Sans Mono',consolas,'Courier New',monospace\">┏━━━━━━━━━━━━━━━━━━━━━━━━━━━━━━━━━━━━━━┳━━━━━━━━━━━━━━━━━━━━━━━━━━━━━┳━━━━━━━━━━━━━━━━━┓\n",
       "┃<span style=\"font-weight: bold\"> Layer (type)                         </span>┃<span style=\"font-weight: bold\"> Output Shape                </span>┃<span style=\"font-weight: bold\">         Param # </span>┃\n",
       "┡━━━━━━━━━━━━━━━━━━━━━━━━━━━━━━━━━━━━━━╇━━━━━━━━━━━━━━━━━━━━━━━━━━━━━╇━━━━━━━━━━━━━━━━━┩\n",
       "│ conv2d_9 (<span style=\"color: #0087ff; text-decoration-color: #0087ff\">Conv2D</span>)                    │ (<span style=\"color: #00d7ff; text-decoration-color: #00d7ff\">None</span>, <span style=\"color: #00af00; text-decoration-color: #00af00\">220</span>, <span style=\"color: #00af00; text-decoration-color: #00af00\">220</span>, <span style=\"color: #00af00; text-decoration-color: #00af00\">16</span>)        │           <span style=\"color: #00af00; text-decoration-color: #00af00\">1,216</span> │\n",
       "├──────────────────────────────────────┼─────────────────────────────┼─────────────────┤\n",
       "│ activation_9 (<span style=\"color: #0087ff; text-decoration-color: #0087ff\">Activation</span>)            │ (<span style=\"color: #00d7ff; text-decoration-color: #00d7ff\">None</span>, <span style=\"color: #00af00; text-decoration-color: #00af00\">220</span>, <span style=\"color: #00af00; text-decoration-color: #00af00\">220</span>, <span style=\"color: #00af00; text-decoration-color: #00af00\">16</span>)        │               <span style=\"color: #00af00; text-decoration-color: #00af00\">0</span> │\n",
       "├──────────────────────────────────────┼─────────────────────────────┼─────────────────┤\n",
       "│ max_pooling2d_9 (<span style=\"color: #0087ff; text-decoration-color: #0087ff\">MaxPooling2D</span>)       │ (<span style=\"color: #00d7ff; text-decoration-color: #00d7ff\">None</span>, <span style=\"color: #00af00; text-decoration-color: #00af00\">110</span>, <span style=\"color: #00af00; text-decoration-color: #00af00\">110</span>, <span style=\"color: #00af00; text-decoration-color: #00af00\">16</span>)        │               <span style=\"color: #00af00; text-decoration-color: #00af00\">0</span> │\n",
       "├──────────────────────────────────────┼─────────────────────────────┼─────────────────┤\n",
       "│ conv2d_10 (<span style=\"color: #0087ff; text-decoration-color: #0087ff\">Conv2D</span>)                   │ (<span style=\"color: #00d7ff; text-decoration-color: #00d7ff\">None</span>, <span style=\"color: #00af00; text-decoration-color: #00af00\">108</span>, <span style=\"color: #00af00; text-decoration-color: #00af00\">108</span>, <span style=\"color: #00af00; text-decoration-color: #00af00\">32</span>)        │           <span style=\"color: #00af00; text-decoration-color: #00af00\">4,640</span> │\n",
       "├──────────────────────────────────────┼─────────────────────────────┼─────────────────┤\n",
       "│ activation_10 (<span style=\"color: #0087ff; text-decoration-color: #0087ff\">Activation</span>)           │ (<span style=\"color: #00d7ff; text-decoration-color: #00d7ff\">None</span>, <span style=\"color: #00af00; text-decoration-color: #00af00\">108</span>, <span style=\"color: #00af00; text-decoration-color: #00af00\">108</span>, <span style=\"color: #00af00; text-decoration-color: #00af00\">32</span>)        │               <span style=\"color: #00af00; text-decoration-color: #00af00\">0</span> │\n",
       "├──────────────────────────────────────┼─────────────────────────────┼─────────────────┤\n",
       "│ max_pooling2d_10 (<span style=\"color: #0087ff; text-decoration-color: #0087ff\">MaxPooling2D</span>)      │ (<span style=\"color: #00d7ff; text-decoration-color: #00d7ff\">None</span>, <span style=\"color: #00af00; text-decoration-color: #00af00\">54</span>, <span style=\"color: #00af00; text-decoration-color: #00af00\">54</span>, <span style=\"color: #00af00; text-decoration-color: #00af00\">32</span>)          │               <span style=\"color: #00af00; text-decoration-color: #00af00\">0</span> │\n",
       "├──────────────────────────────────────┼─────────────────────────────┼─────────────────┤\n",
       "│ global_average_pooling2d_4           │ (<span style=\"color: #00d7ff; text-decoration-color: #00d7ff\">None</span>, <span style=\"color: #00af00; text-decoration-color: #00af00\">32</span>)                  │               <span style=\"color: #00af00; text-decoration-color: #00af00\">0</span> │\n",
       "│ (<span style=\"color: #0087ff; text-decoration-color: #0087ff\">GlobalAveragePooling2D</span>)             │                             │                 │\n",
       "├──────────────────────────────────────┼─────────────────────────────┼─────────────────┤\n",
       "│ dense_8 (<span style=\"color: #0087ff; text-decoration-color: #0087ff\">Dense</span>)                      │ (<span style=\"color: #00d7ff; text-decoration-color: #00d7ff\">None</span>, <span style=\"color: #00af00; text-decoration-color: #00af00\">64</span>)                  │           <span style=\"color: #00af00; text-decoration-color: #00af00\">2,112</span> │\n",
       "├──────────────────────────────────────┼─────────────────────────────┼─────────────────┤\n",
       "│ batch_normalization_3                │ (<span style=\"color: #00d7ff; text-decoration-color: #00d7ff\">None</span>, <span style=\"color: #00af00; text-decoration-color: #00af00\">64</span>)                  │             <span style=\"color: #00af00; text-decoration-color: #00af00\">256</span> │\n",
       "│ (<span style=\"color: #0087ff; text-decoration-color: #0087ff\">BatchNormalization</span>)                 │                             │                 │\n",
       "├──────────────────────────────────────┼─────────────────────────────┼─────────────────┤\n",
       "│ activation_11 (<span style=\"color: #0087ff; text-decoration-color: #0087ff\">Activation</span>)           │ (<span style=\"color: #00d7ff; text-decoration-color: #00d7ff\">None</span>, <span style=\"color: #00af00; text-decoration-color: #00af00\">64</span>)                  │               <span style=\"color: #00af00; text-decoration-color: #00af00\">0</span> │\n",
       "├──────────────────────────────────────┼─────────────────────────────┼─────────────────┤\n",
       "│ dense_9 (<span style=\"color: #0087ff; text-decoration-color: #0087ff\">Dense</span>)                      │ (<span style=\"color: #00d7ff; text-decoration-color: #00d7ff\">None</span>, <span style=\"color: #00af00; text-decoration-color: #00af00\">11</span>)                  │             <span style=\"color: #00af00; text-decoration-color: #00af00\">715</span> │\n",
       "└──────────────────────────────────────┴─────────────────────────────┴─────────────────┘\n",
       "</pre>\n"
      ],
      "text/plain": [
       "┏━━━━━━━━━━━━━━━━━━━━━━━━━━━━━━━━━━━━━━┳━━━━━━━━━━━━━━━━━━━━━━━━━━━━━┳━━━━━━━━━━━━━━━━━┓\n",
       "┃\u001b[1m \u001b[0m\u001b[1mLayer (type)                        \u001b[0m\u001b[1m \u001b[0m┃\u001b[1m \u001b[0m\u001b[1mOutput Shape               \u001b[0m\u001b[1m \u001b[0m┃\u001b[1m \u001b[0m\u001b[1m        Param #\u001b[0m\u001b[1m \u001b[0m┃\n",
       "┡━━━━━━━━━━━━━━━━━━━━━━━━━━━━━━━━━━━━━━╇━━━━━━━━━━━━━━━━━━━━━━━━━━━━━╇━━━━━━━━━━━━━━━━━┩\n",
       "│ conv2d_9 (\u001b[38;5;33mConv2D\u001b[0m)                    │ (\u001b[38;5;45mNone\u001b[0m, \u001b[38;5;34m220\u001b[0m, \u001b[38;5;34m220\u001b[0m, \u001b[38;5;34m16\u001b[0m)        │           \u001b[38;5;34m1,216\u001b[0m │\n",
       "├──────────────────────────────────────┼─────────────────────────────┼─────────────────┤\n",
       "│ activation_9 (\u001b[38;5;33mActivation\u001b[0m)            │ (\u001b[38;5;45mNone\u001b[0m, \u001b[38;5;34m220\u001b[0m, \u001b[38;5;34m220\u001b[0m, \u001b[38;5;34m16\u001b[0m)        │               \u001b[38;5;34m0\u001b[0m │\n",
       "├──────────────────────────────────────┼─────────────────────────────┼─────────────────┤\n",
       "│ max_pooling2d_9 (\u001b[38;5;33mMaxPooling2D\u001b[0m)       │ (\u001b[38;5;45mNone\u001b[0m, \u001b[38;5;34m110\u001b[0m, \u001b[38;5;34m110\u001b[0m, \u001b[38;5;34m16\u001b[0m)        │               \u001b[38;5;34m0\u001b[0m │\n",
       "├──────────────────────────────────────┼─────────────────────────────┼─────────────────┤\n",
       "│ conv2d_10 (\u001b[38;5;33mConv2D\u001b[0m)                   │ (\u001b[38;5;45mNone\u001b[0m, \u001b[38;5;34m108\u001b[0m, \u001b[38;5;34m108\u001b[0m, \u001b[38;5;34m32\u001b[0m)        │           \u001b[38;5;34m4,640\u001b[0m │\n",
       "├──────────────────────────────────────┼─────────────────────────────┼─────────────────┤\n",
       "│ activation_10 (\u001b[38;5;33mActivation\u001b[0m)           │ (\u001b[38;5;45mNone\u001b[0m, \u001b[38;5;34m108\u001b[0m, \u001b[38;5;34m108\u001b[0m, \u001b[38;5;34m32\u001b[0m)        │               \u001b[38;5;34m0\u001b[0m │\n",
       "├──────────────────────────────────────┼─────────────────────────────┼─────────────────┤\n",
       "│ max_pooling2d_10 (\u001b[38;5;33mMaxPooling2D\u001b[0m)      │ (\u001b[38;5;45mNone\u001b[0m, \u001b[38;5;34m54\u001b[0m, \u001b[38;5;34m54\u001b[0m, \u001b[38;5;34m32\u001b[0m)          │               \u001b[38;5;34m0\u001b[0m │\n",
       "├──────────────────────────────────────┼─────────────────────────────┼─────────────────┤\n",
       "│ global_average_pooling2d_4           │ (\u001b[38;5;45mNone\u001b[0m, \u001b[38;5;34m32\u001b[0m)                  │               \u001b[38;5;34m0\u001b[0m │\n",
       "│ (\u001b[38;5;33mGlobalAveragePooling2D\u001b[0m)             │                             │                 │\n",
       "├──────────────────────────────────────┼─────────────────────────────┼─────────────────┤\n",
       "│ dense_8 (\u001b[38;5;33mDense\u001b[0m)                      │ (\u001b[38;5;45mNone\u001b[0m, \u001b[38;5;34m64\u001b[0m)                  │           \u001b[38;5;34m2,112\u001b[0m │\n",
       "├──────────────────────────────────────┼─────────────────────────────┼─────────────────┤\n",
       "│ batch_normalization_3                │ (\u001b[38;5;45mNone\u001b[0m, \u001b[38;5;34m64\u001b[0m)                  │             \u001b[38;5;34m256\u001b[0m │\n",
       "│ (\u001b[38;5;33mBatchNormalization\u001b[0m)                 │                             │                 │\n",
       "├──────────────────────────────────────┼─────────────────────────────┼─────────────────┤\n",
       "│ activation_11 (\u001b[38;5;33mActivation\u001b[0m)           │ (\u001b[38;5;45mNone\u001b[0m, \u001b[38;5;34m64\u001b[0m)                  │               \u001b[38;5;34m0\u001b[0m │\n",
       "├──────────────────────────────────────┼─────────────────────────────┼─────────────────┤\n",
       "│ dense_9 (\u001b[38;5;33mDense\u001b[0m)                      │ (\u001b[38;5;45mNone\u001b[0m, \u001b[38;5;34m11\u001b[0m)                  │             \u001b[38;5;34m715\u001b[0m │\n",
       "└──────────────────────────────────────┴─────────────────────────────┴─────────────────┘\n"
      ]
     },
     "metadata": {},
     "output_type": "display_data"
    },
    {
     "data": {
      "text/html": [
       "<pre style=\"white-space:pre;overflow-x:auto;line-height:normal;font-family:Menlo,'DejaVu Sans Mono',consolas,'Courier New',monospace\"><span style=\"font-weight: bold\"> Total params: </span><span style=\"color: #00af00; text-decoration-color: #00af00\">8,939</span> (34.92 KB)\n",
       "</pre>\n"
      ],
      "text/plain": [
       "\u001b[1m Total params: \u001b[0m\u001b[38;5;34m8,939\u001b[0m (34.92 KB)\n"
      ]
     },
     "metadata": {},
     "output_type": "display_data"
    },
    {
     "data": {
      "text/html": [
       "<pre style=\"white-space:pre;overflow-x:auto;line-height:normal;font-family:Menlo,'DejaVu Sans Mono',consolas,'Courier New',monospace\"><span style=\"font-weight: bold\"> Trainable params: </span><span style=\"color: #00af00; text-decoration-color: #00af00\">8,811</span> (34.42 KB)\n",
       "</pre>\n"
      ],
      "text/plain": [
       "\u001b[1m Trainable params: \u001b[0m\u001b[38;5;34m8,811\u001b[0m (34.42 KB)\n"
      ]
     },
     "metadata": {},
     "output_type": "display_data"
    },
    {
     "data": {
      "text/html": [
       "<pre style=\"white-space:pre;overflow-x:auto;line-height:normal;font-family:Menlo,'DejaVu Sans Mono',consolas,'Courier New',monospace\"><span style=\"font-weight: bold\"> Non-trainable params: </span><span style=\"color: #00af00; text-decoration-color: #00af00\">128</span> (512.00 B)\n",
       "</pre>\n"
      ],
      "text/plain": [
       "\u001b[1m Non-trainable params: \u001b[0m\u001b[38;5;34m128\u001b[0m (512.00 B)\n"
      ]
     },
     "metadata": {},
     "output_type": "display_data"
    }
   ],
   "source": [
    "cnn_gap_adam = create_cnn_gap_adam(input_shape, num_classes=len(unique_students))\n",
    "cnn_gap_adam.summary()"
   ]
  },
  {
   "cell_type": "code",
   "execution_count": 62,
   "id": "1d291682-e33f-4def-a6b5-74a9acee1988",
   "metadata": {
    "scrolled": true
   },
   "outputs": [
    {
     "name": "stdout",
     "output_type": "stream",
     "text": [
      "Epoch 1/50\n",
      "\u001b[1m28/28\u001b[0m \u001b[32m━━━━━━━━━━━━━━━━━━━━\u001b[0m\u001b[37m\u001b[0m \u001b[1m11s\u001b[0m 206ms/step - accuracy: 0.2103 - loss: 2.1664 - precision_4: 0.6700 - recall_4: 0.0281 - val_accuracy: 0.0505 - val_loss: 2.7476 - val_precision_4: 0.0000e+00 - val_recall_4: 0.0000e+00\n",
      "Epoch 2/50\n",
      "\u001b[1m28/28\u001b[0m \u001b[32m━━━━━━━━━━━━━━━━━━━━\u001b[0m\u001b[37m\u001b[0m \u001b[1m5s\u001b[0m 174ms/step - accuracy: 0.3316 - loss: 1.7618 - precision_4: 0.9396 - recall_4: 0.0834 - val_accuracy: 0.0909 - val_loss: 3.1130 - val_precision_4: 0.0000e+00 - val_recall_4: 0.0000e+00\n",
      "Epoch 3/50\n",
      "\u001b[1m28/28\u001b[0m \u001b[32m━━━━━━━━━━━━━━━━━━━━\u001b[0m\u001b[37m\u001b[0m \u001b[1m5s\u001b[0m 177ms/step - accuracy: 0.6209 - loss: 1.3809 - precision_4: 0.9834 - recall_4: 0.1857 - val_accuracy: 0.0909 - val_loss: 3.2357 - val_precision_4: 0.0000e+00 - val_recall_4: 0.0000e+00\n",
      "Epoch 4/50\n",
      "\u001b[1m28/28\u001b[0m \u001b[32m━━━━━━━━━━━━━━━━━━━━\u001b[0m\u001b[37m\u001b[0m \u001b[1m5s\u001b[0m 171ms/step - accuracy: 0.7780 - loss: 1.0078 - precision_4: 0.9824 - recall_4: 0.3958 - val_accuracy: 0.0909 - val_loss: 3.7184 - val_precision_4: 0.1047 - val_recall_4: 0.0909\n",
      "Epoch 5/50\n",
      "\u001b[1m28/28\u001b[0m \u001b[32m━━━━━━━━━━━━━━━━━━━━\u001b[0m\u001b[37m\u001b[0m \u001b[1m5s\u001b[0m 174ms/step - accuracy: 0.8637 - loss: 0.6777 - precision_4: 0.9830 - recall_4: 0.5860 - val_accuracy: 0.0909 - val_loss: 4.7078 - val_precision_4: 0.0909 - val_recall_4: 0.0909\n",
      "Epoch 6/50\n",
      "\u001b[1m28/28\u001b[0m \u001b[32m━━━━━━━━━━━━━━━━━━━━\u001b[0m\u001b[37m\u001b[0m \u001b[1m5s\u001b[0m 171ms/step - accuracy: 0.9568 - loss: 0.4590 - precision_4: 0.9906 - recall_4: 0.7800 - val_accuracy: 0.0909 - val_loss: 5.7424 - val_precision_4: 0.0909 - val_recall_4: 0.0909\n",
      "Epoch 7/50\n",
      "\u001b[1m28/28\u001b[0m \u001b[32m━━━━━━━━━━━━━━━━━━━━\u001b[0m\u001b[37m\u001b[0m \u001b[1m5s\u001b[0m 171ms/step - accuracy: 0.9690 - loss: 0.3202 - precision_4: 0.9931 - recall_4: 0.9313 - val_accuracy: 0.0909 - val_loss: 5.8884 - val_precision_4: 0.0909 - val_recall_4: 0.0909\n",
      "Epoch 8/50\n",
      "\u001b[1m28/28\u001b[0m \u001b[32m━━━━━━━━━━━━━━━━━━━━\u001b[0m\u001b[37m\u001b[0m \u001b[1m5s\u001b[0m 172ms/step - accuracy: 0.9906 - loss: 0.1941 - precision_4: 0.9952 - recall_4: 0.9821 - val_accuracy: 0.0909 - val_loss: 5.1559 - val_precision_4: 0.0909 - val_recall_4: 0.0909\n",
      "Epoch 9/50\n",
      "\u001b[1m28/28\u001b[0m \u001b[32m━━━━━━━━━━━━━━━━━━━━\u001b[0m\u001b[37m\u001b[0m \u001b[1m5s\u001b[0m 172ms/step - accuracy: 0.9860 - loss: 0.1628 - precision_4: 0.9902 - recall_4: 0.9846 - val_accuracy: 0.0909 - val_loss: 6.5155 - val_precision_4: 0.0909 - val_recall_4: 0.0909\n",
      "Epoch 10/50\n",
      "\u001b[1m28/28\u001b[0m \u001b[32m━━━━━━━━━━━━━━━━━━━━\u001b[0m\u001b[37m\u001b[0m \u001b[1m5s\u001b[0m 171ms/step - accuracy: 0.9935 - loss: 0.1039 - precision_4: 0.9941 - recall_4: 0.9926 - val_accuracy: 0.0909 - val_loss: 5.9077 - val_precision_4: 0.0968 - val_recall_4: 0.0909\n",
      "Epoch 11/50\n",
      "\u001b[1m28/28\u001b[0m \u001b[32m━━━━━━━━━━━━━━━━━━━━\u001b[0m\u001b[37m\u001b[0m \u001b[1m5s\u001b[0m 176ms/step - accuracy: 0.9926 - loss: 0.1004 - precision_4: 0.9944 - recall_4: 0.9895 - val_accuracy: 0.0909 - val_loss: 6.9290 - val_precision_4: 0.0918 - val_recall_4: 0.0909\n",
      "Epoch 12/50\n",
      "\u001b[1m28/28\u001b[0m \u001b[32m━━━━━━━━━━━━━━━━━━━━\u001b[0m\u001b[37m\u001b[0m \u001b[1m5s\u001b[0m 173ms/step - accuracy: 0.9950 - loss: 0.0712 - precision_4: 0.9950 - recall_4: 0.9930 - val_accuracy: 0.1515 - val_loss: 5.4769 - val_precision_4: 0.1546 - val_recall_4: 0.1515\n",
      "Epoch 13/50\n",
      "\u001b[1m28/28\u001b[0m \u001b[32m━━━━━━━━━━━━━━━━━━━━\u001b[0m\u001b[37m\u001b[0m \u001b[1m5s\u001b[0m 172ms/step - accuracy: 0.9955 - loss: 0.0619 - precision_4: 0.9963 - recall_4: 0.9929 - val_accuracy: 0.3232 - val_loss: 3.2925 - val_precision_4: 0.3750 - val_recall_4: 0.2424\n",
      "Epoch 14/50\n",
      "\u001b[1m28/28\u001b[0m \u001b[32m━━━━━━━━━━━━━━━━━━━━\u001b[0m\u001b[37m\u001b[0m \u001b[1m5s\u001b[0m 171ms/step - accuracy: 0.9997 - loss: 0.0420 - precision_4: 0.9997 - recall_4: 0.9997 - val_accuracy: 0.1010 - val_loss: 5.0927 - val_precision_4: 0.0947 - val_recall_4: 0.0909\n",
      "Epoch 15/50\n",
      "\u001b[1m28/28\u001b[0m \u001b[32m━━━━━━━━━━━━━━━━━━━━\u001b[0m\u001b[37m\u001b[0m \u001b[1m5s\u001b[0m 171ms/step - accuracy: 1.0000 - loss: 0.0389 - precision_4: 1.0000 - recall_4: 0.9989 - val_accuracy: 0.3333 - val_loss: 2.9339 - val_precision_4: 0.3294 - val_recall_4: 0.2828\n",
      "Epoch 16/50\n",
      "\u001b[1m28/28\u001b[0m \u001b[32m━━━━━━━━━━━━━━━━━━━━\u001b[0m\u001b[37m\u001b[0m \u001b[1m5s\u001b[0m 172ms/step - accuracy: 0.9992 - loss: 0.0324 - precision_4: 0.9992 - recall_4: 0.9985 - val_accuracy: 0.1717 - val_loss: 6.3285 - val_precision_4: 0.1735 - val_recall_4: 0.1717\n",
      "Epoch 17/50\n",
      "\u001b[1m28/28\u001b[0m \u001b[32m━━━━━━━━━━━━━━━━━━━━\u001b[0m\u001b[37m\u001b[0m \u001b[1m5s\u001b[0m 170ms/step - accuracy: 1.0000 - loss: 0.0248 - precision_4: 1.0000 - recall_4: 1.0000 - val_accuracy: 0.0909 - val_loss: 7.9838 - val_precision_4: 0.0909 - val_recall_4: 0.0909\n",
      "Epoch 18/50\n",
      "\u001b[1m28/28\u001b[0m \u001b[32m━━━━━━━━━━━━━━━━━━━━\u001b[0m\u001b[37m\u001b[0m \u001b[1m5s\u001b[0m 173ms/step - accuracy: 0.9980 - loss: 0.0270 - precision_4: 1.0000 - recall_4: 0.9970 - val_accuracy: 0.3535 - val_loss: 3.3012 - val_precision_4: 0.4167 - val_recall_4: 0.3535\n",
      "Epoch 19/50\n",
      "\u001b[1m28/28\u001b[0m \u001b[32m━━━━━━━━━━━━━━━━━━━━\u001b[0m\u001b[37m\u001b[0m \u001b[1m5s\u001b[0m 173ms/step - accuracy: 1.0000 - loss: 0.0187 - precision_4: 1.0000 - recall_4: 1.0000 - val_accuracy: 0.2525 - val_loss: 3.9145 - val_precision_4: 0.2526 - val_recall_4: 0.2424\n",
      "Epoch 20/50\n",
      "\u001b[1m28/28\u001b[0m \u001b[32m━━━━━━━━━━━━━━━━━━━━\u001b[0m\u001b[37m\u001b[0m \u001b[1m5s\u001b[0m 171ms/step - accuracy: 1.0000 - loss: 0.0172 - precision_4: 1.0000 - recall_4: 0.9982 - val_accuracy: 0.5960 - val_loss: 1.0752 - val_precision_4: 0.6765 - val_recall_4: 0.4646\n",
      "Epoch 21/50\n",
      "\u001b[1m28/28\u001b[0m \u001b[32m━━━━━━━━━━━━━━━━━━━━\u001b[0m\u001b[37m\u001b[0m \u001b[1m5s\u001b[0m 172ms/step - accuracy: 1.0000 - loss: 0.0133 - precision_4: 1.0000 - recall_4: 1.0000 - val_accuracy: 0.7071 - val_loss: 1.0618 - val_precision_4: 0.7174 - val_recall_4: 0.6667\n",
      "Epoch 22/50\n",
      "\u001b[1m28/28\u001b[0m \u001b[32m━━━━━━━━━━━━━━━━━━━━\u001b[0m\u001b[37m\u001b[0m \u001b[1m5s\u001b[0m 171ms/step - accuracy: 1.0000 - loss: 0.0130 - precision_4: 1.0000 - recall_4: 1.0000 - val_accuracy: 0.0808 - val_loss: 8.3629 - val_precision_4: 0.0808 - val_recall_4: 0.0808\n",
      "Epoch 23/50\n",
      "\u001b[1m28/28\u001b[0m \u001b[32m━━━━━━━━━━━━━━━━━━━━\u001b[0m\u001b[37m\u001b[0m \u001b[1m5s\u001b[0m 174ms/step - accuracy: 1.0000 - loss: 0.0159 - precision_4: 1.0000 - recall_4: 1.0000 - val_accuracy: 0.4848 - val_loss: 3.6075 - val_precision_4: 0.5217 - val_recall_4: 0.4848\n",
      "Epoch 24/50\n",
      "\u001b[1m28/28\u001b[0m \u001b[32m━━━━━━━━━━━━━━━━━━━━\u001b[0m\u001b[37m\u001b[0m \u001b[1m5s\u001b[0m 172ms/step - accuracy: 1.0000 - loss: 0.0109 - precision_4: 1.0000 - recall_4: 1.0000 - val_accuracy: 0.6364 - val_loss: 1.6183 - val_precision_4: 0.6629 - val_recall_4: 0.5960\n",
      "Epoch 25/50\n",
      "\u001b[1m28/28\u001b[0m \u001b[32m━━━━━━━━━━━━━━━━━━━━\u001b[0m\u001b[37m\u001b[0m \u001b[1m5s\u001b[0m 171ms/step - accuracy: 1.0000 - loss: 0.0111 - precision_4: 1.0000 - recall_4: 1.0000 - val_accuracy: 0.8384 - val_loss: 0.6773 - val_precision_4: 0.9125 - val_recall_4: 0.7374\n",
      "Epoch 26/50\n",
      "\u001b[1m28/28\u001b[0m \u001b[32m━━━━━━━━━━━━━━━━━━━━\u001b[0m\u001b[37m\u001b[0m \u001b[1m5s\u001b[0m 189ms/step - accuracy: 1.0000 - loss: 0.0121 - precision_4: 1.0000 - recall_4: 1.0000 - val_accuracy: 0.8081 - val_loss: 0.5629 - val_precision_4: 0.8750 - val_recall_4: 0.7778\n",
      "Epoch 27/50\n",
      "\u001b[1m28/28\u001b[0m \u001b[32m━━━━━━━━━━━━━━━━━━━━\u001b[0m\u001b[37m\u001b[0m \u001b[1m5s\u001b[0m 186ms/step - accuracy: 1.0000 - loss: 0.0081 - precision_4: 1.0000 - recall_4: 1.0000 - val_accuracy: 0.8081 - val_loss: 0.4368 - val_precision_4: 0.8488 - val_recall_4: 0.7374\n",
      "Epoch 28/50\n",
      "\u001b[1m28/28\u001b[0m \u001b[32m━━━━━━━━━━━━━━━━━━━━\u001b[0m\u001b[37m\u001b[0m \u001b[1m5s\u001b[0m 178ms/step - accuracy: 1.0000 - loss: 0.0088 - precision_4: 1.0000 - recall_4: 1.0000 - val_accuracy: 0.5556 - val_loss: 1.7220 - val_precision_4: 0.5978 - val_recall_4: 0.5556\n",
      "Epoch 29/50\n",
      "\u001b[1m28/28\u001b[0m \u001b[32m━━━━━━━━━━━━━━━━━━━━\u001b[0m\u001b[37m\u001b[0m \u001b[1m5s\u001b[0m 176ms/step - accuracy: 1.0000 - loss: 0.0078 - precision_4: 1.0000 - recall_4: 1.0000 - val_accuracy: 1.0000 - val_loss: 0.0352 - val_precision_4: 1.0000 - val_recall_4: 1.0000\n",
      "Epoch 30/50\n",
      "\u001b[1m28/28\u001b[0m \u001b[32m━━━━━━━━━━━━━━━━━━━━\u001b[0m\u001b[37m\u001b[0m \u001b[1m5s\u001b[0m 174ms/step - accuracy: 1.0000 - loss: 0.0062 - precision_4: 1.0000 - recall_4: 1.0000 - val_accuracy: 0.9798 - val_loss: 0.0478 - val_precision_4: 0.9798 - val_recall_4: 0.9798\n",
      "Epoch 31/50\n",
      "\u001b[1m28/28\u001b[0m \u001b[32m━━━━━━━━━━━━━━━━━━━━\u001b[0m\u001b[37m\u001b[0m \u001b[1m5s\u001b[0m 179ms/step - accuracy: 1.0000 - loss: 0.0048 - precision_4: 1.0000 - recall_4: 1.0000 - val_accuracy: 0.6465 - val_loss: 2.1400 - val_precision_4: 0.6774 - val_recall_4: 0.6364\n",
      "Epoch 32/50\n",
      "\u001b[1m28/28\u001b[0m \u001b[32m━━━━━━━━━━━━━━━━━━━━\u001b[0m\u001b[37m\u001b[0m \u001b[1m5s\u001b[0m 172ms/step - accuracy: 1.0000 - loss: 0.0074 - precision_4: 1.0000 - recall_4: 1.0000 - val_accuracy: 0.4040 - val_loss: 1.9116 - val_precision_4: 0.4000 - val_recall_4: 0.3838\n",
      "Epoch 33/50\n",
      "\u001b[1m28/28\u001b[0m \u001b[32m━━━━━━━━━━━━━━━━━━━━\u001b[0m\u001b[37m\u001b[0m \u001b[1m5s\u001b[0m 170ms/step - accuracy: 1.0000 - loss: 0.0050 - precision_4: 1.0000 - recall_4: 1.0000 - val_accuracy: 0.9899 - val_loss: 0.0835 - val_precision_4: 0.9899 - val_recall_4: 0.9899\n",
      "Epoch 34/50\n",
      "\u001b[1m28/28\u001b[0m \u001b[32m━━━━━━━━━━━━━━━━━━━━\u001b[0m\u001b[37m\u001b[0m \u001b[1m5s\u001b[0m 176ms/step - accuracy: 1.0000 - loss: 0.0048 - precision_4: 1.0000 - recall_4: 1.0000 - val_accuracy: 0.3434 - val_loss: 7.1846 - val_precision_4: 0.3469 - val_recall_4: 0.3434\n",
      "Epoch 35/50\n",
      "\u001b[1m28/28\u001b[0m \u001b[32m━━━━━━━━━━━━━━━━━━━━\u001b[0m\u001b[37m\u001b[0m \u001b[1m5s\u001b[0m 172ms/step - accuracy: 1.0000 - loss: 0.0065 - precision_4: 1.0000 - recall_4: 1.0000 - val_accuracy: 0.3030 - val_loss: 10.8284 - val_precision_4: 0.3261 - val_recall_4: 0.3030\n",
      "Epoch 36/50\n",
      "\u001b[1m28/28\u001b[0m \u001b[32m━━━━━━━━━━━━━━━━━━━━\u001b[0m\u001b[37m\u001b[0m \u001b[1m5s\u001b[0m 181ms/step - accuracy: 1.0000 - loss: 0.0043 - precision_4: 1.0000 - recall_4: 1.0000 - val_accuracy: 0.8283 - val_loss: 0.4169 - val_precision_4: 0.8913 - val_recall_4: 0.8283\n",
      "Epoch 37/50\n",
      "\u001b[1m28/28\u001b[0m \u001b[32m━━━━━━━━━━━━━━━━━━━━\u001b[0m\u001b[37m\u001b[0m \u001b[1m5s\u001b[0m 173ms/step - accuracy: 1.0000 - loss: 0.0042 - precision_4: 1.0000 - recall_4: 1.0000 - val_accuracy: 0.8283 - val_loss: 0.2748 - val_precision_4: 0.8438 - val_recall_4: 0.8182\n",
      "Epoch 38/50\n",
      "\u001b[1m28/28\u001b[0m \u001b[32m━━━━━━━━━━━━━━━━━━━━\u001b[0m\u001b[37m\u001b[0m \u001b[1m5s\u001b[0m 174ms/step - accuracy: 1.0000 - loss: 0.0043 - precision_4: 1.0000 - recall_4: 1.0000 - val_accuracy: 0.9091 - val_loss: 0.2404 - val_precision_4: 0.9278 - val_recall_4: 0.9091\n",
      "Epoch 39/50\n",
      "\u001b[1m28/28\u001b[0m \u001b[32m━━━━━━━━━━━━━━━━━━━━\u001b[0m\u001b[37m\u001b[0m \u001b[1m5s\u001b[0m 176ms/step - accuracy: 1.0000 - loss: 0.0036 - precision_4: 1.0000 - recall_4: 1.0000 - val_accuracy: 0.5253 - val_loss: 1.8619 - val_precision_4: 0.5714 - val_recall_4: 0.5253\n",
      "Epoch 40/50\n",
      "\u001b[1m28/28\u001b[0m \u001b[32m━━━━━━━━━━━━━━━━━━━━\u001b[0m\u001b[37m\u001b[0m \u001b[1m5s\u001b[0m 173ms/step - accuracy: 1.0000 - loss: 0.0031 - precision_4: 1.0000 - recall_4: 1.0000 - val_accuracy: 0.8384 - val_loss: 0.3516 - val_precision_4: 0.8646 - val_recall_4: 0.8384\n",
      "Epoch 41/50\n",
      "\u001b[1m28/28\u001b[0m \u001b[32m━━━━━━━━━━━━━━━━━━━━\u001b[0m\u001b[37m\u001b[0m \u001b[1m5s\u001b[0m 173ms/step - accuracy: 1.0000 - loss: 0.0023 - precision_4: 1.0000 - recall_4: 1.0000 - val_accuracy: 1.0000 - val_loss: 0.0138 - val_precision_4: 1.0000 - val_recall_4: 1.0000\n",
      "Epoch 42/50\n",
      "\u001b[1m28/28\u001b[0m \u001b[32m━━━━━━━━━━━━━━━━━━━━\u001b[0m\u001b[37m\u001b[0m \u001b[1m5s\u001b[0m 174ms/step - accuracy: 1.0000 - loss: 0.0041 - precision_4: 1.0000 - recall_4: 1.0000 - val_accuracy: 0.2222 - val_loss: 5.8289 - val_precision_4: 0.2222 - val_recall_4: 0.2222\n",
      "Epoch 43/50\n",
      "\u001b[1m28/28\u001b[0m \u001b[32m━━━━━━━━━━━━━━━━━━━━\u001b[0m\u001b[37m\u001b[0m \u001b[1m5s\u001b[0m 172ms/step - accuracy: 1.0000 - loss: 0.0043 - precision_4: 1.0000 - recall_4: 1.0000 - val_accuracy: 0.0808 - val_loss: 5.5141 - val_precision_4: 0.0808 - val_recall_4: 0.0808\n",
      "Epoch 44/50\n",
      "\u001b[1m28/28\u001b[0m \u001b[32m━━━━━━━━━━━━━━━━━━━━\u001b[0m\u001b[37m\u001b[0m \u001b[1m5s\u001b[0m 171ms/step - accuracy: 1.0000 - loss: 0.0037 - precision_4: 1.0000 - recall_4: 1.0000 - val_accuracy: 0.5455 - val_loss: 3.2010 - val_precision_4: 0.6136 - val_recall_4: 0.5455\n",
      "Epoch 45/50\n",
      "\u001b[1m28/28\u001b[0m \u001b[32m━━━━━━━━━━━━━━━━━━━━\u001b[0m\u001b[37m\u001b[0m \u001b[1m5s\u001b[0m 169ms/step - accuracy: 1.0000 - loss: 0.0035 - precision_4: 1.0000 - recall_4: 1.0000 - val_accuracy: 0.9293 - val_loss: 0.1519 - val_precision_4: 0.9583 - val_recall_4: 0.9293\n",
      "Epoch 46/50\n",
      "\u001b[1m28/28\u001b[0m \u001b[32m━━━━━━━━━━━━━━━━━━━━\u001b[0m\u001b[37m\u001b[0m \u001b[1m5s\u001b[0m 175ms/step - accuracy: 1.0000 - loss: 0.0041 - precision_4: 1.0000 - recall_4: 1.0000 - val_accuracy: 0.9091 - val_loss: 0.2412 - val_precision_4: 0.9255 - val_recall_4: 0.8788\n",
      "Epoch 47/50\n",
      "\u001b[1m28/28\u001b[0m \u001b[32m━━━━━━━━━━━━━━━━━━━━\u001b[0m\u001b[37m\u001b[0m \u001b[1m5s\u001b[0m 172ms/step - accuracy: 1.0000 - loss: 0.0017 - precision_4: 1.0000 - recall_4: 1.0000 - val_accuracy: 1.0000 - val_loss: 0.0477 - val_precision_4: 1.0000 - val_recall_4: 0.9899\n",
      "Epoch 48/50\n",
      "\u001b[1m28/28\u001b[0m \u001b[32m━━━━━━━━━━━━━━━━━━━━\u001b[0m\u001b[37m\u001b[0m \u001b[1m5s\u001b[0m 172ms/step - accuracy: 1.0000 - loss: 0.0020 - precision_4: 1.0000 - recall_4: 1.0000 - val_accuracy: 0.6869 - val_loss: 0.7580 - val_precision_4: 0.7083 - val_recall_4: 0.6869\n",
      "Epoch 49/50\n",
      "\u001b[1m28/28\u001b[0m \u001b[32m━━━━━━━━━━━━━━━━━━━━\u001b[0m\u001b[37m\u001b[0m \u001b[1m5s\u001b[0m 179ms/step - accuracy: 1.0000 - loss: 0.0019 - precision_4: 1.0000 - recall_4: 1.0000 - val_accuracy: 1.0000 - val_loss: 0.0067 - val_precision_4: 1.0000 - val_recall_4: 1.0000\n",
      "Epoch 50/50\n",
      "\u001b[1m28/28\u001b[0m \u001b[32m━━━━━━━━━━━━━━━━━━━━\u001b[0m\u001b[37m\u001b[0m \u001b[1m5s\u001b[0m 176ms/step - accuracy: 1.0000 - loss: 0.0017 - precision_4: 1.0000 - recall_4: 1.0000 - val_accuracy: 0.8889 - val_loss: 0.4524 - val_precision_4: 0.8854 - val_recall_4: 0.8586\n"
     ]
    }
   ],
   "source": [
    "model_5, history_5 = train_model(cnn_gap_adam, train_data, val_data, epochs=50, callbacks=None)"
   ]
  },
  {
   "cell_type": "code",
   "execution_count": 63,
   "id": "aa896f4e-017c-4ce8-a2e1-49fa8e588896",
   "metadata": {},
   "outputs": [
    {
     "data": {
      "image/png": "[encoded data removed]",
      "text/plain": [
       "<Figure size 1400x500 with 2 Axes>"
      ]
     },
     "metadata": {},
     "output_type": "display_data"
    }
   ],
   "source": [
    "plot_training_history(history_5)"
   ]
  },
  {
   "cell_type": "code",
   "execution_count": 64,
   "id": "688d4d82-f812-42fb-9719-3ef71d46b026",
   "metadata": {},
   "outputs": [
    {
     "name": "stderr",
     "output_type": "stream",
     "text": [
      "WARNING:absl:You are saving your model as an HDF5 file via `model.save()` or `keras.saving.save_model(model)`. This file format is considered legacy. We recommend using instead the native Keras format, e.g. `model.save('my_model.keras')` or `keras.saving.save_model(model, 'my_model.keras')`. \n"
     ]
    },
    {
     "name": "stdout",
     "output_type": "stream",
     "text": [
      "Model saved as Models/D_v2/CNN-GAP-Adam_20240719_235915.h5\n"
     ]
    }
   ],
   "source": [
    "save_this_model(model_5, suffix=\"CNN-GAP-Adam\", extra_dir=\"D_v2\")"
   ]
  },
  {
   "cell_type": "code",
   "execution_count": 65,
   "id": "41f59b46-33e7-444b-9cdd-45e05afefffa",
   "metadata": {},
   "outputs": [
    {
     "name": "stdout",
     "output_type": "stream",
     "text": [
      "Plot saved successfully...\n"
     ]
    }
   ],
   "source": [
    "save_history_plot(history_5, \"CNN-GAP-Adam-990\", \"Plots\")"
   ]
  },
  {
   "cell_type": "code",
   "execution_count": 66,
   "id": "d26a2f19-167f-450c-b552-df1d667ebded",
   "metadata": {},
   "outputs": [
    {
     "name": "stdout",
     "output_type": "stream",
     "text": [
      "\u001b[1m28/28\u001b[0m \u001b[32m━━━━━━━━━━━━━━━━━━━━\u001b[0m\u001b[37m\u001b[0m \u001b[1m2s\u001b[0m 69ms/step - accuracy: 0.8853 - loss: 0.4030 - precision_4: 0.8859 - recall_4: 0.8664\n"
     ]
    },
    {
     "data": {
      "text/plain": [
       "[0.43989643454551697,\n",
       " 0.8799102306365967,\n",
       " 0.878995418548584,\n",
       " 0.8641975522041321]"
      ]
     },
     "execution_count": 66,
     "metadata": {},
     "output_type": "execute_result"
    }
   ],
   "source": [
    "model_5.evaluate(train_data)"
   ]
  },
  {
   "cell_type": "markdown",
   "id": "f6147678-05d3-403d-8fb3-61343302a1b6",
   "metadata": {
    "jp-MarkdownHeadingCollapsed": true
   },
   "source": [
    "### 6. Deeper CNN"
   ]
  },
  {
   "cell_type": "code",
   "execution_count": 67,
   "id": "12b2fda5-48e2-4f29-811d-6b2c4470fe0d",
   "metadata": {},
   "outputs": [],
   "source": [
    "def create_deeper_cnn(input_shape=(224, 224, 3), num_classes=10):\n",
    "    model = Sequential([\n",
    "        # Initial Conv Block\n",
    "        Conv2D(32, kernel_size=(3, 3), strides=(1, 1), activation='relu', padding='same', input_shape=input_shape),\n",
    "        BatchNormalization(),\n",
    "        Conv2D(32, kernel_size=(3, 3), strides=(1, 1), activation='relu', padding='same'),\n",
    "        BatchNormalization(),\n",
    "        MaxPooling2D(pool_size=(2, 2)),\n",
    "\n",
    "        # Second Conv Block\n",
    "        Conv2D(64, kernel_size=(3, 3), strides=(1, 1), activation='relu', padding='same'),\n",
    "        BatchNormalization(),\n",
    "        Conv2D(64, kernel_size=(3, 3), strides=(1, 1), activation='relu', padding='same'),\n",
    "        BatchNormalization(),\n",
    "        MaxPooling2D(pool_size=(2, 2)),\n",
    "\n",
    "        # Third Conv Block\n",
    "        Conv2D(128, kernel_size=(3, 3), strides=(1, 1), activation='relu', padding='same'),\n",
    "        BatchNormalization(),\n",
    "        Conv2D(128, kernel_size=(3, 3), strides=(1, 1), activation='relu', padding='same'),\n",
    "        BatchNormalization(),\n",
    "        MaxPooling2D(pool_size=(2, 2)),\n",
    "\n",
    "        # Fourth Conv Block\n",
    "        Conv2D(256, kernel_size=(3, 3), strides=(1, 1), activation='relu', padding='same'),\n",
    "        BatchNormalization(),\n",
    "        Conv2D(256, kernel_size=(3, 3), strides=(1, 1), activation='relu', padding='same'),\n",
    "        BatchNormalization(),\n",
    "        MaxPooling2D(pool_size=(2, 2)),\n",
    "\n",
    "        # Global Average Pooling\n",
    "        GlobalAveragePooling2D(),\n",
    "\n",
    "        # Fully Connected Layers\n",
    "        Dense(128, activation='relu', kernel_regularizer=tf.keras.regularizers.l2(0.01)),\n",
    "        BatchNormalization(),\n",
    "        Dropout(0.5),  # Dropout layer to prevent overfitting\n",
    "        Dense(64, activation='relu', kernel_regularizer=tf.keras.regularizers.l2(0.01)),\n",
    "        BatchNormalization(),\n",
    "        Dropout(0.5),  # Dropout layer to prevent overfitting\n",
    "        Dense(num_classes, activation='softmax')\n",
    "    ])\n",
    "\n",
    "    # Optimizer and loss\n",
    "    optimizer = tf.keras.optimizers.SGD(learning_rate=0.001)  # Adjusted learning rate (hyperparameter)\n",
    "    model.compile(\n",
    "        optimizer=optimizer,\n",
    "        loss=tf.keras.losses.CategoricalCrossentropy(),\n",
    "        metrics=['accuracy', tf.keras.metrics.Precision(), tf.keras.metrics.Recall()]\n",
    "    )\n",
    "\n",
    "    return model"
   ]
  },
  {
   "cell_type": "code",
   "execution_count": 68,
   "id": "18a63219-288a-472f-bd2a-e996327cf587",
   "metadata": {
    "scrolled": true
   },
   "outputs": [
    {
     "data": {
      "text/html": [
       "<pre style=\"white-space:pre;overflow-x:auto;line-height:normal;font-family:Menlo,'DejaVu Sans Mono',consolas,'Courier New',monospace\"><span style=\"font-weight: bold\">Model: \"sequential_5\"</span>\n",
       "</pre>\n"
      ],
      "text/plain": [
       "\u001b[1mModel: \"sequential_5\"\u001b[0m\n"
      ]
     },
     "metadata": {},
     "output_type": "display_data"
    },
    {
     "data": {
      "text/html": [
       "<pre style=\"white-space:pre;overflow-x:auto;line-height:normal;font-family:Menlo,'DejaVu Sans Mono',consolas,'Courier New',monospace\">┏━━━━━━━━━━━━━━━━━━━━━━━━━━━━━━━━━━━━━━┳━━━━━━━━━━━━━━━━━━━━━━━━━━━━━┳━━━━━━━━━━━━━━━━━┓\n",
       "┃<span style=\"font-weight: bold\"> Layer (type)                         </span>┃<span style=\"font-weight: bold\"> Output Shape                </span>┃<span style=\"font-weight: bold\">         Param # </span>┃\n",
       "┡━━━━━━━━━━━━━━━━━━━━━━━━━━━━━━━━━━━━━━╇━━━━━━━━━━━━━━━━━━━━━━━━━━━━━╇━━━━━━━━━━━━━━━━━┩\n",
       "│ conv2d_11 (<span style=\"color: #0087ff; text-decoration-color: #0087ff\">Conv2D</span>)                   │ (<span style=\"color: #00d7ff; text-decoration-color: #00d7ff\">None</span>, <span style=\"color: #00af00; text-decoration-color: #00af00\">224</span>, <span style=\"color: #00af00; text-decoration-color: #00af00\">224</span>, <span style=\"color: #00af00; text-decoration-color: #00af00\">32</span>)        │             <span style=\"color: #00af00; text-decoration-color: #00af00\">896</span> │\n",
       "├──────────────────────────────────────┼─────────────────────────────┼─────────────────┤\n",
       "│ batch_normalization_4                │ (<span style=\"color: #00d7ff; text-decoration-color: #00d7ff\">None</span>, <span style=\"color: #00af00; text-decoration-color: #00af00\">224</span>, <span style=\"color: #00af00; text-decoration-color: #00af00\">224</span>, <span style=\"color: #00af00; text-decoration-color: #00af00\">32</span>)        │             <span style=\"color: #00af00; text-decoration-color: #00af00\">128</span> │\n",
       "│ (<span style=\"color: #0087ff; text-decoration-color: #0087ff\">BatchNormalization</span>)                 │                             │                 │\n",
       "├──────────────────────────────────────┼─────────────────────────────┼─────────────────┤\n",
       "│ conv2d_12 (<span style=\"color: #0087ff; text-decoration-color: #0087ff\">Conv2D</span>)                   │ (<span style=\"color: #00d7ff; text-decoration-color: #00d7ff\">None</span>, <span style=\"color: #00af00; text-decoration-color: #00af00\">224</span>, <span style=\"color: #00af00; text-decoration-color: #00af00\">224</span>, <span style=\"color: #00af00; text-decoration-color: #00af00\">32</span>)        │           <span style=\"color: #00af00; text-decoration-color: #00af00\">9,248</span> │\n",
       "├──────────────────────────────────────┼─────────────────────────────┼─────────────────┤\n",
       "│ batch_normalization_5                │ (<span style=\"color: #00d7ff; text-decoration-color: #00d7ff\">None</span>, <span style=\"color: #00af00; text-decoration-color: #00af00\">224</span>, <span style=\"color: #00af00; text-decoration-color: #00af00\">224</span>, <span style=\"color: #00af00; text-decoration-color: #00af00\">32</span>)        │             <span style=\"color: #00af00; text-decoration-color: #00af00\">128</span> │\n",
       "│ (<span style=\"color: #0087ff; text-decoration-color: #0087ff\">BatchNormalization</span>)                 │                             │                 │\n",
       "├──────────────────────────────────────┼─────────────────────────────┼─────────────────┤\n",
       "│ max_pooling2d_11 (<span style=\"color: #0087ff; text-decoration-color: #0087ff\">MaxPooling2D</span>)      │ (<span style=\"color: #00d7ff; text-decoration-color: #00d7ff\">None</span>, <span style=\"color: #00af00; text-decoration-color: #00af00\">112</span>, <span style=\"color: #00af00; text-decoration-color: #00af00\">112</span>, <span style=\"color: #00af00; text-decoration-color: #00af00\">32</span>)        │               <span style=\"color: #00af00; text-decoration-color: #00af00\">0</span> │\n",
       "├──────────────────────────────────────┼─────────────────────────────┼─────────────────┤\n",
       "│ conv2d_13 (<span style=\"color: #0087ff; text-decoration-color: #0087ff\">Conv2D</span>)                   │ (<span style=\"color: #00d7ff; text-decoration-color: #00d7ff\">None</span>, <span style=\"color: #00af00; text-decoration-color: #00af00\">112</span>, <span style=\"color: #00af00; text-decoration-color: #00af00\">112</span>, <span style=\"color: #00af00; text-decoration-color: #00af00\">64</span>)        │          <span style=\"color: #00af00; text-decoration-color: #00af00\">18,496</span> │\n",
       "├──────────────────────────────────────┼─────────────────────────────┼─────────────────┤\n",
       "│ batch_normalization_6                │ (<span style=\"color: #00d7ff; text-decoration-color: #00d7ff\">None</span>, <span style=\"color: #00af00; text-decoration-color: #00af00\">112</span>, <span style=\"color: #00af00; text-decoration-color: #00af00\">112</span>, <span style=\"color: #00af00; text-decoration-color: #00af00\">64</span>)        │             <span style=\"color: #00af00; text-decoration-color: #00af00\">256</span> │\n",
       "│ (<span style=\"color: #0087ff; text-decoration-color: #0087ff\">BatchNormalization</span>)                 │                             │                 │\n",
       "├──────────────────────────────────────┼─────────────────────────────┼─────────────────┤\n",
       "│ conv2d_14 (<span style=\"color: #0087ff; text-decoration-color: #0087ff\">Conv2D</span>)                   │ (<span style=\"color: #00d7ff; text-decoration-color: #00d7ff\">None</span>, <span style=\"color: #00af00; text-decoration-color: #00af00\">112</span>, <span style=\"color: #00af00; text-decoration-color: #00af00\">112</span>, <span style=\"color: #00af00; text-decoration-color: #00af00\">64</span>)        │          <span style=\"color: #00af00; text-decoration-color: #00af00\">36,928</span> │\n",
       "├──────────────────────────────────────┼─────────────────────────────┼─────────────────┤\n",
       "│ batch_normalization_7                │ (<span style=\"color: #00d7ff; text-decoration-color: #00d7ff\">None</span>, <span style=\"color: #00af00; text-decoration-color: #00af00\">112</span>, <span style=\"color: #00af00; text-decoration-color: #00af00\">112</span>, <span style=\"color: #00af00; text-decoration-color: #00af00\">64</span>)        │             <span style=\"color: #00af00; text-decoration-color: #00af00\">256</span> │\n",
       "│ (<span style=\"color: #0087ff; text-decoration-color: #0087ff\">BatchNormalization</span>)                 │                             │                 │\n",
       "├──────────────────────────────────────┼─────────────────────────────┼─────────────────┤\n",
       "│ max_pooling2d_12 (<span style=\"color: #0087ff; text-decoration-color: #0087ff\">MaxPooling2D</span>)      │ (<span style=\"color: #00d7ff; text-decoration-color: #00d7ff\">None</span>, <span style=\"color: #00af00; text-decoration-color: #00af00\">56</span>, <span style=\"color: #00af00; text-decoration-color: #00af00\">56</span>, <span style=\"color: #00af00; text-decoration-color: #00af00\">64</span>)          │               <span style=\"color: #00af00; text-decoration-color: #00af00\">0</span> │\n",
       "├──────────────────────────────────────┼─────────────────────────────┼─────────────────┤\n",
       "│ conv2d_15 (<span style=\"color: #0087ff; text-decoration-color: #0087ff\">Conv2D</span>)                   │ (<span style=\"color: #00d7ff; text-decoration-color: #00d7ff\">None</span>, <span style=\"color: #00af00; text-decoration-color: #00af00\">56</span>, <span style=\"color: #00af00; text-decoration-color: #00af00\">56</span>, <span style=\"color: #00af00; text-decoration-color: #00af00\">128</span>)         │          <span style=\"color: #00af00; text-decoration-color: #00af00\">73,856</span> │\n",
       "├──────────────────────────────────────┼─────────────────────────────┼─────────────────┤\n",
       "│ batch_normalization_8                │ (<span style=\"color: #00d7ff; text-decoration-color: #00d7ff\">None</span>, <span style=\"color: #00af00; text-decoration-color: #00af00\">56</span>, <span style=\"color: #00af00; text-decoration-color: #00af00\">56</span>, <span style=\"color: #00af00; text-decoration-color: #00af00\">128</span>)         │             <span style=\"color: #00af00; text-decoration-color: #00af00\">512</span> │\n",
       "│ (<span style=\"color: #0087ff; text-decoration-color: #0087ff\">BatchNormalization</span>)                 │                             │                 │\n",
       "├──────────────────────────────────────┼─────────────────────────────┼─────────────────┤\n",
       "│ conv2d_16 (<span style=\"color: #0087ff; text-decoration-color: #0087ff\">Conv2D</span>)                   │ (<span style=\"color: #00d7ff; text-decoration-color: #00d7ff\">None</span>, <span style=\"color: #00af00; text-decoration-color: #00af00\">56</span>, <span style=\"color: #00af00; text-decoration-color: #00af00\">56</span>, <span style=\"color: #00af00; text-decoration-color: #00af00\">128</span>)         │         <span style=\"color: #00af00; text-decoration-color: #00af00\">147,584</span> │\n",
       "├──────────────────────────────────────┼─────────────────────────────┼─────────────────┤\n",
       "│ batch_normalization_9                │ (<span style=\"color: #00d7ff; text-decoration-color: #00d7ff\">None</span>, <span style=\"color: #00af00; text-decoration-color: #00af00\">56</span>, <span style=\"color: #00af00; text-decoration-color: #00af00\">56</span>, <span style=\"color: #00af00; text-decoration-color: #00af00\">128</span>)         │             <span style=\"color: #00af00; text-decoration-color: #00af00\">512</span> │\n",
       "│ (<span style=\"color: #0087ff; text-decoration-color: #0087ff\">BatchNormalization</span>)                 │                             │                 │\n",
       "├──────────────────────────────────────┼─────────────────────────────┼─────────────────┤\n",
       "│ max_pooling2d_13 (<span style=\"color: #0087ff; text-decoration-color: #0087ff\">MaxPooling2D</span>)      │ (<span style=\"color: #00d7ff; text-decoration-color: #00d7ff\">None</span>, <span style=\"color: #00af00; text-decoration-color: #00af00\">28</span>, <span style=\"color: #00af00; text-decoration-color: #00af00\">28</span>, <span style=\"color: #00af00; text-decoration-color: #00af00\">128</span>)         │               <span style=\"color: #00af00; text-decoration-color: #00af00\">0</span> │\n",
       "├──────────────────────────────────────┼─────────────────────────────┼─────────────────┤\n",
       "│ conv2d_17 (<span style=\"color: #0087ff; text-decoration-color: #0087ff\">Conv2D</span>)                   │ (<span style=\"color: #00d7ff; text-decoration-color: #00d7ff\">None</span>, <span style=\"color: #00af00; text-decoration-color: #00af00\">28</span>, <span style=\"color: #00af00; text-decoration-color: #00af00\">28</span>, <span style=\"color: #00af00; text-decoration-color: #00af00\">256</span>)         │         <span style=\"color: #00af00; text-decoration-color: #00af00\">295,168</span> │\n",
       "├──────────────────────────────────────┼─────────────────────────────┼─────────────────┤\n",
       "│ batch_normalization_10               │ (<span style=\"color: #00d7ff; text-decoration-color: #00d7ff\">None</span>, <span style=\"color: #00af00; text-decoration-color: #00af00\">28</span>, <span style=\"color: #00af00; text-decoration-color: #00af00\">28</span>, <span style=\"color: #00af00; text-decoration-color: #00af00\">256</span>)         │           <span style=\"color: #00af00; text-decoration-color: #00af00\">1,024</span> │\n",
       "│ (<span style=\"color: #0087ff; text-decoration-color: #0087ff\">BatchNormalization</span>)                 │                             │                 │\n",
       "├──────────────────────────────────────┼─────────────────────────────┼─────────────────┤\n",
       "│ conv2d_18 (<span style=\"color: #0087ff; text-decoration-color: #0087ff\">Conv2D</span>)                   │ (<span style=\"color: #00d7ff; text-decoration-color: #00d7ff\">None</span>, <span style=\"color: #00af00; text-decoration-color: #00af00\">28</span>, <span style=\"color: #00af00; text-decoration-color: #00af00\">28</span>, <span style=\"color: #00af00; text-decoration-color: #00af00\">256</span>)         │         <span style=\"color: #00af00; text-decoration-color: #00af00\">590,080</span> │\n",
       "├──────────────────────────────────────┼─────────────────────────────┼─────────────────┤\n",
       "│ batch_normalization_11               │ (<span style=\"color: #00d7ff; text-decoration-color: #00d7ff\">None</span>, <span style=\"color: #00af00; text-decoration-color: #00af00\">28</span>, <span style=\"color: #00af00; text-decoration-color: #00af00\">28</span>, <span style=\"color: #00af00; text-decoration-color: #00af00\">256</span>)         │           <span style=\"color: #00af00; text-decoration-color: #00af00\">1,024</span> │\n",
       "│ (<span style=\"color: #0087ff; text-decoration-color: #0087ff\">BatchNormalization</span>)                 │                             │                 │\n",
       "├──────────────────────────────────────┼─────────────────────────────┼─────────────────┤\n",
       "│ max_pooling2d_14 (<span style=\"color: #0087ff; text-decoration-color: #0087ff\">MaxPooling2D</span>)      │ (<span style=\"color: #00d7ff; text-decoration-color: #00d7ff\">None</span>, <span style=\"color: #00af00; text-decoration-color: #00af00\">14</span>, <span style=\"color: #00af00; text-decoration-color: #00af00\">14</span>, <span style=\"color: #00af00; text-decoration-color: #00af00\">256</span>)         │               <span style=\"color: #00af00; text-decoration-color: #00af00\">0</span> │\n",
       "├──────────────────────────────────────┼─────────────────────────────┼─────────────────┤\n",
       "│ global_average_pooling2d_5           │ (<span style=\"color: #00d7ff; text-decoration-color: #00d7ff\">None</span>, <span style=\"color: #00af00; text-decoration-color: #00af00\">256</span>)                 │               <span style=\"color: #00af00; text-decoration-color: #00af00\">0</span> │\n",
       "│ (<span style=\"color: #0087ff; text-decoration-color: #0087ff\">GlobalAveragePooling2D</span>)             │                             │                 │\n",
       "├──────────────────────────────────────┼─────────────────────────────┼─────────────────┤\n",
       "│ dense_10 (<span style=\"color: #0087ff; text-decoration-color: #0087ff\">Dense</span>)                     │ (<span style=\"color: #00d7ff; text-decoration-color: #00d7ff\">None</span>, <span style=\"color: #00af00; text-decoration-color: #00af00\">128</span>)                 │          <span style=\"color: #00af00; text-decoration-color: #00af00\">32,896</span> │\n",
       "├──────────────────────────────────────┼─────────────────────────────┼─────────────────┤\n",
       "│ batch_normalization_12               │ (<span style=\"color: #00d7ff; text-decoration-color: #00d7ff\">None</span>, <span style=\"color: #00af00; text-decoration-color: #00af00\">128</span>)                 │             <span style=\"color: #00af00; text-decoration-color: #00af00\">512</span> │\n",
       "│ (<span style=\"color: #0087ff; text-decoration-color: #0087ff\">BatchNormalization</span>)                 │                             │                 │\n",
       "├──────────────────────────────────────┼─────────────────────────────┼─────────────────┤\n",
       "│ dropout_1 (<span style=\"color: #0087ff; text-decoration-color: #0087ff\">Dropout</span>)                  │ (<span style=\"color: #00d7ff; text-decoration-color: #00d7ff\">None</span>, <span style=\"color: #00af00; text-decoration-color: #00af00\">128</span>)                 │               <span style=\"color: #00af00; text-decoration-color: #00af00\">0</span> │\n",
       "├──────────────────────────────────────┼─────────────────────────────┼─────────────────┤\n",
       "│ dense_11 (<span style=\"color: #0087ff; text-decoration-color: #0087ff\">Dense</span>)                     │ (<span style=\"color: #00d7ff; text-decoration-color: #00d7ff\">None</span>, <span style=\"color: #00af00; text-decoration-color: #00af00\">64</span>)                  │           <span style=\"color: #00af00; text-decoration-color: #00af00\">8,256</span> │\n",
       "├──────────────────────────────────────┼─────────────────────────────┼─────────────────┤\n",
       "│ batch_normalization_13               │ (<span style=\"color: #00d7ff; text-decoration-color: #00d7ff\">None</span>, <span style=\"color: #00af00; text-decoration-color: #00af00\">64</span>)                  │             <span style=\"color: #00af00; text-decoration-color: #00af00\">256</span> │\n",
       "│ (<span style=\"color: #0087ff; text-decoration-color: #0087ff\">BatchNormalization</span>)                 │                             │                 │\n",
       "├──────────────────────────────────────┼─────────────────────────────┼─────────────────┤\n",
       "│ dropout_2 (<span style=\"color: #0087ff; text-decoration-color: #0087ff\">Dropout</span>)                  │ (<span style=\"color: #00d7ff; text-decoration-color: #00d7ff\">None</span>, <span style=\"color: #00af00; text-decoration-color: #00af00\">64</span>)                  │               <span style=\"color: #00af00; text-decoration-color: #00af00\">0</span> │\n",
       "├──────────────────────────────────────┼─────────────────────────────┼─────────────────┤\n",
       "│ dense_12 (<span style=\"color: #0087ff; text-decoration-color: #0087ff\">Dense</span>)                     │ (<span style=\"color: #00d7ff; text-decoration-color: #00d7ff\">None</span>, <span style=\"color: #00af00; text-decoration-color: #00af00\">11</span>)                  │             <span style=\"color: #00af00; text-decoration-color: #00af00\">715</span> │\n",
       "└──────────────────────────────────────┴─────────────────────────────┴─────────────────┘\n",
       "</pre>\n"
      ],
      "text/plain": [
       "┏━━━━━━━━━━━━━━━━━━━━━━━━━━━━━━━━━━━━━━┳━━━━━━━━━━━━━━━━━━━━━━━━━━━━━┳━━━━━━━━━━━━━━━━━┓\n",
       "┃\u001b[1m \u001b[0m\u001b[1mLayer (type)                        \u001b[0m\u001b[1m \u001b[0m┃\u001b[1m \u001b[0m\u001b[1mOutput Shape               \u001b[0m\u001b[1m \u001b[0m┃\u001b[1m \u001b[0m\u001b[1m        Param #\u001b[0m\u001b[1m \u001b[0m┃\n",
       "┡━━━━━━━━━━━━━━━━━━━━━━━━━━━━━━━━━━━━━━╇━━━━━━━━━━━━━━━━━━━━━━━━━━━━━╇━━━━━━━━━━━━━━━━━┩\n",
       "│ conv2d_11 (\u001b[38;5;33mConv2D\u001b[0m)                   │ (\u001b[38;5;45mNone\u001b[0m, \u001b[38;5;34m224\u001b[0m, \u001b[38;5;34m224\u001b[0m, \u001b[38;5;34m32\u001b[0m)        │             \u001b[38;5;34m896\u001b[0m │\n",
       "├──────────────────────────────────────┼─────────────────────────────┼─────────────────┤\n",
       "│ batch_normalization_4                │ (\u001b[38;5;45mNone\u001b[0m, \u001b[38;5;34m224\u001b[0m, \u001b[38;5;34m224\u001b[0m, \u001b[38;5;34m32\u001b[0m)        │             \u001b[38;5;34m128\u001b[0m │\n",
       "│ (\u001b[38;5;33mBatchNormalization\u001b[0m)                 │                             │                 │\n",
       "├──────────────────────────────────────┼─────────────────────────────┼─────────────────┤\n",
       "│ conv2d_12 (\u001b[38;5;33mConv2D\u001b[0m)                   │ (\u001b[38;5;45mNone\u001b[0m, \u001b[38;5;34m224\u001b[0m, \u001b[38;5;34m224\u001b[0m, \u001b[38;5;34m32\u001b[0m)        │           \u001b[38;5;34m9,248\u001b[0m │\n",
       "├──────────────────────────────────────┼─────────────────────────────┼─────────────────┤\n",
       "│ batch_normalization_5                │ (\u001b[38;5;45mNone\u001b[0m, \u001b[38;5;34m224\u001b[0m, \u001b[38;5;34m224\u001b[0m, \u001b[38;5;34m32\u001b[0m)        │             \u001b[38;5;34m128\u001b[0m │\n",
       "│ (\u001b[38;5;33mBatchNormalization\u001b[0m)                 │                             │                 │\n",
       "├──────────────────────────────────────┼─────────────────────────────┼─────────────────┤\n",
       "│ max_pooling2d_11 (\u001b[38;5;33mMaxPooling2D\u001b[0m)      │ (\u001b[38;5;45mNone\u001b[0m, \u001b[38;5;34m112\u001b[0m, \u001b[38;5;34m112\u001b[0m, \u001b[38;5;34m32\u001b[0m)        │               \u001b[38;5;34m0\u001b[0m │\n",
       "├──────────────────────────────────────┼─────────────────────────────┼─────────────────┤\n",
       "│ conv2d_13 (\u001b[38;5;33mConv2D\u001b[0m)                   │ (\u001b[38;5;45mNone\u001b[0m, \u001b[38;5;34m112\u001b[0m, \u001b[38;5;34m112\u001b[0m, \u001b[38;5;34m64\u001b[0m)        │          \u001b[38;5;34m18,496\u001b[0m │\n",
       "├──────────────────────────────────────┼─────────────────────────────┼─────────────────┤\n",
       "│ batch_normalization_6                │ (\u001b[38;5;45mNone\u001b[0m, \u001b[38;5;34m112\u001b[0m, \u001b[38;5;34m112\u001b[0m, \u001b[38;5;34m64\u001b[0m)        │             \u001b[38;5;34m256\u001b[0m │\n",
       "│ (\u001b[38;5;33mBatchNormalization\u001b[0m)                 │                             │                 │\n",
       "├──────────────────────────────────────┼─────────────────────────────┼─────────────────┤\n",
       "│ conv2d_14 (\u001b[38;5;33mConv2D\u001b[0m)                   │ (\u001b[38;5;45mNone\u001b[0m, \u001b[38;5;34m112\u001b[0m, \u001b[38;5;34m112\u001b[0m, \u001b[38;5;34m64\u001b[0m)        │          \u001b[38;5;34m36,928\u001b[0m │\n",
       "├──────────────────────────────────────┼─────────────────────────────┼─────────────────┤\n",
       "│ batch_normalization_7                │ (\u001b[38;5;45mNone\u001b[0m, \u001b[38;5;34m112\u001b[0m, \u001b[38;5;34m112\u001b[0m, \u001b[38;5;34m64\u001b[0m)        │             \u001b[38;5;34m256\u001b[0m │\n",
       "│ (\u001b[38;5;33mBatchNormalization\u001b[0m)                 │                             │                 │\n",
       "├──────────────────────────────────────┼─────────────────────────────┼─────────────────┤\n",
       "│ max_pooling2d_12 (\u001b[38;5;33mMaxPooling2D\u001b[0m)      │ (\u001b[38;5;45mNone\u001b[0m, \u001b[38;5;34m56\u001b[0m, \u001b[38;5;34m56\u001b[0m, \u001b[38;5;34m64\u001b[0m)          │               \u001b[38;5;34m0\u001b[0m │\n",
       "├──────────────────────────────────────┼─────────────────────────────┼─────────────────┤\n",
       "│ conv2d_15 (\u001b[38;5;33mConv2D\u001b[0m)                   │ (\u001b[38;5;45mNone\u001b[0m, \u001b[38;5;34m56\u001b[0m, \u001b[38;5;34m56\u001b[0m, \u001b[38;5;34m128\u001b[0m)         │          \u001b[38;5;34m73,856\u001b[0m │\n",
       "├──────────────────────────────────────┼─────────────────────────────┼─────────────────┤\n",
       "│ batch_normalization_8                │ (\u001b[38;5;45mNone\u001b[0m, \u001b[38;5;34m56\u001b[0m, \u001b[38;5;34m56\u001b[0m, \u001b[38;5;34m128\u001b[0m)         │             \u001b[38;5;34m512\u001b[0m │\n",
       "│ (\u001b[38;5;33mBatchNormalization\u001b[0m)                 │                             │                 │\n",
       "├──────────────────────────────────────┼─────────────────────────────┼─────────────────┤\n",
       "│ conv2d_16 (\u001b[38;5;33mConv2D\u001b[0m)                   │ (\u001b[38;5;45mNone\u001b[0m, \u001b[38;5;34m56\u001b[0m, \u001b[38;5;34m56\u001b[0m, \u001b[38;5;34m128\u001b[0m)         │         \u001b[38;5;34m147,584\u001b[0m │\n",
       "├──────────────────────────────────────┼─────────────────────────────┼─────────────────┤\n",
       "│ batch_normalization_9                │ (\u001b[38;5;45mNone\u001b[0m, \u001b[38;5;34m56\u001b[0m, \u001b[38;5;34m56\u001b[0m, \u001b[38;5;34m128\u001b[0m)         │             \u001b[38;5;34m512\u001b[0m │\n",
       "│ (\u001b[38;5;33mBatchNormalization\u001b[0m)                 │                             │                 │\n",
       "├──────────────────────────────────────┼─────────────────────────────┼─────────────────┤\n",
       "│ max_pooling2d_13 (\u001b[38;5;33mMaxPooling2D\u001b[0m)      │ (\u001b[38;5;45mNone\u001b[0m, \u001b[38;5;34m28\u001b[0m, \u001b[38;5;34m28\u001b[0m, \u001b[38;5;34m128\u001b[0m)         │               \u001b[38;5;34m0\u001b[0m │\n",
       "├──────────────────────────────────────┼─────────────────────────────┼─────────────────┤\n",
       "│ conv2d_17 (\u001b[38;5;33mConv2D\u001b[0m)                   │ (\u001b[38;5;45mNone\u001b[0m, \u001b[38;5;34m28\u001b[0m, \u001b[38;5;34m28\u001b[0m, \u001b[38;5;34m256\u001b[0m)         │         \u001b[38;5;34m295,168\u001b[0m │\n",
       "├──────────────────────────────────────┼─────────────────────────────┼─────────────────┤\n",
       "│ batch_normalization_10               │ (\u001b[38;5;45mNone\u001b[0m, \u001b[38;5;34m28\u001b[0m, \u001b[38;5;34m28\u001b[0m, \u001b[38;5;34m256\u001b[0m)         │           \u001b[38;5;34m1,024\u001b[0m │\n",
       "│ (\u001b[38;5;33mBatchNormalization\u001b[0m)                 │                             │                 │\n",
       "├──────────────────────────────────────┼─────────────────────────────┼─────────────────┤\n",
       "│ conv2d_18 (\u001b[38;5;33mConv2D\u001b[0m)                   │ (\u001b[38;5;45mNone\u001b[0m, \u001b[38;5;34m28\u001b[0m, \u001b[38;5;34m28\u001b[0m, \u001b[38;5;34m256\u001b[0m)         │         \u001b[38;5;34m590,080\u001b[0m │\n",
       "├──────────────────────────────────────┼─────────────────────────────┼─────────────────┤\n",
       "│ batch_normalization_11               │ (\u001b[38;5;45mNone\u001b[0m, \u001b[38;5;34m28\u001b[0m, \u001b[38;5;34m28\u001b[0m, \u001b[38;5;34m256\u001b[0m)         │           \u001b[38;5;34m1,024\u001b[0m │\n",
       "│ (\u001b[38;5;33mBatchNormalization\u001b[0m)                 │                             │                 │\n",
       "├──────────────────────────────────────┼─────────────────────────────┼─────────────────┤\n",
       "│ max_pooling2d_14 (\u001b[38;5;33mMaxPooling2D\u001b[0m)      │ (\u001b[38;5;45mNone\u001b[0m, \u001b[38;5;34m14\u001b[0m, \u001b[38;5;34m14\u001b[0m, \u001b[38;5;34m256\u001b[0m)         │               \u001b[38;5;34m0\u001b[0m │\n",
       "├──────────────────────────────────────┼─────────────────────────────┼─────────────────┤\n",
       "│ global_average_pooling2d_5           │ (\u001b[38;5;45mNone\u001b[0m, \u001b[38;5;34m256\u001b[0m)                 │               \u001b[38;5;34m0\u001b[0m │\n",
       "│ (\u001b[38;5;33mGlobalAveragePooling2D\u001b[0m)             │                             │                 │\n",
       "├──────────────────────────────────────┼─────────────────────────────┼─────────────────┤\n",
       "│ dense_10 (\u001b[38;5;33mDense\u001b[0m)                     │ (\u001b[38;5;45mNone\u001b[0m, \u001b[38;5;34m128\u001b[0m)                 │          \u001b[38;5;34m32,896\u001b[0m │\n",
       "├──────────────────────────────────────┼─────────────────────────────┼─────────────────┤\n",
       "│ batch_normalization_12               │ (\u001b[38;5;45mNone\u001b[0m, \u001b[38;5;34m128\u001b[0m)                 │             \u001b[38;5;34m512\u001b[0m │\n",
       "│ (\u001b[38;5;33mBatchNormalization\u001b[0m)                 │                             │                 │\n",
       "├──────────────────────────────────────┼─────────────────────────────┼─────────────────┤\n",
       "│ dropout_1 (\u001b[38;5;33mDropout\u001b[0m)                  │ (\u001b[38;5;45mNone\u001b[0m, \u001b[38;5;34m128\u001b[0m)                 │               \u001b[38;5;34m0\u001b[0m │\n",
       "├──────────────────────────────────────┼─────────────────────────────┼─────────────────┤\n",
       "│ dense_11 (\u001b[38;5;33mDense\u001b[0m)                     │ (\u001b[38;5;45mNone\u001b[0m, \u001b[38;5;34m64\u001b[0m)                  │           \u001b[38;5;34m8,256\u001b[0m │\n",
       "├──────────────────────────────────────┼─────────────────────────────┼─────────────────┤\n",
       "│ batch_normalization_13               │ (\u001b[38;5;45mNone\u001b[0m, \u001b[38;5;34m64\u001b[0m)                  │             \u001b[38;5;34m256\u001b[0m │\n",
       "│ (\u001b[38;5;33mBatchNormalization\u001b[0m)                 │                             │                 │\n",
       "├──────────────────────────────────────┼─────────────────────────────┼─────────────────┤\n",
       "│ dropout_2 (\u001b[38;5;33mDropout\u001b[0m)                  │ (\u001b[38;5;45mNone\u001b[0m, \u001b[38;5;34m64\u001b[0m)                  │               \u001b[38;5;34m0\u001b[0m │\n",
       "├──────────────────────────────────────┼─────────────────────────────┼─────────────────┤\n",
       "│ dense_12 (\u001b[38;5;33mDense\u001b[0m)                     │ (\u001b[38;5;45mNone\u001b[0m, \u001b[38;5;34m11\u001b[0m)                  │             \u001b[38;5;34m715\u001b[0m │\n",
       "└──────────────────────────────────────┴─────────────────────────────┴─────────────────┘\n"
      ]
     },
     "metadata": {},
     "output_type": "display_data"
    },
    {
     "data": {
      "text/html": [
       "<pre style=\"white-space:pre;overflow-x:auto;line-height:normal;font-family:Menlo,'DejaVu Sans Mono',consolas,'Courier New',monospace\"><span style=\"font-weight: bold\"> Total params: </span><span style=\"color: #00af00; text-decoration-color: #00af00\">1,218,731</span> (4.65 MB)\n",
       "</pre>\n"
      ],
      "text/plain": [
       "\u001b[1m Total params: \u001b[0m\u001b[38;5;34m1,218,731\u001b[0m (4.65 MB)\n"
      ]
     },
     "metadata": {},
     "output_type": "display_data"
    },
    {
     "data": {
      "text/html": [
       "<pre style=\"white-space:pre;overflow-x:auto;line-height:normal;font-family:Menlo,'DejaVu Sans Mono',consolas,'Courier New',monospace\"><span style=\"font-weight: bold\"> Trainable params: </span><span style=\"color: #00af00; text-decoration-color: #00af00\">1,216,427</span> (4.64 MB)\n",
       "</pre>\n"
      ],
      "text/plain": [
       "\u001b[1m Trainable params: \u001b[0m\u001b[38;5;34m1,216,427\u001b[0m (4.64 MB)\n"
      ]
     },
     "metadata": {},
     "output_type": "display_data"
    },
    {
     "data": {
      "text/html": [
       "<pre style=\"white-space:pre;overflow-x:auto;line-height:normal;font-family:Menlo,'DejaVu Sans Mono',consolas,'Courier New',monospace\"><span style=\"font-weight: bold\"> Non-trainable params: </span><span style=\"color: #00af00; text-decoration-color: #00af00\">2,304</span> (9.00 KB)\n",
       "</pre>\n"
      ],
      "text/plain": [
       "\u001b[1m Non-trainable params: \u001b[0m\u001b[38;5;34m2,304\u001b[0m (9.00 KB)\n"
      ]
     },
     "metadata": {},
     "output_type": "display_data"
    }
   ],
   "source": [
    "deeper_cnn = create_deeper_cnn(input_shape=input_shape, num_classes=len(unique_students))\n",
    "deeper_cnn.summary()"
   ]
  },
  {
   "cell_type": "code",
   "execution_count": 71,
   "id": "754bbf67-3a70-45d0-bcfd-41e05cd444f5",
   "metadata": {},
   "outputs": [],
   "source": [
    "estop=tf.keras.callbacks.EarlyStopping(monitor=\"val_loss\",patience=5,verbose=1,   \n",
    "                                      restore_best_weights=True)\n",
    "estop_va=tf.keras.callbacks.EarlyStopping(monitor=\"val_accuracy\",patience=3,verbose=1,   \n",
    "                                      restore_best_weights=True)\n",
    "rlronp_vl=tf.keras.callbacks.ReduceLROnPlateau(monitor=\"val_loss\", factor=0.5,\n",
    "                                       patience=2, verbose=1)\n",
    "rlronp_va=tf.keras.callbacks.ReduceLROnPlateau(monitor=\"val_accuracy\", factor=0.5,\n",
    "                                       patience=2, verbose=1)\n",
    "callbacks=[estop, rlronp_vl, rlronp_va, estop_va]"
   ]
  },
  {
   "cell_type": "code",
   "execution_count": 72,
   "id": "bd94f1ad-417e-41be-a7a1-c5bc2146c9b1",
   "metadata": {
    "scrolled": true
   },
   "outputs": [
    {
     "name": "stdout",
     "output_type": "stream",
     "text": [
      "Epoch 1/100\n",
      "\u001b[1m28/28\u001b[0m \u001b[32m━━━━━━━━━━━━━━━━━━━━\u001b[0m\u001b[37m\u001b[0m \u001b[1m74s\u001b[0m 3s/step - accuracy: 0.8791 - loss: 3.0388 - precision_5: 0.9516 - recall_5: 0.7428 - val_accuracy: 0.0808 - val_loss: 5.1493 - val_precision_5: 0.0000e+00 - val_recall_5: 0.0000e+00 - learning_rate: 2.5000e-04\n",
      "Epoch 2/100\n",
      "\u001b[1m28/28\u001b[0m \u001b[32m━━━━━━━━━━━━━━━━━━━━\u001b[0m\u001b[37m\u001b[0m \u001b[1m72s\u001b[0m 3s/step - accuracy: 0.8809 - loss: 3.0202 - precision_5: 0.9505 - recall_5: 0.7723 - val_accuracy: 0.0808 - val_loss: 5.1876 - val_precision_5: 0.0000e+00 - val_recall_5: 0.0000e+00 - learning_rate: 2.5000e-04\n",
      "Epoch 3/100\n",
      "\u001b[1m28/28\u001b[0m \u001b[32m━━━━━━━━━━━━━━━━━━━━\u001b[0m\u001b[37m\u001b[0m \u001b[1m0s\u001b[0m 3s/step - accuracy: 0.9122 - loss: 2.9646 - precision_5: 0.9682 - recall_5: 0.7856\n",
      "Epoch 3: ReduceLROnPlateau reducing learning rate to 0.0001250000059371814.\n",
      "\n",
      "Epoch 3: ReduceLROnPlateau reducing learning rate to 6.25000029685907e-05.\n",
      "\u001b[1m28/28\u001b[0m \u001b[32m━━━━━━━━━━━━━━━━━━━━\u001b[0m\u001b[37m\u001b[0m \u001b[1m74s\u001b[0m 3s/step - accuracy: 0.9118 - loss: 2.9645 - precision_5: 0.9678 - recall_5: 0.7857 - val_accuracy: 0.0808 - val_loss: 5.1608 - val_precision_5: 0.0000e+00 - val_recall_5: 0.0000e+00 - learning_rate: 1.2500e-04\n",
      "Epoch 4/100\n",
      "\u001b[1m28/28\u001b[0m \u001b[32m━━━━━━━━━━━━━━━━━━━━\u001b[0m\u001b[37m\u001b[0m \u001b[1m76s\u001b[0m 3s/step - accuracy: 0.9091 - loss: 2.9598 - precision_5: 0.9673 - recall_5: 0.8031 - val_accuracy: 0.1717 - val_loss: 5.1679 - val_precision_5: 0.0000e+00 - val_recall_5: 0.0000e+00 - learning_rate: 6.2500e-05\n",
      "Epoch 5/100\n",
      "\u001b[1m28/28\u001b[0m \u001b[32m━━━━━━━━━━━━━━━━━━━━\u001b[0m\u001b[37m\u001b[0m \u001b[1m0s\u001b[0m 3s/step - accuracy: 0.8875 - loss: 2.9837 - precision_5: 0.9543 - recall_5: 0.7693\n",
      "Epoch 5: ReduceLROnPlateau reducing learning rate to 3.125000148429535e-05.\n",
      "\u001b[1m28/28\u001b[0m \u001b[32m━━━━━━━━━━━━━━━━━━━━\u001b[0m\u001b[37m\u001b[0m \u001b[1m73s\u001b[0m 3s/step - accuracy: 0.8879 - loss: 2.9828 - precision_5: 0.9546 - recall_5: 0.7702 - val_accuracy: 0.0909 - val_loss: 5.2794 - val_precision_5: 0.0000e+00 - val_recall_5: 0.0000e+00 - learning_rate: 3.1250e-05\n",
      "Epoch 6/100\n",
      "\u001b[1m28/28\u001b[0m \u001b[32m━━━━━━━━━━━━━━━━━━━━\u001b[0m\u001b[37m\u001b[0m \u001b[1m0s\u001b[0m 3s/step - accuracy: 0.9163 - loss: 2.9336 - precision_5: 0.9694 - recall_5: 0.8111\n",
      "Epoch 6: ReduceLROnPlateau reducing learning rate to 1.5625000742147677e-05.\n",
      "\u001b[1m28/28\u001b[0m \u001b[32m━━━━━━━━━━━━━━━━━━━━\u001b[0m\u001b[37m\u001b[0m \u001b[1m76s\u001b[0m 3s/step - accuracy: 0.9159 - loss: 2.9337 - precision_5: 0.9691 - recall_5: 0.8110 - val_accuracy: 0.0909 - val_loss: 5.5496 - val_precision_5: 0.1169 - val_recall_5: 0.0909 - learning_rate: 3.1250e-05\n",
      "Epoch 6: early stopping\n",
      "Restoring model weights from the end of the best epoch: 1.\n",
      "Restoring model weights from the end of the best epoch: 4.\n"
     ]
    }
   ],
   "source": [
    "model_6, history_6 = train_model_rms(deeper_cnn, train_data, val_data, epochs=100, callbacks=callbacks)"
   ]
  },
  {
   "cell_type": "code",
   "execution_count": 73,
   "id": "1866aa78-a7c2-4295-80ca-9e5a650ae606",
   "metadata": {},
   "outputs": [
    {
     "data": {
      "image/png": "[encoded data removed]",
      "text/plain": [
       "<Figure size 1400x500 with 2 Axes>"
      ]
     },
     "metadata": {},
     "output_type": "display_data"
    }
   ],
   "source": [
    "plot_training_history(history_6)"
   ]
  },
  {
   "cell_type": "code",
   "execution_count": 74,
   "id": "354eb040-0294-434f-8956-e767e48d6cb6",
   "metadata": {},
   "outputs": [
    {
     "name": "stderr",
     "output_type": "stream",
     "text": [
      "WARNING:absl:You are saving your model as an HDF5 file via `model.save()` or `keras.saving.save_model(model)`. This file format is considered legacy. We recommend using instead the native Keras format, e.g. `model.save('my_model.keras')` or `keras.saving.save_model(model, 'my_model.keras')`. \n"
     ]
    },
    {
     "name": "stdout",
     "output_type": "stream",
     "text": [
      "Model saved as Models/D_v2/Deeper-CNN_20240720_001257.h5\n"
     ]
    }
   ],
   "source": [
    "save_this_model(model_6, suffix=\"Deeper-CNN\", extra_dir=\"D_v2\")"
   ]
  },
  {
   "cell_type": "code",
   "execution_count": 75,
   "id": "f3c5ae49-2282-4a4c-8cd4-a1fd57001ffd",
   "metadata": {},
   "outputs": [
    {
     "name": "stdout",
     "output_type": "stream",
     "text": [
      "Plot saved successfully...\n"
     ]
    }
   ],
   "source": [
    "save_history_plot(history_6, \"Deeper-CNN-990\", \"Plots\")"
   ]
  },
  {
   "cell_type": "code",
   "execution_count": 76,
   "id": "510b880d-4337-4593-b63a-7d88708fc99a",
   "metadata": {},
   "outputs": [
    {
     "name": "stdout",
     "output_type": "stream",
     "text": [
      "\u001b[1m28/28\u001b[0m \u001b[32m━━━━━━━━━━━━━━━━━━━━\u001b[0m\u001b[37m\u001b[0m \u001b[1m14s\u001b[0m 495ms/step - accuracy: 0.1706 - loss: 5.1359 - precision_5: 0.0000e+00 - recall_5: 0.0000e+00\n"
     ]
    },
    {
     "data": {
      "text/plain": [
       "[5.130350589752197, 0.17732883989810944, 0.0, 0.0]"
      ]
     },
     "execution_count": 76,
     "metadata": {},
     "output_type": "execute_result"
    }
   ],
   "source": [
    "model_6.evaluate(train_data)"
   ]
  },
  {
   "cell_type": "markdown",
   "id": "8be41708-e4eb-4b0a-b248-b272b75f9874",
   "metadata": {},
   "source": [
    "### 7. Pre-Trained Models"
   ]
  },
  {
   "cell_type": "code",
   "execution_count": 147,
   "id": "709e4b0e-92bd-433c-8875-fe40e9ffef13",
   "metadata": {},
   "outputs": [
    {
     "name": "stdout",
     "output_type": "stream",
     "text": [
      "WARNING:tensorflow:From C:\\Users\\Kunjesh\\miniconda3\\Lib\\site-packages\\tf_keras\\src\\losses.py:2976: The name tf.losses.sparse_softmax_cross_entropy is deprecated. Please use tf.compat.v1.losses.sparse_softmax_cross_entropy instead.\n",
      "\n"
     ]
    },
    {
     "name": "stderr",
     "output_type": "stream",
     "text": [
      "WARNING:tensorflow:From C:\\Users\\Kunjesh\\miniconda3\\Lib\\site-packages\\tf_keras\\src\\losses.py:2976: The name tf.losses.sparse_softmax_cross_entropy is deprecated. Please use tf.compat.v1.losses.sparse_softmax_cross_entropy instead.\n",
      "\n"
     ]
    }
   ],
   "source": [
    "import tensorflow_hub as hub"
   ]
  },
  {
   "cell_type": "code",
   "execution_count": 154,
   "id": "edd4badc-a332-4392-88ac-93b53bb865cc",
   "metadata": {},
   "outputs": [
    {
     "data": {
      "text/plain": [
       "'0.16.1'"
      ]
     },
     "execution_count": 154,
     "metadata": {},
     "output_type": "execute_result"
    }
   ],
   "source": [
    "hub.__version__"
   ]
  },
  {
   "cell_type": "code",
   "execution_count": 144,
   "id": "f76eeb6c-a39b-4ec5-bb73-b59b7fb03076",
   "metadata": {},
   "outputs": [
    {
     "name": "stdout",
     "output_type": "stream",
     "text": [
      "Requirement already satisfied: tensorflow_hub==0.15.0 in c:\\users\\kunjesh\\miniconda3\\lib\\site-packages (0.15.0)\n",
      "Requirement already satisfied: numpy>=1.12.0 in c:\\users\\kunjesh\\miniconda3\\lib\\site-packages (from tensorflow_hub==0.15.0) (1.24.3)\n",
      "Requirement already satisfied: protobuf>=3.19.6 in c:\\users\\kunjesh\\miniconda3\\lib\\site-packages (from tensorflow_hub==0.15.0) (4.25.3)\n",
      "Note: you may need to restart the kernel to use updated packages.\n"
     ]
    }
   ],
   "source": [
    "pip install tensorflow_hub==0.15.0"
   ]
  },
  {
   "cell_type": "code",
   "execution_count": 167,
   "id": "dda3c366-a7ad-41d5-9c39-c2976ba964ce",
   "metadata": {},
   "outputs": [],
   "source": [
    "import tensorflow as tf\n",
    "from keras.applications import MobileNet\n",
    "from keras.applications import ResNet50\n",
    "from keras.layers import Dense, GlobalAveragePooling2D\n",
    "from keras.models import Model\n",
    "from keras.optimizers import Adam\n",
    "\n",
    "INPUT_SHAPE = (IMG_SIZE, IMG_SIZE, 3)  # Height, width, channels\n",
    "OUTPUT_SHAPE = len(unique_students)  # Number of classes\n",
    "\n",
    "def build_transfer_learning_model(train_data, val_data, num_classes, learning_rate=0.0001, epochs=10):\n",
    "    # Load the MobileNet model without the top layer\n",
    "    base_model = MobileNet(weights='imagenet', include_top=False, input_shape=(224, 224, 3))\n",
    "\n",
    "    # Freeze the base model\n",
    "    base_model.trainable = False\n",
    "\n",
    "    # Add custom layers on top of the base model\n",
    "    x = base_model.output\n",
    "    x = GlobalAveragePooling2D()(x)\n",
    "    x = Dense(1024, activation='relu')(x)\n",
    "    predictions = Dense(num_classes, activation='softmax')(x)\n",
    "\n",
    "    # Create the complete model\n",
    "    model = Model(inputs=base_model.input, outputs=predictions)\n",
    "\n",
    "    # Compile the model\n",
    "    model.compile(optimizer=Adam(learning_rate=learning_rate),\n",
    "                  loss='categorical_crossentropy',\n",
    "                  metrics=['accuracy'])\n",
    "\n",
    "    # Train the model\n",
    "    history = model.fit(train_data,\n",
    "                        epochs=epochs,\n",
    "                        validation_data=val_data)\n",
    "\n",
    "    return model, history"
   ]
  },
  {
   "cell_type": "code",
   "execution_count": 168,
   "id": "85862baa-ea9b-472a-97da-902c857a6824",
   "metadata": {},
   "outputs": [],
   "source": [
    "# Example usage:\n",
    "# Assuming train_data and val_data are preprocessed data batches\n",
    "# and num_classes is the number of target classes in your dataset.\n",
    "num_classes = len(unique_students)"
   ]
  },
  {
   "cell_type": "code",
   "execution_count": 169,
   "id": "3979ffb1-874c-4c4b-854c-eeb3c4f3868e",
   "metadata": {},
   "outputs": [
    {
     "name": "stdout",
     "output_type": "stream",
     "text": [
      "Epoch 1/10\n",
      "\u001b[1m28/28\u001b[0m \u001b[32m━━━━━━━━━━━━━━━━━━━━\u001b[0m\u001b[37m\u001b[0m \u001b[1m27s\u001b[0m 627ms/step - accuracy: 0.5873 - loss: 1.6200 - val_accuracy: 1.0000 - val_loss: 0.1622\n",
      "Epoch 2/10\n",
      "\u001b[1m28/28\u001b[0m \u001b[32m━━━━━━━━━━━━━━━━━━━━\u001b[0m\u001b[37m\u001b[0m \u001b[1m14s\u001b[0m 482ms/step - accuracy: 1.0000 - loss: 0.1119 - val_accuracy: 1.0000 - val_loss: 0.0316\n",
      "Epoch 3/10\n",
      "\u001b[1m28/28\u001b[0m \u001b[32m━━━━━━━━━━━━━━━━━━━━\u001b[0m\u001b[37m\u001b[0m \u001b[1m14s\u001b[0m 482ms/step - accuracy: 1.0000 - loss: 0.0277 - val_accuracy: 1.0000 - val_loss: 0.0167\n",
      "Epoch 4/10\n",
      "\u001b[1m28/28\u001b[0m \u001b[32m━━━━━━━━━━━━━━━━━━━━\u001b[0m\u001b[37m\u001b[0m \u001b[1m13s\u001b[0m 473ms/step - accuracy: 1.0000 - loss: 0.0162 - val_accuracy: 1.0000 - val_loss: 0.0113\n",
      "Epoch 5/10\n",
      "\u001b[1m28/28\u001b[0m \u001b[32m━━━━━━━━━━━━━━━━━━━━\u001b[0m\u001b[37m\u001b[0m \u001b[1m13s\u001b[0m 468ms/step - accuracy: 1.0000 - loss: 0.0110 - val_accuracy: 1.0000 - val_loss: 0.0082\n",
      "Epoch 6/10\n",
      "\u001b[1m28/28\u001b[0m \u001b[32m━━━━━━━━━━━━━━━━━━━━\u001b[0m\u001b[37m\u001b[0m \u001b[1m13s\u001b[0m 464ms/step - accuracy: 1.0000 - loss: 0.0081 - val_accuracy: 1.0000 - val_loss: 0.0062\n",
      "Epoch 7/10\n",
      "\u001b[1m28/28\u001b[0m \u001b[32m━━━━━━━━━━━━━━━━━━━━\u001b[0m\u001b[37m\u001b[0m \u001b[1m13s\u001b[0m 467ms/step - accuracy: 1.0000 - loss: 0.0063 - val_accuracy: 1.0000 - val_loss: 0.0049\n",
      "Epoch 8/10\n",
      "\u001b[1m28/28\u001b[0m \u001b[32m━━━━━━━━━━━━━━━━━━━━\u001b[0m\u001b[37m\u001b[0m \u001b[1m13s\u001b[0m 470ms/step - accuracy: 1.0000 - loss: 0.0050 - val_accuracy: 1.0000 - val_loss: 0.0040\n",
      "Epoch 9/10\n",
      "\u001b[1m28/28\u001b[0m \u001b[32m━━━━━━━━━━━━━━━━━━━━\u001b[0m\u001b[37m\u001b[0m \u001b[1m13s\u001b[0m 469ms/step - accuracy: 1.0000 - loss: 0.0041 - val_accuracy: 1.0000 - val_loss: 0.0033\n",
      "Epoch 10/10\n",
      "\u001b[1m28/28\u001b[0m \u001b[32m━━━━━━━━━━━━━━━━━━━━\u001b[0m\u001b[37m\u001b[0m \u001b[1m13s\u001b[0m 469ms/step - accuracy: 1.0000 - loss: 0.0034 - val_accuracy: 1.0000 - val_loss: 0.0028\n"
     ]
    }
   ],
   "source": [
    "model, history = build_transfer_learning_model(train_data, val_data, num_classes)"
   ]
  },
  {
   "cell_type": "code",
   "execution_count": 170,
   "id": "ed2c5ecc-931f-4366-a605-70fe2ec42494",
   "metadata": {},
   "outputs": [
    {
     "data": {
      "image/png": "[encoded data removed]",
      "text/plain": [
       "<Figure size 1400x500 with 2 Axes>"
      ]
     },
     "metadata": {},
     "output_type": "display_data"
    }
   ],
   "source": [
    "plot_training_history(history)"
   ]
  },
  {
   "cell_type": "code",
   "execution_count": 179,
   "id": "71296934-dd3c-4f90-8c90-ad32f272f68b",
   "metadata": {},
   "outputs": [
    {
     "name": "stderr",
     "output_type": "stream",
     "text": [
      "WARNING:absl:You are saving your model as an HDF5 file via `model.save()` or `keras.saving.save_model(model)`. This file format is considered legacy. We recommend using instead the native Keras format, e.g. `model.save('my_model.keras')` or `keras.saving.save_model(model, 'my_model.keras')`. \n"
     ]
    },
    {
     "name": "stdout",
     "output_type": "stream",
     "text": [
      "Model saved as Models/D_v2/MobNet-990_20240720_042009.h5\n"
     ]
    }
   ],
   "source": [
    "save_this_model(model, suffix=\"MobNet-990\", extra_dir=\"D_v2\")"
   ]
  },
  {
   "cell_type": "code",
   "execution_count": 180,
   "id": "d86806c2-4697-4646-8e00-c13963f8c04e",
   "metadata": {},
   "outputs": [
    {
     "name": "stdout",
     "output_type": "stream",
     "text": [
      "Plot saved successfully...\n"
     ]
    }
   ],
   "source": [
    "save_history_plot(history, \"MobNet-990\", \"Plots\")"
   ]
  },
  {
   "cell_type": "code",
   "execution_count": 181,
   "id": "41d8fd14-5dd5-42a3-a9b8-bffa85ef7f4a",
   "metadata": {},
   "outputs": [
    {
     "name": "stdout",
     "output_type": "stream",
     "text": [
      "\u001b[1m28/28\u001b[0m \u001b[32m━━━━━━━━━━━━━━━━━━━━\u001b[0m\u001b[37m\u001b[0m \u001b[1m12s\u001b[0m 409ms/step - accuracy: 1.0000 - loss: 0.0030\n"
     ]
    },
    {
     "data": {
      "text/plain": [
       "[0.0029743800405412912, 1.0]"
      ]
     },
     "execution_count": 181,
     "metadata": {},
     "output_type": "execute_result"
    }
   ],
   "source": [
    "model.evaluate(train_data)"
   ]
  },
  {
   "cell_type": "markdown",
   "id": "a54c1ba3-4758-4e2e-a98a-ea682bbe3d43",
   "metadata": {},
   "source": [
    "## Model Comparison"
   ]
  },
  {
   "cell_type": "code",
   "execution_count": 82,
   "id": "983ecb97-4ceb-425e-b13d-998629afb6ad",
   "metadata": {},
   "outputs": [],
   "source": [
    "import pandas as pd\n",
    "\n",
    "def make_comparison_df(model_dir, val_data, df_path=\"\"):\n",
    "\n",
    "    columns = ['Model_path', 'Loss', 'Accuracy', 'Precision', 'Recall']\n",
    "    df = pd.DataFrame(columns=columns)\n",
    "    \n",
    "    for model_name in os.listdir(model_dir):\n",
    "        print(f\"Reading Model : {model_name}\")\n",
    "        model_path = os.path.join(model_dir, model_name)\n",
    "        temp_model = load_model_func(model_path)\n",
    "        loss, acc, prec, recall = temp_model.evaluate(val_data)\n",
    "\n",
    "        loss = round(loss, 4)\n",
    "        acc = round(acc * 100, 4)\n",
    "        prec = round(prec * 100, 4)\n",
    "        recall = round(recall * 100, 4)\n",
    "        \n",
    "        row = {\n",
    "            'Model_path': model_path,\n",
    "            'Loss': loss,\n",
    "            'Accuracy': acc,\n",
    "            'Precision': prec,\n",
    "            'Recall': recall\n",
    "        }\n",
    "\n",
    "        row_df = pd.DataFrame([row])\n",
    "        df = pd.concat([df, row_df], ignore_index=True)\n",
    "\n",
    "    if not df_path:\n",
    "        os.makedirs('Comparison Reports', exist_ok=True)\n",
    "        current_time = datetime.datetime.now().strftime(\"%Y%m%d_%H%M%S\")\n",
    "        df_path = os.path.join('Comparison Reports', f\"model_comparison_{current_time}.csv\")\n",
    "    \n",
    "    df = df.sort_values(by=['Accuracy', 'Precision', 'Recall', \"Loss\"], ascending=False)\n",
    "    \n",
    "    df.to_csv(df_path, index=False)\n",
    "    print(f\"CSV file saved at {df_path}\")\n",
    "    return df"
   ]
  },
  {
   "cell_type": "code",
   "execution_count": 83,
   "id": "afeb5ae6-1d82-426b-8ffb-adf10b78889c",
   "metadata": {
    "scrolled": true
   },
   "outputs": [
    {
     "name": "stderr",
     "output_type": "stream",
     "text": [
      "WARNING:absl:Compiled the loaded model, but the compiled metrics have yet to be built. `model.compile_metrics` will be empty until you train or evaluate the model.\n"
     ]
    },
    {
     "name": "stdout",
     "output_type": "stream",
     "text": [
      "Performance On Training Data...\n",
      "Reading Model : CNN-Adam_20240719_191253.h5\n",
      "Model loaded successfully.\n",
      "\u001b[1m28/28\u001b[0m \u001b[32m━━━━━━━━━━━━━━━━━━━━\u001b[0m\u001b[37m\u001b[0m \u001b[1m1s\u001b[0m 37ms/step - accuracy: 0.1956 - loss: 2.9735 - precision: 0.2156 - recall: 0.1956\n",
      "Reading Model : CNN-Adam_20240719_231809.h5\n"
     ]
    },
    {
     "name": "stderr",
     "output_type": "stream",
     "text": [
      "C:\\Users\\Kunjesh\\AppData\\Local\\Temp\\ipykernel_28796\\1910250005.py:28: FutureWarning: The behavior of DataFrame concatenation with empty or all-NA entries is deprecated. In a future version, this will no longer exclude empty or all-NA columns when determining the result dtypes. To retain the old behavior, exclude the relevant entries before the concat operation.\n",
      "  df = pd.concat([df, row_df], ignore_index=True)\n",
      "WARNING:absl:Compiled the loaded model, but the compiled metrics have yet to be built. `model.compile_metrics` will be empty until you train or evaluate the model.\n"
     ]
    },
    {
     "name": "stdout",
     "output_type": "stream",
     "text": [
      "Model loaded successfully.\n",
      "\u001b[1m28/28\u001b[0m \u001b[32m━━━━━━━━━━━━━━━━━━━━\u001b[0m\u001b[37m\u001b[0m \u001b[1m1s\u001b[0m 37ms/step - accuracy: 0.4617 - loss: 1.7986 - precision: 0.6514 - recall: 0.3753\n",
      "Reading Model : CNN-GAP-Adam_20240719_194526.h5\n"
     ]
    },
    {
     "name": "stderr",
     "output_type": "stream",
     "text": [
      "WARNING:absl:Compiled the loaded model, but the compiled metrics have yet to be built. `model.compile_metrics` will be empty until you train or evaluate the model.\n"
     ]
    },
    {
     "name": "stdout",
     "output_type": "stream",
     "text": [
      "Model loaded successfully.\n",
      "\u001b[1m28/28\u001b[0m \u001b[32m━━━━━━━━━━━━━━━━━━━━\u001b[0m\u001b[37m\u001b[0m \u001b[1m1s\u001b[0m 37ms/step - accuracy: 0.8671 - loss: 1.2100 - precision_4: 0.8747 - recall_4: 0.8424\n"
     ]
    },
    {
     "name": "stderr",
     "output_type": "stream",
     "text": [
      "WARNING:absl:Compiled the loaded model, but the compiled metrics have yet to be built. `model.compile_metrics` will be empty until you train or evaluate the model.\n"
     ]
    },
    {
     "name": "stdout",
     "output_type": "stream",
     "text": [
      "Reading Model : CNN-GAP-Adam_20240719_235915.h5\n",
      "Model loaded successfully.\n",
      "\u001b[1m28/28\u001b[0m \u001b[32m━━━━━━━━━━━━━━━━━━━━\u001b[0m\u001b[37m\u001b[0m \u001b[1m2s\u001b[0m 38ms/step - accuracy: 0.8786 - loss: 0.4368 - precision_4: 0.8779 - recall_4: 0.8693\n"
     ]
    },
    {
     "name": "stderr",
     "output_type": "stream",
     "text": [
      "WARNING:absl:Compiled the loaded model, but the compiled metrics have yet to be built. `model.compile_metrics` will be empty until you train or evaluate the model.\n"
     ]
    },
    {
     "name": "stdout",
     "output_type": "stream",
     "text": [
      "Reading Model : CNN-GAP-RMS-100E_20240719_194036.h5\n",
      "Model loaded successfully.\n",
      "\u001b[1m28/28\u001b[0m \u001b[32m━━━━━━━━━━━━━━━━━━━━\u001b[0m\u001b[37m\u001b[0m \u001b[1m2s\u001b[0m 40ms/step - accuracy: 0.9255 - loss: 0.5279 - precision_3: 0.9889 - recall_3: 0.7767\n",
      "Reading Model : CNN-GAP-RMS-100E_20240719_235457.h5\n"
     ]
    },
    {
     "name": "stderr",
     "output_type": "stream",
     "text": [
      "WARNING:absl:Compiled the loaded model, but the compiled metrics have yet to be built. `model.compile_metrics` will be empty until you train or evaluate the model.\n"
     ]
    },
    {
     "name": "stdout",
     "output_type": "stream",
     "text": [
      "Model loaded successfully.\n",
      "\u001b[1m28/28\u001b[0m \u001b[32m━━━━━━━━━━━━━━━━━━━━\u001b[0m\u001b[37m\u001b[0m \u001b[1m1s\u001b[0m 37ms/step - accuracy: 0.8798 - loss: 0.5857 - precision_3: 0.9815 - recall_3: 0.6834\n",
      "Reading Model : CNN-RMS-50E_20240719_191523.h5\n"
     ]
    },
    {
     "name": "stderr",
     "output_type": "stream",
     "text": [
      "WARNING:absl:Compiled the loaded model, but the compiled metrics have yet to be built. `model.compile_metrics` will be empty until you train or evaluate the model.\n"
     ]
    },
    {
     "name": "stdout",
     "output_type": "stream",
     "text": [
      "Model loaded successfully.\n",
      "\u001b[1m28/28\u001b[0m \u001b[32m━━━━━━━━━━━━━━━━━━━━\u001b[0m\u001b[37m\u001b[0m \u001b[1m2s\u001b[0m 39ms/step - accuracy: 0.2754 - loss: 2.3243 - precision_1: 0.0000e+00 - recall_1: 0.0000e+00\n"
     ]
    },
    {
     "name": "stderr",
     "output_type": "stream",
     "text": [
      "WARNING:absl:Compiled the loaded model, but the compiled metrics have yet to be built. `model.compile_metrics` will be empty until you train or evaluate the model.\n"
     ]
    },
    {
     "name": "stdout",
     "output_type": "stream",
     "text": [
      "Reading Model : CNN-RMS-50E_20240719_231952.h5\n",
      "Model loaded successfully.\n",
      "\u001b[1m28/28\u001b[0m \u001b[32m━━━━━━━━━━━━━━━━━━━━\u001b[0m\u001b[37m\u001b[0m \u001b[1m1s\u001b[0m 37ms/step - accuracy: 0.5486 - loss: 1.0461 - precision_1: 0.8842 - recall_1: 0.4360\n",
      "Reading Model : Deeper-CNN_20240719_195716.h5\n"
     ]
    },
    {
     "name": "stderr",
     "output_type": "stream",
     "text": [
      "WARNING:absl:Compiled the loaded model, but the compiled metrics have yet to be built. `model.compile_metrics` will be empty until you train or evaluate the model.\n"
     ]
    },
    {
     "name": "stdout",
     "output_type": "stream",
     "text": [
      "Model loaded successfully.\n",
      "\u001b[1m28/28\u001b[0m \u001b[32m━━━━━━━━━━━━━━━━━━━━\u001b[0m\u001b[37m\u001b[0m \u001b[1m13s\u001b[0m 437ms/step - accuracy: 0.0785 - loss: 4.9928 - precision_5: 0.0000e+00 - recall_5: 0.0000e+00\n",
      "Reading Model : Deeper-CNN_20240720_001257.h5\n"
     ]
    },
    {
     "name": "stderr",
     "output_type": "stream",
     "text": [
      "WARNING:absl:Compiled the loaded model, but the compiled metrics have yet to be built. `model.compile_metrics` will be empty until you train or evaluate the model.\n"
     ]
    },
    {
     "name": "stdout",
     "output_type": "stream",
     "text": [
      "Model loaded successfully.\n",
      "\u001b[1m28/28\u001b[0m \u001b[32m━━━━━━━━━━━━━━━━━━━━\u001b[0m\u001b[37m\u001b[0m \u001b[1m13s\u001b[0m 451ms/step - accuracy: 0.1758 - loss: 5.1506 - precision_5: 0.0000e+00 - recall_5: 0.0000e+00\n"
     ]
    },
    {
     "name": "stderr",
     "output_type": "stream",
     "text": [
      "WARNING:absl:Compiled the loaded model, but the compiled metrics have yet to be built. `model.compile_metrics` will be empty until you train or evaluate the model.\n"
     ]
    },
    {
     "name": "stdout",
     "output_type": "stream",
     "text": [
      "Reading Model : Simple-CNN-100E_20240719_210229.h5\n",
      "Model loaded successfully.\n",
      "\u001b[1m28/28\u001b[0m \u001b[32m━━━━━━━━━━━━━━━━━━━━\u001b[0m\u001b[37m\u001b[0m \u001b[1m3s\u001b[0m 105ms/step - accuracy: 0.8818 - loss: 1.0992 - precision_6: 0.8984 - recall_6: 0.8659\n"
     ]
    },
    {
     "name": "stderr",
     "output_type": "stream",
     "text": [
      "WARNING:absl:Compiled the loaded model, but the compiled metrics have yet to be built. `model.compile_metrics` will be empty until you train or evaluate the model.\n"
     ]
    },
    {
     "name": "stdout",
     "output_type": "stream",
     "text": [
      "Reading Model : Simple-CNN-100E_20240719_234629.h5\n",
      "Model loaded successfully.\n",
      "\u001b[1m28/28\u001b[0m \u001b[32m━━━━━━━━━━━━━━━━━━━━\u001b[0m\u001b[37m\u001b[0m \u001b[1m3s\u001b[0m 101ms/step - accuracy: 0.8221 - loss: 0.7938 - precision_2: 0.9640 - recall_2: 0.3638\n"
     ]
    },
    {
     "name": "stderr",
     "output_type": "stream",
     "text": [
      "WARNING:absl:Compiled the loaded model, but the compiled metrics have yet to be built. `model.compile_metrics` will be empty until you train or evaluate the model.\n"
     ]
    },
    {
     "name": "stdout",
     "output_type": "stream",
     "text": [
      "Reading Model : Simple-CNN-50E_20240719_192950.h5\n",
      "Model loaded successfully.\n",
      "\u001b[1m28/28\u001b[0m \u001b[32m━━━━━━━━━━━━━━━━━━━━\u001b[0m\u001b[37m\u001b[0m \u001b[1m4s\u001b[0m 100ms/step - accuracy: 0.8829 - loss: 0.9714 - precision_2: 0.8633 - recall_2: 0.5567\n",
      "CSV file saved at Comparison Reports\\model_comparison_20240720_002421.csv\n"
     ]
    }
   ],
   "source": [
    "print(\"Performance On Training Data...\")\n",
    "df = make_comparison_df(model_dir=\"Models/D_v2\", val_data=train_data)"
   ]
  },
  {
   "cell_type": "code",
   "execution_count": 84,
   "id": "70cdf238-3ecd-4459-b1af-b93ef908fbb1",
   "metadata": {
    "scrolled": true
   },
   "outputs": [
    {
     "data": {
      "text/html": [
       "<div>\n",
       "<style scoped>\n",
       "    .dataframe tbody tr th:only-of-type {\n",
       "        vertical-align: middle;\n",
       "    }\n",
       "\n",
       "    .dataframe tbody tr th {\n",
       "        vertical-align: top;\n",
       "    }\n",
       "\n",
       "    .dataframe thead th {\n",
       "        text-align: right;\n",
       "    }\n",
       "</style>\n",
       "<table border=\"1\" class=\"dataframe\">\n",
       "  <thead>\n",
       "    <tr style=\"text-align: right;\">\n",
       "      <th></th>\n",
       "      <th>Model_path</th>\n",
       "      <th>Loss</th>\n",
       "      <th>Accuracy</th>\n",
       "      <th>Precision</th>\n",
       "      <th>Recall</th>\n",
       "    </tr>\n",
       "  </thead>\n",
       "  <tbody>\n",
       "    <tr>\n",
       "      <th>4</th>\n",
       "      <td>Models/D_v2\\CNN-GAP-RMS-100E_20240719_194036.h5</td>\n",
       "      <td>0.5582</td>\n",
       "      <td>91.3580</td>\n",
       "      <td>98.4353</td>\n",
       "      <td>77.6655</td>\n",
       "    </tr>\n",
       "    <tr>\n",
       "      <th>5</th>\n",
       "      <td>Models/D_v2\\CNN-GAP-RMS-100E_20240719_235457.h5</td>\n",
       "      <td>0.5864</td>\n",
       "      <td>88.7767</td>\n",
       "      <td>97.9463</td>\n",
       "      <td>69.5847</td>\n",
       "    </tr>\n",
       "    <tr>\n",
       "      <th>3</th>\n",
       "      <td>Models/D_v2\\CNN-GAP-Adam_20240719_235915.h5</td>\n",
       "      <td>0.4399</td>\n",
       "      <td>87.9910</td>\n",
       "      <td>87.8995</td>\n",
       "      <td>86.4198</td>\n",
       "    </tr>\n",
       "    <tr>\n",
       "      <th>10</th>\n",
       "      <td>Models/D_v2\\Simple-CNN-100E_20240719_210229.h5</td>\n",
       "      <td>1.1433</td>\n",
       "      <td>87.7666</td>\n",
       "      <td>89.2899</td>\n",
       "      <td>86.0831</td>\n",
       "    </tr>\n",
       "    <tr>\n",
       "      <th>2</th>\n",
       "      <td>Models/D_v2\\CNN-GAP-Adam_20240719_194526.h5</td>\n",
       "      <td>1.2841</td>\n",
       "      <td>86.3075</td>\n",
       "      <td>87.1043</td>\n",
       "      <td>83.3894</td>\n",
       "    </tr>\n",
       "    <tr>\n",
       "      <th>12</th>\n",
       "      <td>Models/D_v2\\Simple-CNN-50E_20240719_192950.h5</td>\n",
       "      <td>1.0994</td>\n",
       "      <td>84.9607</td>\n",
       "      <td>83.1304</td>\n",
       "      <td>53.6476</td>\n",
       "    </tr>\n",
       "    <tr>\n",
       "      <th>11</th>\n",
       "      <td>Models/D_v2\\Simple-CNN-100E_20240719_234629.h5</td>\n",
       "      <td>0.8137</td>\n",
       "      <td>80.8081</td>\n",
       "      <td>96.8354</td>\n",
       "      <td>34.3434</td>\n",
       "    </tr>\n",
       "    <tr>\n",
       "      <th>7</th>\n",
       "      <td>Models/D_v2\\CNN-RMS-50E_20240719_231952.h5</td>\n",
       "      <td>1.0196</td>\n",
       "      <td>56.6779</td>\n",
       "      <td>89.9329</td>\n",
       "      <td>45.1178</td>\n",
       "    </tr>\n",
       "    <tr>\n",
       "      <th>1</th>\n",
       "      <td>Models/D_v2\\CNN-Adam_20240719_231809.h5</td>\n",
       "      <td>1.8297</td>\n",
       "      <td>44.1077</td>\n",
       "      <td>64.4578</td>\n",
       "      <td>36.0269</td>\n",
       "    </tr>\n",
       "    <tr>\n",
       "      <th>6</th>\n",
       "      <td>Models/D_v2\\CNN-RMS-50E_20240719_191523.h5</td>\n",
       "      <td>2.2858</td>\n",
       "      <td>27.4972</td>\n",
       "      <td>0.0000</td>\n",
       "      <td>0.0000</td>\n",
       "    </tr>\n",
       "    <tr>\n",
       "      <th>0</th>\n",
       "      <td>Models/D_v2\\CNN-Adam_20240719_191253.h5</td>\n",
       "      <td>3.0048</td>\n",
       "      <td>18.2941</td>\n",
       "      <td>20.0000</td>\n",
       "      <td>18.2941</td>\n",
       "    </tr>\n",
       "    <tr>\n",
       "      <th>9</th>\n",
       "      <td>Models/D_v2\\Deeper-CNN_20240720_001257.h5</td>\n",
       "      <td>5.1304</td>\n",
       "      <td>17.7329</td>\n",
       "      <td>0.0000</td>\n",
       "      <td>0.0000</td>\n",
       "    </tr>\n",
       "    <tr>\n",
       "      <th>8</th>\n",
       "      <td>Models/D_v2\\Deeper-CNN_20240719_195716.h5</td>\n",
       "      <td>4.9855</td>\n",
       "      <td>8.7542</td>\n",
       "      <td>0.0000</td>\n",
       "      <td>0.0000</td>\n",
       "    </tr>\n",
       "  </tbody>\n",
       "</table>\n",
       "</div>"
      ],
      "text/plain": [
       "                                         Model_path    Loss  Accuracy  \\\n",
       "4   Models/D_v2\\CNN-GAP-RMS-100E_20240719_194036.h5  0.5582   91.3580   \n",
       "5   Models/D_v2\\CNN-GAP-RMS-100E_20240719_235457.h5  0.5864   88.7767   \n",
       "3       Models/D_v2\\CNN-GAP-Adam_20240719_235915.h5  0.4399   87.9910   \n",
       "10   Models/D_v2\\Simple-CNN-100E_20240719_210229.h5  1.1433   87.7666   \n",
       "2       Models/D_v2\\CNN-GAP-Adam_20240719_194526.h5  1.2841   86.3075   \n",
       "12    Models/D_v2\\Simple-CNN-50E_20240719_192950.h5  1.0994   84.9607   \n",
       "11   Models/D_v2\\Simple-CNN-100E_20240719_234629.h5  0.8137   80.8081   \n",
       "7        Models/D_v2\\CNN-RMS-50E_20240719_231952.h5  1.0196   56.6779   \n",
       "1           Models/D_v2\\CNN-Adam_20240719_231809.h5  1.8297   44.1077   \n",
       "6        Models/D_v2\\CNN-RMS-50E_20240719_191523.h5  2.2858   27.4972   \n",
       "0           Models/D_v2\\CNN-Adam_20240719_191253.h5  3.0048   18.2941   \n",
       "9         Models/D_v2\\Deeper-CNN_20240720_001257.h5  5.1304   17.7329   \n",
       "8         Models/D_v2\\Deeper-CNN_20240719_195716.h5  4.9855    8.7542   \n",
       "\n",
       "    Precision   Recall  \n",
       "4     98.4353  77.6655  \n",
       "5     97.9463  69.5847  \n",
       "3     87.8995  86.4198  \n",
       "10    89.2899  86.0831  \n",
       "2     87.1043  83.3894  \n",
       "12    83.1304  53.6476  \n",
       "11    96.8354  34.3434  \n",
       "7     89.9329  45.1178  \n",
       "1     64.4578  36.0269  \n",
       "6      0.0000   0.0000  \n",
       "0     20.0000  18.2941  \n",
       "9      0.0000   0.0000  \n",
       "8      0.0000   0.0000  "
      ]
     },
     "execution_count": 84,
     "metadata": {},
     "output_type": "execute_result"
    }
   ],
   "source": [
    "df"
   ]
  },
  {
   "cell_type": "code",
   "execution_count": 85,
   "id": "c854d193-388b-4d32-9db0-b502a83ac6a9",
   "metadata": {
    "scrolled": true
   },
   "outputs": [
    {
     "name": "stdout",
     "output_type": "stream",
     "text": [
      "Reading Model : CNN-Adam_20240719_191253.h5\n"
     ]
    },
    {
     "name": "stderr",
     "output_type": "stream",
     "text": [
      "WARNING:absl:Compiled the loaded model, but the compiled metrics have yet to be built. `model.compile_metrics` will be empty until you train or evaluate the model.\n"
     ]
    },
    {
     "name": "stdout",
     "output_type": "stream",
     "text": [
      "Model loaded successfully.\n",
      "\u001b[1m4/4\u001b[0m \u001b[32m━━━━━━━━━━━━━━━━━━━━\u001b[0m\u001b[37m\u001b[0m \u001b[1m1s\u001b[0m 33ms/step - accuracy: 0.1822 - loss: 2.6780 - precision: 0.2048 - recall: 0.1822\n"
     ]
    },
    {
     "name": "stderr",
     "output_type": "stream",
     "text": [
      "C:\\Users\\Kunjesh\\AppData\\Local\\Temp\\ipykernel_28796\\1910250005.py:28: FutureWarning: The behavior of DataFrame concatenation with empty or all-NA entries is deprecated. In a future version, this will no longer exclude empty or all-NA columns when determining the result dtypes. To retain the old behavior, exclude the relevant entries before the concat operation.\n",
      "  df = pd.concat([df, row_df], ignore_index=True)\n",
      "WARNING:absl:Compiled the loaded model, but the compiled metrics have yet to be built. `model.compile_metrics` will be empty until you train or evaluate the model.\n"
     ]
    },
    {
     "name": "stdout",
     "output_type": "stream",
     "text": [
      "Reading Model : CNN-Adam_20240719_231809.h5\n",
      "Model loaded successfully.\n",
      "\u001b[1m4/4\u001b[0m \u001b[32m━━━━━━━━━━━━━━━━━━━━\u001b[0m\u001b[37m\u001b[0m \u001b[1m1s\u001b[0m 25ms/step - accuracy: 0.4757 - loss: 1.8744 - precision: 0.6907 - recall: 0.4357\n"
     ]
    },
    {
     "name": "stderr",
     "output_type": "stream",
     "text": [
      "WARNING:absl:Compiled the loaded model, but the compiled metrics have yet to be built. `model.compile_metrics` will be empty until you train or evaluate the model.\n"
     ]
    },
    {
     "name": "stdout",
     "output_type": "stream",
     "text": [
      "Reading Model : CNN-GAP-Adam_20240719_194526.h5\n",
      "Model loaded successfully.\n",
      "\u001b[1m4/4\u001b[0m \u001b[32m━━━━━━━━━━━━━━━━━━━━\u001b[0m\u001b[37m\u001b[0m \u001b[1m1s\u001b[0m 25ms/step - accuracy: 0.8570 - loss: 1.7465 - precision_4: 0.8543 - recall_4: 0.8386\n"
     ]
    },
    {
     "name": "stderr",
     "output_type": "stream",
     "text": [
      "WARNING:absl:Compiled the loaded model, but the compiled metrics have yet to be built. `model.compile_metrics` will be empty until you train or evaluate the model.\n"
     ]
    },
    {
     "name": "stdout",
     "output_type": "stream",
     "text": [
      "Reading Model : CNN-GAP-Adam_20240719_235915.h5\n",
      "Model loaded successfully.\n",
      "\u001b[1m4/4\u001b[0m \u001b[32m━━━━━━━━━━━━━━━━━━━━\u001b[0m\u001b[37m\u001b[0m \u001b[1m1s\u001b[0m 24ms/step - accuracy: 0.9045 - loss: 0.4208 - precision_4: 0.9011 - recall_4: 0.8705\n"
     ]
    },
    {
     "name": "stderr",
     "output_type": "stream",
     "text": [
      "WARNING:absl:Compiled the loaded model, but the compiled metrics have yet to be built. `model.compile_metrics` will be empty until you train or evaluate the model.\n"
     ]
    },
    {
     "name": "stdout",
     "output_type": "stream",
     "text": [
      "Reading Model : CNN-GAP-RMS-100E_20240719_194036.h5\n",
      "Model loaded successfully.\n",
      "\u001b[1m4/4\u001b[0m \u001b[32m━━━━━━━━━━━━━━━━━━━━\u001b[0m\u001b[37m\u001b[0m \u001b[1m1s\u001b[0m 24ms/step - accuracy: 0.8662 - loss: 0.6382 - precision_3: 0.9800 - recall_3: 0.7542\n"
     ]
    },
    {
     "name": "stderr",
     "output_type": "stream",
     "text": [
      "WARNING:absl:Compiled the loaded model, but the compiled metrics have yet to be built. `model.compile_metrics` will be empty until you train or evaluate the model.\n"
     ]
    },
    {
     "name": "stdout",
     "output_type": "stream",
     "text": [
      "Reading Model : CNN-GAP-RMS-100E_20240719_235457.h5\n",
      "Model loaded successfully.\n",
      "\u001b[1m4/4\u001b[0m \u001b[32m━━━━━━━━━━━━━━━━━━━━\u001b[0m\u001b[37m\u001b[0m \u001b[1m1s\u001b[0m 25ms/step - accuracy: 0.9074 - loss: 0.5854 - precision_3: 0.9870 - recall_3: 0.7048\n"
     ]
    },
    {
     "name": "stderr",
     "output_type": "stream",
     "text": [
      "WARNING:absl:Compiled the loaded model, but the compiled metrics have yet to be built. `model.compile_metrics` will be empty until you train or evaluate the model.\n"
     ]
    },
    {
     "name": "stdout",
     "output_type": "stream",
     "text": [
      "Reading Model : CNN-RMS-50E_20240719_191523.h5\n",
      "Model loaded successfully.\n",
      "\u001b[1m4/4\u001b[0m \u001b[32m━━━━━━━━━━━━━━━━━━━━\u001b[0m\u001b[37m\u001b[0m \u001b[1m1s\u001b[0m 25ms/step - accuracy: 0.2635 - loss: 2.2812 - precision_1: 0.0000e+00 - recall_1: 0.0000e+00\n"
     ]
    },
    {
     "name": "stderr",
     "output_type": "stream",
     "text": [
      "WARNING:absl:Compiled the loaded model, but the compiled metrics have yet to be built. `model.compile_metrics` will be empty until you train or evaluate the model.\n"
     ]
    },
    {
     "name": "stdout",
     "output_type": "stream",
     "text": [
      "Reading Model : CNN-RMS-50E_20240719_231952.h5\n",
      "Model loaded successfully.\n",
      "\u001b[1m4/4\u001b[0m \u001b[32m━━━━━━━━━━━━━━━━━━━━\u001b[0m\u001b[37m\u001b[0m \u001b[1m1s\u001b[0m 24ms/step - accuracy: 0.5927 - loss: 0.9690 - precision_1: 0.9024 - recall_1: 0.5004\n",
      "Reading Model : Deeper-CNN_20240719_195716.h5\n"
     ]
    },
    {
     "name": "stderr",
     "output_type": "stream",
     "text": [
      "WARNING:absl:Compiled the loaded model, but the compiled metrics have yet to be built. `model.compile_metrics` will be empty until you train or evaluate the model.\n"
     ]
    },
    {
     "name": "stdout",
     "output_type": "stream",
     "text": [
      "Model loaded successfully.\n",
      "\u001b[1m4/4\u001b[0m \u001b[32m━━━━━━━━━━━━━━━━━━━━\u001b[0m\u001b[37m\u001b[0m \u001b[1m2s\u001b[0m 302ms/step - accuracy: 0.1183 - loss: 4.9840 - precision_5: 0.0000e+00 - recall_5: 0.0000e+00\n",
      "Reading Model : Deeper-CNN_20240720_001257.h5\n"
     ]
    },
    {
     "name": "stderr",
     "output_type": "stream",
     "text": [
      "WARNING:absl:Compiled the loaded model, but the compiled metrics have yet to be built. `model.compile_metrics` will be empty until you train or evaluate the model.\n"
     ]
    },
    {
     "name": "stdout",
     "output_type": "stream",
     "text": [
      "Model loaded successfully.\n",
      "\u001b[1m4/4\u001b[0m \u001b[32m━━━━━━━━━━━━━━━━━━━━\u001b[0m\u001b[37m\u001b[0m \u001b[1m2s\u001b[0m 306ms/step - accuracy: 0.1760 - loss: 5.1845 - precision_5: 0.0000e+00 - recall_5: 0.0000e+00\n"
     ]
    },
    {
     "name": "stderr",
     "output_type": "stream",
     "text": [
      "WARNING:absl:Compiled the loaded model, but the compiled metrics have yet to be built. `model.compile_metrics` will be empty until you train or evaluate the model.\n"
     ]
    },
    {
     "name": "stdout",
     "output_type": "stream",
     "text": [
      "Reading Model : Simple-CNN-100E_20240719_210229.h5\n",
      "Model loaded successfully.\n",
      "\u001b[1m4/4\u001b[0m \u001b[32m━━━━━━━━━━━━━━━━━━━━\u001b[0m\u001b[37m\u001b[0m \u001b[1m1s\u001b[0m 74ms/step - accuracy: 0.8261 - loss: 1.3983 - precision_6: 0.8506 - recall_6: 0.8139 \n"
     ]
    },
    {
     "name": "stderr",
     "output_type": "stream",
     "text": [
      "WARNING:absl:Compiled the loaded model, but the compiled metrics have yet to be built. `model.compile_metrics` will be empty until you train or evaluate the model.\n"
     ]
    },
    {
     "name": "stdout",
     "output_type": "stream",
     "text": [
      "Reading Model : Simple-CNN-100E_20240719_234629.h5\n",
      "Model loaded successfully.\n",
      "\u001b[1m4/4\u001b[0m \u001b[32m━━━━━━━━━━━━━━━━━━━━\u001b[0m\u001b[37m\u001b[0m \u001b[1m1s\u001b[0m 68ms/step - accuracy: 0.8260 - loss: 0.7653 - precision_2: 0.9420 - recall_2: 0.4013\n"
     ]
    },
    {
     "name": "stderr",
     "output_type": "stream",
     "text": [
      "WARNING:absl:Compiled the loaded model, but the compiled metrics have yet to be built. `model.compile_metrics` will be empty until you train or evaluate the model.\n"
     ]
    },
    {
     "name": "stdout",
     "output_type": "stream",
     "text": [
      "Reading Model : Simple-CNN-50E_20240719_192950.h5\n",
      "Model loaded successfully.\n",
      "\u001b[1m4/4\u001b[0m \u001b[32m━━━━━━━━━━━━━━━━━━━━\u001b[0m\u001b[37m\u001b[0m \u001b[1m1s\u001b[0m 66ms/step - accuracy: 0.7920 - loss: 1.2031 - precision_2: 0.7704 - recall_2: 0.5318\n",
      "CSV file saved at Comparison Reports\\model_comparison_20240720_002433.csv\n"
     ]
    }
   ],
   "source": [
    "df_testing_performance = make_comparison_df(model_dir=\"Models/D_V2\", val_data=val_data)"
   ]
  },
  {
   "cell_type": "code",
   "execution_count": 86,
   "id": "d34e8596-58bd-4317-84f4-23fdf49e40a7",
   "metadata": {},
   "outputs": [
    {
     "data": {
      "text/html": [
       "<div>\n",
       "<style scoped>\n",
       "    .dataframe tbody tr th:only-of-type {\n",
       "        vertical-align: middle;\n",
       "    }\n",
       "\n",
       "    .dataframe tbody tr th {\n",
       "        vertical-align: top;\n",
       "    }\n",
       "\n",
       "    .dataframe thead th {\n",
       "        text-align: right;\n",
       "    }\n",
       "</style>\n",
       "<table border=\"1\" class=\"dataframe\">\n",
       "  <thead>\n",
       "    <tr style=\"text-align: right;\">\n",
       "      <th></th>\n",
       "      <th>Model_path</th>\n",
       "      <th>Loss</th>\n",
       "      <th>Accuracy</th>\n",
       "      <th>Precision</th>\n",
       "      <th>Recall</th>\n",
       "    </tr>\n",
       "  </thead>\n",
       "  <tbody>\n",
       "    <tr>\n",
       "      <th>5</th>\n",
       "      <td>Models/D_V2\\CNN-GAP-RMS-100E_20240719_235457.h5</td>\n",
       "      <td>0.5903</td>\n",
       "      <td>90.9091</td>\n",
       "      <td>98.5714</td>\n",
       "      <td>69.6970</td>\n",
       "    </tr>\n",
       "    <tr>\n",
       "      <th>3</th>\n",
       "      <td>Models/D_V2\\CNN-GAP-Adam_20240719_235915.h5</td>\n",
       "      <td>0.4524</td>\n",
       "      <td>88.8889</td>\n",
       "      <td>88.5417</td>\n",
       "      <td>85.8586</td>\n",
       "    </tr>\n",
       "    <tr>\n",
       "      <th>4</th>\n",
       "      <td>Models/D_V2\\CNN-GAP-RMS-100E_20240719_194036.h5</td>\n",
       "      <td>0.6534</td>\n",
       "      <td>86.8687</td>\n",
       "      <td>97.3684</td>\n",
       "      <td>74.7475</td>\n",
       "    </tr>\n",
       "    <tr>\n",
       "      <th>2</th>\n",
       "      <td>Models/D_V2\\CNN-GAP-Adam_20240719_194526.h5</td>\n",
       "      <td>1.8099</td>\n",
       "      <td>85.8586</td>\n",
       "      <td>85.4167</td>\n",
       "      <td>82.8283</td>\n",
       "    </tr>\n",
       "    <tr>\n",
       "      <th>11</th>\n",
       "      <td>Models/D_V2\\Simple-CNN-100E_20240719_234629.h5</td>\n",
       "      <td>0.7682</td>\n",
       "      <td>83.8384</td>\n",
       "      <td>95.1219</td>\n",
       "      <td>39.3939</td>\n",
       "    </tr>\n",
       "    <tr>\n",
       "      <th>10</th>\n",
       "      <td>Models/D_V2\\Simple-CNN-100E_20240719_210229.h5</td>\n",
       "      <td>1.4361</td>\n",
       "      <td>82.8283</td>\n",
       "      <td>85.1064</td>\n",
       "      <td>80.8081</td>\n",
       "    </tr>\n",
       "    <tr>\n",
       "      <th>12</th>\n",
       "      <td>Models/D_V2\\Simple-CNN-50E_20240719_192950.h5</td>\n",
       "      <td>1.2243</td>\n",
       "      <td>80.8081</td>\n",
       "      <td>77.9412</td>\n",
       "      <td>53.5354</td>\n",
       "    </tr>\n",
       "    <tr>\n",
       "      <th>7</th>\n",
       "      <td>Models/D_V2\\CNN-RMS-50E_20240719_231952.h5</td>\n",
       "      <td>1.0097</td>\n",
       "      <td>58.5859</td>\n",
       "      <td>92.0000</td>\n",
       "      <td>46.4646</td>\n",
       "    </tr>\n",
       "    <tr>\n",
       "      <th>1</th>\n",
       "      <td>Models/D_V2\\CNN-Adam_20240719_231809.h5</td>\n",
       "      <td>1.9320</td>\n",
       "      <td>44.4444</td>\n",
       "      <td>68.4211</td>\n",
       "      <td>39.3939</td>\n",
       "    </tr>\n",
       "    <tr>\n",
       "      <th>6</th>\n",
       "      <td>Models/D_V2\\CNN-RMS-50E_20240719_191523.h5</td>\n",
       "      <td>2.3344</td>\n",
       "      <td>25.2525</td>\n",
       "      <td>0.0000</td>\n",
       "      <td>0.0000</td>\n",
       "    </tr>\n",
       "    <tr>\n",
       "      <th>0</th>\n",
       "      <td>Models/D_V2\\CNN-Adam_20240719_191253.h5</td>\n",
       "      <td>2.9293</td>\n",
       "      <td>17.1717</td>\n",
       "      <td>19.3182</td>\n",
       "      <td>17.1717</td>\n",
       "    </tr>\n",
       "    <tr>\n",
       "      <th>9</th>\n",
       "      <td>Models/D_V2\\Deeper-CNN_20240720_001257.h5</td>\n",
       "      <td>5.1679</td>\n",
       "      <td>17.1717</td>\n",
       "      <td>0.0000</td>\n",
       "      <td>0.0000</td>\n",
       "    </tr>\n",
       "    <tr>\n",
       "      <th>8</th>\n",
       "      <td>Models/D_V2\\Deeper-CNN_20240719_195716.h5</td>\n",
       "      <td>4.9707</td>\n",
       "      <td>12.1212</td>\n",
       "      <td>0.0000</td>\n",
       "      <td>0.0000</td>\n",
       "    </tr>\n",
       "  </tbody>\n",
       "</table>\n",
       "</div>"
      ],
      "text/plain": [
       "                                         Model_path    Loss  Accuracy  \\\n",
       "5   Models/D_V2\\CNN-GAP-RMS-100E_20240719_235457.h5  0.5903   90.9091   \n",
       "3       Models/D_V2\\CNN-GAP-Adam_20240719_235915.h5  0.4524   88.8889   \n",
       "4   Models/D_V2\\CNN-GAP-RMS-100E_20240719_194036.h5  0.6534   86.8687   \n",
       "2       Models/D_V2\\CNN-GAP-Adam_20240719_194526.h5  1.8099   85.8586   \n",
       "11   Models/D_V2\\Simple-CNN-100E_20240719_234629.h5  0.7682   83.8384   \n",
       "10   Models/D_V2\\Simple-CNN-100E_20240719_210229.h5  1.4361   82.8283   \n",
       "12    Models/D_V2\\Simple-CNN-50E_20240719_192950.h5  1.2243   80.8081   \n",
       "7        Models/D_V2\\CNN-RMS-50E_20240719_231952.h5  1.0097   58.5859   \n",
       "1           Models/D_V2\\CNN-Adam_20240719_231809.h5  1.9320   44.4444   \n",
       "6        Models/D_V2\\CNN-RMS-50E_20240719_191523.h5  2.3344   25.2525   \n",
       "0           Models/D_V2\\CNN-Adam_20240719_191253.h5  2.9293   17.1717   \n",
       "9         Models/D_V2\\Deeper-CNN_20240720_001257.h5  5.1679   17.1717   \n",
       "8         Models/D_V2\\Deeper-CNN_20240719_195716.h5  4.9707   12.1212   \n",
       "\n",
       "    Precision   Recall  \n",
       "5     98.5714  69.6970  \n",
       "3     88.5417  85.8586  \n",
       "4     97.3684  74.7475  \n",
       "2     85.4167  82.8283  \n",
       "11    95.1219  39.3939  \n",
       "10    85.1064  80.8081  \n",
       "12    77.9412  53.5354  \n",
       "7     92.0000  46.4646  \n",
       "1     68.4211  39.3939  \n",
       "6      0.0000   0.0000  \n",
       "0     19.3182  17.1717  \n",
       "9      0.0000   0.0000  \n",
       "8      0.0000   0.0000  "
      ]
     },
     "execution_count": 86,
     "metadata": {},
     "output_type": "execute_result"
    }
   ],
   "source": [
    "df_testing_performance"
   ]
  },
  {
   "cell_type": "markdown",
   "id": "b6592b73-51f2-4b65-a7f9-d5db26889b68",
   "metadata": {},
   "source": [
    "The Considerable Models are CNN-GAP-RMS-100E (Models/D_V2\\CNN-GAP-RMS-100E_20240719_194036.h5) and CNN-GAP-Adam (Models/D_V2\\CNN-GAP-Adam_20240719_194526.h5)"
   ]
  },
  {
   "cell_type": "code",
   "execution_count": 87,
   "id": "71ef7191-742b-49c2-b78d-ef2430ad6a58",
   "metadata": {},
   "outputs": [
    {
     "name": "stderr",
     "output_type": "stream",
     "text": [
      "WARNING:absl:Compiled the loaded model, but the compiled metrics have yet to be built. `model.compile_metrics` will be empty until you train or evaluate the model.\n",
      "WARNING:absl:Compiled the loaded model, but the compiled metrics have yet to be built. `model.compile_metrics` will be empty until you train or evaluate the model.\n"
     ]
    },
    {
     "name": "stdout",
     "output_type": "stream",
     "text": [
      "Model loaded successfully.\n",
      "Model loaded successfully.\n"
     ]
    }
   ],
   "source": [
    "# CNN-GAP-RMS-100E\n",
    "best_model_1 = load_model_func(\"Models/D_V2\\CNN-GAP-RMS-100E_20240719_235457.h5\")\n",
    "\n",
    "# CNN-GAP-Adam\n",
    "best_model_2 = load_model_func(\"Models/D_V2\\CNN-GAP-Adam_20240719_235915.h5\")"
   ]
  },
  {
   "cell_type": "markdown",
   "id": "67a999cd-382e-4bba-a828-bc9cbc4acb5b",
   "metadata": {
    "jp-MarkdownHeadingCollapsed": true
   },
   "source": [
    "## Testing Best Model"
   ]
  },
  {
   "cell_type": "code",
   "execution_count": 88,
   "id": "14ac1cdf-2137-4277-b2c5-388164725a56",
   "metadata": {},
   "outputs": [],
   "source": [
    "test_filenames, test_labels = get_filenames(\"Datasets/Validation\")"
   ]
  },
  {
   "cell_type": "code",
   "execution_count": 89,
   "id": "b46c160a-0822-49e7-8cf4-682bdefdd60a",
   "metadata": {},
   "outputs": [
    {
     "data": {
      "text/plain": [
       "(110, 110)"
      ]
     },
     "execution_count": 89,
     "metadata": {},
     "output_type": "execute_result"
    }
   ],
   "source": [
    "len(test_filenames), len(test_labels)"
   ]
  },
  {
   "cell_type": "code",
   "execution_count": 90,
   "id": "5682bbb4-4cd4-42bb-ac69-93005300467d",
   "metadata": {},
   "outputs": [
    {
     "name": "stdout",
     "output_type": "stream",
     "text": [
      "Creating test data batches...\n"
     ]
    }
   ],
   "source": [
    "test_data = create_data_batches(X=test_filenames, test_data=True)"
   ]
  },
  {
   "cell_type": "code",
   "execution_count": 91,
   "id": "cf9468b7-4ab5-4096-8e3a-06679aa64963",
   "metadata": {},
   "outputs": [
    {
     "data": {
      "text/plain": [
       "TensorSpec(shape=(None, 224, 224, 3), dtype=tf.float32, name=None)"
      ]
     },
     "execution_count": 91,
     "metadata": {},
     "output_type": "execute_result"
    }
   ],
   "source": [
    "test_data.element_spec"
   ]
  },
  {
   "cell_type": "code",
   "execution_count": 171,
   "id": "2f9c4346-3dba-4e00-b95e-6240473085a5",
   "metadata": {},
   "outputs": [
    {
     "name": "stdout",
     "output_type": "stream",
     "text": [
      "\u001b[1m4/4\u001b[0m \u001b[32m━━━━━━━━━━━━━━━━━━━━\u001b[0m\u001b[37m\u001b[0m \u001b[1m5s\u001b[0m 998ms/step\n"
     ]
    }
   ],
   "source": [
    "preds_1 = model.predict(test_data)\n",
    "# preds_2 = best_model_2.predict(test_data)"
   ]
  },
  {
   "cell_type": "code",
   "execution_count": 172,
   "id": "f8afc8af-d28f-4fe5-99b9-fafb9aebb74d",
   "metadata": {
    "scrolled": true
   },
   "outputs": [
    {
     "data": {
      "text/plain": [
       "array([[1.2487869e-01, 2.3465878e-01, 5.9274014e-02, ..., 2.3493690e-02,\n",
       "        3.5651650e-02, 2.4211252e-01],\n",
       "       [8.9493096e-02, 2.5429863e-01, 4.6423454e-02, ..., 3.4091849e-02,\n",
       "        3.2265037e-02, 2.5267050e-01],\n",
       "       [1.0084563e-01, 1.9797897e-01, 5.3549279e-02, ..., 4.7205362e-02,\n",
       "        3.0723976e-02, 2.8367895e-01],\n",
       "       ...,\n",
       "       [7.2997913e-04, 8.3832070e-05, 2.7999160e-04, ..., 2.0821937e-04,\n",
       "        4.3567386e-04, 9.9648798e-01],\n",
       "       [3.3068683e-04, 7.1417002e-05, 2.3252459e-04, ..., 7.9580379e-05,\n",
       "        2.9102573e-04, 9.9741179e-01],\n",
       "       [2.6949021e-04, 5.4151478e-05, 1.8921790e-04, ..., 7.3813135e-05,\n",
       "        1.5316115e-04, 9.9812251e-01]], dtype=float32)"
      ]
     },
     "execution_count": 172,
     "metadata": {},
     "output_type": "execute_result"
    }
   ],
   "source": [
    "preds_1"
   ]
  },
  {
   "cell_type": "code",
   "execution_count": 94,
   "id": "3cc9c4a8-8f0f-459a-abff-ddc61ca1c128",
   "metadata": {},
   "outputs": [
    {
     "data": {
      "text/plain": [
       "110"
      ]
     },
     "execution_count": 94,
     "metadata": {},
     "output_type": "execute_result"
    }
   ],
   "source": [
    "len(preds_1)"
   ]
  },
  {
   "cell_type": "code",
   "execution_count": 173,
   "id": "46137be9-65a2-48f1-a574-52f573d48b19",
   "metadata": {},
   "outputs": [
    {
     "data": {
      "text/plain": [
       "'\\n\\nfor pred in preds_3:\\n    ind = np.argmax(pred)\\n    pred_label = unique_students[ind]\\n    y_preds_3.append(pred_label)\\n\\n'"
      ]
     },
     "execution_count": 173,
     "metadata": {},
     "output_type": "execute_result"
    }
   ],
   "source": [
    "y_preds_1 = []\n",
    "y_preds_2 = []\n",
    "# y_preds_3 = []\n",
    "\n",
    "for pred in preds_1:\n",
    "    ind = np.argmax(pred)\n",
    "    pred_label = unique_students[ind]\n",
    "    y_preds_1.append(pred_label)\n",
    "\n",
    "'''\n",
    "\n",
    "\n",
    "for pred in preds_2:\n",
    "    ind = np.argmax(pred)\n",
    "    pred_label = unique_students[ind]\n",
    "    y_preds_2.append(pred_label)\n",
    "'''\n",
    "\n",
    "'''\n",
    "\n",
    "for pred in preds_3:\n",
    "    ind = np.argmax(pred)\n",
    "    pred_label = unique_students[ind]\n",
    "    y_preds_3.append(pred_label)\n",
    "\n",
    "'''"
   ]
  },
  {
   "cell_type": "code",
   "execution_count": 174,
   "id": "c18bf45a-0d89-4867-a567-552708c57d95",
   "metadata": {
    "scrolled": true
   },
   "outputs": [
    {
     "data": {
      "text/plain": [
       "['46',\n",
       " '210303108221',\n",
       " '46',\n",
       " '46',\n",
       " '46',\n",
       " '46',\n",
       " '46',\n",
       " '46',\n",
       " '46',\n",
       " '46',\n",
       " '210303108221',\n",
       " '210303108221',\n",
       " '210303108221',\n",
       " '210303108221',\n",
       " '210303108221',\n",
       " '210303108221',\n",
       " '210303108221',\n",
       " '210303108221',\n",
       " '210303108221',\n",
       " '210303108221',\n",
       " '210303108324',\n",
       " '210303108324',\n",
       " '210303108324',\n",
       " '210303108324',\n",
       " '210303108324',\n",
       " '210303108324',\n",
       " '210303108324',\n",
       " '210303108324',\n",
       " '210303108324',\n",
       " '210303108324',\n",
       " '210303108332',\n",
       " '210303108332',\n",
       " '210303108332',\n",
       " '210303108332',\n",
       " '210303108332',\n",
       " '210303108332',\n",
       " '210303108332',\n",
       " '210303108332',\n",
       " '210303108332',\n",
       " '210303108332',\n",
       " '2203031080049',\n",
       " '2203031080049',\n",
       " '2203031080049',\n",
       " '2203031080049',\n",
       " '2203031080049',\n",
       " '2203031080049',\n",
       " '2203031080049',\n",
       " '2203031080049',\n",
       " '2203031080049',\n",
       " '2203031080049',\n",
       " '2203031080092',\n",
       " '2203031080092',\n",
       " '2203031080092',\n",
       " '2203031080092',\n",
       " '2203031080092',\n",
       " '2203031080092',\n",
       " '2203031080092',\n",
       " '2203031080092',\n",
       " '2203031080092',\n",
       " '2203031080092',\n",
       " '2203031080127',\n",
       " '2203031080127',\n",
       " '2203031080127',\n",
       " '2203031080127',\n",
       " '2203031080127',\n",
       " '2203031080127',\n",
       " '2203031080127',\n",
       " '2203031080127',\n",
       " '2203031080127',\n",
       " '2203031080127',\n",
       " '2203031080174',\n",
       " '2203031080174',\n",
       " '2203031080174',\n",
       " '2203031080174',\n",
       " '2203031080174',\n",
       " '2203031080174',\n",
       " '2203031080174',\n",
       " '2203031080174',\n",
       " '2203031080174',\n",
       " '2203031080174',\n",
       " '31',\n",
       " '31',\n",
       " '31',\n",
       " '31',\n",
       " '31',\n",
       " '31',\n",
       " '31',\n",
       " '31',\n",
       " '31',\n",
       " '31',\n",
       " '42',\n",
       " '42',\n",
       " '42',\n",
       " '42',\n",
       " '42',\n",
       " '42',\n",
       " '42',\n",
       " '42',\n",
       " '42',\n",
       " '42',\n",
       " '46',\n",
       " '46',\n",
       " '46',\n",
       " '46',\n",
       " '46',\n",
       " '46',\n",
       " '46',\n",
       " '46',\n",
       " '46',\n",
       " '46']"
      ]
     },
     "execution_count": 174,
     "metadata": {},
     "output_type": "execute_result"
    }
   ],
   "source": [
    "y_preds_1"
   ]
  },
  {
   "cell_type": "code",
   "execution_count": 175,
   "id": "af1ab36d-9572-469e-84ca-cb65df015489",
   "metadata": {},
   "outputs": [],
   "source": [
    "from sklearn import metrics\n",
    "\n",
    "results_1 = metrics.accuracy_score(test_labels, y_preds_1)\n",
    "# results_2 = metrics.accuracy_score(test_labels, y_preds_2)\n",
    "# results_3 = metrics.accuracy_score(test_labels, y_preds_3)"
   ]
  },
  {
   "cell_type": "code",
   "execution_count": 177,
   "id": "24f29d34-df24-4069-8977-b6c002983bb1",
   "metadata": {},
   "outputs": [
    {
     "data": {
      "text/plain": [
       "0.9090909090909091"
      ]
     },
     "execution_count": 177,
     "metadata": {},
     "output_type": "execute_result"
    }
   ],
   "source": [
    "results_1"
   ]
  },
  {
   "cell_type": "code",
   "execution_count": 178,
   "id": "8fc9658c-7ac4-4e2c-a0ec-625d44abc92d",
   "metadata": {},
   "outputs": [
    {
     "name": "stdout",
     "output_type": "stream",
     "text": [
      "For Pre trained Model ...\n",
      "               precision    recall  f1-score   support\n",
      "\n",
      " 210303108114       0.00      0.00      0.00        10\n",
      " 210303108221       0.91      1.00      0.95        10\n",
      " 210303108324       1.00      1.00      1.00        10\n",
      " 210303108332       1.00      1.00      1.00        10\n",
      "2203031080049       1.00      1.00      1.00        10\n",
      "2203031080092       1.00      1.00      1.00        10\n",
      "2203031080127       1.00      1.00      1.00        10\n",
      "2203031080174       1.00      1.00      1.00        10\n",
      "           31       1.00      1.00      1.00        10\n",
      "           42       1.00      1.00      1.00        10\n",
      "           46       0.53      1.00      0.69        10\n",
      "\n",
      "     accuracy                           0.91       110\n",
      "    macro avg       0.86      0.91      0.88       110\n",
      " weighted avg       0.86      0.91      0.88       110\n",
      "\n",
      "==================================================\n"
     ]
    },
    {
     "name": "stderr",
     "output_type": "stream",
     "text": [
      "C:\\Users\\Kunjesh\\miniconda3\\Lib\\site-packages\\sklearn\\metrics\\_classification.py:1517: UndefinedMetricWarning: Precision is ill-defined and being set to 0.0 in labels with no predicted samples. Use `zero_division` parameter to control this behavior.\n",
      "  _warn_prf(average, modifier, f\"{metric.capitalize()} is\", len(result))\n",
      "C:\\Users\\Kunjesh\\miniconda3\\Lib\\site-packages\\sklearn\\metrics\\_classification.py:1517: UndefinedMetricWarning: Precision is ill-defined and being set to 0.0 in labels with no predicted samples. Use `zero_division` parameter to control this behavior.\n",
      "  _warn_prf(average, modifier, f\"{metric.capitalize()} is\", len(result))\n",
      "C:\\Users\\Kunjesh\\miniconda3\\Lib\\site-packages\\sklearn\\metrics\\_classification.py:1517: UndefinedMetricWarning: Precision is ill-defined and being set to 0.0 in labels with no predicted samples. Use `zero_division` parameter to control this behavior.\n",
      "  _warn_prf(average, modifier, f\"{metric.capitalize()} is\", len(result))\n"
     ]
    }
   ],
   "source": [
    "from sklearn.metrics import classification_report\n",
    "\n",
    "target_names = unique_students\n",
    "\n",
    "# print(\"For Model 3...\")\n",
    "# print(classification_report(test_labels, y_preds_3, target_names=target_names))\n",
    "# print(\"=\"*50)\n",
    "\n",
    "# print(\"For Model 2...\")\n",
    "# print(classification_report(test_labels, y_preds_2, target_names=target_names))\n",
    "# print(\"=\"*50)\n",
    "\n",
    "print(\"For Pre trained Model ...\")\n",
    "print(classification_report(test_labels, y_preds_1, target_names=target_names))\n",
    "print(\"=\"*50)"
   ]
  },
  {
   "cell_type": "code",
   "execution_count": null,
   "id": "9ac8f491-ae2f-42e7-805d-b48f90a26a4a",
   "metadata": {},
   "outputs": [],
   "source": []
  },
  {
   "cell_type": "markdown",
   "id": "d69ec912-1f6f-4494-9cf6-706cd7c79676",
   "metadata": {},
   "source": [
    "## Making Real Time Predictions"
   ]
  },
  {
   "cell_type": "code",
   "execution_count": 101,
   "id": "1224b074-b875-4994-9d6b-76c04a73b1fe",
   "metadata": {},
   "outputs": [
    {
     "data": {
      "text/plain": [
       "'\\nimage = tf.io.read_file(image_path)\\nimage = tf.image.decode_jpeg(image, channels=3)\\nimage = tf.image.convert_image_dtype(image, tf.float32)\\nimage = tf.image.resize(image, size=tf.constant([224, 224]))\\n'"
      ]
     },
     "execution_count": 101,
     "metadata": {},
     "output_type": "execute_result"
    }
   ],
   "source": [
    "IMG_SIZE = 224\n",
    "def process_face(face_image, img_size=IMG_SIZE):\n",
    "    \"\"\"\n",
    "    Takes a face image and preprocesses it to the required format\n",
    "    \"\"\"\n",
    "    face_image = tf.convert_to_tensor(face_image, dtype=tf.float32)\n",
    "    # face_image = tf.expand_dims(face_image, axis=0)\n",
    "    face_image = face_image[tf.newaxis, ...]\n",
    "    face_image = tf.image.resize(face_image, [img_size, img_size])\n",
    "    face_image = face_image / 255.0  # Normalize the image to [0, 1]\n",
    "    return face_image\n",
    "\n",
    "\n",
    "'''\n",
    "image = tf.io.read_file(image_path)\n",
    "image = tf.image.decode_jpeg(image, channels=3)\n",
    "image = tf.image.convert_image_dtype(image, tf.float32)\n",
    "image = tf.image.resize(image, size=tf.constant([224, 224]))\n",
    "'''"
   ]
  },
  {
   "cell_type": "code",
   "execution_count": 102,
   "id": "0145c652-d69c-4a0d-9b40-7bfbba7acead",
   "metadata": {},
   "outputs": [],
   "source": [
    "from mtcnn import MTCNN\n",
    "\n",
    "def predict_photo(image_path, face_recognizer, unique_students, save_folder_path, confidence_threshold=50):\n",
    "    if not os.path.exists(image_path):\n",
    "        raise FileNotFoundError(f\"Image not found at {image_path}\")\n",
    "\n",
    "    # Open the original image for visualization\n",
    "    img_pil = Image.open(image_path)\n",
    "    img = np.array(img_pil)\n",
    "\n",
    "    # Initialize MTCNN for face detection\n",
    "    detector = MTCNN()\n",
    "\n",
    "    # Detect faces in the image\n",
    "    faces = detector.detect_faces(img)\n",
    "    recognized_faces = []\n",
    "\n",
    "    for face in faces:\n",
    "        # Extract face bounding box coordinates\n",
    "        x, y, w, h = face['box']\n",
    "        x1, y1 = x + w, y + h\n",
    "\n",
    "        margin = int(0.1 * min(w, h))  # Calculate 10% of the smaller dimension (width or height)\n",
    "\n",
    "        # Adjust coordinates to increase bounding box by 10%\n",
    "        x_adjusted = max(0, x - margin)\n",
    "        y_adjusted = max(0, y - margin)\n",
    "        x1_adjusted = min(img.shape[1], x1 + margin)\n",
    "        y1_adjusted = min(img.shape[0], y1 + margin)\n",
    "        \n",
    "        # Crop the face from the original image\n",
    "        roi_color = img[y_adjusted:y1_adjusted, x_adjusted:x1_adjusted]\n",
    "\n",
    "        # Preprocess the face (assuming process_face function is already defined)\n",
    "        roi_color_resized = process_face(roi_color)\n",
    "\n",
    "        # Make prediction\n",
    "        predictions = face_recognizer.predict(roi_color_resized)\n",
    "        predicted_ind = np.argmax(predictions[0])\n",
    "        predicted_label = unique_students[predicted_ind]\n",
    "        confidence = predictions[0][predicted_ind] * 100\n",
    "\n",
    "        # Determine label text\n",
    "        if confidence > confidence_threshold:\n",
    "            label_text = str(predicted_label)\n",
    "        else:\n",
    "            label_text = 'Unknown'\n",
    "\n",
    "        # Draw the bounding box and label on the image\n",
    "        cv2.rectangle(img, (x_adjusted, y_adjusted), (x1_adjusted, y1_adjusted), (0, 0, 255), 2)\n",
    "        cv2.putText(img, f\"{label_text}: {confidence:.2f}%\", (x1_adjusted, y1_adjusted-10), \n",
    "                    cv2.FONT_HERSHEY_SIMPLEX, 0.9, (0, 0, 255), 2)\n",
    "        recognized_faces.append((label_text, confidence))\n",
    "\n",
    "    # Add the count of detected faces to the top left of the image\n",
    "    face_count_text = f\"Count: {len(faces)}\"\n",
    "    cv2.putText(img, face_count_text, (10, 30), cv2.FONT_HERSHEY_SIMPLEX, 1, (0, 0, 255), 2)\n",
    "\n",
    "    # Save the processed image\n",
    "    output_filename = os.path.basename(image_path)\n",
    "    output_path = os.path.join(save_folder_path, output_filename)\n",
    "    cv2.imwrite(output_path, img)\n",
    "\n",
    "    return recognized_faces, len(faces)"
   ]
  },
  {
   "cell_type": "code",
   "execution_count": 103,
   "id": "c197d547-22ad-4527-9442-a922b0bab34e",
   "metadata": {},
   "outputs": [],
   "source": [
    "def predict_robustly(image_path, face_recognizer, unique_students, save_folder_path, confidence_threshold=25):\n",
    "    if not os.path.exists(image_path):\n",
    "        raise FileNotFoundError(f\"Image not found at {image_path}\")\n",
    "\n",
    "    # Open the original image for visualization\n",
    "    img_pil = Image.open(image_path)\n",
    "    img = np.array(img_pil)\n",
    "\n",
    "    # Initialize MTCNN for face detection\n",
    "    detector = MTCNN()\n",
    "\n",
    "    # Detect faces in the image\n",
    "    faces = detector.detect_faces(img)\n",
    "    recognized_faces = []\n",
    "\n",
    "    # Track assigned labels to ensure uniqueness\n",
    "    assigned_labels = set()\n",
    "\n",
    "    for face in faces:\n",
    "        # Extract face bounding box coordinates\n",
    "        x, y, w, h = face['box']\n",
    "        x1, y1 = x + w, y + h\n",
    "        \n",
    "        margin = int(0.1 * min(w, h))  # Calculate 10% of the smaller dimension (width or height)\n",
    "\n",
    "        # Adjust coordinates to increase bounding box by 10%\n",
    "        x_adjusted = max(0, x - margin)\n",
    "        y_adjusted = max(0, y - margin)\n",
    "        x1_adjusted = min(img.shape[1], x1 + margin)\n",
    "        y1_adjusted = min(img.shape[0], y1 + margin)\n",
    "        \n",
    "        # Crop the face from the original image\n",
    "        roi_color = img[y_adjusted:y1_adjusted, x_adjusted:x1_adjusted]\n",
    "\n",
    "        # Preprocess the face (assuming process_face function is already defined)\n",
    "        roi_color_resized = process_face(roi_color)\n",
    "\n",
    "        # Make prediction\n",
    "        predictions = face_recognizer.predict(roi_color_resized)\n",
    "        predicted_ind = np.argmax(predictions[0])\n",
    "        label = unique_students[predicted_ind]\n",
    "        confidence = predictions[0][predicted_ind] * 100\n",
    "\n",
    "        # Determine label text\n",
    "        if confidence > confidence_threshold:\n",
    "            label_text = label\n",
    "        else:\n",
    "            label_text = 'Unknown'\n",
    "\n",
    "        # Check if the label is already assigned\n",
    "        if label_text not in assigned_labels:\n",
    "            assigned_labels.add(label_text)\n",
    "        else:\n",
    "            label_text = 'Unknown'  # Set label to Unknown if label is not unique\n",
    "\n",
    "        # Draw the bounding box and label on the image\n",
    "        cv2.rectangle(img, (x_adjusted, y_adjusted), (x1_adjusted, y1_adjusted), (0, 0, 255), 2)\n",
    "        cv2.putText(img, f\"{label_text}: {confidence:.2f}%\", (x, y-10), cv2.FONT_HERSHEY_SIMPLEX, 0.9, (0, 0, 255), 2)\n",
    "        recognized_faces.append((label_text, confidence))\n",
    "\n",
    "    # Add the count of detected faces to the top left of the image\n",
    "    face_count_text = f\"Count: {len(faces)}\"\n",
    "    cv2.putText(img, face_count_text, (10, 30), cv2.FONT_HERSHEY_SIMPLEX, 1, (0, 0, 255), 2)\n",
    "\n",
    "    # Save the processed image\n",
    "    output_filename = os.path.basename(image_path)\n",
    "    output_path = os.path.join(save_folder_path, output_filename)\n",
    "    cv2.imwrite(output_path, img)\n",
    "\n",
    "    return recognized_faces, len(faces)"
   ]
  },
  {
   "cell_type": "code",
   "execution_count": 204,
   "id": "b3fb3b3a-4524-4038-b53c-fd4928715423",
   "metadata": {},
   "outputs": [],
   "source": [
    "def predict_robustly_2(image_path, face_recognizer, unique_students, save_folder_path, confidence_threshold=25, max_retries=5):\n",
    "    if not os.path.exists(image_path):\n",
    "        raise FileNotFoundError(f\"Image not found at {image_path}\")\n",
    "\n",
    "    # Open the original image for visualization\n",
    "    img_pil = Image.open(image_path)\n",
    "    img = np.array(img_pil)\n",
    "\n",
    "    # Initialize MTCNN for face detection\n",
    "    detector = MTCNN()\n",
    "\n",
    "    # Detect faces in the image\n",
    "    faces = detector.detect_faces(img)\n",
    "    recognized_faces = []\n",
    "\n",
    "    # Track assigned labels to ensure uniqueness\n",
    "    assigned_labels = {}\n",
    "\n",
    "    for face in faces:\n",
    "        # Extract face bounding box coordinates\n",
    "        x, y, w, h = face['box']\n",
    "        x1, y1 = x + w, y + h\n",
    "        \n",
    "        margin = int(0.1 * min(w, h))  # Calculate 10% of the smaller dimension (width or height)\n",
    "\n",
    "        # Adjust coordinates to increase bounding box by 10%\n",
    "        x_adjusted = max(0, x - margin)\n",
    "        y_adjusted = max(0, y - margin)\n",
    "        x1_adjusted = min(img.shape[1], x1 + margin)\n",
    "        y1_adjusted = min(img.shape[0], y1 + margin)\n",
    "        \n",
    "        # Crop the face from the original image\n",
    "        roi_color = img[y_adjusted:y1_adjusted, x_adjusted:x1_adjusted]\n",
    "\n",
    "        # Preprocess the face\n",
    "        roi_color_resized = process_face(roi_color)\n",
    "\n",
    "        max_confidence = 0\n",
    "        best_label = 'Unknown'\n",
    "        retries = 0\n",
    "        \n",
    "        while retries < max_retries:\n",
    "            # Make prediction\n",
    "            predictions = face_recognizer.predict(roi_color_resized)\n",
    "            predicted_ind = np.argmax(predictions[0])\n",
    "            label = unique_students[predicted_ind]\n",
    "            confidence = predictions[0][predicted_ind] * 100\n",
    "\n",
    "            if confidence > max_confidence:\n",
    "                max_confidence = confidence\n",
    "                best_label = label if confidence > confidence_threshold else 'Unknown'\n",
    "\n",
    "            retries += 1\n",
    "\n",
    "        # Check if the label is already assigned with higher confidence\n",
    "        if best_label in assigned_labels:\n",
    "            if max_confidence <= assigned_labels[best_label]:\n",
    "                best_label = 'Unknown'\n",
    "            else:\n",
    "                assigned_labels[best_label] = max_confidence\n",
    "        else:\n",
    "            assigned_labels[best_label] = max_confidence\n",
    "\n",
    "        # Draw the bounding box and label on the image\n",
    "        cv2.rectangle(img, (x_adjusted, y_adjusted), (x1_adjusted, y1_adjusted), (0, 0, 255), 2)\n",
    "        cv2.putText(img, f\"{best_label}: {max_confidence:.2f}%\", (x, y-10), cv2.FONT_HERSHEY_SIMPLEX, 0.9, (0, 0, 255), 2)\n",
    "        recognized_faces.append((best_label, max_confidence))\n",
    "\n",
    "    # Add the count of detected faces to the top left of the image\n",
    "    face_count_text = f\"Count: {len(faces)}\"\n",
    "    cv2.putText(img, face_count_text, (10, 30), cv2.FONT_HERSHEY_SIMPLEX, 1, (0, 0, 255), 2)\n",
    "\n",
    "    # Save the processed image\n",
    "    output_filename = os.path.basename(image_path)\n",
    "    output_path = os.path.join(save_folder_path, output_filename)\n",
    "    cv2.imwrite(output_path, img)\n",
    "\n",
    "    return recognized_faces, len(faces)"
   ]
  },
  {
   "cell_type": "code",
   "execution_count": 208,
   "id": "f89c91ca-0db2-426e-a625-fbe971013207",
   "metadata": {},
   "outputs": [
    {
     "name": "stderr",
     "output_type": "stream",
     "text": [
      "WARNING:absl:Compiled the loaded model, but the compiled metrics have yet to be built. `model.compile_metrics` will be empty until you train or evaluate the model.\n"
     ]
    },
    {
     "name": "stdout",
     "output_type": "stream",
     "text": [
      "Model loaded successfully.\n",
      "\u001b[1m1/1\u001b[0m \u001b[32m━━━━━━━━━━━━━━━━━━━━\u001b[0m\u001b[37m\u001b[0m \u001b[1m0s\u001b[0m 447ms/step\n",
      "\u001b[1m1/1\u001b[0m \u001b[32m━━━━━━━━━━━━━━━━━━━━\u001b[0m\u001b[37m\u001b[0m \u001b[1m0s\u001b[0m 232ms/step\n",
      "\u001b[1m1/1\u001b[0m \u001b[32m━━━━━━━━━━━━━━━━━━━━\u001b[0m\u001b[37m\u001b[0m \u001b[1m0s\u001b[0m 107ms/step\n",
      "\u001b[1m1/1\u001b[0m \u001b[32m━━━━━━━━━━━━━━━━━━━━\u001b[0m\u001b[37m\u001b[0m \u001b[1m0s\u001b[0m 48ms/step\n",
      "\u001b[1m1/1\u001b[0m \u001b[32m━━━━━━━━━━━━━━━━━━━━\u001b[0m\u001b[37m\u001b[0m \u001b[1m0s\u001b[0m 28ms/step\n",
      "\u001b[1m1/1\u001b[0m \u001b[32m━━━━━━━━━━━━━━━━━━━━\u001b[0m\u001b[37m\u001b[0m \u001b[1m0s\u001b[0m 24ms/step\n",
      "\u001b[1m1/1\u001b[0m \u001b[32m━━━━━━━━━━━━━━━━━━━━\u001b[0m\u001b[37m\u001b[0m \u001b[1m0s\u001b[0m 24ms/step\n",
      "\u001b[1m1/1\u001b[0m \u001b[32m━━━━━━━━━━━━━━━━━━━━\u001b[0m\u001b[37m\u001b[0m \u001b[1m0s\u001b[0m 18ms/step\n",
      "\u001b[1m1/1\u001b[0m \u001b[32m━━━━━━━━━━━━━━━━━━━━\u001b[0m\u001b[37m\u001b[0m \u001b[1m0s\u001b[0m 21ms/step\n",
      "\u001b[1m1/1\u001b[0m \u001b[32m━━━━━━━━━━━━━━━━━━━━\u001b[0m\u001b[37m\u001b[0m \u001b[1m0s\u001b[0m 16ms/step\n",
      "\u001b[1m1/1\u001b[0m \u001b[32m━━━━━━━━━━━━━━━━━━━━\u001b[0m\u001b[37m\u001b[0m \u001b[1m0s\u001b[0m 17ms/step\n",
      "\u001b[1m1/1\u001b[0m \u001b[32m━━━━━━━━━━━━━━━━━━━━\u001b[0m\u001b[37m\u001b[0m \u001b[1m0s\u001b[0m 15ms/step\n",
      "\u001b[1m1/1\u001b[0m \u001b[32m━━━━━━━━━━━━━━━━━━━━\u001b[0m\u001b[37m\u001b[0m \u001b[1m0s\u001b[0m 15ms/step\n",
      "\u001b[1m1/1\u001b[0m \u001b[32m━━━━━━━━━━━━━━━━━━━━\u001b[0m\u001b[37m\u001b[0m \u001b[1m0s\u001b[0m 21ms/step\n",
      "\u001b[1m1/1\u001b[0m \u001b[32m━━━━━━━━━━━━━━━━━━━━\u001b[0m\u001b[37m\u001b[0m \u001b[1m0s\u001b[0m 16ms/step\n",
      "\u001b[1m57/57\u001b[0m \u001b[32m━━━━━━━━━━━━━━━━━━━━\u001b[0m\u001b[37m\u001b[0m \u001b[1m0s\u001b[0m 4ms/step\n",
      "\u001b[1m2/2\u001b[0m \u001b[32m━━━━━━━━━━━━━━━━━━━━\u001b[0m\u001b[37m\u001b[0m \u001b[1m0s\u001b[0m 106ms/step\n",
      "\u001b[1m1/1\u001b[0m \u001b[32m━━━━━━━━━━━━━━━━━━━━\u001b[0m\u001b[37m\u001b[0m \u001b[1m0s\u001b[0m 78ms/step\n",
      "\u001b[1m1/1\u001b[0m \u001b[32m━━━━━━━━━━━━━━━━━━━━\u001b[0m\u001b[37m\u001b[0m \u001b[1m0s\u001b[0m 17ms/step\n",
      "\u001b[1m1/1\u001b[0m \u001b[32m━━━━━━━━━━━━━━━━━━━━\u001b[0m\u001b[37m\u001b[0m \u001b[1m0s\u001b[0m 16ms/step\n",
      "\u001b[1m1/1\u001b[0m \u001b[32m━━━━━━━━━━━━━━━━━━━━\u001b[0m\u001b[37m\u001b[0m \u001b[1m0s\u001b[0m 17ms/step\n",
      "\u001b[1m1/1\u001b[0m \u001b[32m━━━━━━━━━━━━━━━━━━━━\u001b[0m\u001b[37m\u001b[0m \u001b[1m0s\u001b[0m 16ms/step\n",
      "\u001b[1m1/1\u001b[0m \u001b[32m━━━━━━━━━━━━━━━━━━━━\u001b[0m\u001b[37m\u001b[0m \u001b[1m0s\u001b[0m 16ms/step\n",
      "\u001b[1m1/1\u001b[0m \u001b[32m━━━━━━━━━━━━━━━━━━━━\u001b[0m\u001b[37m\u001b[0m \u001b[1m0s\u001b[0m 16ms/step\n",
      "\u001b[1m1/1\u001b[0m \u001b[32m━━━━━━━━━━━━━━━━━━━━\u001b[0m\u001b[37m\u001b[0m \u001b[1m0s\u001b[0m 16ms/step\n",
      "\u001b[1m1/1\u001b[0m \u001b[32m━━━━━━━━━━━━━━━━━━━━\u001b[0m\u001b[37m\u001b[0m \u001b[1m0s\u001b[0m 17ms/step\n",
      "\u001b[1m1/1\u001b[0m \u001b[32m━━━━━━━━━━━━━━━━━━━━\u001b[0m\u001b[37m\u001b[0m \u001b[1m0s\u001b[0m 17ms/step\n",
      "\u001b[1m1/1\u001b[0m \u001b[32m━━━━━━━━━━━━━━━━━━━━\u001b[0m\u001b[37m\u001b[0m \u001b[1m0s\u001b[0m 17ms/step\n",
      "\u001b[1m1/1\u001b[0m \u001b[32m━━━━━━━━━━━━━━━━━━━━\u001b[0m\u001b[37m\u001b[0m \u001b[1m0s\u001b[0m 15ms/step\n",
      "\u001b[1m1/1\u001b[0m \u001b[32m━━━━━━━━━━━━━━━━━━━━\u001b[0m\u001b[37m\u001b[0m \u001b[1m0s\u001b[0m 16ms/step\n",
      "\u001b[1m1/1\u001b[0m \u001b[32m━━━━━━━━━━━━━━━━━━━━\u001b[0m\u001b[37m\u001b[0m \u001b[1m0s\u001b[0m 18ms/step\n",
      "\u001b[1m1/1\u001b[0m \u001b[32m━━━━━━━━━━━━━━━━━━━━\u001b[0m\u001b[37m\u001b[0m \u001b[1m0s\u001b[0m 19ms/step\n",
      "\u001b[1m1/1\u001b[0m \u001b[32m━━━━━━━━━━━━━━━━━━━━\u001b[0m\u001b[37m\u001b[0m \u001b[1m0s\u001b[0m 16ms/step\n",
      "\u001b[1m1/1\u001b[0m \u001b[32m━━━━━━━━━━━━━━━━━━━━\u001b[0m\u001b[37m\u001b[0m \u001b[1m0s\u001b[0m 18ms/step\n",
      "\u001b[1m1/1\u001b[0m \u001b[32m━━━━━━━━━━━━━━━━━━━━\u001b[0m\u001b[37m\u001b[0m \u001b[1m0s\u001b[0m 16ms/step\n",
      "\u001b[1m1/1\u001b[0m \u001b[32m━━━━━━━━━━━━━━━━━━━━\u001b[0m\u001b[37m\u001b[0m \u001b[1m0s\u001b[0m 15ms/step\n",
      "\u001b[1m1/1\u001b[0m \u001b[32m━━━━━━━━━━━━━━━━━━━━\u001b[0m\u001b[37m\u001b[0m \u001b[1m0s\u001b[0m 17ms/step\n"
     ]
    },
    {
     "data": {
      "text/plain": [
       "([('210303108114', 99.96917247772217),\n",
       "  ('Unknown', 98.17496538162231),\n",
       "  ('Unknown', 99.04649257659912),\n",
       "  ('210303108324', 99.98804330825806)],\n",
       " 4)"
      ]
     },
     "execution_count": 208,
     "metadata": {},
     "output_type": "execute_result"
    }
   ],
   "source": [
    "rf, l = predict_robustly_2(\n",
    "    image_path=\"Custom_Test_Images/team_radix.jpg\",\n",
    "    unique_students=unique_students,\n",
    "    face_recognizer= load_model_func(\"Models/CNN-GAP-Adam_20240719_160118.h5\"),\n",
    "    save_folder_path=\"Captured/\"\n",
    ")\n",
    "\n",
    "rf, l"
   ]
  },
  {
   "cell_type": "code",
   "execution_count": 190,
   "id": "fa5035cb-00a5-4445-9c07-d27420298c48",
   "metadata": {},
   "outputs": [
    {
     "name": "stdout",
     "output_type": "stream",
     "text": [
      "13\n"
     ]
    }
   ],
   "source": [
    "output_dir = 'Captured'\n",
    "os.makedirs(output_dir, exist_ok=True)\n",
    "print(len(os.listdir(output_dir)))"
   ]
  },
  {
   "cell_type": "code",
   "execution_count": 106,
   "id": "24bb6026-82ef-4466-b538-c30a7c30f178",
   "metadata": {
    "scrolled": true
   },
   "outputs": [
    {
     "name": "stdout",
     "output_type": "stream",
     "text": [
      "Reading Custom_Test_Images\\2203031080127_59.png\n",
      "\u001b[1m1/1\u001b[0m \u001b[32m━━━━━━━━━━━━━━━━━━━━\u001b[0m\u001b[37m\u001b[0m \u001b[1m0s\u001b[0m 73ms/step\n",
      "\u001b[1m1/1\u001b[0m \u001b[32m━━━━━━━━━━━━━━━━━━━━\u001b[0m\u001b[37m\u001b[0m \u001b[1m0s\u001b[0m 98ms/step\n",
      "\u001b[1m1/1\u001b[0m \u001b[32m━━━━━━━━━━━━━━━━━━━━\u001b[0m\u001b[37m\u001b[0m \u001b[1m0s\u001b[0m 19ms/step\n",
      "\u001b[1m1/1\u001b[0m \u001b[32m━━━━━━━━━━━━━━━━━━━━\u001b[0m\u001b[37m\u001b[0m \u001b[1m0s\u001b[0m 18ms/step\n",
      "\u001b[1m1/1\u001b[0m \u001b[32m━━━━━━━━━━━━━━━━━━━━\u001b[0m\u001b[37m\u001b[0m \u001b[1m0s\u001b[0m 22ms/step\n",
      "\u001b[1m1/1\u001b[0m \u001b[32m━━━━━━━━━━━━━━━━━━━━\u001b[0m\u001b[37m\u001b[0m \u001b[1m0s\u001b[0m 18ms/step\n",
      "\u001b[1m1/1\u001b[0m \u001b[32m━━━━━━━━━━━━━━━━━━━━\u001b[0m\u001b[37m\u001b[0m \u001b[1m0s\u001b[0m 18ms/step\n",
      "\u001b[1m1/1\u001b[0m \u001b[32m━━━━━━━━━━━━━━━━━━━━\u001b[0m\u001b[37m\u001b[0m \u001b[1m0s\u001b[0m 16ms/step\n",
      "\u001b[1m2/2\u001b[0m \u001b[32m━━━━━━━━━━━━━━━━━━━━\u001b[0m\u001b[37m\u001b[0m \u001b[1m0s\u001b[0m 83ms/step\n",
      "\u001b[1m1/1\u001b[0m \u001b[32m━━━━━━━━━━━━━━━━━━━━\u001b[0m\u001b[37m\u001b[0m \u001b[1m0s\u001b[0m 116ms/step\n",
      "\u001b[1m1/1\u001b[0m \u001b[32m━━━━━━━━━━━━━━━━━━━━\u001b[0m\u001b[37m\u001b[0m \u001b[1m0s\u001b[0m 18ms/step\n",
      "\u001b[1m1/1\u001b[0m \u001b[32m━━━━━━━━━━━━━━━━━━━━\u001b[0m\u001b[37m\u001b[0m \u001b[1m0s\u001b[0m 17ms/step\n",
      "\u001b[1m1/1\u001b[0m \u001b[32m━━━━━━━━━━━━━━━━━━━━\u001b[0m\u001b[37m\u001b[0m \u001b[1m0s\u001b[0m 16ms/step\n",
      "Reading Custom_Test_Images\\31_44.png\n",
      "\u001b[1m1/1\u001b[0m \u001b[32m━━━━━━━━━━━━━━━━━━━━\u001b[0m\u001b[37m\u001b[0m \u001b[1m0s\u001b[0m 100ms/step\n",
      "\u001b[1m1/1\u001b[0m \u001b[32m━━━━━━━━━━━━━━━━━━━━\u001b[0m\u001b[37m\u001b[0m \u001b[1m0s\u001b[0m 87ms/step\n",
      "\u001b[1m1/1\u001b[0m \u001b[32m━━━━━━━━━━━━━━━━━━━━\u001b[0m\u001b[37m\u001b[0m \u001b[1m0s\u001b[0m 19ms/step\n",
      "\u001b[1m1/1\u001b[0m \u001b[32m━━━━━━━━━━━━━━━━━━━━\u001b[0m\u001b[37m\u001b[0m \u001b[1m0s\u001b[0m 22ms/step\n",
      "\u001b[1m1/1\u001b[0m \u001b[32m━━━━━━━━━━━━━━━━━━━━\u001b[0m\u001b[37m\u001b[0m \u001b[1m0s\u001b[0m 16ms/step\n",
      "\u001b[1m1/1\u001b[0m \u001b[32m━━━━━━━━━━━━━━━━━━━━\u001b[0m\u001b[37m\u001b[0m \u001b[1m0s\u001b[0m 15ms/step\n",
      "\u001b[1m1/1\u001b[0m \u001b[32m━━━━━━━━━━━━━━━━━━━━\u001b[0m\u001b[37m\u001b[0m \u001b[1m0s\u001b[0m 15ms/step\n",
      "\u001b[1m1/1\u001b[0m \u001b[32m━━━━━━━━━━━━━━━━━━━━\u001b[0m\u001b[37m\u001b[0m \u001b[1m0s\u001b[0m 20ms/step\n",
      "\u001b[1m2/2\u001b[0m \u001b[32m━━━━━━━━━━━━━━━━━━━━\u001b[0m\u001b[37m\u001b[0m \u001b[1m0s\u001b[0m 75ms/step\n",
      "\u001b[1m1/1\u001b[0m \u001b[32m━━━━━━━━━━━━━━━━━━━━\u001b[0m\u001b[37m\u001b[0m \u001b[1m0s\u001b[0m 104ms/step\n",
      "\u001b[1m1/1\u001b[0m \u001b[32m━━━━━━━━━━━━━━━━━━━━\u001b[0m\u001b[37m\u001b[0m \u001b[1m0s\u001b[0m 17ms/step\n",
      "\u001b[1m1/1\u001b[0m \u001b[32m━━━━━━━━━━━━━━━━━━━━\u001b[0m\u001b[37m\u001b[0m \u001b[1m0s\u001b[0m 18ms/step\n",
      "\u001b[1m1/1\u001b[0m \u001b[32m━━━━━━━━━━━━━━━━━━━━\u001b[0m\u001b[37m\u001b[0m \u001b[1m0s\u001b[0m 17ms/step\n",
      "\u001b[1m1/1\u001b[0m \u001b[32m━━━━━━━━━━━━━━━━━━━━\u001b[0m\u001b[37m\u001b[0m \u001b[1m0s\u001b[0m 17ms/step\n",
      "Reading Custom_Test_Images\\42_20.png\n",
      "\u001b[1m1/1\u001b[0m \u001b[32m━━━━━━━━━━━━━━━━━━━━\u001b[0m\u001b[37m\u001b[0m \u001b[1m0s\u001b[0m 86ms/step\n",
      "\u001b[1m1/1\u001b[0m \u001b[32m━━━━━━━━━━━━━━━━━━━━\u001b[0m\u001b[37m\u001b[0m \u001b[1m0s\u001b[0m 101ms/step\n",
      "\u001b[1m1/1\u001b[0m \u001b[32m━━━━━━━━━━━━━━━━━━━━\u001b[0m\u001b[37m\u001b[0m \u001b[1m0s\u001b[0m 23ms/step\n",
      "\u001b[1m1/1\u001b[0m \u001b[32m━━━━━━━━━━━━━━━━━━━━\u001b[0m\u001b[37m\u001b[0m \u001b[1m0s\u001b[0m 19ms/step\n",
      "\u001b[1m1/1\u001b[0m \u001b[32m━━━━━━━━━━━━━━━━━━━━\u001b[0m\u001b[37m\u001b[0m \u001b[1m0s\u001b[0m 19ms/step\n",
      "\u001b[1m1/1\u001b[0m \u001b[32m━━━━━━━━━━━━━━━━━━━━\u001b[0m\u001b[37m\u001b[0m \u001b[1m0s\u001b[0m 20ms/step\n",
      "\u001b[1m1/1\u001b[0m \u001b[32m━━━━━━━━━━━━━━━━━━━━\u001b[0m\u001b[37m\u001b[0m \u001b[1m0s\u001b[0m 15ms/step\n",
      "\u001b[1m1/1\u001b[0m \u001b[32m━━━━━━━━━━━━━━━━━━━━\u001b[0m\u001b[37m\u001b[0m \u001b[1m0s\u001b[0m 15ms/step\n",
      "\u001b[1m2/2\u001b[0m \u001b[32m━━━━━━━━━━━━━━━━━━━━\u001b[0m\u001b[37m\u001b[0m \u001b[1m0s\u001b[0m 84ms/step\n",
      "\u001b[1m1/1\u001b[0m \u001b[32m━━━━━━━━━━━━━━━━━━━━\u001b[0m\u001b[37m\u001b[0m \u001b[1m0s\u001b[0m 129ms/step\n",
      "\u001b[1m1/1\u001b[0m \u001b[32m━━━━━━━━━━━━━━━━━━━━\u001b[0m\u001b[37m\u001b[0m \u001b[1m0s\u001b[0m 18ms/step\n",
      "\u001b[1m1/1\u001b[0m \u001b[32m━━━━━━━━━━━━━━━━━━━━\u001b[0m\u001b[37m\u001b[0m \u001b[1m0s\u001b[0m 20ms/step\n",
      "Reading Custom_Test_Images\\46_19.png\n",
      "\u001b[1m1/1\u001b[0m \u001b[32m━━━━━━━━━━━━━━━━━━━━\u001b[0m\u001b[37m\u001b[0m \u001b[1m0s\u001b[0m 78ms/step\n",
      "\u001b[1m1/1\u001b[0m \u001b[32m━━━━━━━━━━━━━━━━━━━━\u001b[0m\u001b[37m\u001b[0m \u001b[1m0s\u001b[0m 77ms/step\n",
      "\u001b[1m1/1\u001b[0m \u001b[32m━━━━━━━━━━━━━━━━━━━━\u001b[0m\u001b[37m\u001b[0m \u001b[1m0s\u001b[0m 18ms/step\n",
      "\u001b[1m1/1\u001b[0m \u001b[32m━━━━━━━━━━━━━━━━━━━━\u001b[0m\u001b[37m\u001b[0m \u001b[1m0s\u001b[0m 16ms/step\n",
      "\u001b[1m1/1\u001b[0m \u001b[32m━━━━━━━━━━━━━━━━━━━━\u001b[0m\u001b[37m\u001b[0m \u001b[1m0s\u001b[0m 16ms/step\n",
      "\u001b[1m1/1\u001b[0m \u001b[32m━━━━━━━━━━━━━━━━━━━━\u001b[0m\u001b[37m\u001b[0m \u001b[1m0s\u001b[0m 17ms/step\n",
      "\u001b[1m1/1\u001b[0m \u001b[32m━━━━━━━━━━━━━━━━━━━━\u001b[0m\u001b[37m\u001b[0m \u001b[1m0s\u001b[0m 16ms/step\n",
      "\u001b[1m1/1\u001b[0m \u001b[32m━━━━━━━━━━━━━━━━━━━━\u001b[0m\u001b[37m\u001b[0m \u001b[1m0s\u001b[0m 15ms/step\n",
      "\u001b[1m3/3\u001b[0m \u001b[32m━━━━━━━━━━━━━━━━━━━━\u001b[0m\u001b[37m\u001b[0m \u001b[1m0s\u001b[0m 37ms/step\n",
      "\u001b[1m1/1\u001b[0m \u001b[32m━━━━━━━━━━━━━━━━━━━━\u001b[0m\u001b[37m\u001b[0m \u001b[1m0s\u001b[0m 99ms/step\n",
      "\u001b[1m1/1\u001b[0m \u001b[32m━━━━━━━━━━━━━━━━━━━━\u001b[0m\u001b[37m\u001b[0m \u001b[1m0s\u001b[0m 17ms/step\n",
      "\u001b[1m1/1\u001b[0m \u001b[32m━━━━━━━━━━━━━━━━━━━━\u001b[0m\u001b[37m\u001b[0m \u001b[1m0s\u001b[0m 23ms/step\n",
      "\u001b[1m1/1\u001b[0m \u001b[32m━━━━━━━━━━━━━━━━━━━━\u001b[0m\u001b[37m\u001b[0m \u001b[1m0s\u001b[0m 19ms/step\n",
      "Reading Custom_Test_Images\\IMG-20240719-WA0003.jpg\n",
      "\u001b[1m1/1\u001b[0m \u001b[32m━━━━━━━━━━━━━━━━━━━━\u001b[0m\u001b[37m\u001b[0m \u001b[1m0s\u001b[0m 110ms/step\n",
      "\u001b[1m1/1\u001b[0m \u001b[32m━━━━━━━━━━━━━━━━━━━━\u001b[0m\u001b[37m\u001b[0m \u001b[1m0s\u001b[0m 94ms/step\n",
      "\u001b[1m1/1\u001b[0m \u001b[32m━━━━━━━━━━━━━━━━━━━━\u001b[0m\u001b[37m\u001b[0m \u001b[1m0s\u001b[0m 23ms/step\n",
      "\u001b[1m1/1\u001b[0m \u001b[32m━━━━━━━━━━━━━━━━━━━━\u001b[0m\u001b[37m\u001b[0m \u001b[1m0s\u001b[0m 19ms/step\n",
      "\u001b[1m1/1\u001b[0m \u001b[32m━━━━━━━━━━━━━━━━━━━━\u001b[0m\u001b[37m\u001b[0m \u001b[1m0s\u001b[0m 19ms/step\n",
      "\u001b[1m1/1\u001b[0m \u001b[32m━━━━━━━━━━━━━━━━━━━━\u001b[0m\u001b[37m\u001b[0m \u001b[1m0s\u001b[0m 18ms/step\n",
      "\u001b[1m1/1\u001b[0m \u001b[32m━━━━━━━━━━━━━━━━━━━━\u001b[0m\u001b[37m\u001b[0m \u001b[1m0s\u001b[0m 17ms/step\n",
      "\u001b[1m1/1\u001b[0m \u001b[32m━━━━━━━━━━━━━━━━━━━━\u001b[0m\u001b[37m\u001b[0m \u001b[1m0s\u001b[0m 22ms/step\n",
      "\u001b[1m1/1\u001b[0m \u001b[32m━━━━━━━━━━━━━━━━━━━━\u001b[0m\u001b[37m\u001b[0m \u001b[1m0s\u001b[0m 23ms/step\n",
      "\u001b[1m1/1\u001b[0m \u001b[32m━━━━━━━━━━━━━━━━━━━━\u001b[0m\u001b[37m\u001b[0m \u001b[1m0s\u001b[0m 16ms/step\n",
      "\u001b[1m1/1\u001b[0m \u001b[32m━━━━━━━━━━━━━━━━━━━━\u001b[0m\u001b[37m\u001b[0m \u001b[1m0s\u001b[0m 17ms/step\n",
      "\u001b[1m1/1\u001b[0m \u001b[32m━━━━━━━━━━━━━━━━━━━━\u001b[0m\u001b[37m\u001b[0m \u001b[1m0s\u001b[0m 14ms/step\n",
      "\u001b[1m15/15\u001b[0m \u001b[32m━━━━━━━━━━━━━━━━━━━━\u001b[0m\u001b[37m\u001b[0m \u001b[1m0s\u001b[0m 7ms/step\n",
      "\u001b[1m3/3\u001b[0m \u001b[32m━━━━━━━━━━━━━━━━━━━━\u001b[0m\u001b[37m\u001b[0m \u001b[1m0s\u001b[0m 47ms/step\n",
      "\u001b[1m1/1\u001b[0m \u001b[32m━━━━━━━━━━━━━━━━━━━━\u001b[0m\u001b[37m\u001b[0m \u001b[1m0s\u001b[0m 17ms/step\n",
      "\u001b[1m1/1\u001b[0m \u001b[32m━━━━━━━━━━━━━━━━━━━━\u001b[0m\u001b[37m\u001b[0m \u001b[1m0s\u001b[0m 17ms/step\n",
      "\u001b[1m1/1\u001b[0m \u001b[32m━━━━━━━━━━━━━━━━━━━━\u001b[0m\u001b[37m\u001b[0m \u001b[1m0s\u001b[0m 17ms/step\n",
      "\u001b[1m1/1\u001b[0m \u001b[32m━━━━━━━━━━━━━━━━━━━━\u001b[0m\u001b[37m\u001b[0m \u001b[1m0s\u001b[0m 21ms/step\n",
      "\u001b[1m1/1\u001b[0m \u001b[32m━━━━━━━━━━━━━━━━━━━━\u001b[0m\u001b[37m\u001b[0m \u001b[1m0s\u001b[0m 27ms/step\n",
      "\u001b[1m1/1\u001b[0m \u001b[32m━━━━━━━━━━━━━━━━━━━━\u001b[0m\u001b[37m\u001b[0m \u001b[1m0s\u001b[0m 21ms/step\n",
      "\u001b[1m1/1\u001b[0m \u001b[32m━━━━━━━━━━━━━━━━━━━━\u001b[0m\u001b[37m\u001b[0m \u001b[1m0s\u001b[0m 17ms/step\n",
      "\u001b[1m1/1\u001b[0m \u001b[32m━━━━━━━━━━━━━━━━━━━━\u001b[0m\u001b[37m\u001b[0m \u001b[1m0s\u001b[0m 16ms/step\n",
      "\u001b[1m1/1\u001b[0m \u001b[32m━━━━━━━━━━━━━━━━━━━━\u001b[0m\u001b[37m\u001b[0m \u001b[1m0s\u001b[0m 16ms/step\n",
      "\u001b[1m1/1\u001b[0m \u001b[32m━━━━━━━━━━━━━━━━━━━━\u001b[0m\u001b[37m\u001b[0m \u001b[1m0s\u001b[0m 16ms/step\n",
      "Reading Custom_Test_Images\\IMG-20240719-WA0004.jpg\n",
      "\u001b[1m1/1\u001b[0m \u001b[32m━━━━━━━━━━━━━━━━━━━━\u001b[0m\u001b[37m\u001b[0m \u001b[1m0s\u001b[0m 106ms/step\n",
      "\u001b[1m1/1\u001b[0m \u001b[32m━━━━━━━━━━━━━━━━━━━━\u001b[0m\u001b[37m\u001b[0m \u001b[1m0s\u001b[0m 101ms/step\n",
      "\u001b[1m1/1\u001b[0m \u001b[32m━━━━━━━━━━━━━━━━━━━━\u001b[0m\u001b[37m\u001b[0m \u001b[1m0s\u001b[0m 25ms/step\n",
      "\u001b[1m1/1\u001b[0m \u001b[32m━━━━━━━━━━━━━━━━━━━━\u001b[0m\u001b[37m\u001b[0m \u001b[1m0s\u001b[0m 25ms/step\n",
      "\u001b[1m1/1\u001b[0m \u001b[32m━━━━━━━━━━━━━━━━━━━━\u001b[0m\u001b[37m\u001b[0m \u001b[1m0s\u001b[0m 20ms/step\n",
      "\u001b[1m1/1\u001b[0m \u001b[32m━━━━━━━━━━━━━━━━━━━━\u001b[0m\u001b[37m\u001b[0m \u001b[1m0s\u001b[0m 18ms/step\n",
      "\u001b[1m1/1\u001b[0m \u001b[32m━━━━━━━━━━━━━━━━━━━━\u001b[0m\u001b[37m\u001b[0m \u001b[1m0s\u001b[0m 16ms/step\n",
      "\u001b[1m1/1\u001b[0m \u001b[32m━━━━━━━━━━━━━━━━━━━━\u001b[0m\u001b[37m\u001b[0m \u001b[1m0s\u001b[0m 17ms/step\n",
      "\u001b[1m1/1\u001b[0m \u001b[32m━━━━━━━━━━━━━━━━━━━━\u001b[0m\u001b[37m\u001b[0m \u001b[1m0s\u001b[0m 15ms/step\n",
      "\u001b[1m1/1\u001b[0m \u001b[32m━━━━━━━━━━━━━━━━━━━━\u001b[0m\u001b[37m\u001b[0m \u001b[1m0s\u001b[0m 24ms/step\n",
      "\u001b[1m1/1\u001b[0m \u001b[32m━━━━━━━━━━━━━━━━━━━━\u001b[0m\u001b[37m\u001b[0m \u001b[1m0s\u001b[0m 23ms/step\n",
      "\u001b[1m1/1\u001b[0m \u001b[32m━━━━━━━━━━━━━━━━━━━━\u001b[0m\u001b[37m\u001b[0m \u001b[1m0s\u001b[0m 21ms/step\n",
      "\u001b[1m18/18\u001b[0m \u001b[32m━━━━━━━━━━━━━━━━━━━━\u001b[0m\u001b[37m\u001b[0m \u001b[1m0s\u001b[0m 6ms/step\n",
      "\u001b[1m3/3\u001b[0m \u001b[32m━━━━━━━━━━━━━━━━━━━━\u001b[0m\u001b[37m\u001b[0m \u001b[1m0s\u001b[0m 58ms/step\n",
      "\u001b[1m1/1\u001b[0m \u001b[32m━━━━━━━━━━━━━━━━━━━━\u001b[0m\u001b[37m\u001b[0m \u001b[1m0s\u001b[0m 17ms/step\n",
      "\u001b[1m1/1\u001b[0m \u001b[32m━━━━━━━━━━━━━━━━━━━━\u001b[0m\u001b[37m\u001b[0m \u001b[1m0s\u001b[0m 18ms/step\n",
      "\u001b[1m1/1\u001b[0m \u001b[32m━━━━━━━━━━━━━━━━━━━━\u001b[0m\u001b[37m\u001b[0m \u001b[1m0s\u001b[0m 16ms/step\n",
      "\u001b[1m1/1\u001b[0m \u001b[32m━━━━━━━━━━━━━━━━━━━━\u001b[0m\u001b[37m\u001b[0m \u001b[1m0s\u001b[0m 17ms/step\n",
      "\u001b[1m1/1\u001b[0m \u001b[32m━━━━━━━━━━━━━━━━━━━━\u001b[0m\u001b[37m\u001b[0m \u001b[1m0s\u001b[0m 16ms/step\n",
      "\u001b[1m1/1\u001b[0m \u001b[32m━━━━━━━━━━━━━━━━━━━━\u001b[0m\u001b[37m\u001b[0m \u001b[1m0s\u001b[0m 16ms/step\n",
      "\u001b[1m1/1\u001b[0m \u001b[32m━━━━━━━━━━━━━━━━━━━━\u001b[0m\u001b[37m\u001b[0m \u001b[1m0s\u001b[0m 16ms/step\n",
      "\u001b[1m1/1\u001b[0m \u001b[32m━━━━━━━━━━━━━━━━━━━━\u001b[0m\u001b[37m\u001b[0m \u001b[1m0s\u001b[0m 16ms/step\n",
      "\u001b[1m1/1\u001b[0m \u001b[32m━━━━━━━━━━━━━━━━━━━━\u001b[0m\u001b[37m\u001b[0m \u001b[1m0s\u001b[0m 16ms/step\n",
      "\u001b[1m1/1\u001b[0m \u001b[32m━━━━━━━━━━━━━━━━━━━━\u001b[0m\u001b[37m\u001b[0m \u001b[1m0s\u001b[0m 17ms/step\n",
      "Reading Custom_Test_Images\\IMG-20240719-WA0005.jpg\n",
      "\u001b[1m1/1\u001b[0m \u001b[32m━━━━━━━━━━━━━━━━━━━━\u001b[0m\u001b[37m\u001b[0m \u001b[1m0s\u001b[0m 115ms/step\n",
      "\u001b[1m1/1\u001b[0m \u001b[32m━━━━━━━━━━━━━━━━━━━━\u001b[0m\u001b[37m\u001b[0m \u001b[1m0s\u001b[0m 91ms/step\n",
      "\u001b[1m1/1\u001b[0m \u001b[32m━━━━━━━━━━━━━━━━━━━━\u001b[0m\u001b[37m\u001b[0m \u001b[1m0s\u001b[0m 22ms/step\n",
      "\u001b[1m1/1\u001b[0m \u001b[32m━━━━━━━━━━━━━━━━━━━━\u001b[0m\u001b[37m\u001b[0m \u001b[1m0s\u001b[0m 19ms/step\n",
      "\u001b[1m1/1\u001b[0m \u001b[32m━━━━━━━━━━━━━━━━━━━━\u001b[0m\u001b[37m\u001b[0m \u001b[1m0s\u001b[0m 17ms/step\n",
      "\u001b[1m1/1\u001b[0m \u001b[32m━━━━━━━━━━━━━━━━━━━━\u001b[0m\u001b[37m\u001b[0m \u001b[1m0s\u001b[0m 17ms/step\n",
      "\u001b[1m1/1\u001b[0m \u001b[32m━━━━━━━━━━━━━━━━━━━━\u001b[0m\u001b[37m\u001b[0m \u001b[1m0s\u001b[0m 20ms/step\n",
      "\u001b[1m1/1\u001b[0m \u001b[32m━━━━━━━━━━━━━━━━━━━━\u001b[0m\u001b[37m\u001b[0m \u001b[1m0s\u001b[0m 16ms/step\n",
      "\u001b[1m1/1\u001b[0m \u001b[32m━━━━━━━━━━━━━━━━━━━━\u001b[0m\u001b[37m\u001b[0m \u001b[1m0s\u001b[0m 17ms/step\n",
      "\u001b[1m1/1\u001b[0m \u001b[32m━━━━━━━━━━━━━━━━━━━━\u001b[0m\u001b[37m\u001b[0m \u001b[1m0s\u001b[0m 19ms/step\n",
      "\u001b[1m1/1\u001b[0m \u001b[32m━━━━━━━━━━━━━━━━━━━━\u001b[0m\u001b[37m\u001b[0m \u001b[1m0s\u001b[0m 16ms/step\n",
      "\u001b[1m1/1\u001b[0m \u001b[32m━━━━━━━━━━━━━━━━━━━━\u001b[0m\u001b[37m\u001b[0m \u001b[1m0s\u001b[0m 17ms/step\n",
      "\u001b[1m18/18\u001b[0m \u001b[32m━━━━━━━━━━━━━━━━━━━━\u001b[0m\u001b[37m\u001b[0m \u001b[1m0s\u001b[0m 7ms/step\n",
      "\u001b[1m3/3\u001b[0m \u001b[32m━━━━━━━━━━━━━━━━━━━━\u001b[0m\u001b[37m\u001b[0m \u001b[1m0s\u001b[0m 48ms/step\n",
      "\u001b[1m1/1\u001b[0m \u001b[32m━━━━━━━━━━━━━━━━━━━━\u001b[0m\u001b[37m\u001b[0m \u001b[1m0s\u001b[0m 18ms/step\n",
      "\u001b[1m1/1\u001b[0m \u001b[32m━━━━━━━━━━━━━━━━━━━━\u001b[0m\u001b[37m\u001b[0m \u001b[1m0s\u001b[0m 16ms/step\n",
      "\u001b[1m1/1\u001b[0m \u001b[32m━━━━━━━━━━━━━━━━━━━━\u001b[0m\u001b[37m\u001b[0m \u001b[1m0s\u001b[0m 17ms/step\n",
      "\u001b[1m1/1\u001b[0m \u001b[32m━━━━━━━━━━━━━━━━━━━━\u001b[0m\u001b[37m\u001b[0m \u001b[1m0s\u001b[0m 18ms/step\n",
      "\u001b[1m1/1\u001b[0m \u001b[32m━━━━━━━━━━━━━━━━━━━━\u001b[0m\u001b[37m\u001b[0m \u001b[1m0s\u001b[0m 18ms/step\n",
      "\u001b[1m1/1\u001b[0m \u001b[32m━━━━━━━━━━━━━━━━━━━━\u001b[0m\u001b[37m\u001b[0m \u001b[1m0s\u001b[0m 18ms/step\n",
      "\u001b[1m1/1\u001b[0m \u001b[32m━━━━━━━━━━━━━━━━━━━━\u001b[0m\u001b[37m\u001b[0m \u001b[1m0s\u001b[0m 17ms/step\n",
      "\u001b[1m1/1\u001b[0m \u001b[32m━━━━━━━━━━━━━━━━━━━━\u001b[0m\u001b[37m\u001b[0m \u001b[1m0s\u001b[0m 17ms/step\n",
      "\u001b[1m1/1\u001b[0m \u001b[32m━━━━━━━━━━━━━━━━━━━━\u001b[0m\u001b[37m\u001b[0m \u001b[1m0s\u001b[0m 16ms/step\n",
      "\u001b[1m1/1\u001b[0m \u001b[32m━━━━━━━━━━━━━━━━━━━━\u001b[0m\u001b[37m\u001b[0m \u001b[1m0s\u001b[0m 17ms/step\n",
      "Reading Custom_Test_Images\\IMG-20240719-WA0006.jpg\n",
      "\u001b[1m1/1\u001b[0m \u001b[32m━━━━━━━━━━━━━━━━━━━━\u001b[0m\u001b[37m\u001b[0m \u001b[1m0s\u001b[0m 105ms/step\n",
      "\u001b[1m1/1\u001b[0m \u001b[32m━━━━━━━━━━━━━━━━━━━━\u001b[0m\u001b[37m\u001b[0m \u001b[1m0s\u001b[0m 85ms/step\n",
      "\u001b[1m1/1\u001b[0m \u001b[32m━━━━━━━━━━━━━━━━━━━━\u001b[0m\u001b[37m\u001b[0m \u001b[1m0s\u001b[0m 23ms/step\n",
      "\u001b[1m1/1\u001b[0m \u001b[32m━━━━━━━━━━━━━━━━━━━━\u001b[0m\u001b[37m\u001b[0m \u001b[1m0s\u001b[0m 21ms/step\n",
      "\u001b[1m1/1\u001b[0m \u001b[32m━━━━━━━━━━━━━━━━━━━━\u001b[0m\u001b[37m\u001b[0m \u001b[1m0s\u001b[0m 22ms/step\n",
      "\u001b[1m1/1\u001b[0m \u001b[32m━━━━━━━━━━━━━━━━━━━━\u001b[0m\u001b[37m\u001b[0m \u001b[1m0s\u001b[0m 17ms/step\n",
      "\u001b[1m1/1\u001b[0m \u001b[32m━━━━━━━━━━━━━━━━━━━━\u001b[0m\u001b[37m\u001b[0m \u001b[1m0s\u001b[0m 18ms/step\n",
      "\u001b[1m1/1\u001b[0m \u001b[32m━━━━━━━━━━━━━━━━━━━━\u001b[0m\u001b[37m\u001b[0m \u001b[1m0s\u001b[0m 18ms/step\n",
      "\u001b[1m1/1\u001b[0m \u001b[32m━━━━━━━━━━━━━━━━━━━━\u001b[0m\u001b[37m\u001b[0m \u001b[1m0s\u001b[0m 17ms/step\n",
      "\u001b[1m1/1\u001b[0m \u001b[32m━━━━━━━━━━━━━━━━━━━━\u001b[0m\u001b[37m\u001b[0m \u001b[1m0s\u001b[0m 27ms/step\n",
      "\u001b[1m1/1\u001b[0m \u001b[32m━━━━━━━━━━━━━━━━━━━━\u001b[0m\u001b[37m\u001b[0m \u001b[1m0s\u001b[0m 23ms/step\n",
      "\u001b[1m1/1\u001b[0m \u001b[32m━━━━━━━━━━━━━━━━━━━━\u001b[0m\u001b[37m\u001b[0m \u001b[1m0s\u001b[0m 25ms/step\n",
      "\u001b[1m9/9\u001b[0m \u001b[32m━━━━━━━━━━━━━━━━━━━━\u001b[0m\u001b[37m\u001b[0m \u001b[1m0s\u001b[0m 12ms/step\n",
      "\u001b[1m2/2\u001b[0m \u001b[32m━━━━━━━━━━━━━━━━━━━━\u001b[0m\u001b[37m\u001b[0m \u001b[1m0s\u001b[0m 86ms/step\n",
      "\u001b[1m1/1\u001b[0m \u001b[32m━━━━━━━━━━━━━━━━━━━━\u001b[0m\u001b[37m\u001b[0m \u001b[1m0s\u001b[0m 16ms/step\n",
      "\u001b[1m1/1\u001b[0m \u001b[32m━━━━━━━━━━━━━━━━━━━━\u001b[0m\u001b[37m\u001b[0m \u001b[1m0s\u001b[0m 19ms/step\n",
      "\u001b[1m1/1\u001b[0m \u001b[32m━━━━━━━━━━━━━━━━━━━━\u001b[0m\u001b[37m\u001b[0m \u001b[1m0s\u001b[0m 19ms/step\n",
      "Reading Custom_Test_Images\\IMG-20240719-WA0007.jpg\n",
      "\u001b[1m1/1\u001b[0m \u001b[32m━━━━━━━━━━━━━━━━━━━━\u001b[0m\u001b[37m\u001b[0m \u001b[1m0s\u001b[0m 127ms/step\n",
      "\u001b[1m1/1\u001b[0m \u001b[32m━━━━━━━━━━━━━━━━━━━━\u001b[0m\u001b[37m\u001b[0m \u001b[1m0s\u001b[0m 109ms/step\n",
      "\u001b[1m1/1\u001b[0m \u001b[32m━━━━━━━━━━━━━━━━━━━━\u001b[0m\u001b[37m\u001b[0m \u001b[1m0s\u001b[0m 26ms/step\n",
      "\u001b[1m1/1\u001b[0m \u001b[32m━━━━━━━━━━━━━━━━━━━━\u001b[0m\u001b[37m\u001b[0m \u001b[1m0s\u001b[0m 20ms/step\n",
      "\u001b[1m1/1\u001b[0m \u001b[32m━━━━━━━━━━━━━━━━━━━━\u001b[0m\u001b[37m\u001b[0m \u001b[1m0s\u001b[0m 20ms/step\n",
      "\u001b[1m1/1\u001b[0m \u001b[32m━━━━━━━━━━━━━━━━━━━━\u001b[0m\u001b[37m\u001b[0m \u001b[1m0s\u001b[0m 19ms/step\n",
      "\u001b[1m1/1\u001b[0m \u001b[32m━━━━━━━━━━━━━━━━━━━━\u001b[0m\u001b[37m\u001b[0m \u001b[1m0s\u001b[0m 20ms/step\n",
      "\u001b[1m1/1\u001b[0m \u001b[32m━━━━━━━━━━━━━━━━━━━━\u001b[0m\u001b[37m\u001b[0m \u001b[1m0s\u001b[0m 24ms/step\n",
      "\u001b[1m1/1\u001b[0m \u001b[32m━━━━━━━━━━━━━━━━━━━━\u001b[0m\u001b[37m\u001b[0m \u001b[1m0s\u001b[0m 16ms/step\n",
      "\u001b[1m1/1\u001b[0m \u001b[32m━━━━━━━━━━━━━━━━━━━━\u001b[0m\u001b[37m\u001b[0m \u001b[1m0s\u001b[0m 17ms/step\n",
      "\u001b[1m1/1\u001b[0m \u001b[32m━━━━━━━━━━━━━━━━━━━━\u001b[0m\u001b[37m\u001b[0m \u001b[1m0s\u001b[0m 16ms/step\n",
      "\u001b[1m1/1\u001b[0m \u001b[32m━━━━━━━━━━━━━━━━━━━━\u001b[0m\u001b[37m\u001b[0m \u001b[1m0s\u001b[0m 26ms/step\n",
      "\u001b[1m8/8\u001b[0m \u001b[32m━━━━━━━━━━━━━━━━━━━━\u001b[0m\u001b[37m\u001b[0m \u001b[1m0s\u001b[0m 13ms/step\n",
      "\u001b[1m2/2\u001b[0m \u001b[32m━━━━━━━━━━━━━━━━━━━━\u001b[0m\u001b[37m\u001b[0m \u001b[1m0s\u001b[0m 87ms/step\n",
      "\u001b[1m1/1\u001b[0m \u001b[32m━━━━━━━━━━━━━━━━━━━━\u001b[0m\u001b[37m\u001b[0m \u001b[1m0s\u001b[0m 18ms/step\n",
      "\u001b[1m1/1\u001b[0m \u001b[32m━━━━━━━━━━━━━━━━━━━━\u001b[0m\u001b[37m\u001b[0m \u001b[1m0s\u001b[0m 22ms/step\n",
      "\u001b[1m1/1\u001b[0m \u001b[32m━━━━━━━━━━━━━━━━━━━━\u001b[0m\u001b[37m\u001b[0m \u001b[1m0s\u001b[0m 18ms/step\n",
      "Reading Custom_Test_Images\\IMG-20240719-WA0008.jpg\n",
      "\u001b[1m1/1\u001b[0m \u001b[32m━━━━━━━━━━━━━━━━━━━━\u001b[0m\u001b[37m\u001b[0m \u001b[1m0s\u001b[0m 109ms/step\n",
      "\u001b[1m1/1\u001b[0m \u001b[32m━━━━━━━━━━━━━━━━━━━━\u001b[0m\u001b[37m\u001b[0m \u001b[1m0s\u001b[0m 116ms/step\n",
      "\u001b[1m1/1\u001b[0m \u001b[32m━━━━━━━━━━━━━━━━━━━━\u001b[0m\u001b[37m\u001b[0m \u001b[1m0s\u001b[0m 28ms/step\n",
      "\u001b[1m1/1\u001b[0m \u001b[32m━━━━━━━━━━━━━━━━━━━━\u001b[0m\u001b[37m\u001b[0m \u001b[1m0s\u001b[0m 35ms/step\n",
      "\u001b[1m1/1\u001b[0m \u001b[32m━━━━━━━━━━━━━━━━━━━━\u001b[0m\u001b[37m\u001b[0m \u001b[1m0s\u001b[0m 22ms/step\n",
      "\u001b[1m1/1\u001b[0m \u001b[32m━━━━━━━━━━━━━━━━━━━━\u001b[0m\u001b[37m\u001b[0m \u001b[1m0s\u001b[0m 22ms/step\n",
      "\u001b[1m1/1\u001b[0m \u001b[32m━━━━━━━━━━━━━━━━━━━━\u001b[0m\u001b[37m\u001b[0m \u001b[1m0s\u001b[0m 20ms/step\n",
      "\u001b[1m1/1\u001b[0m \u001b[32m━━━━━━━━━━━━━━━━━━━━\u001b[0m\u001b[37m\u001b[0m \u001b[1m0s\u001b[0m 18ms/step\n",
      "\u001b[1m1/1\u001b[0m \u001b[32m━━━━━━━━━━━━━━━━━━━━\u001b[0m\u001b[37m\u001b[0m \u001b[1m0s\u001b[0m 20ms/step\n",
      "\u001b[1m1/1\u001b[0m \u001b[32m━━━━━━━━━━━━━━━━━━━━\u001b[0m\u001b[37m\u001b[0m \u001b[1m0s\u001b[0m 20ms/step\n",
      "\u001b[1m1/1\u001b[0m \u001b[32m━━━━━━━━━━━━━━━━━━━━\u001b[0m\u001b[37m\u001b[0m \u001b[1m0s\u001b[0m 26ms/step\n",
      "\u001b[1m1/1\u001b[0m \u001b[32m━━━━━━━━━━━━━━━━━━━━\u001b[0m\u001b[37m\u001b[0m \u001b[1m0s\u001b[0m 28ms/step\n",
      "\u001b[1m13/13\u001b[0m \u001b[32m━━━━━━━━━━━━━━━━━━━━\u001b[0m\u001b[37m\u001b[0m \u001b[1m0s\u001b[0m 9ms/step\n",
      "\u001b[1m2/2\u001b[0m \u001b[32m━━━━━━━━━━━━━━━━━━━━\u001b[0m\u001b[37m\u001b[0m \u001b[1m0s\u001b[0m 90ms/step\n",
      "\u001b[1m1/1\u001b[0m \u001b[32m━━━━━━━━━━━━━━━━━━━━\u001b[0m\u001b[37m\u001b[0m \u001b[1m0s\u001b[0m 18ms/step\n",
      "\u001b[1m1/1\u001b[0m \u001b[32m━━━━━━━━━━━━━━━━━━━━\u001b[0m\u001b[37m\u001b[0m \u001b[1m0s\u001b[0m 18ms/step\n",
      "\u001b[1m1/1\u001b[0m \u001b[32m━━━━━━━━━━━━━━━━━━━━\u001b[0m\u001b[37m\u001b[0m \u001b[1m0s\u001b[0m 19ms/step\n",
      "Reading Custom_Test_Images\\IMG-20240719-WA0009.jpg\n",
      "\u001b[1m1/1\u001b[0m \u001b[32m━━━━━━━━━━━━━━━━━━━━\u001b[0m\u001b[37m\u001b[0m \u001b[1m0s\u001b[0m 119ms/step\n",
      "\u001b[1m1/1\u001b[0m \u001b[32m━━━━━━━━━━━━━━━━━━━━\u001b[0m\u001b[37m\u001b[0m \u001b[1m0s\u001b[0m 85ms/step\n",
      "\u001b[1m1/1\u001b[0m \u001b[32m━━━━━━━━━━━━━━━━━━━━\u001b[0m\u001b[37m\u001b[0m \u001b[1m0s\u001b[0m 22ms/step\n",
      "\u001b[1m1/1\u001b[0m \u001b[32m━━━━━━━━━━━━━━━━━━━━\u001b[0m\u001b[37m\u001b[0m \u001b[1m0s\u001b[0m 20ms/step\n",
      "\u001b[1m1/1\u001b[0m \u001b[32m━━━━━━━━━━━━━━━━━━━━\u001b[0m\u001b[37m\u001b[0m \u001b[1m0s\u001b[0m 20ms/step\n",
      "\u001b[1m1/1\u001b[0m \u001b[32m━━━━━━━━━━━━━━━━━━━━\u001b[0m\u001b[37m\u001b[0m \u001b[1m0s\u001b[0m 20ms/step\n",
      "\u001b[1m1/1\u001b[0m \u001b[32m━━━━━━━━━━━━━━━━━━━━\u001b[0m\u001b[37m\u001b[0m \u001b[1m0s\u001b[0m 18ms/step\n",
      "\u001b[1m1/1\u001b[0m \u001b[32m━━━━━━━━━━━━━━━━━━━━\u001b[0m\u001b[37m\u001b[0m \u001b[1m0s\u001b[0m 18ms/step\n",
      "\u001b[1m1/1\u001b[0m \u001b[32m━━━━━━━━━━━━━━━━━━━━\u001b[0m\u001b[37m\u001b[0m \u001b[1m0s\u001b[0m 18ms/step\n",
      "\u001b[1m1/1\u001b[0m \u001b[32m━━━━━━━━━━━━━━━━━━━━\u001b[0m\u001b[37m\u001b[0m \u001b[1m0s\u001b[0m 20ms/step\n",
      "\u001b[1m1/1\u001b[0m \u001b[32m━━━━━━━━━━━━━━━━━━━━\u001b[0m\u001b[37m\u001b[0m \u001b[1m0s\u001b[0m 19ms/step\n",
      "\u001b[1m1/1\u001b[0m \u001b[32m━━━━━━━━━━━━━━━━━━━━\u001b[0m\u001b[37m\u001b[0m \u001b[1m0s\u001b[0m 17ms/step\n",
      "\u001b[1m7/7\u001b[0m \u001b[32m━━━━━━━━━━━━━━━━━━━━\u001b[0m\u001b[37m\u001b[0m \u001b[1m0s\u001b[0m 13ms/step\n",
      "\u001b[1m1/1\u001b[0m \u001b[32m━━━━━━━━━━━━━━━━━━━━\u001b[0m\u001b[37m\u001b[0m \u001b[1m0s\u001b[0m 98ms/step\n",
      "\u001b[1m1/1\u001b[0m \u001b[32m━━━━━━━━━━━━━━━━━━━━\u001b[0m\u001b[37m\u001b[0m \u001b[1m0s\u001b[0m 18ms/step\n",
      "\u001b[1m1/1\u001b[0m \u001b[32m━━━━━━━━━━━━━━━━━━━━\u001b[0m\u001b[37m\u001b[0m \u001b[1m0s\u001b[0m 19ms/step\n",
      "\u001b[1m1/1\u001b[0m \u001b[32m━━━━━━━━━━━━━━━━━━━━\u001b[0m\u001b[37m\u001b[0m \u001b[1m0s\u001b[0m 19ms/step\n",
      "Reading Custom_Test_Images\\IMG-20240719-WA0011.jpg\n",
      "\u001b[1m1/1\u001b[0m \u001b[32m━━━━━━━━━━━━━━━━━━━━\u001b[0m\u001b[37m\u001b[0m \u001b[1m0s\u001b[0m 107ms/step\n",
      "\u001b[1m1/1\u001b[0m \u001b[32m━━━━━━━━━━━━━━━━━━━━\u001b[0m\u001b[37m\u001b[0m \u001b[1m0s\u001b[0m 90ms/step\n",
      "\u001b[1m1/1\u001b[0m \u001b[32m━━━━━━━━━━━━━━━━━━━━\u001b[0m\u001b[37m\u001b[0m \u001b[1m0s\u001b[0m 28ms/step\n",
      "\u001b[1m1/1\u001b[0m \u001b[32m━━━━━━━━━━━━━━━━━━━━\u001b[0m\u001b[37m\u001b[0m \u001b[1m0s\u001b[0m 22ms/step\n",
      "\u001b[1m1/1\u001b[0m \u001b[32m━━━━━━━━━━━━━━━━━━━━\u001b[0m\u001b[37m\u001b[0m \u001b[1m0s\u001b[0m 21ms/step\n",
      "\u001b[1m1/1\u001b[0m \u001b[32m━━━━━━━━━━━━━━━━━━━━\u001b[0m\u001b[37m\u001b[0m \u001b[1m0s\u001b[0m 20ms/step\n",
      "\u001b[1m1/1\u001b[0m \u001b[32m━━━━━━━━━━━━━━━━━━━━\u001b[0m\u001b[37m\u001b[0m \u001b[1m0s\u001b[0m 19ms/step\n",
      "\u001b[1m1/1\u001b[0m \u001b[32m━━━━━━━━━━━━━━━━━━━━\u001b[0m\u001b[37m\u001b[0m \u001b[1m0s\u001b[0m 25ms/step\n",
      "\u001b[1m1/1\u001b[0m \u001b[32m━━━━━━━━━━━━━━━━━━━━\u001b[0m\u001b[37m\u001b[0m \u001b[1m0s\u001b[0m 18ms/step\n",
      "\u001b[1m1/1\u001b[0m \u001b[32m━━━━━━━━━━━━━━━━━━━━\u001b[0m\u001b[37m\u001b[0m \u001b[1m0s\u001b[0m 17ms/step\n",
      "\u001b[1m1/1\u001b[0m \u001b[32m━━━━━━━━━━━━━━━━━━━━\u001b[0m\u001b[37m\u001b[0m \u001b[1m0s\u001b[0m 18ms/step\n",
      "\u001b[1m1/1\u001b[0m \u001b[32m━━━━━━━━━━━━━━━━━━━━\u001b[0m\u001b[37m\u001b[0m \u001b[1m0s\u001b[0m 17ms/step\n",
      "\u001b[1m10/10\u001b[0m \u001b[32m━━━━━━━━━━━━━━━━━━━━\u001b[0m\u001b[37m\u001b[0m \u001b[1m0s\u001b[0m 12ms/step\n",
      "\u001b[1m1/1\u001b[0m \u001b[32m━━━━━━━━━━━━━━━━━━━━\u001b[0m\u001b[37m\u001b[0m \u001b[1m0s\u001b[0m 125ms/step\n",
      "\u001b[1m1/1\u001b[0m \u001b[32m━━━━━━━━━━━━━━━━━━━━\u001b[0m\u001b[37m\u001b[0m \u001b[1m0s\u001b[0m 23ms/step\n",
      "\u001b[1m1/1\u001b[0m \u001b[32m━━━━━━━━━━━━━━━━━━━━\u001b[0m\u001b[37m\u001b[0m \u001b[1m0s\u001b[0m 19ms/step\n",
      "\u001b[1m1/1\u001b[0m \u001b[32m━━━━━━━━━━━━━━━━━━━━\u001b[0m\u001b[37m\u001b[0m \u001b[1m0s\u001b[0m 21ms/step\n",
      "Reading Custom_Test_Images\\IMG-20240719-WA0013.jpg\n",
      "\u001b[1m1/1\u001b[0m \u001b[32m━━━━━━━━━━━━━━━━━━━━\u001b[0m\u001b[37m\u001b[0m \u001b[1m0s\u001b[0m 84ms/step\n",
      "\u001b[1m1/1\u001b[0m \u001b[32m━━━━━━━━━━━━━━━━━━━━\u001b[0m\u001b[37m\u001b[0m \u001b[1m0s\u001b[0m 75ms/step\n",
      "\u001b[1m1/1\u001b[0m \u001b[32m━━━━━━━━━━━━━━━━━━━━\u001b[0m\u001b[37m\u001b[0m \u001b[1m0s\u001b[0m 22ms/step\n",
      "\u001b[1m1/1\u001b[0m \u001b[32m━━━━━━━━━━━━━━━━━━━━\u001b[0m\u001b[37m\u001b[0m \u001b[1m0s\u001b[0m 22ms/step\n",
      "\u001b[1m1/1\u001b[0m \u001b[32m━━━━━━━━━━━━━━━━━━━━\u001b[0m\u001b[37m\u001b[0m \u001b[1m0s\u001b[0m 22ms/step\n",
      "\u001b[1m1/1\u001b[0m \u001b[32m━━━━━━━━━━━━━━━━━━━━\u001b[0m\u001b[37m\u001b[0m \u001b[1m0s\u001b[0m 20ms/step\n",
      "\u001b[1m1/1\u001b[0m \u001b[32m━━━━━━━━━━━━━━━━━━━━\u001b[0m\u001b[37m\u001b[0m \u001b[1m0s\u001b[0m 20ms/step\n",
      "\u001b[1m1/1\u001b[0m \u001b[32m━━━━━━━━━━━━━━━━━━━━\u001b[0m\u001b[37m\u001b[0m \u001b[1m0s\u001b[0m 20ms/step\n",
      "\u001b[1m1/1\u001b[0m \u001b[32m━━━━━━━━━━━━━━━━━━━━\u001b[0m\u001b[37m\u001b[0m \u001b[1m0s\u001b[0m 20ms/step\n",
      "\u001b[1m1/1\u001b[0m \u001b[32m━━━━━━━━━━━━━━━━━━━━\u001b[0m\u001b[37m\u001b[0m \u001b[1m0s\u001b[0m 24ms/step\n",
      "\u001b[1m9/9\u001b[0m \u001b[32m━━━━━━━━━━━━━━━━━━━━\u001b[0m\u001b[37m\u001b[0m \u001b[1m0s\u001b[0m 11ms/step\n",
      "\u001b[1m3/3\u001b[0m \u001b[32m━━━━━━━━━━━━━━━━━━━━\u001b[0m\u001b[37m\u001b[0m \u001b[1m0s\u001b[0m 46ms/step\n",
      "\u001b[1m1/1\u001b[0m \u001b[32m━━━━━━━━━━━━━━━━━━━━\u001b[0m\u001b[37m\u001b[0m \u001b[1m0s\u001b[0m 18ms/step\n",
      "\u001b[1m1/1\u001b[0m \u001b[32m━━━━━━━━━━━━━━━━━━━━\u001b[0m\u001b[37m\u001b[0m \u001b[1m0s\u001b[0m 24ms/step\n",
      "\u001b[1m1/1\u001b[0m \u001b[32m━━━━━━━━━━━━━━━━━━━━\u001b[0m\u001b[37m\u001b[0m \u001b[1m0s\u001b[0m 20ms/step\n",
      "\u001b[1m1/1\u001b[0m \u001b[32m━━━━━━━━━━━━━━━━━━━━\u001b[0m\u001b[37m\u001b[0m \u001b[1m0s\u001b[0m 20ms/step\n",
      "\u001b[1m1/1\u001b[0m \u001b[32m━━━━━━━━━━━━━━━━━━━━\u001b[0m\u001b[37m\u001b[0m \u001b[1m0s\u001b[0m 18ms/step\n",
      "\u001b[1m1/1\u001b[0m \u001b[32m━━━━━━━━━━━━━━━━━━━━\u001b[0m\u001b[37m\u001b[0m \u001b[1m0s\u001b[0m 17ms/step\n",
      "Reading Custom_Test_Images\\IMG-20240719-WA0014.jpg\n",
      "\u001b[1m1/1\u001b[0m \u001b[32m━━━━━━━━━━━━━━━━━━━━\u001b[0m\u001b[37m\u001b[0m \u001b[1m0s\u001b[0m 91ms/step\n",
      "\u001b[1m1/1\u001b[0m \u001b[32m━━━━━━━━━━━━━━━━━━━━\u001b[0m\u001b[37m\u001b[0m \u001b[1m0s\u001b[0m 108ms/step\n",
      "\u001b[1m1/1\u001b[0m \u001b[32m━━━━━━━━━━━━━━━━━━━━\u001b[0m\u001b[37m\u001b[0m \u001b[1m0s\u001b[0m 23ms/step\n",
      "\u001b[1m1/1\u001b[0m \u001b[32m━━━━━━━━━━━━━━━━━━━━\u001b[0m\u001b[37m\u001b[0m \u001b[1m0s\u001b[0m 21ms/step\n",
      "\u001b[1m1/1\u001b[0m \u001b[32m━━━━━━━━━━━━━━━━━━━━\u001b[0m\u001b[37m\u001b[0m \u001b[1m0s\u001b[0m 23ms/step\n",
      "\u001b[1m1/1\u001b[0m \u001b[32m━━━━━━━━━━━━━━━━━━━━\u001b[0m\u001b[37m\u001b[0m \u001b[1m0s\u001b[0m 20ms/step\n",
      "\u001b[1m1/1\u001b[0m \u001b[32m━━━━━━━━━━━━━━━━━━━━\u001b[0m\u001b[37m\u001b[0m \u001b[1m0s\u001b[0m 20ms/step\n",
      "\u001b[1m1/1\u001b[0m \u001b[32m━━━━━━━━━━━━━━━━━━━━\u001b[0m\u001b[37m\u001b[0m \u001b[1m0s\u001b[0m 21ms/step\n",
      "\u001b[1m1/1\u001b[0m \u001b[32m━━━━━━━━━━━━━━━━━━━━\u001b[0m\u001b[37m\u001b[0m \u001b[1m0s\u001b[0m 19ms/step\n",
      "\u001b[1m1/1\u001b[0m \u001b[32m━━━━━━━━━━━━━━━━━━━━\u001b[0m\u001b[37m\u001b[0m \u001b[1m0s\u001b[0m 18ms/step\n",
      "\u001b[1m11/11\u001b[0m \u001b[32m━━━━━━━━━━━━━━━━━━━━\u001b[0m\u001b[37m\u001b[0m \u001b[1m0s\u001b[0m 9ms/step\n",
      "\u001b[1m4/4\u001b[0m \u001b[32m━━━━━━━━━━━━━━━━━━━━\u001b[0m\u001b[37m\u001b[0m \u001b[1m0s\u001b[0m 41ms/step\n",
      "\u001b[1m1/1\u001b[0m \u001b[32m━━━━━━━━━━━━━━━━━━━━\u001b[0m\u001b[37m\u001b[0m \u001b[1m0s\u001b[0m 26ms/step\n",
      "\u001b[1m1/1\u001b[0m \u001b[32m━━━━━━━━━━━━━━━━━━━━\u001b[0m\u001b[37m\u001b[0m \u001b[1m0s\u001b[0m 20ms/step\n",
      "\u001b[1m1/1\u001b[0m \u001b[32m━━━━━━━━━━━━━━━━━━━━\u001b[0m\u001b[37m\u001b[0m \u001b[1m0s\u001b[0m 19ms/step\n",
      "\u001b[1m1/1\u001b[0m \u001b[32m━━━━━━━━━━━━━━━━━━━━\u001b[0m\u001b[37m\u001b[0m \u001b[1m0s\u001b[0m 19ms/step\n",
      "\u001b[1m1/1\u001b[0m \u001b[32m━━━━━━━━━━━━━━━━━━━━\u001b[0m\u001b[37m\u001b[0m \u001b[1m0s\u001b[0m 19ms/step\n",
      "\u001b[1m1/1\u001b[0m \u001b[32m━━━━━━━━━━━━━━━━━━━━\u001b[0m\u001b[37m\u001b[0m \u001b[1m0s\u001b[0m 19ms/step\n",
      "\u001b[1m1/1\u001b[0m \u001b[32m━━━━━━━━━━━━━━━━━━━━\u001b[0m\u001b[37m\u001b[0m \u001b[1m0s\u001b[0m 19ms/step\n",
      "\u001b[1m1/1\u001b[0m \u001b[32m━━━━━━━━━━━━━━━━━━━━\u001b[0m\u001b[37m\u001b[0m \u001b[1m0s\u001b[0m 20ms/step\n",
      "\u001b[1m1/1\u001b[0m \u001b[32m━━━━━━━━━━━━━━━━━━━━\u001b[0m\u001b[37m\u001b[0m \u001b[1m0s\u001b[0m 25ms/step\n",
      "\u001b[1m1/1\u001b[0m \u001b[32m━━━━━━━━━━━━━━━━━━━━\u001b[0m\u001b[37m\u001b[0m \u001b[1m0s\u001b[0m 25ms/step\n",
      "\u001b[1m1/1\u001b[0m \u001b[32m━━━━━━━━━━━━━━━━━━━━\u001b[0m\u001b[37m\u001b[0m \u001b[1m0s\u001b[0m 20ms/step\n",
      "\u001b[1m1/1\u001b[0m \u001b[32m━━━━━━━━━━━━━━━━━━━━\u001b[0m\u001b[37m\u001b[0m \u001b[1m0s\u001b[0m 24ms/step\n",
      "\u001b[1m1/1\u001b[0m \u001b[32m━━━━━━━━━━━━━━━━━━━━\u001b[0m\u001b[37m\u001b[0m \u001b[1m0s\u001b[0m 18ms/step\n",
      "\u001b[1m1/1\u001b[0m \u001b[32m━━━━━━━━━━━━━━━━━━━━\u001b[0m\u001b[37m\u001b[0m \u001b[1m0s\u001b[0m 19ms/step\n",
      "Reading Custom_Test_Images\\IMG-20240719-WA0015.jpg\n",
      "\u001b[1m1/1\u001b[0m \u001b[32m━━━━━━━━━━━━━━━━━━━━\u001b[0m\u001b[37m\u001b[0m \u001b[1m0s\u001b[0m 78ms/step\n",
      "\u001b[1m1/1\u001b[0m \u001b[32m━━━━━━━━━━━━━━━━━━━━\u001b[0m\u001b[37m\u001b[0m \u001b[1m0s\u001b[0m 78ms/step\n",
      "\u001b[1m1/1\u001b[0m \u001b[32m━━━━━━━━━━━━━━━━━━━━\u001b[0m\u001b[37m\u001b[0m \u001b[1m0s\u001b[0m 22ms/step\n",
      "\u001b[1m1/1\u001b[0m \u001b[32m━━━━━━━━━━━━━━━━━━━━\u001b[0m\u001b[37m\u001b[0m \u001b[1m0s\u001b[0m 20ms/step\n",
      "\u001b[1m1/1\u001b[0m \u001b[32m━━━━━━━━━━━━━━━━━━━━\u001b[0m\u001b[37m\u001b[0m \u001b[1m0s\u001b[0m 18ms/step\n",
      "\u001b[1m1/1\u001b[0m \u001b[32m━━━━━━━━━━━━━━━━━━━━\u001b[0m\u001b[37m\u001b[0m \u001b[1m0s\u001b[0m 19ms/step\n",
      "\u001b[1m1/1\u001b[0m \u001b[32m━━━━━━━━━━━━━━━━━━━━\u001b[0m\u001b[37m\u001b[0m \u001b[1m0s\u001b[0m 17ms/step\n",
      "\u001b[1m1/1\u001b[0m \u001b[32m━━━━━━━━━━━━━━━━━━━━\u001b[0m\u001b[37m\u001b[0m \u001b[1m0s\u001b[0m 18ms/step\n",
      "\u001b[1m1/1\u001b[0m \u001b[32m━━━━━━━━━━━━━━━━━━━━\u001b[0m\u001b[37m\u001b[0m \u001b[1m0s\u001b[0m 17ms/step\n",
      "\u001b[1m1/1\u001b[0m \u001b[32m━━━━━━━━━━━━━━━━━━━━\u001b[0m\u001b[37m\u001b[0m \u001b[1m0s\u001b[0m 18ms/step\n",
      "\u001b[1m11/11\u001b[0m \u001b[32m━━━━━━━━━━━━━━━━━━━━\u001b[0m\u001b[37m\u001b[0m \u001b[1m0s\u001b[0m 9ms/step\n",
      "\u001b[1m3/3\u001b[0m \u001b[32m━━━━━━━━━━━━━━━━━━━━\u001b[0m\u001b[37m\u001b[0m \u001b[1m0s\u001b[0m 47ms/step\n",
      "\u001b[1m1/1\u001b[0m \u001b[32m━━━━━━━━━━━━━━━━━━━━\u001b[0m\u001b[37m\u001b[0m \u001b[1m0s\u001b[0m 18ms/step\n",
      "\u001b[1m1/1\u001b[0m \u001b[32m━━━━━━━━━━━━━━━━━━━━\u001b[0m\u001b[37m\u001b[0m \u001b[1m0s\u001b[0m 18ms/step\n",
      "\u001b[1m1/1\u001b[0m \u001b[32m━━━━━━━━━━━━━━━━━━━━\u001b[0m\u001b[37m\u001b[0m \u001b[1m0s\u001b[0m 19ms/step\n",
      "\u001b[1m1/1\u001b[0m \u001b[32m━━━━━━━━━━━━━━━━━━━━\u001b[0m\u001b[37m\u001b[0m \u001b[1m0s\u001b[0m 18ms/step\n",
      "\u001b[1m1/1\u001b[0m \u001b[32m━━━━━━━━━━━━━━━━━━━━\u001b[0m\u001b[37m\u001b[0m \u001b[1m0s\u001b[0m 17ms/step\n",
      "\u001b[1m1/1\u001b[0m \u001b[32m━━━━━━━━━━━━━━━━━━━━\u001b[0m\u001b[37m\u001b[0m \u001b[1m0s\u001b[0m 18ms/step\n",
      "\u001b[1m1/1\u001b[0m \u001b[32m━━━━━━━━━━━━━━━━━━━━\u001b[0m\u001b[37m\u001b[0m \u001b[1m0s\u001b[0m 17ms/step\n",
      "\u001b[1m1/1\u001b[0m \u001b[32m━━━━━━━━━━━━━━━━━━━━\u001b[0m\u001b[37m\u001b[0m \u001b[1m0s\u001b[0m 18ms/step\n",
      "\u001b[1m1/1\u001b[0m \u001b[32m━━━━━━━━━━━━━━━━━━━━\u001b[0m\u001b[37m\u001b[0m \u001b[1m0s\u001b[0m 23ms/step\n",
      "\u001b[1m1/1\u001b[0m \u001b[32m━━━━━━━━━━━━━━━━━━━━\u001b[0m\u001b[37m\u001b[0m \u001b[1m0s\u001b[0m 19ms/step\n",
      "Reading Custom_Test_Images\\IMG-20240719-WA0016.jpg\n",
      "\u001b[1m1/1\u001b[0m \u001b[32m━━━━━━━━━━━━━━━━━━━━\u001b[0m\u001b[37m\u001b[0m \u001b[1m0s\u001b[0m 79ms/step\n",
      "\u001b[1m1/1\u001b[0m \u001b[32m━━━━━━━━━━━━━━━━━━━━\u001b[0m\u001b[37m\u001b[0m \u001b[1m0s\u001b[0m 75ms/step\n",
      "\u001b[1m1/1\u001b[0m \u001b[32m━━━━━━━━━━━━━━━━━━━━\u001b[0m\u001b[37m\u001b[0m \u001b[1m0s\u001b[0m 21ms/step\n",
      "\u001b[1m1/1\u001b[0m \u001b[32m━━━━━━━━━━━━━━━━━━━━\u001b[0m\u001b[37m\u001b[0m \u001b[1m0s\u001b[0m 21ms/step\n",
      "\u001b[1m1/1\u001b[0m \u001b[32m━━━━━━━━━━━━━━━━━━━━\u001b[0m\u001b[37m\u001b[0m \u001b[1m0s\u001b[0m 21ms/step\n",
      "\u001b[1m1/1\u001b[0m \u001b[32m━━━━━━━━━━━━━━━━━━━━\u001b[0m\u001b[37m\u001b[0m \u001b[1m0s\u001b[0m 20ms/step\n",
      "\u001b[1m1/1\u001b[0m \u001b[32m━━━━━━━━━━━━━━━━━━━━\u001b[0m\u001b[37m\u001b[0m \u001b[1m0s\u001b[0m 17ms/step\n",
      "\u001b[1m1/1\u001b[0m \u001b[32m━━━━━━━━━━━━━━━━━━━━\u001b[0m\u001b[37m\u001b[0m \u001b[1m0s\u001b[0m 22ms/step\n",
      "\u001b[1m1/1\u001b[0m \u001b[32m━━━━━━━━━━━━━━━━━━━━\u001b[0m\u001b[37m\u001b[0m \u001b[1m0s\u001b[0m 18ms/step\n",
      "\u001b[1m1/1\u001b[0m \u001b[32m━━━━━━━━━━━━━━━━━━━━\u001b[0m\u001b[37m\u001b[0m \u001b[1m0s\u001b[0m 18ms/step\n",
      "\u001b[1m16/16\u001b[0m \u001b[32m━━━━━━━━━━━━━━━━━━━━\u001b[0m\u001b[37m\u001b[0m \u001b[1m0s\u001b[0m 8ms/step\n",
      "\u001b[1m3/3\u001b[0m \u001b[32m━━━━━━━━━━━━━━━━━━━━\u001b[0m\u001b[37m\u001b[0m \u001b[1m0s\u001b[0m 55ms/step\n",
      "\u001b[1m1/1\u001b[0m \u001b[32m━━━━━━━━━━━━━━━━━━━━\u001b[0m\u001b[37m\u001b[0m \u001b[1m0s\u001b[0m 19ms/step\n",
      "\u001b[1m1/1\u001b[0m \u001b[32m━━━━━━━━━━━━━━━━━━━━\u001b[0m\u001b[37m\u001b[0m \u001b[1m0s\u001b[0m 19ms/step\n",
      "\u001b[1m1/1\u001b[0m \u001b[32m━━━━━━━━━━━━━━━━━━━━\u001b[0m\u001b[37m\u001b[0m \u001b[1m0s\u001b[0m 19ms/step\n",
      "\u001b[1m1/1\u001b[0m \u001b[32m━━━━━━━━━━━━━━━━━━━━\u001b[0m\u001b[37m\u001b[0m \u001b[1m0s\u001b[0m 18ms/step\n",
      "\u001b[1m1/1\u001b[0m \u001b[32m━━━━━━━━━━━━━━━━━━━━\u001b[0m\u001b[37m\u001b[0m \u001b[1m0s\u001b[0m 19ms/step\n",
      "\u001b[1m1/1\u001b[0m \u001b[32m━━━━━━━━━━━━━━━━━━━━\u001b[0m\u001b[37m\u001b[0m \u001b[1m0s\u001b[0m 18ms/step\n",
      "\u001b[1m1/1\u001b[0m \u001b[32m━━━━━━━━━━━━━━━━━━━━\u001b[0m\u001b[37m\u001b[0m \u001b[1m0s\u001b[0m 19ms/step\n",
      "\u001b[1m1/1\u001b[0m \u001b[32m━━━━━━━━━━━━━━━━━━━━\u001b[0m\u001b[37m\u001b[0m \u001b[1m0s\u001b[0m 18ms/step\n",
      "\u001b[1m1/1\u001b[0m \u001b[32m━━━━━━━━━━━━━━━━━━━━\u001b[0m\u001b[37m\u001b[0m \u001b[1m0s\u001b[0m 17ms/step\n",
      "\u001b[1m1/1\u001b[0m \u001b[32m━━━━━━━━━━━━━━━━━━━━\u001b[0m\u001b[37m\u001b[0m \u001b[1m0s\u001b[0m 19ms/step\n",
      "\u001b[1m1/1\u001b[0m \u001b[32m━━━━━━━━━━━━━━━━━━━━\u001b[0m\u001b[37m\u001b[0m \u001b[1m0s\u001b[0m 18ms/step\n",
      "Reading Custom_Test_Images\\IMG-20240719-WA0017.jpg\n",
      "\u001b[1m1/1\u001b[0m \u001b[32m━━━━━━━━━━━━━━━━━━━━\u001b[0m\u001b[37m\u001b[0m \u001b[1m0s\u001b[0m 76ms/step\n",
      "\u001b[1m1/1\u001b[0m \u001b[32m━━━━━━━━━━━━━━━━━━━━\u001b[0m\u001b[37m\u001b[0m \u001b[1m0s\u001b[0m 87ms/step\n",
      "\u001b[1m1/1\u001b[0m \u001b[32m━━━━━━━━━━━━━━━━━━━━\u001b[0m\u001b[37m\u001b[0m \u001b[1m0s\u001b[0m 19ms/step\n",
      "\u001b[1m1/1\u001b[0m \u001b[32m━━━━━━━━━━━━━━━━━━━━\u001b[0m\u001b[37m\u001b[0m \u001b[1m0s\u001b[0m 19ms/step\n",
      "\u001b[1m1/1\u001b[0m \u001b[32m━━━━━━━━━━━━━━━━━━━━\u001b[0m\u001b[37m\u001b[0m \u001b[1m0s\u001b[0m 24ms/step\n",
      "\u001b[1m1/1\u001b[0m \u001b[32m━━━━━━━━━━━━━━━━━━━━\u001b[0m\u001b[37m\u001b[0m \u001b[1m0s\u001b[0m 17ms/step\n",
      "\u001b[1m1/1\u001b[0m \u001b[32m━━━━━━━━━━━━━━━━━━━━\u001b[0m\u001b[37m\u001b[0m \u001b[1m0s\u001b[0m 18ms/step\n",
      "\u001b[1m1/1\u001b[0m \u001b[32m━━━━━━━━━━━━━━━━━━━━\u001b[0m\u001b[37m\u001b[0m \u001b[1m0s\u001b[0m 16ms/step\n",
      "\u001b[1m1/1\u001b[0m \u001b[32m━━━━━━━━━━━━━━━━━━━━\u001b[0m\u001b[37m\u001b[0m \u001b[1m0s\u001b[0m 21ms/step\n",
      "\u001b[1m1/1\u001b[0m \u001b[32m━━━━━━━━━━━━━━━━━━━━\u001b[0m\u001b[37m\u001b[0m \u001b[1m0s\u001b[0m 19ms/step\n",
      "\u001b[1m16/16\u001b[0m \u001b[32m━━━━━━━━━━━━━━━━━━━━\u001b[0m\u001b[37m\u001b[0m \u001b[1m0s\u001b[0m 7ms/step\n",
      "\u001b[1m4/4\u001b[0m \u001b[32m━━━━━━━━━━━━━━━━━━━━\u001b[0m\u001b[37m\u001b[0m \u001b[1m0s\u001b[0m 33ms/step\n",
      "\u001b[1m1/1\u001b[0m \u001b[32m━━━━━━━━━━━━━━━━━━━━\u001b[0m\u001b[37m\u001b[0m \u001b[1m0s\u001b[0m 19ms/step\n",
      "\u001b[1m1/1\u001b[0m \u001b[32m━━━━━━━━━━━━━━━━━━━━\u001b[0m\u001b[37m\u001b[0m \u001b[1m0s\u001b[0m 17ms/step\n",
      "\u001b[1m1/1\u001b[0m \u001b[32m━━━━━━━━━━━━━━━━━━━━\u001b[0m\u001b[37m\u001b[0m \u001b[1m0s\u001b[0m 18ms/step\n",
      "\u001b[1m1/1\u001b[0m \u001b[32m━━━━━━━━━━━━━━━━━━━━\u001b[0m\u001b[37m\u001b[0m \u001b[1m0s\u001b[0m 17ms/step\n",
      "\u001b[1m1/1\u001b[0m \u001b[32m━━━━━━━━━━━━━━━━━━━━\u001b[0m\u001b[37m\u001b[0m \u001b[1m0s\u001b[0m 18ms/step\n",
      "\u001b[1m1/1\u001b[0m \u001b[32m━━━━━━━━━━━━━━━━━━━━\u001b[0m\u001b[37m\u001b[0m \u001b[1m0s\u001b[0m 17ms/step\n",
      "\u001b[1m1/1\u001b[0m \u001b[32m━━━━━━━━━━━━━━━━━━━━\u001b[0m\u001b[37m\u001b[0m \u001b[1m0s\u001b[0m 18ms/step\n",
      "\u001b[1m1/1\u001b[0m \u001b[32m━━━━━━━━━━━━━━━━━━━━\u001b[0m\u001b[37m\u001b[0m \u001b[1m0s\u001b[0m 17ms/step\n",
      "\u001b[1m1/1\u001b[0m \u001b[32m━━━━━━━━━━━━━━━━━━━━\u001b[0m\u001b[37m\u001b[0m \u001b[1m0s\u001b[0m 19ms/step\n"
     ]
    }
   ],
   "source": [
    "final_faces = []\n",
    "test_images_dir = 'Custom_Test_Images'\n",
    "\n",
    "# Get current timestamp for folder naming\n",
    "now = datetime.datetime.now()\n",
    "timestamp = now.strftime(\"%H-%M-%S-%d-%m-%Y\")\n",
    "save_folder_path = f\"C_{timestamp}\"\n",
    "subfolder_path = os.path.join(output_dir, save_folder_path)\n",
    "os.makedirs(subfolder_path, exist_ok=True)\n",
    "\n",
    "total_faces = 0\n",
    "model = best_model_2\n",
    "\n",
    "for filename in os.listdir(test_images_dir):\n",
    "    try:\n",
    "        file_path = os.path.join(test_images_dir, filename)\n",
    "        if os.path.isfile(file_path):\n",
    "            for ext in ['jpg', 'jpeg', 'png']:\n",
    "                if filename.lower().endswith(ext):\n",
    "                    print(\"Reading\", file_path)\n",
    "                    face_details, num_faces = predict_robustly(\n",
    "                                                    image_path=file_path,  \n",
    "                                                    face_recognizer=model,\n",
    "                                                    unique_students=unique_students,\n",
    "                                                    save_folder_path=subfolder_path\n",
    "                                                )\n",
    "                    total_faces += num_faces\n",
    "                    final_faces.append(face_details)\n",
    "                    break\n",
    "            else:\n",
    "                print(f\"Skipping {filename}: File format not supported (must be jpg, jpeg, or png)\")\n",
    "    except Exception as e:\n",
    "        print(f\"Error processing {filename}: {e}\")"
   ]
  },
  {
   "cell_type": "code",
   "execution_count": 107,
   "id": "aa8f576a-caa0-4ea7-b725-b31d78eb7b4a",
   "metadata": {
    "scrolled": true
   },
   "outputs": [
    {
     "data": {
      "text/plain": [
       "([[('2203031080127', 99.99997615814209),\n",
       "   ('Unknown', 100.0),\n",
       "   ('Unknown', 100.0)],\n",
       "  [('2203031080127', 99.99998807907104),\n",
       "   ('Unknown', 95.88652849197388),\n",
       "   ('Unknown', 100.0),\n",
       "   ('46', 83.83853435516357)],\n",
       "  [('2203031080127', 99.99837875366211), ('Unknown', 98.88631105422974)],\n",
       "  [('2203031080127', 99.99921321868896),\n",
       "   ('Unknown', 99.99353885650635),\n",
       "   ('Unknown', 100.0)],\n",
       "  [('2203031080127', 99.99994039535522),\n",
       "   ('Unknown', 99.99169111251831),\n",
       "   ('Unknown', 100.0),\n",
       "   ('Unknown', 100.0),\n",
       "   ('Unknown', 99.99563694000244),\n",
       "   ('Unknown', 99.93613362312317),\n",
       "   ('2203031080174', 100.0),\n",
       "   ('Unknown', 100.0),\n",
       "   ('Unknown', 100.0),\n",
       "   ('Unknown', 99.99313354492188)],\n",
       "  [('2203031080127', 99.99327659606934),\n",
       "   ('Unknown', 99.44289922714233),\n",
       "   ('Unknown', 99.99899864196777),\n",
       "   ('Unknown', 99.99998807907104),\n",
       "   ('Unknown', 100.0),\n",
       "   ('Unknown', 100.0),\n",
       "   ('Unknown', 100.0),\n",
       "   ('Unknown', 99.41684007644653),\n",
       "   ('Unknown', 100.0),\n",
       "   ('Unknown', 100.0)],\n",
       "  [('2203031080127', 100.0),\n",
       "   ('Unknown', 96.92305326461792),\n",
       "   ('Unknown', 99.99945163726807),\n",
       "   ('Unknown', 99.99998807907104),\n",
       "   ('Unknown', 100.0),\n",
       "   ('Unknown', 100.0),\n",
       "   ('Unknown', 100.0),\n",
       "   ('Unknown', 100.0),\n",
       "   ('Unknown', 92.47015118598938),\n",
       "   ('Unknown', 100.0)],\n",
       "  [('2203031080127', 100.0),\n",
       "   ('Unknown', 99.9893307685852),\n",
       "   ('Unknown', 100.0)],\n",
       "  [('2203031080127', 100.0),\n",
       "   ('Unknown', 99.99560117721558),\n",
       "   ('Unknown', 99.9998927116394)],\n",
       "  [('2203031080127', 78.632253408432),\n",
       "   ('46', 77.74673104286194),\n",
       "   ('Unknown', 99.98693466186523)],\n",
       "  [('2203031080127', 95.55296301841736),\n",
       "   ('Unknown', 100.0),\n",
       "   ('Unknown', 100.0)],\n",
       "  [('2203031080127', 90.95736145973206),\n",
       "   ('Unknown', 100.0),\n",
       "   ('Unknown', 100.0)],\n",
       "  [('2203031080127', 99.99973773956299),\n",
       "   ('46', 99.9993085861206),\n",
       "   ('Unknown', 95.66786289215088),\n",
       "   ('Unknown', 99.99865293502808),\n",
       "   ('Unknown', 99.93656277656555),\n",
       "   ('Unknown', 99.89513158798218)],\n",
       "  [('46', 99.98965263366699),\n",
       "   ('Unknown', 99.94943141937256),\n",
       "   ('Unknown', 99.9975323677063),\n",
       "   ('2203031080127', 100.0),\n",
       "   ('Unknown', 58.472323417663574),\n",
       "   ('Unknown', 99.86764788627625),\n",
       "   ('Unknown', 99.99861717224121),\n",
       "   ('Unknown', 99.99886751174927),\n",
       "   ('2203031080174', 63.496196269989014),\n",
       "   ('Unknown', 99.99194145202637),\n",
       "   ('Unknown', 65.88171720504761),\n",
       "   ('Unknown', 100.0),\n",
       "   ('Unknown', 99.8207688331604),\n",
       "   ('Unknown', 100.0)],\n",
       "  [('46', 99.99960660934448),\n",
       "   ('2203031080127', 99.99998807907104),\n",
       "   ('Unknown', 100.0),\n",
       "   ('Unknown', 100.0),\n",
       "   ('Unknown', 99.99958276748657),\n",
       "   ('Unknown', 100.0),\n",
       "   ('Unknown', 99.10078644752502),\n",
       "   ('Unknown', 98.32596778869629),\n",
       "   ('Unknown', 99.99903440475464),\n",
       "   ('Unknown', 100.0)],\n",
       "  [('46', 99.99310970306396),\n",
       "   ('2203031080127', 86.82258725166321),\n",
       "   ('Unknown', 100.0),\n",
       "   ('Unknown', 100.0),\n",
       "   ('Unknown', 99.96107220649719),\n",
       "   ('Unknown', 74.45372939109802),\n",
       "   ('Unknown', 99.79230761528015),\n",
       "   ('Unknown', 99.99997615814209),\n",
       "   ('2203031080092', 99.20064806938171),\n",
       "   ('Unknown', 99.99909400939941),\n",
       "   ('Unknown', 100.0)],\n",
       "  [('46', 63.58710527420044),\n",
       "   ('Unknown', 100.0),\n",
       "   ('Unknown', 99.99998807907104),\n",
       "   ('2203031080127', 98.32304120063782),\n",
       "   ('Unknown', 99.82420206069946),\n",
       "   ('Unknown', 100.0),\n",
       "   ('Unknown', 97.81224727630615),\n",
       "   ('Unknown', 100.0),\n",
       "   ('Unknown', 99.98800754547119)]],\n",
       " 107)"
      ]
     },
     "execution_count": 107,
     "metadata": {},
     "output_type": "execute_result"
    }
   ],
   "source": [
    "final_faces, total_faces"
   ]
  },
  {
   "cell_type": "code",
   "execution_count": 201,
   "id": "6210077a-c10f-41f4-b6ef-6adda0248170",
   "metadata": {},
   "outputs": [
    {
     "name": "stderr",
     "output_type": "stream",
     "text": [
      "WARNING:absl:Compiled the loaded model, but the compiled metrics have yet to be built. `model.compile_metrics` will be empty until you train or evaluate the model.\n"
     ]
    },
    {
     "name": "stdout",
     "output_type": "stream",
     "text": [
      "Model loaded successfully.\n",
      "\u001b[1m1/1\u001b[0m \u001b[32m━━━━━━━━━━━━━━━━━━━━\u001b[0m\u001b[37m\u001b[0m \u001b[1m0s\u001b[0m 433ms/step\n",
      "\u001b[1m1/1\u001b[0m \u001b[32m━━━━━━━━━━━━━━━━━━━━\u001b[0m\u001b[37m\u001b[0m \u001b[1m0s\u001b[0m 268ms/step\n",
      "\u001b[1m1/1\u001b[0m \u001b[32m━━━━━━━━━━━━━━━━━━━━\u001b[0m\u001b[37m\u001b[0m \u001b[1m0s\u001b[0m 118ms/step\n",
      "\u001b[1m1/1\u001b[0m \u001b[32m━━━━━━━━━━━━━━━━━━━━\u001b[0m\u001b[37m\u001b[0m \u001b[1m0s\u001b[0m 63ms/step\n",
      "\u001b[1m1/1\u001b[0m \u001b[32m━━━━━━━━━━━━━━━━━━━━\u001b[0m\u001b[37m\u001b[0m \u001b[1m0s\u001b[0m 33ms/step\n",
      "\u001b[1m1/1\u001b[0m \u001b[32m━━━━━━━━━━━━━━━━━━━━\u001b[0m\u001b[37m\u001b[0m \u001b[1m0s\u001b[0m 21ms/step\n",
      "\u001b[1m1/1\u001b[0m \u001b[32m━━━━━━━━━━━━━━━━━━━━\u001b[0m\u001b[37m\u001b[0m \u001b[1m0s\u001b[0m 19ms/step\n",
      "\u001b[1m1/1\u001b[0m \u001b[32m━━━━━━━━━━━━━━━━━━━━\u001b[0m\u001b[37m\u001b[0m \u001b[1m0s\u001b[0m 20ms/step\n",
      "\u001b[1m1/1\u001b[0m \u001b[32m━━━━━━━━━━━━━━━━━━━━\u001b[0m\u001b[37m\u001b[0m \u001b[1m0s\u001b[0m 20ms/step\n",
      "\u001b[1m1/1\u001b[0m \u001b[32m━━━━━━━━━━━━━━━━━━━━\u001b[0m\u001b[37m\u001b[0m \u001b[1m0s\u001b[0m 15ms/step\n",
      "\u001b[1m1/1\u001b[0m \u001b[32m━━━━━━━━━━━━━━━━━━━━\u001b[0m\u001b[37m\u001b[0m \u001b[1m0s\u001b[0m 29ms/step\n",
      "\u001b[1m1/1\u001b[0m \u001b[32m━━━━━━━━━━━━━━━━━━━━\u001b[0m\u001b[37m\u001b[0m \u001b[1m0s\u001b[0m 21ms/step\n",
      "\u001b[1m1/1\u001b[0m \u001b[32m━━━━━━━━━━━━━━━━━━━━\u001b[0m\u001b[37m\u001b[0m \u001b[1m0s\u001b[0m 20ms/step\n",
      "\u001b[1m1/1\u001b[0m \u001b[32m━━━━━━━━━━━━━━━━━━━━\u001b[0m\u001b[37m\u001b[0m \u001b[1m0s\u001b[0m 19ms/step\n",
      "\u001b[1m1/1\u001b[0m \u001b[32m━━━━━━━━━━━━━━━━━━━━\u001b[0m\u001b[37m\u001b[0m \u001b[1m0s\u001b[0m 20ms/step\n",
      "\u001b[1m57/57\u001b[0m \u001b[32m━━━━━━━━━━━━━━━━━━━━\u001b[0m\u001b[37m\u001b[0m \u001b[1m0s\u001b[0m 3ms/step\n",
      "\u001b[1m2/2\u001b[0m \u001b[32m━━━━━━━━━━━━━━━━━━━━\u001b[0m\u001b[37m\u001b[0m \u001b[1m0s\u001b[0m 92ms/step\n",
      "\u001b[1m1/1\u001b[0m \u001b[32m━━━━━━━━━━━━━━━━━━━━\u001b[0m\u001b[37m\u001b[0m \u001b[1m0s\u001b[0m 68ms/step\n",
      "\u001b[1m1/1\u001b[0m \u001b[32m━━━━━━━━━━━━━━━━━━━━\u001b[0m\u001b[37m\u001b[0m \u001b[1m0s\u001b[0m 26ms/step\n",
      "\u001b[1m1/1\u001b[0m \u001b[32m━━━━━━━━━━━━━━━━━━━━\u001b[0m\u001b[37m\u001b[0m \u001b[1m0s\u001b[0m 24ms/step\n",
      "\u001b[1m1/1\u001b[0m \u001b[32m━━━━━━━━━━━━━━━━━━━━\u001b[0m\u001b[37m\u001b[0m \u001b[1m0s\u001b[0m 16ms/step\n"
     ]
    },
    {
     "data": {
      "text/plain": [
       "([('210303108114', 97.7673888206482),\n",
       "  ('210303108114', 98.21262955665588),\n",
       "  ('210303108114', 86.12750768661499),\n",
       "  ('210303108332', 81.93398714065552)],\n",
       " 4)"
      ]
     },
     "execution_count": 201,
     "metadata": {},
     "output_type": "execute_result"
    }
   ],
   "source": [
    "rf, l = predict_photo(\n",
    "    image_path=\"Custom_Test_Images/team_radix.jpg\",\n",
    "    unique_students=unique_students,\n",
    "    face_recognizer= load_model_func(\"Models/CNN-GAP-RMS-100E_20240719_155948.h5\"),\n",
    "    save_folder_path=\"Captured/\",\n",
    "    confidence_threshold=20\n",
    ")\n",
    "\n",
    "rf, l"
   ]
  },
  {
   "cell_type": "code",
   "execution_count": 270,
   "id": "d24ce465-488b-45d6-8cfc-82215292f3c6",
   "metadata": {},
   "outputs": [],
   "source": [
    "def predict_live_video(face_recognizer, unique_students, confidence_threshold=20):\n",
    "    # Start video capture\n",
    "    cap = cv2.VideoCapture(0)  # 0 for default webcam, or replace with video file path\n",
    "\n",
    "    # Initialize MTCNN for face detection\n",
    "    detector = mtcnn.MTCNN()\n",
    "\n",
    "    while True:\n",
    "        ret, frame = cap.read()\n",
    "        if not ret:\n",
    "            break\n",
    "\n",
    "        # Detect faces in the frame\n",
    "        try:\n",
    "            faces = detector.detect_faces(frame)\n",
    "        except Exception as e:\n",
    "            print(f\"Error detecting faces: {e}\")\n",
    "            continue\n",
    "\n",
    "        recognized_faces = []\n",
    "        assigned_labels = set()\n",
    "\n",
    "        # Keep track of retries for re-predicting labels\n",
    "        retry_count = 0\n",
    "        max_retries = 5  # Maximum number of retries before giving up\n",
    "\n",
    "        assigned_labels.clear()  \n",
    "        recognized_faces.clear()\n",
    "\n",
    "        for face in faces:\n",
    "\n",
    "            x, y, w, h = face['box']\n",
    "            x1, y1 = x + w, y + h\n",
    "\n",
    "            margin = int(0.1 * min(w, h))\n",
    "\n",
    "            x_adjusted = max(0, x - margin)\n",
    "            y_adjusted = max(0, y - margin)\n",
    "            x1_adjusted = min(frame.shape[1], x1 + margin)\n",
    "            y1_adjusted = min(frame.shape[0], y1 + margin)\n",
    "\n",
    "            roi_color = frame[y_adjusted:y1_adjusted, x_adjusted:x1_adjusted]\n",
    "\n",
    "            try:\n",
    "                roi_color_resized = process_face(roi_color)\n",
    "                print(\"Face processed\")\n",
    "            except Exception as e:\n",
    "                print(f\"Error preprocessing face: {e}\")\n",
    "                continue\n",
    "\n",
    "            try:\n",
    "                # roi_color_resized = np.expand_dims(roi_color_resized, axis=0)\n",
    "                # print(f\"roi_color_resized shape: {roi_color_resized.shape}\")\n",
    "                predictions = face_recognizer.predict(roi_color_resized)\n",
    "\n",
    "                predicted_ind = np.argmax(predictions[0])\n",
    "                predicted_label = unique_students[predicted_ind]\n",
    "                confidence = predictions[0][predicted_ind] * 100\n",
    "            except Exception as e:\n",
    "                print(f\"Error making prediction: {e}\")\n",
    "                continue\n",
    "\n",
    "            # Determine label text\n",
    "            if confidence > confidence_threshold:\n",
    "                label_text = str(predicted_label)\n",
    "            else:\n",
    "                label_text = 'Unknown'\n",
    "\n",
    "            # Check if the label is already assigned\n",
    "            if label_text in assigned_labels:\n",
    "                # Retry prediction\n",
    "                continue\n",
    "\n",
    "            # Assign the label and add to assigned labels\n",
    "            assigned_labels.add(label_text)\n",
    "\n",
    "            text = f\"{label_text}: {confidence:.2f}%\"\n",
    "            cv2.rectangle(frame, (x_adjusted, y_adjusted), (x1_adjusted, y1_adjusted), (0, 255, 0), 2)\n",
    "            cv2.putText(frame, text, (x1_adjusted, y1_adjusted-10),\n",
    "                        cv2.FONT_HERSHEY_SIMPLEX, 0.9, (0, 255, 0), 2)\n",
    "            recognized_faces.append((label_text, confidence))\n",
    "\n",
    "        # Display the frame\n",
    "        cv2.imshow('Live Video - Press Q to Quit', frame)\n",
    "\n",
    "        # Break the loop if 'q' is pressed\n",
    "        if cv2.waitKey(1) & 0xFF == ord('q'):\n",
    "            break\n",
    "\n",
    "    # Release the video capture and close windows\n",
    "    cap.release()\n",
    "    cv2.destroyAllWindows()\n"
   ]
  },
  {
   "cell_type": "code",
   "execution_count": 108,
   "id": "96cd76b7-fef8-49db-93e0-1201a2df6604",
   "metadata": {
    "scrolled": true
   },
   "outputs": [
    {
     "name": "stdout",
     "output_type": "stream",
     "text": [
      "Execution Skipped\n"
     ]
    }
   ],
   "source": [
    "to_run = False\n",
    "if to_run:\n",
    "    predict_live_video(\n",
    "        face_recognizer=best_model_2, \n",
    "        unique_students=unique_students\n",
    "    )\n",
    "else:\n",
    "    print(\"Execution Skipped\")"
   ]
  },
  {
   "cell_type": "markdown",
   "id": "d756b306-b550-4007-99d8-dd8480a67698",
   "metadata": {
    "jp-MarkdownHeadingCollapsed": true
   },
   "source": [
    "## API"
   ]
  },
  {
   "cell_type": "code",
   "execution_count": 123,
   "id": "bf07a573-598b-49a1-9175-0b57a7af2d42",
   "metadata": {},
   "outputs": [],
   "source": [
    "from flask import Flask, request, jsonify\n",
    "\n",
    "app = Flask(__name__)\n",
    "\n",
    "model = best_model_2"
   ]
  },
  {
   "cell_type": "code",
   "execution_count": 131,
   "id": "599cf620-8665-47db-8ece-2ca412721865",
   "metadata": {
    "scrolled": true
   },
   "outputs": [
    {
     "ename": "AssertionError",
     "evalue": "The setup method 'route' can no longer be called on the application. It has already handled its first request, any changes will not be applied consistently.\nMake sure all imports, decorators, functions, etc. needed to set up the application are done before running it.",
     "output_type": "error",
     "traceback": [
      "\u001b[1;31m---------------------------------------------------------------------------\u001b[0m",
      "\u001b[1;31mAssertionError\u001b[0m                            Traceback (most recent call last)",
      "Cell \u001b[1;32mIn[131], line 1\u001b[0m\n\u001b[1;32m----> 1\u001b[0m \u001b[38;5;129m@app\u001b[39m\u001b[38;5;241m.\u001b[39mroute(\u001b[38;5;124m'\u001b[39m\u001b[38;5;124m/\u001b[39m\u001b[38;5;124m'\u001b[39m)\n\u001b[0;32m      2\u001b[0m \u001b[38;5;28;01mdef\u001b[39;00m \u001b[38;5;21mhello_world\u001b[39m():\n\u001b[0;32m      3\u001b[0m     \u001b[38;5;28;01mreturn\u001b[39;00m \u001b[38;5;124m'\u001b[39m\u001b[38;5;124mHello World\u001b[39m\u001b[38;5;124m'\u001b[39m\n",
      "File \u001b[1;32m~\\miniconda3\\Lib\\site-packages\\flask\\sansio\\scaffold.py:46\u001b[0m, in \u001b[0;36msetupmethod.<locals>.wrapper_func\u001b[1;34m(self, *args, **kwargs)\u001b[0m\n\u001b[0;32m     45\u001b[0m \u001b[38;5;28;01mdef\u001b[39;00m \u001b[38;5;21mwrapper_func\u001b[39m(\u001b[38;5;28mself\u001b[39m: Scaffold, \u001b[38;5;241m*\u001b[39margs: t\u001b[38;5;241m.\u001b[39mAny, \u001b[38;5;241m*\u001b[39m\u001b[38;5;241m*\u001b[39mkwargs: t\u001b[38;5;241m.\u001b[39mAny) \u001b[38;5;241m-\u001b[39m\u001b[38;5;241m>\u001b[39m t\u001b[38;5;241m.\u001b[39mAny:\n\u001b[1;32m---> 46\u001b[0m     \u001b[38;5;28mself\u001b[39m\u001b[38;5;241m.\u001b[39m_check_setup_finished(f_name)\n\u001b[0;32m     47\u001b[0m     \u001b[38;5;28;01mreturn\u001b[39;00m f(\u001b[38;5;28mself\u001b[39m, \u001b[38;5;241m*\u001b[39margs, \u001b[38;5;241m*\u001b[39m\u001b[38;5;241m*\u001b[39mkwargs)\n",
      "File \u001b[1;32m~\\miniconda3\\Lib\\site-packages\\flask\\sansio\\app.py:415\u001b[0m, in \u001b[0;36mApp._check_setup_finished\u001b[1;34m(self, f_name)\u001b[0m\n\u001b[0;32m    413\u001b[0m \u001b[38;5;28;01mdef\u001b[39;00m \u001b[38;5;21m_check_setup_finished\u001b[39m(\u001b[38;5;28mself\u001b[39m, f_name: \u001b[38;5;28mstr\u001b[39m) \u001b[38;5;241m-\u001b[39m\u001b[38;5;241m>\u001b[39m \u001b[38;5;28;01mNone\u001b[39;00m:\n\u001b[0;32m    414\u001b[0m     \u001b[38;5;28;01mif\u001b[39;00m \u001b[38;5;28mself\u001b[39m\u001b[38;5;241m.\u001b[39m_got_first_request:\n\u001b[1;32m--> 415\u001b[0m         \u001b[38;5;28;01mraise\u001b[39;00m \u001b[38;5;167;01mAssertionError\u001b[39;00m(\n\u001b[0;32m    416\u001b[0m             \u001b[38;5;124mf\u001b[39m\u001b[38;5;124m\"\u001b[39m\u001b[38;5;124mThe setup method \u001b[39m\u001b[38;5;124m'\u001b[39m\u001b[38;5;132;01m{\u001b[39;00mf_name\u001b[38;5;132;01m}\u001b[39;00m\u001b[38;5;124m'\u001b[39m\u001b[38;5;124m can no longer be called\u001b[39m\u001b[38;5;124m\"\u001b[39m\n\u001b[0;32m    417\u001b[0m             \u001b[38;5;124m\"\u001b[39m\u001b[38;5;124m on the application. It has already handled its first\u001b[39m\u001b[38;5;124m\"\u001b[39m\n\u001b[0;32m    418\u001b[0m             \u001b[38;5;124m\"\u001b[39m\u001b[38;5;124m request, any changes will not be applied\u001b[39m\u001b[38;5;124m\"\u001b[39m\n\u001b[0;32m    419\u001b[0m             \u001b[38;5;124m\"\u001b[39m\u001b[38;5;124m consistently.\u001b[39m\u001b[38;5;130;01m\\n\u001b[39;00m\u001b[38;5;124m\"\u001b[39m\n\u001b[0;32m    420\u001b[0m             \u001b[38;5;124m\"\u001b[39m\u001b[38;5;124mMake sure all imports, decorators, functions, etc.\u001b[39m\u001b[38;5;124m\"\u001b[39m\n\u001b[0;32m    421\u001b[0m             \u001b[38;5;124m\"\u001b[39m\u001b[38;5;124m needed to set up the application are done before\u001b[39m\u001b[38;5;124m\"\u001b[39m\n\u001b[0;32m    422\u001b[0m             \u001b[38;5;124m\"\u001b[39m\u001b[38;5;124m running it.\u001b[39m\u001b[38;5;124m\"\u001b[39m\n\u001b[0;32m    423\u001b[0m         )\n",
      "\u001b[1;31mAssertionError\u001b[0m: The setup method 'route' can no longer be called on the application. It has already handled its first request, any changes will not be applied consistently.\nMake sure all imports, decorators, functions, etc. needed to set up the application are done before running it."
     ]
    }
   ],
   "source": [
    "@app.route('/')\n",
    "def hello_world():\n",
    "    return 'Hello World'"
   ]
  },
  {
   "cell_type": "code",
   "execution_count": 124,
   "id": "e585a1d1-19f1-41bf-b0eb-4a91cb79e0f0",
   "metadata": {},
   "outputs": [],
   "source": [
    "@app.route('/predictRobustly', methods=['POST'])\n",
    "def predict_robustly_route():\n",
    "    # Ensure an image file is provided\n",
    "    if 'file' not in request.files:\n",
    "        return jsonify({'error': 'No file provided'}), 400\n",
    "\n",
    "    file = request.files['file']\n",
    "    if file.filename == '':\n",
    "        return jsonify({'error': 'No selected file'}), 400\n",
    "\n",
    "    # Save the file to a temporary location\n",
    "    image_path = os.path.join('temp_images', file.filename)\n",
    "    os.makedirs(os.path.dirname(image_path), exist_ok=True)\n",
    "    file.save(image_path)\n",
    "\n",
    "    # Directory to save the processed image\n",
    "    save_folder_path = 'processed_images'\n",
    "    os.makedirs(save_folder_path, exist_ok=True)\n",
    "\n",
    "    # Call the predict_robustly function\n",
    "    try:\n",
    "        recognized_faces, face_count = predict_robustly(image_path, face_recognizer, unique_students, save_folder_path)\n",
    "        result = {\n",
    "            'recognized_faces': recognized_faces,\n",
    "            'face_count': face_count,\n",
    "            'processed_image_path': os.path.join(save_folder_path, os.path.basename(image_path))\n",
    "        }\n",
    "        return jsonify(result)\n",
    "    except Exception as e:\n",
    "        return jsonify({'error': str(e)}), 500"
   ]
  },
  {
   "cell_type": "code",
   "execution_count": 132,
   "id": "f18057f0-4324-4bdd-9a9f-49fa27b7f88e",
   "metadata": {},
   "outputs": [],
   "source": [
    "# Function to run Flask app in a separate thread\n",
    "def run_flask_app():\n",
    "    app.run(host='0.0.0.0', port=5000, debug=True, use_reloader=False)"
   ]
  },
  {
   "cell_type": "code",
   "execution_count": 133,
   "id": "eba4a1cc-fbff-4ffd-91d8-2b1a63f28ace",
   "metadata": {
    "scrolled": true
   },
   "outputs": [
    {
     "name": "stdout",
     "output_type": "stream",
     "text": [
      " * Serving Flask app '__main__'\n",
      " * Debug mode: on\n"
     ]
    },
    {
     "name": "stderr",
     "output_type": "stream",
     "text": [
      "INFO:werkzeug:\u001b[31m\u001b[1mWARNING: This is a development server. Do not use it in a production deployment. Use a production WSGI server instead.\u001b[0m\n",
      " * Running on all addresses (0.0.0.0)\n",
      " * Running on http://127.0.0.1:5000\n",
      " * Running on http://192.168.205.8:5000\n",
      "INFO:werkzeug:\u001b[33mPress CTRL+C to quit\u001b[0m\n",
      "INFO:werkzeug:127.0.0.1 - - [20/Jul/2024 01:24:21] \"\u001b[31m\u001b[1mGET /predictRobustly HTTP/1.1\u001b[0m\" 405 -\n",
      "INFO:werkzeug:127.0.0.1 - - [20/Jul/2024 01:24:23] \"\u001b[33mGET / HTTP/1.1\u001b[0m\" 404 -\n"
     ]
    }
   ],
   "source": [
    "import threading\n",
    "\n",
    "# Run Flask app in a separate thread\n",
    "flask_thread = threading.Thread(target=run_flask_app)\n",
    "flask_thread.start()"
   ]
  },
  {
   "cell_type": "code",
   "execution_count": null,
   "id": "77f62106-af42-488d-9554-117cb7831d09",
   "metadata": {},
   "outputs": [],
   "source": []
  },
  {
   "cell_type": "markdown",
   "id": "ff66b4ce-dcc4-446f-9032-084b876a295b",
   "metadata": {},
   "source": [
    "## Deployment"
   ]
  },
  {
   "cell_type": "code",
   "execution_count": 185,
   "id": "00597c54-1275-4577-aa3c-f8a8c4f8e045",
   "metadata": {},
   "outputs": [
    {
     "name": "stdout",
     "output_type": "stream",
     "text": [
      "Collecting azure-ai-ml\n",
      "  Downloading azure_ai_ml-1.18.0-py3-none-any.whl.metadata (31 kB)\n",
      "Collecting azure-identity\n",
      "  Downloading azure_identity-1.17.1-py3-none-any.whl.metadata (79 kB)\n",
      "     ---------------------------------------- 0.0/79.4 kB ? eta -:--:--\n",
      "     ----- ---------------------------------- 10.2/79.4 kB ? eta -:--:--\n",
      "     ----- ---------------------------------- 10.2/79.4 kB ? eta -:--:--\n",
      "     ----- ---------------------------------- 10.2/79.4 kB ? eta -:--:--\n",
      "     -------------- ----------------------- 30.7/79.4 kB 163.8 kB/s eta 0:00:01\n",
      "     -------------- ----------------------- 30.7/79.4 kB 163.8 kB/s eta 0:00:01\n",
      "     -------------- ----------------------- 30.7/79.4 kB 163.8 kB/s eta 0:00:01\n",
      "     ------------------- ------------------ 41.0/79.4 kB 115.5 kB/s eta 0:00:01\n",
      "     ------------------- ------------------ 41.0/79.4 kB 115.5 kB/s eta 0:00:01\n",
      "     ------------------- ------------------ 41.0/79.4 kB 115.5 kB/s eta 0:00:01\n",
      "     ------------------- ------------------ 41.0/79.4 kB 115.5 kB/s eta 0:00:01\n",
      "     ------------------- ------------------ 41.0/79.4 kB 115.5 kB/s eta 0:00:01\n",
      "     ------------------- ------------------ 41.0/79.4 kB 115.5 kB/s eta 0:00:01\n",
      "     ------------------- ------------------ 41.0/79.4 kB 115.5 kB/s eta 0:00:01\n",
      "     ------------------- ------------------ 41.0/79.4 kB 115.5 kB/s eta 0:00:01\n",
      "     ------------------- ------------------ 41.0/79.4 kB 115.5 kB/s eta 0:00:01\n",
      "     ------------------- ------------------ 41.0/79.4 kB 115.5 kB/s eta 0:00:01\n",
      "     --------------------------------------- 79.4/79.4 kB 94.1 kB/s eta 0:00:00\n",
      "Requirement already satisfied: pyyaml>=5.1.0 in c:\\users\\kunjesh\\miniconda3\\lib\\site-packages (from azure-ai-ml) (6.0.1)\n",
      "Collecting msrest>=0.6.18 (from azure-ai-ml)\n",
      "  Downloading msrest-0.7.1-py3-none-any.whl.metadata (21 kB)\n",
      "Collecting azure-core>=1.23.0 (from azure-ai-ml)\n",
      "  Downloading azure_core-1.30.2-py3-none-any.whl.metadata (37 kB)\n",
      "Collecting azure-mgmt-core>=1.3.0 (from azure-ai-ml)\n",
      "  Downloading azure_mgmt_core-1.4.0-py3-none-any.whl.metadata (4.1 kB)\n",
      "Collecting marshmallow>=3.5 (from azure-ai-ml)\n",
      "  Downloading marshmallow-3.21.3-py3-none-any.whl.metadata (7.1 kB)\n",
      "Requirement already satisfied: jsonschema>=4.0.0 in c:\\users\\kunjesh\\miniconda3\\lib\\site-packages (from azure-ai-ml) (4.19.2)\n",
      "Requirement already satisfied: tqdm in c:\\users\\kunjesh\\miniconda3\\lib\\site-packages (from azure-ai-ml) (4.66.4)\n",
      "Collecting strictyaml (from azure-ai-ml)\n",
      "  Downloading strictyaml-1.7.3-py3-none-any.whl.metadata (11 kB)\n",
      "Requirement already satisfied: colorama in c:\\users\\kunjesh\\miniconda3\\lib\\site-packages (from azure-ai-ml) (0.4.6)\n",
      "Collecting pyjwt (from azure-ai-ml)\n",
      "  Using cached PyJWT-2.8.0-py3-none-any.whl.metadata (4.2 kB)\n",
      "Collecting azure-storage-blob>=12.10.0 (from azure-ai-ml)\n",
      "  Downloading azure_storage_blob-12.21.0-py3-none-any.whl.metadata (26 kB)\n",
      "Collecting azure-storage-file-share (from azure-ai-ml)\n",
      "  Downloading azure_storage_file_share-12.17.0-py3-none-any.whl.metadata (47 kB)\n",
      "     ---------------------------------------- 0.0/47.4 kB ? eta -:--:--\n",
      "     ---------------------------------------- 47.4/47.4 kB 1.2 MB/s eta 0:00:00\n",
      "Collecting azure-storage-file-datalake>=12.2.0 (from azure-ai-ml)\n",
      "  Downloading azure_storage_file_datalake-12.16.0-py3-none-any.whl.metadata (15 kB)\n",
      "Collecting pydash>=6.0.0 (from azure-ai-ml)\n",
      "  Downloading pydash-8.0.1-py3-none-any.whl.metadata (4.5 kB)\n",
      "Collecting isodate (from azure-ai-ml)\n",
      "  Downloading isodate-0.6.1-py2.py3-none-any.whl.metadata (9.6 kB)\n",
      "Collecting azure-common>=1.1 (from azure-ai-ml)\n",
      "  Downloading azure_common-1.1.28-py2.py3-none-any.whl.metadata (5.0 kB)\n",
      "Requirement already satisfied: typing-extensions in c:\\users\\kunjesh\\miniconda3\\lib\\site-packages (from azure-ai-ml) (4.5.0)\n",
      "Collecting opencensus-ext-azure (from azure-ai-ml)\n",
      "  Downloading opencensus_ext_azure-1.1.13-py2.py3-none-any.whl.metadata (16 kB)\n",
      "Collecting opencensus-ext-logging (from azure-ai-ml)\n",
      "  Downloading opencensus_ext_logging-0.1.1-py2.py3-none-any.whl.metadata (2.3 kB)\n",
      "Requirement already satisfied: cryptography>=2.5 in c:\\users\\kunjesh\\miniconda3\\lib\\site-packages (from azure-identity) (42.0.5)\n",
      "Collecting msal>=1.24.0 (from azure-identity)\n",
      "  Downloading msal-1.30.0-py3-none-any.whl.metadata (11 kB)\n",
      "Collecting msal-extensions>=0.3.0 (from azure-identity)\n",
      "  Downloading msal_extensions-1.2.0-py3-none-any.whl.metadata (7.6 kB)\n",
      "Requirement already satisfied: requests>=2.21.0 in c:\\users\\kunjesh\\miniconda3\\lib\\site-packages (from azure-core>=1.23.0->azure-ai-ml) (2.32.2)\n",
      "Requirement already satisfied: six>=1.11.0 in c:\\users\\kunjesh\\miniconda3\\lib\\site-packages (from azure-core>=1.23.0->azure-ai-ml) (1.16.0)\n",
      "Collecting typing-extensions (from azure-ai-ml)\n",
      "  Using cached typing_extensions-4.12.2-py3-none-any.whl.metadata (3.0 kB)\n",
      "Requirement already satisfied: cffi>=1.12 in c:\\users\\kunjesh\\miniconda3\\lib\\site-packages (from cryptography>=2.5->azure-identity) (1.16.0)\n",
      "Requirement already satisfied: attrs>=22.2.0 in c:\\users\\kunjesh\\miniconda3\\lib\\site-packages (from jsonschema>=4.0.0->azure-ai-ml) (23.1.0)\n",
      "Requirement already satisfied: jsonschema-specifications>=2023.03.6 in c:\\users\\kunjesh\\miniconda3\\lib\\site-packages (from jsonschema>=4.0.0->azure-ai-ml) (2023.7.1)\n",
      "Requirement already satisfied: referencing>=0.28.4 in c:\\users\\kunjesh\\miniconda3\\lib\\site-packages (from jsonschema>=4.0.0->azure-ai-ml) (0.30.2)\n",
      "Requirement already satisfied: rpds-py>=0.7.1 in c:\\users\\kunjesh\\miniconda3\\lib\\site-packages (from jsonschema>=4.0.0->azure-ai-ml) (0.10.6)\n",
      "Requirement already satisfied: packaging>=17.0 in c:\\users\\kunjesh\\miniconda3\\lib\\site-packages (from marshmallow>=3.5->azure-ai-ml) (23.2)\n",
      "Collecting portalocker<3,>=1.4 (from msal-extensions>=0.3.0->azure-identity)\n",
      "  Downloading portalocker-2.10.1-py3-none-any.whl.metadata (8.5 kB)\n",
      "Requirement already satisfied: certifi>=2017.4.17 in c:\\users\\kunjesh\\miniconda3\\lib\\site-packages (from msrest>=0.6.18->azure-ai-ml) (2024.2.2)\n",
      "Requirement already satisfied: requests-oauthlib>=0.5.0 in c:\\users\\kunjesh\\miniconda3\\lib\\site-packages (from msrest>=0.6.18->azure-ai-ml) (2.0.0)\n",
      "Collecting opencensus<1.0.0,>=0.11.4 (from opencensus-ext-azure->azure-ai-ml)\n",
      "  Downloading opencensus-0.11.4-py2.py3-none-any.whl.metadata (12 kB)\n",
      "Requirement already satisfied: psutil>=5.6.3 in c:\\users\\kunjesh\\miniconda3\\lib\\site-packages (from opencensus-ext-azure->azure-ai-ml) (5.9.0)\n",
      "Requirement already satisfied: python-dateutil>=2.6.0 in c:\\users\\kunjesh\\miniconda3\\lib\\site-packages (from strictyaml->azure-ai-ml) (2.9.0.post0)\n",
      "Requirement already satisfied: pycparser in c:\\users\\kunjesh\\miniconda3\\lib\\site-packages (from cffi>=1.12->cryptography>=2.5->azure-identity) (2.21)\n",
      "Collecting opencensus-context>=0.1.3 (from opencensus<1.0.0,>=0.11.4->opencensus-ext-azure->azure-ai-ml)\n",
      "  Downloading opencensus_context-0.1.3-py2.py3-none-any.whl.metadata (3.3 kB)\n",
      "Collecting google-api-core<3.0.0,>=1.0.0 (from opencensus<1.0.0,>=0.11.4->opencensus-ext-azure->azure-ai-ml)\n",
      "  Downloading google_api_core-2.19.1-py3-none-any.whl.metadata (2.7 kB)\n",
      "Requirement already satisfied: pywin32>=226 in c:\\users\\kunjesh\\miniconda3\\lib\\site-packages (from portalocker<3,>=1.4->msal-extensions>=0.3.0->azure-identity) (305.1)\n",
      "Requirement already satisfied: charset-normalizer<4,>=2 in c:\\users\\kunjesh\\miniconda3\\lib\\site-packages (from requests>=2.21.0->azure-core>=1.23.0->azure-ai-ml) (2.0.4)\n",
      "Requirement already satisfied: idna<4,>=2.5 in c:\\users\\kunjesh\\miniconda3\\lib\\site-packages (from requests>=2.21.0->azure-core>=1.23.0->azure-ai-ml) (3.7)\n",
      "Requirement already satisfied: urllib3<3,>=1.21.1 in c:\\users\\kunjesh\\miniconda3\\lib\\site-packages (from requests>=2.21.0->azure-core>=1.23.0->azure-ai-ml) (2.2.1)\n",
      "Requirement already satisfied: oauthlib>=3.0.0 in c:\\users\\kunjesh\\miniconda3\\lib\\site-packages (from requests-oauthlib>=0.5.0->msrest>=0.6.18->azure-ai-ml) (3.2.2)\n",
      "Collecting googleapis-common-protos<2.0.dev0,>=1.56.2 (from google-api-core<3.0.0,>=1.0.0->opencensus<1.0.0,>=0.11.4->opencensus-ext-azure->azure-ai-ml)\n",
      "  Downloading googleapis_common_protos-1.63.2-py2.py3-none-any.whl.metadata (1.5 kB)\n",
      "Requirement already satisfied: protobuf!=3.20.0,!=3.20.1,!=4.21.0,!=4.21.1,!=4.21.2,!=4.21.3,!=4.21.4,!=4.21.5,<6.0.0.dev0,>=3.19.5 in c:\\users\\kunjesh\\miniconda3\\lib\\site-packages (from google-api-core<3.0.0,>=1.0.0->opencensus<1.0.0,>=0.11.4->opencensus-ext-azure->azure-ai-ml) (4.25.3)\n",
      "Collecting proto-plus<2.0.0dev,>=1.22.3 (from google-api-core<3.0.0,>=1.0.0->opencensus<1.0.0,>=0.11.4->opencensus-ext-azure->azure-ai-ml)\n",
      "  Downloading proto_plus-1.24.0-py3-none-any.whl.metadata (2.2 kB)\n",
      "Requirement already satisfied: google-auth<3.0.dev0,>=2.14.1 in c:\\users\\kunjesh\\miniconda3\\lib\\site-packages (from google-api-core<3.0.0,>=1.0.0->opencensus<1.0.0,>=0.11.4->opencensus-ext-azure->azure-ai-ml) (2.30.0)\n",
      "Requirement already satisfied: cachetools<6.0,>=2.0.0 in c:\\users\\kunjesh\\miniconda3\\lib\\site-packages (from google-auth<3.0.dev0,>=2.14.1->google-api-core<3.0.0,>=1.0.0->opencensus<1.0.0,>=0.11.4->opencensus-ext-azure->azure-ai-ml) (5.3.3)\n",
      "Requirement already satisfied: pyasn1-modules>=0.2.1 in c:\\users\\kunjesh\\miniconda3\\lib\\site-packages (from google-auth<3.0.dev0,>=2.14.1->google-api-core<3.0.0,>=1.0.0->opencensus<1.0.0,>=0.11.4->opencensus-ext-azure->azure-ai-ml) (0.4.0)\n",
      "Requirement already satisfied: rsa<5,>=3.1.4 in c:\\users\\kunjesh\\miniconda3\\lib\\site-packages (from google-auth<3.0.dev0,>=2.14.1->google-api-core<3.0.0,>=1.0.0->opencensus<1.0.0,>=0.11.4->opencensus-ext-azure->azure-ai-ml) (4.9)\n",
      "Requirement already satisfied: pyasn1<0.7.0,>=0.4.6 in c:\\users\\kunjesh\\miniconda3\\lib\\site-packages (from pyasn1-modules>=0.2.1->google-auth<3.0.dev0,>=2.14.1->google-api-core<3.0.0,>=1.0.0->opencensus<1.0.0,>=0.11.4->opencensus-ext-azure->azure-ai-ml) (0.6.0)\n",
      "Downloading azure_ai_ml-1.18.0-py3-none-any.whl (10.5 MB)\n",
      "   ---------------------------------------- 0.0/10.5 MB ? eta -:--:--\n",
      "   ---------------------------------------- 0.0/10.5 MB ? eta -:--:--\n",
      "   ---------------------------------------- 0.1/10.5 MB 991.0 kB/s eta 0:00:11\n",
      "   ---------------------------------------- 0.1/10.5 MB 980.4 kB/s eta 0:00:11\n",
      "    --------------------------------------- 0.1/10.5 MB 787.7 kB/s eta 0:00:14\n",
      "    --------------------------------------- 0.2/10.5 MB 857.5 kB/s eta 0:00:13\n",
      "    --------------------------------------- 0.2/10.5 MB 875.2 kB/s eta 0:00:12\n",
      "    --------------------------------------- 0.2/10.5 MB 838.1 kB/s eta 0:00:13\n",
      "   - -------------------------------------- 0.3/10.5 MB 936.6 kB/s eta 0:00:11\n",
      "   - -------------------------------------- 0.3/10.5 MB 846.5 kB/s eta 0:00:13\n",
      "   - -------------------------------------- 0.4/10.5 MB 890.4 kB/s eta 0:00:12\n",
      "   - -------------------------------------- 0.4/10.5 MB 851.5 kB/s eta 0:00:12\n",
      "   - -------------------------------------- 0.5/10.5 MB 901.1 kB/s eta 0:00:12\n",
      "   -- ------------------------------------- 0.5/10.5 MB 929.3 kB/s eta 0:00:11\n",
      "   -- ------------------------------------- 0.6/10.5 MB 884.7 kB/s eta 0:00:12\n",
      "   -- ------------------------------------- 0.6/10.5 MB 942.5 kB/s eta 0:00:11\n",
      "   -- ------------------------------------- 0.7/10.5 MB 975.9 kB/s eta 0:00:11\n",
      "   -- ------------------------------------- 0.7/10.5 MB 955.7 kB/s eta 0:00:11\n",
      "   -- ------------------------------------- 0.8/10.5 MB 920.6 kB/s eta 0:00:11\n",
      "   --- ------------------------------------ 0.8/10.5 MB 922.1 kB/s eta 0:00:11\n",
      "   --- ------------------------------------ 0.8/10.5 MB 929.8 kB/s eta 0:00:11\n",
      "   --- ------------------------------------ 0.8/10.5 MB 877.4 kB/s eta 0:00:12\n",
      "   --- ------------------------------------ 0.8/10.5 MB 870.3 kB/s eta 0:00:12\n",
      "   --- ------------------------------------ 0.9/10.5 MB 846.6 kB/s eta 0:00:12\n",
      "   --- ------------------------------------ 0.9/10.5 MB 864.4 kB/s eta 0:00:12\n",
      "   --- ------------------------------------ 1.0/10.5 MB 868.0 kB/s eta 0:00:11\n",
      "   --- ------------------------------------ 1.0/10.5 MB 847.5 kB/s eta 0:00:12\n",
      "   ---- ----------------------------------- 1.1/10.5 MB 856.8 kB/s eta 0:00:12\n",
      "   ---- ----------------------------------- 1.1/10.5 MB 889.7 kB/s eta 0:00:11\n",
      "   ---- ----------------------------------- 1.1/10.5 MB 866.3 kB/s eta 0:00:11\n",
      "   ---- ----------------------------------- 1.1/10.5 MB 866.3 kB/s eta 0:00:11\n",
      "   ---- ----------------------------------- 1.2/10.5 MB 859.4 kB/s eta 0:00:11\n",
      "   ---- ----------------------------------- 1.3/10.5 MB 878.3 kB/s eta 0:00:11\n",
      "   ----- ---------------------------------- 1.4/10.5 MB 903.9 kB/s eta 0:00:11\n",
      "   ----- ---------------------------------- 1.4/10.5 MB 906.8 kB/s eta 0:00:11\n",
      "   ----- ---------------------------------- 1.5/10.5 MB 941.9 kB/s eta 0:00:10\n",
      "   ------ --------------------------------- 1.6/10.5 MB 973.5 kB/s eta 0:00:10\n",
      "   ------ --------------------------------- 1.7/10.5 MB 1.0 MB/s eta 0:00:09\n",
      "   ------ --------------------------------- 1.8/10.5 MB 1.0 MB/s eta 0:00:09\n",
      "   ------- -------------------------------- 1.9/10.5 MB 1.1 MB/s eta 0:00:09\n",
      "   ------- -------------------------------- 2.0/10.5 MB 1.1 MB/s eta 0:00:08\n",
      "   ------- -------------------------------- 2.1/10.5 MB 1.1 MB/s eta 0:00:08\n",
      "   -------- ------------------------------- 2.1/10.5 MB 1.1 MB/s eta 0:00:08\n",
      "   -------- ------------------------------- 2.1/10.5 MB 1.1 MB/s eta 0:00:08\n",
      "   -------- ------------------------------- 2.1/10.5 MB 1.1 MB/s eta 0:00:08\n",
      "   -------- ------------------------------- 2.2/10.5 MB 1.1 MB/s eta 0:00:08\n",
      "   -------- ------------------------------- 2.3/10.5 MB 1.1 MB/s eta 0:00:08\n",
      "   --------- ------------------------------ 2.4/10.5 MB 1.1 MB/s eta 0:00:08\n",
      "   --------- ------------------------------ 2.5/10.5 MB 1.1 MB/s eta 0:00:08\n",
      "   --------- ------------------------------ 2.5/10.5 MB 1.1 MB/s eta 0:00:08\n",
      "   ---------- ----------------------------- 2.6/10.5 MB 1.2 MB/s eta 0:00:07\n",
      "   ---------- ----------------------------- 2.7/10.5 MB 1.2 MB/s eta 0:00:07\n",
      "   ---------- ----------------------------- 2.8/10.5 MB 1.2 MB/s eta 0:00:07\n",
      "   ----------- ---------------------------- 3.0/10.5 MB 1.2 MB/s eta 0:00:07\n",
      "   ----------- ---------------------------- 3.0/10.5 MB 1.2 MB/s eta 0:00:07\n",
      "   ----------- ---------------------------- 3.1/10.5 MB 1.2 MB/s eta 0:00:06\n",
      "   ------------ --------------------------- 3.3/10.5 MB 1.3 MB/s eta 0:00:06\n",
      "   ------------- -------------------------- 3.4/10.5 MB 1.3 MB/s eta 0:00:06\n",
      "   ------------- -------------------------- 3.6/10.5 MB 1.3 MB/s eta 0:00:06\n",
      "   ------------- -------------------------- 3.6/10.5 MB 1.3 MB/s eta 0:00:06\n",
      "   -------------- ------------------------- 3.7/10.5 MB 1.3 MB/s eta 0:00:06\n",
      "   -------------- ------------------------- 3.8/10.5 MB 1.4 MB/s eta 0:00:05\n",
      "   --------------- ------------------------ 4.0/10.5 MB 1.4 MB/s eta 0:00:05\n",
      "   --------------- ------------------------ 4.1/10.5 MB 1.4 MB/s eta 0:00:05\n",
      "   --------------- ------------------------ 4.2/10.5 MB 1.4 MB/s eta 0:00:05\n",
      "   ---------------- ----------------------- 4.3/10.5 MB 1.4 MB/s eta 0:00:05\n",
      "   ---------------- ----------------------- 4.3/10.5 MB 1.4 MB/s eta 0:00:05\n",
      "   ---------------- ----------------------- 4.4/10.5 MB 1.4 MB/s eta 0:00:05\n",
      "   ----------------- ---------------------- 4.6/10.5 MB 1.5 MB/s eta 0:00:05\n",
      "   ----------------- ---------------------- 4.7/10.5 MB 1.5 MB/s eta 0:00:04\n",
      "   ----------------- ---------------------- 4.7/10.5 MB 1.5 MB/s eta 0:00:04\n",
      "   ------------------ --------------------- 4.9/10.5 MB 1.5 MB/s eta 0:00:04\n",
      "   ------------------- -------------------- 5.0/10.5 MB 1.5 MB/s eta 0:00:04\n",
      "   ------------------- -------------------- 5.1/10.5 MB 1.5 MB/s eta 0:00:04\n",
      "   -------------------- ------------------- 5.3/10.5 MB 1.5 MB/s eta 0:00:04\n",
      "   -------------------- ------------------- 5.3/10.5 MB 1.5 MB/s eta 0:00:04\n",
      "   -------------------- ------------------- 5.5/10.5 MB 1.6 MB/s eta 0:00:04\n",
      "   --------------------- ------------------ 5.6/10.5 MB 1.6 MB/s eta 0:00:04\n",
      "   --------------------- ------------------ 5.7/10.5 MB 1.6 MB/s eta 0:00:04\n",
      "   --------------------- ------------------ 5.8/10.5 MB 1.6 MB/s eta 0:00:04\n",
      "   ---------------------- ----------------- 5.8/10.5 MB 1.6 MB/s eta 0:00:03\n",
      "   ---------------------- ----------------- 6.0/10.5 MB 1.6 MB/s eta 0:00:03\n",
      "   ----------------------- ---------------- 6.1/10.5 MB 1.6 MB/s eta 0:00:03\n",
      "   ----------------------- ---------------- 6.2/10.5 MB 1.6 MB/s eta 0:00:03\n",
      "   ------------------------ --------------- 6.3/10.5 MB 1.6 MB/s eta 0:00:03\n",
      "   ------------------------ --------------- 6.4/10.5 MB 1.6 MB/s eta 0:00:03\n",
      "   ------------------------ --------------- 6.5/10.5 MB 1.6 MB/s eta 0:00:03\n",
      "   ------------------------ --------------- 6.5/10.5 MB 1.6 MB/s eta 0:00:03\n",
      "   ------------------------- -------------- 6.6/10.5 MB 1.6 MB/s eta 0:00:03\n",
      "   ------------------------- -------------- 6.8/10.5 MB 1.6 MB/s eta 0:00:03\n",
      "   -------------------------- ------------- 6.9/10.5 MB 1.7 MB/s eta 0:00:03\n",
      "   -------------------------- ------------- 7.0/10.5 MB 1.7 MB/s eta 0:00:03\n",
      "   --------------------------- ------------ 7.1/10.5 MB 1.7 MB/s eta 0:00:03\n",
      "   --------------------------- ------------ 7.2/10.5 MB 1.7 MB/s eta 0:00:02\n",
      "   --------------------------- ------------ 7.3/10.5 MB 1.7 MB/s eta 0:00:02\n",
      "   ---------------------------- ----------- 7.4/10.5 MB 1.7 MB/s eta 0:00:02\n",
      "   ---------------------------- ----------- 7.5/10.5 MB 1.7 MB/s eta 0:00:02\n",
      "   ----------------------------- ---------- 7.6/10.5 MB 1.7 MB/s eta 0:00:02\n",
      "   ----------------------------- ---------- 7.8/10.5 MB 1.7 MB/s eta 0:00:02\n",
      "   ------------------------------ --------- 8.0/10.5 MB 1.8 MB/s eta 0:00:02\n",
      "   ------------------------------ --------- 8.1/10.5 MB 1.8 MB/s eta 0:00:02\n",
      "   ------------------------------- -------- 8.2/10.5 MB 1.8 MB/s eta 0:00:02\n",
      "   ------------------------------- -------- 8.2/10.5 MB 1.7 MB/s eta 0:00:02\n",
      "   ------------------------------- -------- 8.3/10.5 MB 1.7 MB/s eta 0:00:02\n",
      "   ------------------------------- -------- 8.3/10.5 MB 1.7 MB/s eta 0:00:02\n",
      "   -------------------------------- ------- 8.4/10.5 MB 1.7 MB/s eta 0:00:02\n",
      "   -------------------------------- ------- 8.5/10.5 MB 1.7 MB/s eta 0:00:02\n",
      "   -------------------------------- ------- 8.5/10.5 MB 1.7 MB/s eta 0:00:02\n",
      "   -------------------------------- ------- 8.6/10.5 MB 1.7 MB/s eta 0:00:02\n",
      "   -------------------------------- ------- 8.6/10.5 MB 1.7 MB/s eta 0:00:02\n",
      "   -------------------------------- ------- 8.7/10.5 MB 1.7 MB/s eta 0:00:02\n",
      "   --------------------------------- ------ 8.7/10.5 MB 1.7 MB/s eta 0:00:02\n",
      "   --------------------------------- ------ 8.8/10.5 MB 1.7 MB/s eta 0:00:02\n",
      "   --------------------------------- ------ 8.8/10.5 MB 1.7 MB/s eta 0:00:02\n",
      "   --------------------------------- ------ 8.8/10.5 MB 1.7 MB/s eta 0:00:01\n",
      "   --------------------------------- ------ 8.9/10.5 MB 1.7 MB/s eta 0:00:01\n",
      "   --------------------------------- ------ 8.9/10.5 MB 1.7 MB/s eta 0:00:01\n",
      "   ---------------------------------- ----- 8.9/10.5 MB 1.7 MB/s eta 0:00:01\n",
      "   ---------------------------------- ----- 9.0/10.5 MB 1.6 MB/s eta 0:00:01\n",
      "   ---------------------------------- ----- 9.1/10.5 MB 1.6 MB/s eta 0:00:01\n",
      "   ---------------------------------- ----- 9.1/10.5 MB 1.6 MB/s eta 0:00:01\n",
      "   ---------------------------------- ----- 9.1/10.5 MB 1.6 MB/s eta 0:00:01\n",
      "   ---------------------------------- ----- 9.2/10.5 MB 1.6 MB/s eta 0:00:01\n",
      "   ---------------------------------- ----- 9.2/10.5 MB 1.6 MB/s eta 0:00:01\n",
      "   ----------------------------------- ---- 9.2/10.5 MB 1.6 MB/s eta 0:00:01\n",
      "   ----------------------------------- ---- 9.3/10.5 MB 1.6 MB/s eta 0:00:01\n",
      "   ----------------------------------- ---- 9.3/10.5 MB 1.6 MB/s eta 0:00:01\n",
      "   ----------------------------------- ---- 9.4/10.5 MB 1.6 MB/s eta 0:00:01\n",
      "   ------------------------------------ --- 9.5/10.5 MB 1.6 MB/s eta 0:00:01\n",
      "   ------------------------------------ --- 9.6/10.5 MB 1.6 MB/s eta 0:00:01\n",
      "   ------------------------------------ --- 9.7/10.5 MB 1.6 MB/s eta 0:00:01\n",
      "   ------------------------------------- -- 9.7/10.5 MB 1.6 MB/s eta 0:00:01\n",
      "   ------------------------------------- -- 9.8/10.5 MB 1.6 MB/s eta 0:00:01\n",
      "   ------------------------------------- -- 9.9/10.5 MB 1.6 MB/s eta 0:00:01\n",
      "   ------------------------------------- -- 10.0/10.5 MB 1.6 MB/s eta 0:00:01\n",
      "   -------------------------------------- - 10.0/10.5 MB 1.6 MB/s eta 0:00:01\n",
      "   -------------------------------------- - 10.0/10.5 MB 1.6 MB/s eta 0:00:01\n",
      "   -------------------------------------- - 10.0/10.5 MB 1.6 MB/s eta 0:00:01\n",
      "   -------------------------------------- - 10.1/10.5 MB 1.6 MB/s eta 0:00:01\n",
      "   -------------------------------------- - 10.1/10.5 MB 1.6 MB/s eta 0:00:01\n",
      "   -------------------------------------- - 10.1/10.5 MB 1.6 MB/s eta 0:00:01\n",
      "   -------------------------------------- - 10.1/10.5 MB 1.6 MB/s eta 0:00:01\n",
      "   -------------------------------------- - 10.2/10.5 MB 1.5 MB/s eta 0:00:01\n",
      "   -------------------------------------- - 10.2/10.5 MB 1.5 MB/s eta 0:00:01\n",
      "   -------------------------------------- - 10.2/10.5 MB 1.5 MB/s eta 0:00:01\n",
      "   -------------------------------------- - 10.2/10.5 MB 1.5 MB/s eta 0:00:01\n",
      "   ---------------------------------------  10.4/10.5 MB 1.6 MB/s eta 0:00:01\n",
      "   ---------------------------------------  10.4/10.5 MB 1.6 MB/s eta 0:00:01\n",
      "   ---------------------------------------  10.4/10.5 MB 1.5 MB/s eta 0:00:01\n",
      "   ---------------------------------------  10.4/10.5 MB 1.5 MB/s eta 0:00:01\n",
      "   ---------------------------------------  10.4/10.5 MB 1.5 MB/s eta 0:00:01\n",
      "   ---------------------------------------  10.4/10.5 MB 1.5 MB/s eta 0:00:01\n",
      "   ---------------------------------------  10.5/10.5 MB 1.5 MB/s eta 0:00:01\n",
      "   ---------------------------------------- 10.5/10.5 MB 1.5 MB/s eta 0:00:00\n",
      "Downloading azure_identity-1.17.1-py3-none-any.whl (173 kB)\n",
      "   ---------------------------------------- 0.0/173.2 kB ? eta -:--:--\n",
      "   ------- -------------------------------- 30.7/173.2 kB ? eta -:--:--\n",
      "   ---------------- ----------------------- 71.7/173.2 kB 1.3 MB/s eta 0:00:01\n",
      "   -------------------------- ------------- 112.6/173.2 kB 1.1 MB/s eta 0:00:01\n",
      "   --------------------------------- ---- 153.6/173.2 kB 913.1 kB/s eta 0:00:01\n",
      "   -------------------------------------- 173.2/173.2 kB 947.6 kB/s eta 0:00:00\n",
      "Using cached azure_common-1.1.28-py2.py3-none-any.whl (14 kB)\n",
      "Downloading azure_core-1.30.2-py3-none-any.whl (194 kB)\n",
      "   ---------------------------------------- 0.0/194.3 kB ? eta -:--:--\n",
      "   -- ------------------------------------- 10.2/194.3 kB ? eta -:--:--\n",
      "   -- ------------------------------------- 10.2/194.3 kB ? eta -:--:--\n",
      "   ------------ -------------------------- 61.4/194.3 kB 544.7 kB/s eta 0:00:01\n",
      "   ------------------ -------------------- 92.2/194.3 kB 581.0 kB/s eta 0:00:01\n",
      "   ---------------------------------- --- 174.1/194.3 kB 803.1 kB/s eta 0:00:01\n",
      "   -------------------------------------- 194.3/194.3 kB 783.0 kB/s eta 0:00:00\n",
      "Using cached azure_mgmt_core-1.4.0-py3-none-any.whl (27 kB)\n",
      "Downloading azure_storage_blob-12.21.0-py3-none-any.whl (396 kB)\n",
      "   ---------------------------------------- 0.0/396.4 kB ? eta -:--:--\n",
      "   ---- ---------------------------------- 41.0/396.4 kB 991.0 kB/s eta 0:00:01\n",
      "   ------ -------------------------------- 61.4/396.4 kB 825.8 kB/s eta 0:00:01\n",
      "   ------------ --------------------------- 122.9/396.4 kB 1.0 MB/s eta 0:00:01\n",
      "   -------------- ----------------------- 153.6/396.4 kB 833.5 kB/s eta 0:00:01\n",
      "   ------------------- -------------------- 194.6/396.4 kB 1.1 MB/s eta 0:00:01\n",
      "   --------------------- ---------------- 225.3/396.4 kB 860.2 kB/s eta 0:00:01\n",
      "   --------------------- ---------------- 225.3/396.4 kB 860.2 kB/s eta 0:00:01\n",
      "   --------------------------- ---------- 286.7/396.4 kB 770.1 kB/s eta 0:00:01\n",
      "   ---------------------------------- --- 358.4/396.4 kB 892.7 kB/s eta 0:00:01\n",
      "   -------------------------------------- 396.4/396.4 kB 852.6 kB/s eta 0:00:00\n",
      "Downloading azure_storage_file_datalake-12.16.0-py3-none-any.whl (255 kB)\n",
      "   ---------------------------------------- 0.0/255.6 kB ? eta -:--:--\n",
      "   --------- ------------------------------ 61.4/255.6 kB 3.4 MB/s eta 0:00:01\n",
      "   ---------------------- ----------------- 143.4/255.6 kB 2.9 MB/s eta 0:00:01\n",
      "   --------------------------- ------------ 174.1/255.6 kB 1.8 MB/s eta 0:00:01\n",
      "   ---------------------------------------- 255.6/255.6 kB 1.8 MB/s eta 0:00:00\n",
      "Using cached isodate-0.6.1-py2.py3-none-any.whl (41 kB)\n",
      "Downloading marshmallow-3.21.3-py3-none-any.whl (49 kB)\n",
      "   ---------------------------------------- 0.0/49.2 kB ? eta -:--:--\n",
      "   ---------------------------------------- 49.2/49.2 kB 1.3 MB/s eta 0:00:00\n",
      "Downloading msal-1.30.0-py3-none-any.whl (111 kB)\n",
      "   ---------------------------------------- 0.0/111.8 kB ? eta -:--:--\n",
      "   -------------- ------------------------- 41.0/111.8 kB 1.9 MB/s eta 0:00:01\n",
      "   ---------------------------------------- 111.8/111.8 kB 2.2 MB/s eta 0:00:00\n",
      "Downloading msal_extensions-1.2.0-py3-none-any.whl (19 kB)\n",
      "Using cached msrest-0.7.1-py3-none-any.whl (85 kB)\n",
      "Downloading pydash-8.0.1-py3-none-any.whl (101 kB)\n",
      "   ---------------------------------------- 0.0/101.5 kB ? eta -:--:--\n",
      "   -------------------- ------------------- 51.2/101.5 kB 1.3 MB/s eta 0:00:01\n",
      "   -------------------- ------------------- 51.2/101.5 kB 1.3 MB/s eta 0:00:01\n",
      "   -------------------------------------- 101.5/101.5 kB 970.4 kB/s eta 0:00:00\n",
      "Using cached PyJWT-2.8.0-py3-none-any.whl (22 kB)\n",
      "Using cached typing_extensions-4.12.2-py3-none-any.whl (37 kB)\n",
      "Downloading azure_storage_file_share-12.17.0-py3-none-any.whl (270 kB)\n",
      "   ---------------------------------------- 0.0/270.7 kB ? eta -:--:--\n",
      "   --------- ------------------------------ 61.4/270.7 kB 1.6 MB/s eta 0:00:01\n",
      "   ----------- --------------------------- 81.9/270.7 kB 919.0 kB/s eta 0:00:01\n",
      "   ------------------------ --------------- 163.8/270.7 kB 1.2 MB/s eta 0:00:01\n",
      "   ---------------------------------------  266.2/270.7 kB 1.5 MB/s eta 0:00:01\n",
      "   ---------------------------------------- 270.7/270.7 kB 1.5 MB/s eta 0:00:00\n",
      "Downloading opencensus_ext_azure-1.1.13-py2.py3-none-any.whl (43 kB)\n",
      "   ---------------------------------------- 0.0/43.4 kB ? eta -:--:--\n",
      "   ---------------------------------------- 0.0/43.4 kB ? eta -:--:--\n",
      "   ---------------------------------------- 0.0/43.4 kB ? eta -:--:--\n",
      "   ---------------------------------------- 43.4/43.4 kB ? eta 0:00:00\n",
      "Downloading opencensus_ext_logging-0.1.1-py2.py3-none-any.whl (4.0 kB)\n",
      "Downloading strictyaml-1.7.3-py3-none-any.whl (123 kB)\n",
      "   ---------------------------------------- 0.0/123.9 kB ? eta -:--:--\n",
      "   ------------------- -------------------- 61.4/123.9 kB 1.1 MB/s eta 0:00:01\n",
      "   ---------------------------------------- 123.9/123.9 kB 1.2 MB/s eta 0:00:00\n",
      "Downloading opencensus-0.11.4-py2.py3-none-any.whl (128 kB)\n",
      "   ---------------------------------------- 0.0/128.2 kB ? eta -:--:--\n",
      "   -------------------------------------- - 122.9/128.2 kB 2.4 MB/s eta 0:00:01\n",
      "   ---------------------------------------- 128.2/128.2 kB 2.5 MB/s eta 0:00:00\n",
      "Downloading portalocker-2.10.1-py3-none-any.whl (18 kB)\n",
      "Downloading google_api_core-2.19.1-py3-none-any.whl (139 kB)\n",
      "   ---------------------------------------- 0.0/139.4 kB ? eta -:--:--\n",
      "   -------------------------- ------------- 92.2/139.4 kB 5.1 MB/s eta 0:00:01\n",
      "   ---------------------------------------- 139.4/139.4 kB 2.7 MB/s eta 0:00:00\n",
      "Downloading opencensus_context-0.1.3-py2.py3-none-any.whl (5.1 kB)\n",
      "Downloading googleapis_common_protos-1.63.2-py2.py3-none-any.whl (220 kB)\n",
      "   ---------------------------------------- 0.0/220.0 kB ? eta -:--:--\n",
      "   ---------------------- ----------------- 122.9/220.0 kB 7.0 MB/s eta 0:00:01\n",
      "   ---------------------------------------- 220.0/220.0 kB 4.5 MB/s eta 0:00:00\n",
      "Downloading proto_plus-1.24.0-py3-none-any.whl (50 kB)\n",
      "   ---------------------------------------- 0.0/50.1 kB ? eta -:--:--\n",
      "   ---------------------------------------- 50.1/50.1 kB 2.5 MB/s eta 0:00:00\n",
      "Installing collected packages: opencensus-context, azure-common, typing-extensions, pyjwt, proto-plus, portalocker, marshmallow, isodate, googleapis-common-protos, strictyaml, pydash, azure-core, msrest, google-api-core, azure-storage-file-share, azure-storage-blob, azure-mgmt-core, opencensus, msal, azure-storage-file-datalake, opencensus-ext-logging, msal-extensions, azure-identity, opencensus-ext-azure, azure-ai-ml\n",
      "  Attempting uninstall: typing-extensions\n",
      "    Found existing installation: typing_extensions 4.5.0\n",
      "    Uninstalling typing_extensions-4.5.0:\n",
      "      Successfully uninstalled typing_extensions-4.5.0\n",
      "Successfully installed azure-ai-ml-1.18.0 azure-common-1.1.28 azure-core-1.30.2 azure-identity-1.17.1 azure-mgmt-core-1.4.0 azure-storage-blob-12.21.0 azure-storage-file-datalake-12.16.0 azure-storage-file-share-12.17.0 google-api-core-2.19.1 googleapis-common-protos-1.63.2 isodate-0.6.1 marshmallow-3.21.3 msal-1.30.0 msal-extensions-1.2.0 msrest-0.7.1 opencensus-0.11.4 opencensus-context-0.1.3 opencensus-ext-azure-1.1.13 opencensus-ext-logging-0.1.1 portalocker-2.10.1 proto-plus-1.24.0 pydash-8.0.1 pyjwt-2.8.0 strictyaml-1.7.3 typing-extensions-4.12.2\n"
     ]
    }
   ],
   "source": [
    "!pip install azure-ai-ml azure-identity"
   ]
  },
  {
   "cell_type": "code",
   "execution_count": 186,
   "id": "d53ff010-b855-4583-b8cf-da7938e5bde2",
   "metadata": {},
   "outputs": [],
   "source": [
    "import os\n",
    "import json\n",
    "import datetime\n",
    "\n",
    "from azure.ai.ml import MLClient\n",
    "from azure.ai.ml.entities import (\n",
    "    ManagedOnlineEndpoint,\n",
    "    ManagedOnlineDeployment,\n",
    "    Model,\n",
    "    Environment,\n",
    "    CodeConfiguration,\n",
    ")\n",
    "from azure.identity import DefaultAzureCredential"
   ]
  },
  {
   "cell_type": "code",
   "execution_count": 187,
   "id": "3e3d6b07-882d-4459-aa4c-01115c34e4fe",
   "metadata": {},
   "outputs": [],
   "source": [
    "sub_id = \"b6b97129-e438-4f46-8a33-2d248a0a098b\""
   ]
  },
  {
   "cell_type": "code",
   "execution_count": 188,
   "id": "8c00322e-556c-44ff-ac9f-9d43b5e226b7",
   "metadata": {},
   "outputs": [],
   "source": [
    "resource_grp = 'TestGroup'"
   ]
  },
  {
   "cell_type": "code",
   "execution_count": null,
   "id": "e3e61986-51fb-4934-af61-29e4b44c255c",
   "metadata": {},
   "outputs": [],
   "source": []
  }
 ],
 "metadata": {
  "kernelspec": {
   "display_name": "Python 3 (ipykernel)",
   "language": "python",
   "name": "python3"
  },
  "language_info": {
   "codemirror_mode": {
    "name": "ipython",
    "version": 3
   },
   "file_extension": ".py",
   "mimetype": "text/x-python",
   "name": "python",
   "nbconvert_exporter": "python",
   "pygments_lexer": "ipython3",
   "version": "3.11.7"
  }
 },
 "nbformat": 4,
 "nbformat_minor": 5
}
